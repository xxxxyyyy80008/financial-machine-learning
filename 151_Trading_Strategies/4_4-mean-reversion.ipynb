{
 "cells": [
  {
   "cell_type": "markdown",
   "id": "7227e711",
   "metadata": {
    "_cell_guid": "b1076dfc-b9ad-4769-8c92-a6c4dae69d19",
    "_uuid": "8f2839f25d086af736a60e9eeb907d3b93b6e0e5",
    "papermill": {
     "duration": 0.011889,
     "end_time": "2022-10-10T15:29:10.156958",
     "exception": false,
     "start_time": "2022-10-10T15:29:10.145069",
     "status": "completed"
    },
    "tags": []
   },
   "source": [
    "# 151 Trading Strategies -  4.4 Mean-reversion\n",
    "\n",
    "#### Data used for this notebook:\n",
    "\n",
    "1. [S&P 500 Stocks (daily updated)](https://www.kaggle.com/datasets/andrewmvd/sp-500-stocks?select=sp500_stocks.csv)\n",
    "\n",
    "# The strategy: \n",
    "\n",
    "<img src=\"https://raw.githubusercontent.com/xxxxyyyy80008/financial-machine-learning/main/151_Trading_Strategies/img/151_4_4_mean_reversion.png\" width=\"700\">\n",
    "\n",
    "\n",
    "\n",
    "# Reference:\n",
    "\n",
    ">  Kakushadze, Zura and Serur, Juan Andrés, 151 Trading Strategies (August 17, 2018). Z. Kakushadze and J.A. Serur. 151 Trading Strategies. Cham, Switzerland: Palgrave Macmillan, an imprint of Springer Nature, 1st Edition (2018), XX, 480 pp; ISBN 978-3-030-02791-9, Available at SSRN: https://ssrn.com/abstract=3247865\n",
    "\n"
   ]
  },
  {
   "cell_type": "code",
   "execution_count": 1,
   "id": "14495603",
   "metadata": {
    "execution": {
     "iopub.execute_input": "2022-10-10T15:29:10.176209Z",
     "iopub.status.busy": "2022-10-10T15:29:10.175666Z",
     "iopub.status.idle": "2022-10-10T15:29:12.080819Z",
     "shell.execute_reply": "2022-10-10T15:29:12.079730Z"
    },
    "papermill": {
     "duration": 1.918129,
     "end_time": "2022-10-10T15:29:12.083867",
     "exception": false,
     "start_time": "2022-10-10T15:29:10.165738",
     "status": "completed"
    },
    "tags": []
   },
   "outputs": [],
   "source": [
    "import pandas as pd\n",
    "import numpy as np\n",
    "import os\n",
    "import gc\n",
    "import copy\n",
    "from pathlib import Path\n",
    "from datetime import datetime, timedelta, date\n",
    "import time\n",
    "from dateutil.relativedelta import relativedelta \n",
    "\n",
    "import pyarrow.parquet as pq\n",
    "import pyarrow as pa\n",
    "\n",
    "from tqdm import tqdm\n",
    "\n",
    "\n",
    "import matplotlib.pyplot as plt\n",
    "import matplotlib.lines as mlines\n",
    "import statsmodels.api as sm\n",
    "import seaborn as sns"
   ]
  },
  {
   "cell_type": "code",
   "execution_count": 2,
   "id": "77eb30cf",
   "metadata": {
    "execution": {
     "iopub.execute_input": "2022-10-10T15:29:12.105165Z",
     "iopub.status.busy": "2022-10-10T15:29:12.104076Z",
     "iopub.status.idle": "2022-10-10T15:29:17.152140Z",
     "shell.execute_reply": "2022-10-10T15:29:17.150757Z"
    },
    "papermill": {
     "duration": 5.062076,
     "end_time": "2022-10-10T15:29:17.154697",
     "exception": false,
     "start_time": "2022-10-10T15:29:12.092621",
     "status": "completed"
    },
    "tags": []
   },
   "outputs": [
    {
     "data": {
      "text/plain": [
       "1"
      ]
     },
     "execution_count": 2,
     "metadata": {},
     "output_type": "execute_result"
    }
   ],
   "source": [
    "pd.options.display.max_rows = 100\n",
    "pd.options.display.max_columns = 100\n",
    "\n",
    "pd.options.display.float_format = '{:,.2f}'.format\n",
    "\n",
    "import warnings\n",
    "warnings.filterwarnings(\"ignore\")\n",
    "\n",
    "import pytorch_lightning as pl\n",
    "random_seed=1\n",
    "pl.seed_everything(random_seed)"
   ]
  },
  {
   "cell_type": "code",
   "execution_count": 3,
   "id": "6b273010",
   "metadata": {
    "execution": {
     "iopub.execute_input": "2022-10-10T15:29:17.174626Z",
     "iopub.status.busy": "2022-10-10T15:29:17.172739Z",
     "iopub.status.idle": "2022-10-10T15:29:21.504617Z",
     "shell.execute_reply": "2022-10-10T15:29:21.503338Z"
    },
    "papermill": {
     "duration": 4.344364,
     "end_time": "2022-10-10T15:29:21.507332",
     "exception": false,
     "start_time": "2022-10-10T15:29:17.162968",
     "status": "completed"
    },
    "tags": []
   },
   "outputs": [],
   "source": [
    "sp500 = pd.read_csv(\"../input/sp-500-stocks/sp500_stocks.csv\")"
   ]
  },
  {
   "cell_type": "code",
   "execution_count": 4,
   "id": "bb37c54f",
   "metadata": {
    "execution": {
     "iopub.execute_input": "2022-10-10T15:29:21.527189Z",
     "iopub.status.busy": "2022-10-10T15:29:21.526748Z",
     "iopub.status.idle": "2022-10-10T15:29:37.756956Z",
     "shell.execute_reply": "2022-10-10T15:29:37.755708Z"
    },
    "papermill": {
     "duration": 16.243307,
     "end_time": "2022-10-10T15:29:37.759708",
     "exception": false,
     "start_time": "2022-10-10T15:29:21.516401",
     "status": "completed"
    },
    "tags": []
   },
   "outputs": [],
   "source": [
    "sp500['Date'] = sp500['Date'].apply(lambda x: datetime.strptime(x[:10], '%Y-%m-%d'))"
   ]
  },
  {
   "cell_type": "code",
   "execution_count": 5,
   "id": "724da2a0",
   "metadata": {
    "execution": {
     "iopub.execute_input": "2022-10-10T15:29:37.780092Z",
     "iopub.status.busy": "2022-10-10T15:29:37.779651Z",
     "iopub.status.idle": "2022-10-10T15:29:37.800368Z",
     "shell.execute_reply": "2022-10-10T15:29:37.799220Z"
    },
    "papermill": {
     "duration": 0.034454,
     "end_time": "2022-10-10T15:29:37.802909",
     "exception": false,
     "start_time": "2022-10-10T15:29:37.768455",
     "status": "completed"
    },
    "tags": []
   },
   "outputs": [
    {
     "data": {
      "text/html": [
       "<div>\n",
       "<style scoped>\n",
       "    .dataframe tbody tr th:only-of-type {\n",
       "        vertical-align: middle;\n",
       "    }\n",
       "\n",
       "    .dataframe tbody tr th {\n",
       "        vertical-align: top;\n",
       "    }\n",
       "\n",
       "    .dataframe thead th {\n",
       "        text-align: right;\n",
       "    }\n",
       "</style>\n",
       "<table border=\"1\" class=\"dataframe\">\n",
       "  <thead>\n",
       "    <tr style=\"text-align: right;\">\n",
       "      <th></th>\n",
       "      <th>Date</th>\n",
       "      <th>Symbol</th>\n",
       "      <th>Adj Close</th>\n",
       "      <th>Close</th>\n",
       "      <th>High</th>\n",
       "      <th>Low</th>\n",
       "      <th>Open</th>\n",
       "      <th>Volume</th>\n",
       "    </tr>\n",
       "  </thead>\n",
       "  <tbody>\n",
       "    <tr>\n",
       "      <th>0</th>\n",
       "      <td>2010-01-04</td>\n",
       "      <td>MMM</td>\n",
       "      <td>59.32</td>\n",
       "      <td>83.02</td>\n",
       "      <td>83.45</td>\n",
       "      <td>82.67</td>\n",
       "      <td>83.09</td>\n",
       "      <td>3,043,700.00</td>\n",
       "    </tr>\n",
       "    <tr>\n",
       "      <th>1</th>\n",
       "      <td>2010-01-05</td>\n",
       "      <td>MMM</td>\n",
       "      <td>58.95</td>\n",
       "      <td>82.50</td>\n",
       "      <td>83.23</td>\n",
       "      <td>81.70</td>\n",
       "      <td>82.80</td>\n",
       "      <td>2,847,000.00</td>\n",
       "    </tr>\n",
       "  </tbody>\n",
       "</table>\n",
       "</div>"
      ],
      "text/plain": [
       "        Date Symbol  Adj Close  Close  High   Low  Open       Volume\n",
       "0 2010-01-04    MMM      59.32  83.02 83.45 82.67 83.09 3,043,700.00\n",
       "1 2010-01-05    MMM      58.95  82.50 83.23 81.70 82.80 2,847,000.00"
      ]
     },
     "execution_count": 5,
     "metadata": {},
     "output_type": "execute_result"
    }
   ],
   "source": [
    "sp500.head(2)"
   ]
  },
  {
   "cell_type": "code",
   "execution_count": 6,
   "id": "d2c8e4e0",
   "metadata": {
    "execution": {
     "iopub.execute_input": "2022-10-10T15:29:37.822437Z",
     "iopub.status.busy": "2022-10-10T15:29:37.821715Z",
     "iopub.status.idle": "2022-10-10T15:29:38.268326Z",
     "shell.execute_reply": "2022-10-10T15:29:38.266967Z"
    },
    "papermill": {
     "duration": 0.459369,
     "end_time": "2022-10-10T15:29:38.270994",
     "exception": false,
     "start_time": "2022-10-10T15:29:37.811625",
     "status": "completed"
    },
    "tags": []
   },
   "outputs": [
    {
     "data": {
      "text/html": [
       "<div>\n",
       "<style scoped>\n",
       "    .dataframe tbody tr th:only-of-type {\n",
       "        vertical-align: middle;\n",
       "    }\n",
       "\n",
       "    .dataframe tbody tr th {\n",
       "        vertical-align: top;\n",
       "    }\n",
       "\n",
       "    .dataframe thead tr th {\n",
       "        text-align: left;\n",
       "    }\n",
       "\n",
       "    .dataframe thead tr:last-of-type th {\n",
       "        text-align: right;\n",
       "    }\n",
       "</style>\n",
       "<table border=\"1\" class=\"dataframe\">\n",
       "  <thead>\n",
       "    <tr>\n",
       "      <th></th>\n",
       "      <th>amin</th>\n",
       "      <th>amax</th>\n",
       "    </tr>\n",
       "    <tr>\n",
       "      <th></th>\n",
       "      <th>Date</th>\n",
       "      <th>Date</th>\n",
       "    </tr>\n",
       "    <tr>\n",
       "      <th>Symbol</th>\n",
       "      <th></th>\n",
       "      <th></th>\n",
       "    </tr>\n",
       "  </thead>\n",
       "  <tbody>\n",
       "    <tr>\n",
       "      <th>A</th>\n",
       "      <td>2010-01-04</td>\n",
       "      <td>2022-10-07</td>\n",
       "    </tr>\n",
       "    <tr>\n",
       "      <th>AAL</th>\n",
       "      <td>2010-01-04</td>\n",
       "      <td>2022-10-07</td>\n",
       "    </tr>\n",
       "    <tr>\n",
       "      <th>AAP</th>\n",
       "      <td>2010-01-04</td>\n",
       "      <td>2022-10-07</td>\n",
       "    </tr>\n",
       "    <tr>\n",
       "      <th>AAPL</th>\n",
       "      <td>2010-01-04</td>\n",
       "      <td>2022-10-07</td>\n",
       "    </tr>\n",
       "    <tr>\n",
       "      <th>ABBV</th>\n",
       "      <td>2010-01-04</td>\n",
       "      <td>2022-10-07</td>\n",
       "    </tr>\n",
       "    <tr>\n",
       "      <th>...</th>\n",
       "      <td>...</td>\n",
       "      <td>...</td>\n",
       "    </tr>\n",
       "    <tr>\n",
       "      <th>YUM</th>\n",
       "      <td>2010-01-04</td>\n",
       "      <td>2022-10-07</td>\n",
       "    </tr>\n",
       "    <tr>\n",
       "      <th>ZBH</th>\n",
       "      <td>2010-01-04</td>\n",
       "      <td>2022-10-07</td>\n",
       "    </tr>\n",
       "    <tr>\n",
       "      <th>ZBRA</th>\n",
       "      <td>2010-01-04</td>\n",
       "      <td>2022-10-07</td>\n",
       "    </tr>\n",
       "    <tr>\n",
       "      <th>ZION</th>\n",
       "      <td>2010-01-04</td>\n",
       "      <td>2022-10-07</td>\n",
       "    </tr>\n",
       "    <tr>\n",
       "      <th>ZTS</th>\n",
       "      <td>2010-01-04</td>\n",
       "      <td>2022-10-07</td>\n",
       "    </tr>\n",
       "  </tbody>\n",
       "</table>\n",
       "<p>503 rows × 2 columns</p>\n",
       "</div>"
      ],
      "text/plain": [
       "             amin       amax\n",
       "             Date       Date\n",
       "Symbol                      \n",
       "A      2010-01-04 2022-10-07\n",
       "AAL    2010-01-04 2022-10-07\n",
       "AAP    2010-01-04 2022-10-07\n",
       "AAPL   2010-01-04 2022-10-07\n",
       "ABBV   2010-01-04 2022-10-07\n",
       "...           ...        ...\n",
       "YUM    2010-01-04 2022-10-07\n",
       "ZBH    2010-01-04 2022-10-07\n",
       "ZBRA   2010-01-04 2022-10-07\n",
       "ZION   2010-01-04 2022-10-07\n",
       "ZTS    2010-01-04 2022-10-07\n",
       "\n",
       "[503 rows x 2 columns]"
      ]
     },
     "execution_count": 6,
     "metadata": {},
     "output_type": "execute_result"
    }
   ],
   "source": [
    "pd.pivot_table(sp500, index='Symbol', values=['Date'], aggfunc=[np.min, np.max])"
   ]
  },
  {
   "cell_type": "markdown",
   "id": "762dad29",
   "metadata": {
    "papermill": {
     "duration": 0.008458,
     "end_time": "2022-10-10T15:29:38.288435",
     "exception": false,
     "start_time": "2022-10-10T15:29:38.279977",
     "status": "completed"
    },
    "tags": []
   },
   "source": [
    "# Calculate IBS (Internal Bar Strength)"
   ]
  },
  {
   "cell_type": "code",
   "execution_count": 7,
   "id": "474574a7",
   "metadata": {
    "execution": {
     "iopub.execute_input": "2022-10-10T15:29:38.308584Z",
     "iopub.status.busy": "2022-10-10T15:29:38.307312Z",
     "iopub.status.idle": "2022-10-10T15:29:38.331556Z",
     "shell.execute_reply": "2022-10-10T15:29:38.330429Z"
    },
    "papermill": {
     "duration": 0.036939,
     "end_time": "2022-10-10T15:29:38.334155",
     "exception": false,
     "start_time": "2022-10-10T15:29:38.297216",
     "status": "completed"
    },
    "tags": []
   },
   "outputs": [],
   "source": [
    "sp500['ibs'] = (sp500['Close'] - sp500['Low'])/(sp500['High'] - sp500['Low'])"
   ]
  },
  {
   "cell_type": "code",
   "execution_count": 8,
   "id": "b1919d85",
   "metadata": {
    "execution": {
     "iopub.execute_input": "2022-10-10T15:29:38.354008Z",
     "iopub.status.busy": "2022-10-10T15:29:38.352998Z",
     "iopub.status.idle": "2022-10-10T15:29:39.049717Z",
     "shell.execute_reply": "2022-10-10T15:29:39.048438Z"
    },
    "papermill": {
     "duration": 0.709499,
     "end_time": "2022-10-10T15:29:39.052522",
     "exception": false,
     "start_time": "2022-10-10T15:29:38.343023",
     "status": "completed"
    },
    "tags": []
   },
   "outputs": [],
   "source": [
    "p_ibs = pd.pivot_table(sp500, index='Symbol', values=['ibs'], aggfunc=[np.min, np.max, np.mean])"
   ]
  },
  {
   "cell_type": "code",
   "execution_count": 9,
   "id": "dc7b860c",
   "metadata": {
    "execution": {
     "iopub.execute_input": "2022-10-10T15:29:39.072080Z",
     "iopub.status.busy": "2022-10-10T15:29:39.071647Z",
     "iopub.status.idle": "2022-10-10T15:29:39.079464Z",
     "shell.execute_reply": "2022-10-10T15:29:39.078584Z"
    },
    "papermill": {
     "duration": 0.02033,
     "end_time": "2022-10-10T15:29:39.081705",
     "exception": false,
     "start_time": "2022-10-10T15:29:39.061375",
     "status": "completed"
    },
    "tags": []
   },
   "outputs": [],
   "source": [
    "def hist(data, name, bins=50):\n",
    "    #plt.rcParams['figure.dpi'] = 227\n",
    "    plt.figure(figsize=(6,4))\n",
    "    plt.style.use('seaborn-whitegrid')\n",
    "    plt.hist(data, bins=bins, facecolor='lightseagreen', alpha=0.6)\n",
    "    plt.title(name, fontsize=9)\n",
    "    plt.axvline(np.array(data.mean()), color='tomato', ls='--', lw=2)\n",
    "    plt.grid(visible=True, which='major', axis='both', color='lightgray', linestyle='--', linewidth=0.5)\n",
    "    plt.xlabel(data.name, fontsize=10)\n",
    "    plt.ylabel('count', fontsize=10)\n",
    "    plt.show() "
   ]
  },
  {
   "cell_type": "code",
   "execution_count": 10,
   "id": "724337eb",
   "metadata": {
    "execution": {
     "iopub.execute_input": "2022-10-10T15:29:39.101468Z",
     "iopub.status.busy": "2022-10-10T15:29:39.100821Z",
     "iopub.status.idle": "2022-10-10T15:29:39.110828Z",
     "shell.execute_reply": "2022-10-10T15:29:39.109954Z"
    },
    "papermill": {
     "duration": 0.02277,
     "end_time": "2022-10-10T15:29:39.113362",
     "exception": false,
     "start_time": "2022-10-10T15:29:39.090592",
     "status": "completed"
    },
    "tags": []
   },
   "outputs": [],
   "source": [
    "def multi_hist(datas, captions, bins=None, figsize=(13, 4), sharey=False):\n",
    "    ncols = len(datas)\n",
    "    fig, axs = plt.subplots(1, ncols, figsize=figsize, sharey=sharey)\n",
    "    plt.style.use('seaborn-whitegrid')\n",
    "    \n",
    "    if bins is None:\n",
    "        bins=[50]*len(datas)\n",
    "    \n",
    "    for i, data in enumerate(datas):\n",
    "        if data.index.dtype in ['int64', 'int32', 'float64', 'float32']:\n",
    "            data.index = data.index.astype(str)\n",
    "            \n",
    "#         axs[i].bar(data.index.values, data.values, color=\"lightseagreen\", width=.5, alpha=0.8)\n",
    "        axs[i].hist(data, bins=bins[i], facecolor='lightseagreen', alpha=0.7)\n",
    "        axs[i].axvline(np.array(data.mean()), color='tomato', ls='--', lw=2)\n",
    "        axs[i].grid(visible=True, which='major', axis='both', color='lightgray', linestyle='-', linewidth=0.2)\n",
    "        axs[i].spines[['top', 'right']].set_visible(False)\n",
    "        axs[i].spines[['bottom', 'left']].set_edgecolor('whitesmoke')\n",
    "\n",
    "        #axs[i].set_ylabel(data.name)\n",
    "        axs[i].set_title(captions[i], fontsize=13, loc='left')\n",
    "\n",
    "    \n",
    "#     plt.suptitle('')\n",
    "    plt.show()  "
   ]
  },
  {
   "cell_type": "code",
   "execution_count": 11,
   "id": "7d51c0a5",
   "metadata": {
    "execution": {
     "iopub.execute_input": "2022-10-10T15:29:39.133388Z",
     "iopub.status.busy": "2022-10-10T15:29:39.132617Z",
     "iopub.status.idle": "2022-10-10T15:29:39.829543Z",
     "shell.execute_reply": "2022-10-10T15:29:39.828354Z"
    },
    "papermill": {
     "duration": 0.709916,
     "end_time": "2022-10-10T15:29:39.832245",
     "exception": false,
     "start_time": "2022-10-10T15:29:39.122329",
     "status": "completed"
    },
    "tags": []
   },
   "outputs": [
    {
     "data": {
      "image/png": "[encoded data removed]",
      "text/plain": [
       "<Figure size 936x288 with 3 Axes>"
      ]
     },
     "metadata": {
      "needs_background": "light"
     },
     "output_type": "display_data"
    }
   ],
   "source": [
    "datas = [p_ibs[('mean', 'ibs')], p_ibs[('amax', 'ibs')], p_ibs[('amin', 'ibs')],]\n",
    "captions = ['Mean of IBS', 'Max of IBS', 'Min of IBS']\n",
    "\n",
    "multi_hist(datas, captions, bins=None, figsize=(13, 4), sharey=False)"
   ]
  },
  {
   "cell_type": "code",
   "execution_count": 12,
   "id": "627fda20",
   "metadata": {
    "execution": {
     "iopub.execute_input": "2022-10-10T15:29:39.852377Z",
     "iopub.status.busy": "2022-10-10T15:29:39.851948Z",
     "iopub.status.idle": "2022-10-10T15:29:40.129710Z",
     "shell.execute_reply": "2022-10-10T15:29:40.128513Z"
    },
    "papermill": {
     "duration": 0.290937,
     "end_time": "2022-10-10T15:29:40.132363",
     "exception": false,
     "start_time": "2022-10-10T15:29:39.841426",
     "status": "completed"
    },
    "tags": []
   },
   "outputs": [
    {
     "data": {
      "image/png": "[encoded data removed]",
      "text/plain": [
       "<Figure size 432x288 with 1 Axes>"
      ]
     },
     "metadata": {},
     "output_type": "display_data"
    }
   ],
   "source": [
    "hist(p_ibs[('mean', 'ibs')], '')"
   ]
  },
  {
   "cell_type": "markdown",
   "id": "ed047b51",
   "metadata": {
    "papermill": {
     "duration": 0.009136,
     "end_time": "2022-10-10T15:29:40.151100",
     "exception": false,
     "start_time": "2022-10-10T15:29:40.141964",
     "status": "completed"
    },
    "tags": []
   },
   "source": [
    "# Trade: Buy bottom 10 and Sell top 10 by previous day IBS\n",
    "\n",
    "### For each day:\n",
    "\n",
    "\n",
    "- Rank stocks by previous day IBS\n",
    "- Buy bottom 10 (10 with smallest IBS values)\n",
    "- Sell top 10 (10 with largest IBS values)\n",
    "- Enter trade on `Adj Close` price and Exit trade the next day on `Adj Close` price\n"
   ]
  },
  {
   "cell_type": "code",
   "execution_count": 13,
   "id": "9ae6c5f7",
   "metadata": {
    "execution": {
     "iopub.execute_input": "2022-10-10T15:29:40.171854Z",
     "iopub.status.busy": "2022-10-10T15:29:40.171391Z",
     "iopub.status.idle": "2022-10-10T15:29:40.410215Z",
     "shell.execute_reply": "2022-10-10T15:29:40.408999Z"
    },
    "papermill": {
     "duration": 0.252339,
     "end_time": "2022-10-10T15:29:40.413038",
     "exception": false,
     "start_time": "2022-10-10T15:29:40.160699",
     "status": "completed"
    },
    "tags": []
   },
   "outputs": [],
   "source": [
    "#get previous day ibs for each stock\n",
    "sp500['pre_ibs']=sp500[['Symbol', 'ibs']].groupby('Symbol').shift(1)"
   ]
  },
  {
   "cell_type": "code",
   "execution_count": 14,
   "id": "123cad2e",
   "metadata": {
    "execution": {
     "iopub.execute_input": "2022-10-10T15:29:40.433938Z",
     "iopub.status.busy": "2022-10-10T15:29:40.433491Z",
     "iopub.status.idle": "2022-10-10T15:29:40.669829Z",
     "shell.execute_reply": "2022-10-10T15:29:40.668873Z"
    },
    "papermill": {
     "duration": 0.249871,
     "end_time": "2022-10-10T15:29:40.672407",
     "exception": false,
     "start_time": "2022-10-10T15:29:40.422536",
     "status": "completed"
    },
    "tags": []
   },
   "outputs": [],
   "source": [
    "#drop rows with missing values\n",
    "sp500.dropna(how='any', subset=['pre_ibs'], inplace=True)"
   ]
  },
  {
   "cell_type": "code",
   "execution_count": 15,
   "id": "ab4b324a",
   "metadata": {
    "execution": {
     "iopub.execute_input": "2022-10-10T15:29:40.693666Z",
     "iopub.status.busy": "2022-10-10T15:29:40.692578Z",
     "iopub.status.idle": "2022-10-10T15:29:40.809963Z",
     "shell.execute_reply": "2022-10-10T15:29:40.808723Z"
    },
    "papermill": {
     "duration": 0.130979,
     "end_time": "2022-10-10T15:29:40.812954",
     "exception": false,
     "start_time": "2022-10-10T15:29:40.681975",
     "status": "completed"
    },
    "tags": []
   },
   "outputs": [
    {
     "data": {
      "text/html": [
       "<div>\n",
       "<style scoped>\n",
       "    .dataframe tbody tr th:only-of-type {\n",
       "        vertical-align: middle;\n",
       "    }\n",
       "\n",
       "    .dataframe tbody tr th {\n",
       "        vertical-align: top;\n",
       "    }\n",
       "\n",
       "    .dataframe thead th {\n",
       "        text-align: right;\n",
       "    }\n",
       "</style>\n",
       "<table border=\"1\" class=\"dataframe\">\n",
       "  <thead>\n",
       "    <tr style=\"text-align: right;\">\n",
       "      <th></th>\n",
       "      <th>Date</th>\n",
       "      <th>Symbol</th>\n",
       "      <th>Adj Close</th>\n",
       "      <th>Close</th>\n",
       "      <th>High</th>\n",
       "      <th>Low</th>\n",
       "      <th>Open</th>\n",
       "      <th>Volume</th>\n",
       "      <th>ibs</th>\n",
       "      <th>pre_ibs</th>\n",
       "    </tr>\n",
       "  </thead>\n",
       "  <tbody>\n",
       "    <tr>\n",
       "      <th>41848</th>\n",
       "      <td>2010-01-05</td>\n",
       "      <td>A</td>\n",
       "      <td>20.21</td>\n",
       "      <td>22.15</td>\n",
       "      <td>22.33</td>\n",
       "      <td>22.00</td>\n",
       "      <td>22.32</td>\n",
       "      <td>4,186,031.00</td>\n",
       "      <td>0.43</td>\n",
       "      <td>0.34</td>\n",
       "    </tr>\n",
       "    <tr>\n",
       "      <th>41849</th>\n",
       "      <td>2010-01-06</td>\n",
       "      <td>A</td>\n",
       "      <td>20.14</td>\n",
       "      <td>22.07</td>\n",
       "      <td>22.17</td>\n",
       "      <td>22.00</td>\n",
       "      <td>22.07</td>\n",
       "      <td>3,243,779.00</td>\n",
       "      <td>0.38</td>\n",
       "      <td>0.43</td>\n",
       "    </tr>\n",
       "    <tr>\n",
       "      <th>41850</th>\n",
       "      <td>2010-01-07</td>\n",
       "      <td>A</td>\n",
       "      <td>20.12</td>\n",
       "      <td>22.04</td>\n",
       "      <td>22.05</td>\n",
       "      <td>21.82</td>\n",
       "      <td>22.02</td>\n",
       "      <td>3,095,172.00</td>\n",
       "      <td>0.97</td>\n",
       "      <td>0.38</td>\n",
       "    </tr>\n",
       "    <tr>\n",
       "      <th>41851</th>\n",
       "      <td>2010-01-08</td>\n",
       "      <td>A</td>\n",
       "      <td>20.11</td>\n",
       "      <td>22.03</td>\n",
       "      <td>22.07</td>\n",
       "      <td>21.75</td>\n",
       "      <td>21.92</td>\n",
       "      <td>3,733,918.00</td>\n",
       "      <td>0.89</td>\n",
       "      <td>0.97</td>\n",
       "    </tr>\n",
       "    <tr>\n",
       "      <th>41852</th>\n",
       "      <td>2010-01-11</td>\n",
       "      <td>A</td>\n",
       "      <td>20.12</td>\n",
       "      <td>22.05</td>\n",
       "      <td>22.21</td>\n",
       "      <td>21.94</td>\n",
       "      <td>22.09</td>\n",
       "      <td>4,781,579.00</td>\n",
       "      <td>0.39</td>\n",
       "      <td>0.89</td>\n",
       "    </tr>\n",
       "    <tr>\n",
       "      <th>...</th>\n",
       "      <td>...</td>\n",
       "      <td>...</td>\n",
       "      <td>...</td>\n",
       "      <td>...</td>\n",
       "      <td>...</td>\n",
       "      <td>...</td>\n",
       "      <td>...</td>\n",
       "      <td>...</td>\n",
       "      <td>...</td>\n",
       "      <td>...</td>\n",
       "    </tr>\n",
       "    <tr>\n",
       "      <th>45061</th>\n",
       "      <td>2022-10-03</td>\n",
       "      <td>A</td>\n",
       "      <td>126.38</td>\n",
       "      <td>126.38</td>\n",
       "      <td>127.30</td>\n",
       "      <td>121.68</td>\n",
       "      <td>122.73</td>\n",
       "      <td>1,343,200.00</td>\n",
       "      <td>0.84</td>\n",
       "      <td>0.05</td>\n",
       "    </tr>\n",
       "    <tr>\n",
       "      <th>45062</th>\n",
       "      <td>2022-10-04</td>\n",
       "      <td>A</td>\n",
       "      <td>131.41</td>\n",
       "      <td>131.41</td>\n",
       "      <td>131.56</td>\n",
       "      <td>128.57</td>\n",
       "      <td>128.79</td>\n",
       "      <td>1,647,800.00</td>\n",
       "      <td>0.95</td>\n",
       "      <td>0.84</td>\n",
       "    </tr>\n",
       "    <tr>\n",
       "      <th>45063</th>\n",
       "      <td>2022-10-05</td>\n",
       "      <td>A</td>\n",
       "      <td>132.64</td>\n",
       "      <td>132.64</td>\n",
       "      <td>133.53</td>\n",
       "      <td>129.50</td>\n",
       "      <td>129.99</td>\n",
       "      <td>1,567,700.00</td>\n",
       "      <td>0.78</td>\n",
       "      <td>0.95</td>\n",
       "    </tr>\n",
       "    <tr>\n",
       "      <th>45064</th>\n",
       "      <td>2022-10-06</td>\n",
       "      <td>A</td>\n",
       "      <td>132.18</td>\n",
       "      <td>132.18</td>\n",
       "      <td>133.82</td>\n",
       "      <td>131.60</td>\n",
       "      <td>132.30</td>\n",
       "      <td>1,218,400.00</td>\n",
       "      <td>0.26</td>\n",
       "      <td>0.78</td>\n",
       "    </tr>\n",
       "    <tr>\n",
       "      <th>45065</th>\n",
       "      <td>2022-10-07</td>\n",
       "      <td>A</td>\n",
       "      <td>127.44</td>\n",
       "      <td>127.44</td>\n",
       "      <td>130.93</td>\n",
       "      <td>126.96</td>\n",
       "      <td>130.45</td>\n",
       "      <td>1,154,691.00</td>\n",
       "      <td>0.12</td>\n",
       "      <td>0.26</td>\n",
       "    </tr>\n",
       "  </tbody>\n",
       "</table>\n",
       "<p>3213 rows × 10 columns</p>\n",
       "</div>"
      ],
      "text/plain": [
       "            Date Symbol  Adj Close  Close   High    Low   Open       Volume  \\\n",
       "41848 2010-01-05      A      20.21  22.15  22.33  22.00  22.32 4,186,031.00   \n",
       "41849 2010-01-06      A      20.14  22.07  22.17  22.00  22.07 3,243,779.00   \n",
       "41850 2010-01-07      A      20.12  22.04  22.05  21.82  22.02 3,095,172.00   \n",
       "41851 2010-01-08      A      20.11  22.03  22.07  21.75  21.92 3,733,918.00   \n",
       "41852 2010-01-11      A      20.12  22.05  22.21  21.94  22.09 4,781,579.00   \n",
       "...          ...    ...        ...    ...    ...    ...    ...          ...   \n",
       "45061 2022-10-03      A     126.38 126.38 127.30 121.68 122.73 1,343,200.00   \n",
       "45062 2022-10-04      A     131.41 131.41 131.56 128.57 128.79 1,647,800.00   \n",
       "45063 2022-10-05      A     132.64 132.64 133.53 129.50 129.99 1,567,700.00   \n",
       "45064 2022-10-06      A     132.18 132.18 133.82 131.60 132.30 1,218,400.00   \n",
       "45065 2022-10-07      A     127.44 127.44 130.93 126.96 130.45 1,154,691.00   \n",
       "\n",
       "       ibs  pre_ibs  \n",
       "41848 0.43     0.34  \n",
       "41849 0.38     0.43  \n",
       "41850 0.97     0.38  \n",
       "41851 0.89     0.97  \n",
       "41852 0.39     0.89  \n",
       "...    ...      ...  \n",
       "45061 0.84     0.05  \n",
       "45062 0.95     0.84  \n",
       "45063 0.78     0.95  \n",
       "45064 0.26     0.78  \n",
       "45065 0.12     0.26  \n",
       "\n",
       "[3213 rows x 10 columns]"
      ]
     },
     "execution_count": 15,
     "metadata": {},
     "output_type": "execute_result"
    }
   ],
   "source": [
    "sp500[sp500['Symbol']=='A']"
   ]
  },
  {
   "cell_type": "code",
   "execution_count": 16,
   "id": "c14c4be9",
   "metadata": {
    "execution": {
     "iopub.execute_input": "2022-10-10T15:29:40.834673Z",
     "iopub.status.busy": "2022-10-10T15:29:40.834199Z",
     "iopub.status.idle": "2022-10-10T15:29:42.359012Z",
     "shell.execute_reply": "2022-10-10T15:29:42.357660Z"
    },
    "papermill": {
     "duration": 1.538816,
     "end_time": "2022-10-10T15:29:42.361832",
     "exception": false,
     "start_time": "2022-10-10T15:29:40.823016",
     "status": "completed"
    },
    "tags": []
   },
   "outputs": [],
   "source": [
    "#rank by previous day ibs values in ascending order\n",
    "sp500['pre_ibs_rank'] = sp500[['Date', 'pre_ibs']].groupby('Date').rank(ascending=True, method='first', na_option='bottom')\n",
    "\n",
    "#rank by previous day ibs values in descending order\n",
    "sp500['pre_ibs_rank_reverse'] = sp500[['Date', 'pre_ibs']].groupby('Date').rank(ascending=False, method='first', na_option='bottom')"
   ]
  },
  {
   "cell_type": "code",
   "execution_count": 17,
   "id": "4e768c4f",
   "metadata": {
    "execution": {
     "iopub.execute_input": "2022-10-10T15:29:42.383415Z",
     "iopub.status.busy": "2022-10-10T15:29:42.383010Z",
     "iopub.status.idle": "2022-10-10T15:29:42.394874Z",
     "shell.execute_reply": "2022-10-10T15:29:42.393806Z"
    },
    "papermill": {
     "duration": 0.025548,
     "end_time": "2022-10-10T15:29:42.397403",
     "exception": false,
     "start_time": "2022-10-10T15:29:42.371855",
     "status": "completed"
    },
    "tags": []
   },
   "outputs": [],
   "source": [
    "#Buy bottom 10 (10 with smallest IBS values)\n",
    "#Sell top 10 (10 with largest IBS values)\n",
    "sp500['Buy'] = sp500['pre_ibs_rank']<=10\n",
    "sp500['Sell'] = sp500['pre_ibs_rank_reverse']<=10"
   ]
  },
  {
   "cell_type": "code",
   "execution_count": 18,
   "id": "d35ae7fd",
   "metadata": {
    "execution": {
     "iopub.execute_input": "2022-10-10T15:29:42.419057Z",
     "iopub.status.busy": "2022-10-10T15:29:42.418111Z",
     "iopub.status.idle": "2022-10-10T15:29:42.552629Z",
     "shell.execute_reply": "2022-10-10T15:29:42.551495Z"
    },
    "papermill": {
     "duration": 0.147913,
     "end_time": "2022-10-10T15:29:42.555104",
     "exception": false,
     "start_time": "2022-10-10T15:29:42.407191",
     "status": "completed"
    },
    "tags": []
   },
   "outputs": [
    {
     "data": {
      "text/html": [
       "<div>\n",
       "<style scoped>\n",
       "    .dataframe tbody tr th:only-of-type {\n",
       "        vertical-align: middle;\n",
       "    }\n",
       "\n",
       "    .dataframe tbody tr th {\n",
       "        vertical-align: top;\n",
       "    }\n",
       "\n",
       "    .dataframe thead th {\n",
       "        text-align: right;\n",
       "    }\n",
       "</style>\n",
       "<table border=\"1\" class=\"dataframe\">\n",
       "  <thead>\n",
       "    <tr style=\"text-align: right;\">\n",
       "      <th></th>\n",
       "      <th>Date</th>\n",
       "      <th>Symbol</th>\n",
       "      <th>Adj Close</th>\n",
       "      <th>Close</th>\n",
       "      <th>High</th>\n",
       "      <th>Low</th>\n",
       "      <th>Open</th>\n",
       "      <th>Volume</th>\n",
       "      <th>ibs</th>\n",
       "      <th>pre_ibs</th>\n",
       "      <th>pre_ibs_rank</th>\n",
       "      <th>pre_ibs_rank_reverse</th>\n",
       "      <th>Buy</th>\n",
       "      <th>Sell</th>\n",
       "    </tr>\n",
       "  </thead>\n",
       "  <tbody>\n",
       "    <tr>\n",
       "      <th>48283</th>\n",
       "      <td>2022-10-06</td>\n",
       "      <td>APD</td>\n",
       "      <td>238.59</td>\n",
       "      <td>238.59</td>\n",
       "      <td>242.76</td>\n",
       "      <td>237.89</td>\n",
       "      <td>241.17</td>\n",
       "      <td>965,400.00</td>\n",
       "      <td>0.14</td>\n",
       "      <td>0.04</td>\n",
       "      <td>1.00</td>\n",
       "      <td>503.00</td>\n",
       "      <td>True</td>\n",
       "      <td>False</td>\n",
       "    </tr>\n",
       "    <tr>\n",
       "      <th>460315</th>\n",
       "      <td>2022-10-06</td>\n",
       "      <td>DE</td>\n",
       "      <td>355.47</td>\n",
       "      <td>355.47</td>\n",
       "      <td>359.34</td>\n",
       "      <td>353.04</td>\n",
       "      <td>354.24</td>\n",
       "      <td>915,100.00</td>\n",
       "      <td>0.39</td>\n",
       "      <td>0.11</td>\n",
       "      <td>2.00</td>\n",
       "      <td>502.00</td>\n",
       "      <td>True</td>\n",
       "      <td>False</td>\n",
       "    </tr>\n",
       "    <tr>\n",
       "      <th>898099</th>\n",
       "      <td>2022-10-06</td>\n",
       "      <td>LHX</td>\n",
       "      <td>220.50</td>\n",
       "      <td>220.50</td>\n",
       "      <td>222.49</td>\n",
       "      <td>219.92</td>\n",
       "      <td>220.00</td>\n",
       "      <td>990,600.00</td>\n",
       "      <td>0.23</td>\n",
       "      <td>0.11</td>\n",
       "      <td>3.00</td>\n",
       "      <td>501.00</td>\n",
       "      <td>True</td>\n",
       "      <td>False</td>\n",
       "    </tr>\n",
       "    <tr>\n",
       "      <th>1554775</th>\n",
       "      <td>2022-10-06</td>\n",
       "      <td>WM</td>\n",
       "      <td>159.40</td>\n",
       "      <td>159.40</td>\n",
       "      <td>165.75</td>\n",
       "      <td>158.88</td>\n",
       "      <td>165.13</td>\n",
       "      <td>3,010,400.00</td>\n",
       "      <td>0.08</td>\n",
       "      <td>0.11</td>\n",
       "      <td>4.00</td>\n",
       "      <td>500.00</td>\n",
       "      <td>True</td>\n",
       "      <td>False</td>\n",
       "    </tr>\n",
       "    <tr>\n",
       "      <th>762901</th>\n",
       "      <td>2022-10-06</td>\n",
       "      <td>HRL</td>\n",
       "      <td>44.91</td>\n",
       "      <td>44.91</td>\n",
       "      <td>46.20</td>\n",
       "      <td>44.85</td>\n",
       "      <td>46.16</td>\n",
       "      <td>2,337,700.00</td>\n",
       "      <td>0.04</td>\n",
       "      <td>0.12</td>\n",
       "      <td>5.00</td>\n",
       "      <td>499.00</td>\n",
       "      <td>True</td>\n",
       "      <td>False</td>\n",
       "    </tr>\n",
       "    <tr>\n",
       "      <th>...</th>\n",
       "      <td>...</td>\n",
       "      <td>...</td>\n",
       "      <td>...</td>\n",
       "      <td>...</td>\n",
       "      <td>...</td>\n",
       "      <td>...</td>\n",
       "      <td>...</td>\n",
       "      <td>...</td>\n",
       "      <td>...</td>\n",
       "      <td>...</td>\n",
       "      <td>...</td>\n",
       "      <td>...</td>\n",
       "      <td>...</td>\n",
       "      <td>...</td>\n",
       "    </tr>\n",
       "    <tr>\n",
       "      <th>569761</th>\n",
       "      <td>2022-10-06</td>\n",
       "      <td>EQT</td>\n",
       "      <td>43.94</td>\n",
       "      <td>43.94</td>\n",
       "      <td>45.91</td>\n",
       "      <td>43.75</td>\n",
       "      <td>45.05</td>\n",
       "      <td>5,541,500.00</td>\n",
       "      <td>0.09</td>\n",
       "      <td>0.92</td>\n",
       "      <td>499.00</td>\n",
       "      <td>5.00</td>\n",
       "      <td>False</td>\n",
       "      <td>True</td>\n",
       "    </tr>\n",
       "    <tr>\n",
       "      <th>798310</th>\n",
       "      <td>2022-10-06</td>\n",
       "      <td>ILMN</td>\n",
       "      <td>212.72</td>\n",
       "      <td>212.72</td>\n",
       "      <td>219.60</td>\n",
       "      <td>210.53</td>\n",
       "      <td>216.59</td>\n",
       "      <td>1,553,000.00</td>\n",
       "      <td>0.24</td>\n",
       "      <td>0.93</td>\n",
       "      <td>500.00</td>\n",
       "      <td>4.00</td>\n",
       "      <td>False</td>\n",
       "      <td>True</td>\n",
       "    </tr>\n",
       "    <tr>\n",
       "      <th>173824</th>\n",
       "      <td>2022-10-06</td>\n",
       "      <td>ADSK</td>\n",
       "      <td>205.87</td>\n",
       "      <td>205.87</td>\n",
       "      <td>209.64</td>\n",
       "      <td>203.37</td>\n",
       "      <td>203.81</td>\n",
       "      <td>1,791,600.00</td>\n",
       "      <td>0.40</td>\n",
       "      <td>0.94</td>\n",
       "      <td>501.00</td>\n",
       "      <td>3.00</td>\n",
       "      <td>False</td>\n",
       "      <td>True</td>\n",
       "    </tr>\n",
       "    <tr>\n",
       "      <th>766120</th>\n",
       "      <td>2022-10-06</td>\n",
       "      <td>HST</td>\n",
       "      <td>16.56</td>\n",
       "      <td>16.56</td>\n",
       "      <td>16.97</td>\n",
       "      <td>16.48</td>\n",
       "      <td>16.65</td>\n",
       "      <td>6,926,100.00</td>\n",
       "      <td>0.16</td>\n",
       "      <td>0.95</td>\n",
       "      <td>502.00</td>\n",
       "      <td>2.00</td>\n",
       "      <td>False</td>\n",
       "      <td>True</td>\n",
       "    </tr>\n",
       "    <tr>\n",
       "      <th>1197466</th>\n",
       "      <td>2022-10-06</td>\n",
       "      <td>PCG</td>\n",
       "      <td>14.63</td>\n",
       "      <td>14.63</td>\n",
       "      <td>15.07</td>\n",
       "      <td>14.37</td>\n",
       "      <td>14.80</td>\n",
       "      <td>63,378,700.00</td>\n",
       "      <td>0.37</td>\n",
       "      <td>0.96</td>\n",
       "      <td>503.00</td>\n",
       "      <td>1.00</td>\n",
       "      <td>False</td>\n",
       "      <td>True</td>\n",
       "    </tr>\n",
       "  </tbody>\n",
       "</table>\n",
       "<p>503 rows × 14 columns</p>\n",
       "</div>"
      ],
      "text/plain": [
       "              Date Symbol  Adj Close  Close   High    Low   Open  \\\n",
       "48283   2022-10-06    APD     238.59 238.59 242.76 237.89 241.17   \n",
       "460315  2022-10-06     DE     355.47 355.47 359.34 353.04 354.24   \n",
       "898099  2022-10-06    LHX     220.50 220.50 222.49 219.92 220.00   \n",
       "1554775 2022-10-06     WM     159.40 159.40 165.75 158.88 165.13   \n",
       "762901  2022-10-06    HRL      44.91  44.91  46.20  44.85  46.16   \n",
       "...            ...    ...        ...    ...    ...    ...    ...   \n",
       "569761  2022-10-06    EQT      43.94  43.94  45.91  43.75  45.05   \n",
       "798310  2022-10-06   ILMN     212.72 212.72 219.60 210.53 216.59   \n",
       "173824  2022-10-06   ADSK     205.87 205.87 209.64 203.37 203.81   \n",
       "766120  2022-10-06    HST      16.56  16.56  16.97  16.48  16.65   \n",
       "1197466 2022-10-06    PCG      14.63  14.63  15.07  14.37  14.80   \n",
       "\n",
       "               Volume  ibs  pre_ibs  pre_ibs_rank  pre_ibs_rank_reverse  \\\n",
       "48283      965,400.00 0.14     0.04          1.00                503.00   \n",
       "460315     915,100.00 0.39     0.11          2.00                502.00   \n",
       "898099     990,600.00 0.23     0.11          3.00                501.00   \n",
       "1554775  3,010,400.00 0.08     0.11          4.00                500.00   \n",
       "762901   2,337,700.00 0.04     0.12          5.00                499.00   \n",
       "...               ...  ...      ...           ...                   ...   \n",
       "569761   5,541,500.00 0.09     0.92        499.00                  5.00   \n",
       "798310   1,553,000.00 0.24     0.93        500.00                  4.00   \n",
       "173824   1,791,600.00 0.40     0.94        501.00                  3.00   \n",
       "766120   6,926,100.00 0.16     0.95        502.00                  2.00   \n",
       "1197466 63,378,700.00 0.37     0.96        503.00                  1.00   \n",
       "\n",
       "           Buy   Sell  \n",
       "48283     True  False  \n",
       "460315    True  False  \n",
       "898099    True  False  \n",
       "1554775   True  False  \n",
       "762901    True  False  \n",
       "...        ...    ...  \n",
       "569761   False   True  \n",
       "798310   False   True  \n",
       "173824   False   True  \n",
       "766120   False   True  \n",
       "1197466  False   True  \n",
       "\n",
       "[503 rows x 14 columns]"
      ]
     },
     "execution_count": 18,
     "metadata": {},
     "output_type": "execute_result"
    }
   ],
   "source": [
    "sp500[sp500['Date']=='2022-10-06'].sort_values(by='pre_ibs')"
   ]
  },
  {
   "cell_type": "code",
   "execution_count": 19,
   "id": "060e4503",
   "metadata": {
    "execution": {
     "iopub.execute_input": "2022-10-10T15:29:42.578420Z",
     "iopub.status.busy": "2022-10-10T15:29:42.577437Z",
     "iopub.status.idle": "2022-10-10T15:29:42.787785Z",
     "shell.execute_reply": "2022-10-10T15:29:42.786738Z"
    },
    "papermill": {
     "duration": 0.225065,
     "end_time": "2022-10-10T15:29:42.790544",
     "exception": false,
     "start_time": "2022-10-10T15:29:42.565479",
     "status": "completed"
    },
    "tags": []
   },
   "outputs": [],
   "source": [
    "# calculate the return for each potential trade\n",
    "sp500['Next_AdjClose']=sp500[['Symbol', 'Adj Close']].groupby('Symbol').shift(-1)"
   ]
  },
  {
   "cell_type": "code",
   "execution_count": 20,
   "id": "19840747",
   "metadata": {
    "execution": {
     "iopub.execute_input": "2022-10-10T15:29:42.814178Z",
     "iopub.status.busy": "2022-10-10T15:29:42.813299Z",
     "iopub.status.idle": "2022-10-10T15:29:42.826806Z",
     "shell.execute_reply": "2022-10-10T15:29:42.825660Z"
    },
    "papermill": {
     "duration": 0.028482,
     "end_time": "2022-10-10T15:29:42.829524",
     "exception": false,
     "start_time": "2022-10-10T15:29:42.801042",
     "status": "completed"
    },
    "tags": []
   },
   "outputs": [],
   "source": [
    "sp500['Target']=(sp500['Next_AdjClose']-sp500['Adj Close'])/sp500['Adj Close']"
   ]
  },
  {
   "cell_type": "code",
   "execution_count": 21,
   "id": "88f3b996",
   "metadata": {
    "execution": {
     "iopub.execute_input": "2022-10-10T15:29:42.852127Z",
     "iopub.status.busy": "2022-10-10T15:29:42.851733Z",
     "iopub.status.idle": "2022-10-10T15:29:43.159195Z",
     "shell.execute_reply": "2022-10-10T15:29:43.157936Z"
    },
    "papermill": {
     "duration": 0.321809,
     "end_time": "2022-10-10T15:29:43.161876",
     "exception": false,
     "start_time": "2022-10-10T15:29:42.840067",
     "status": "completed"
    },
    "tags": []
   },
   "outputs": [
    {
     "data": {
      "image/png": "[encoded data removed]",
      "text/plain": [
       "<Figure size 432x288 with 1 Axes>"
      ]
     },
     "metadata": {},
     "output_type": "display_data"
    }
   ],
   "source": [
    "hist(sp500['Target'], '')"
   ]
  },
  {
   "cell_type": "code",
   "execution_count": 22,
   "id": "6c1ea272",
   "metadata": {
    "execution": {
     "iopub.execute_input": "2022-10-10T15:29:43.185025Z",
     "iopub.status.busy": "2022-10-10T15:29:43.184588Z",
     "iopub.status.idle": "2022-10-10T15:29:43.195441Z",
     "shell.execute_reply": "2022-10-10T15:29:43.194292Z"
    },
    "papermill": {
     "duration": 0.02513,
     "end_time": "2022-10-10T15:29:43.197800",
     "exception": false,
     "start_time": "2022-10-10T15:29:43.172670",
     "status": "completed"
    },
    "tags": []
   },
   "outputs": [],
   "source": [
    "#calculate the sharpe ratio\n",
    "#https://www.kaggle.com/code/smeitoma/jpx-competition-metric-definition\n",
    "import numpy as np\n",
    "import pandas as pd\n",
    "\n",
    "\n",
    "def calc_spread_return_sharpe(df: pd.DataFrame, portfolio_size: int = 200, toprank_weight_ratio: float = 2) -> float:\n",
    "    \"\"\"\n",
    "    Args:\n",
    "        df (pd.DataFrame): predicted results\n",
    "        portfolio_size (int): # of equities to buy/sell\n",
    "        toprank_weight_ratio (float): the relative weight of the most highly ranked stock compared to the least.\n",
    "    Returns:\n",
    "        (float): sharpe ratio\n",
    "    \"\"\"\n",
    "    def _calc_spread_return_per_day(df, portfolio_size, toprank_weight_ratio):\n",
    "        \"\"\"\n",
    "        Args:\n",
    "            df (pd.DataFrame): predicted results\n",
    "            portfolio_size (int): # of equities to buy/sell\n",
    "            toprank_weight_ratio (float): the relative weight of the most highly ranked stock compared to the least.\n",
    "        Returns:\n",
    "            (float): spread return\n",
    "        \"\"\"\n",
    "        assert df['Rank'].min() == 0\n",
    "        assert df['Rank'].max() == len(df['Rank']) - 1\n",
    "        weights = np.linspace(start=toprank_weight_ratio, stop=1, num=portfolio_size)\n",
    "        purchase = (df.sort_values(by='Rank')['Target'][:portfolio_size] * weights).sum() / weights.mean()\n",
    "        short = (df.sort_values(by='Rank', ascending=False)['Target'][:portfolio_size] * weights).sum() / weights.mean()\n",
    "        return purchase - short\n",
    "\n",
    "    buf = df.groupby('Date').apply(_calc_spread_return_per_day, portfolio_size, toprank_weight_ratio)\n",
    "    sharpe_ratio = buf.mean() / buf.std()\n",
    "    return sharpe_ratio"
   ]
  },
  {
   "cell_type": "code",
   "execution_count": 23,
   "id": "ce5b8a01",
   "metadata": {
    "execution": {
     "iopub.execute_input": "2022-10-10T15:29:43.220653Z",
     "iopub.status.busy": "2022-10-10T15:29:43.220216Z",
     "iopub.status.idle": "2022-10-10T15:30:11.424307Z",
     "shell.execute_reply": "2022-10-10T15:30:11.422657Z"
    },
    "papermill": {
     "duration": 28.21901,
     "end_time": "2022-10-10T15:30:11.427331",
     "exception": false,
     "start_time": "2022-10-10T15:29:43.208321",
     "status": "completed"
    },
    "tags": []
   },
   "outputs": [
    {
     "name": "stdout",
     "output_type": "stream",
     "text": [
      "10 2 -0.0008303916297416351\n",
      "20 2 0.0073458969224720035\n",
      "25 1 0.010848668708617793\n",
      "50 2 0.0107633453748633\n"
     ]
    }
   ],
   "source": [
    "sp500['Rank']=np.int64(sp500['pre_ibs_rank'].values-1)\n",
    "for p, t in [[10, 2], [20, 2], [25, 1], [50,2]]:\n",
    "    sharpe = calc_spread_return_sharpe(df=sp500, portfolio_size = p, toprank_weight_ratio = t)\n",
    "    print(p, t, sharpe)"
   ]
  },
  {
   "cell_type": "code",
   "execution_count": 24,
   "id": "322e8e52",
   "metadata": {
    "execution": {
     "iopub.execute_input": "2022-10-10T15:30:11.450934Z",
     "iopub.status.busy": "2022-10-10T15:30:11.450483Z",
     "iopub.status.idle": "2022-10-10T15:30:39.116885Z",
     "shell.execute_reply": "2022-10-10T15:30:39.115353Z"
    },
    "papermill": {
     "duration": 27.681716,
     "end_time": "2022-10-10T15:30:39.120261",
     "exception": false,
     "start_time": "2022-10-10T15:30:11.438545",
     "status": "completed"
    },
    "tags": []
   },
   "outputs": [
    {
     "name": "stdout",
     "output_type": "stream",
     "text": [
      "10 2 0.006925449925793309\n",
      "20 2 -0.005511126641207414\n",
      "25 1 -0.01133742010272558\n",
      "50 2 -0.009383812211712814\n"
     ]
    }
   ],
   "source": [
    "sp500['Rank']=np.int64(sp500['pre_ibs_rank_reverse'].values-1)\n",
    "for p, t in [[10, 2], [20, 2], [25, 1], [50, 2]]:\n",
    "    sharpe = calc_spread_return_sharpe(df=sp500, portfolio_size = p, toprank_weight_ratio = t)\n",
    "    print(p, t, sharpe)"
   ]
  },
  {
   "cell_type": "markdown",
   "id": "97801407",
   "metadata": {
    "papermill": {
     "duration": 0.011045,
     "end_time": "2022-10-10T15:30:39.143279",
     "exception": false,
     "start_time": "2022-10-10T15:30:39.132234",
     "status": "completed"
    },
    "tags": []
   },
   "source": [
    "# Trade performance summary\n",
    "\n",
    "Trade setup:\n",
    "\n",
    "- Initial amount (principal) for each trade: max at 10000 USD\n",
    "- Minimal shares: 10 shares\n",
    "\n"
   ]
  },
  {
   "cell_type": "code",
   "execution_count": 25,
   "id": "d9833f64",
   "metadata": {
    "execution": {
     "iopub.execute_input": "2022-10-10T15:30:39.167417Z",
     "iopub.status.busy": "2022-10-10T15:30:39.166190Z",
     "iopub.status.idle": "2022-10-10T15:30:39.173286Z",
     "shell.execute_reply": "2022-10-10T15:30:39.172432Z"
    },
    "papermill": {
     "duration": 0.021353,
     "end_time": "2022-10-10T15:30:39.175540",
     "exception": false,
     "start_time": "2022-10-10T15:30:39.154187",
     "status": "completed"
    },
    "tags": []
   },
   "outputs": [],
   "source": [
    "max_init_amount = 10000 #this is a soft cap, each trade must have at least 10 shares\n",
    "min_shares = 10\n",
    "def cal_shares(price):\n",
    "    shares = min_shares\n",
    "    if (price is np.nan) | (price is None):\n",
    "        shares = 0\n",
    "    elif (max_init_amount/price)>min_shares:\n",
    "        shares = int(max_init_amount/price)\n",
    "        \n",
    "    return  shares \n",
    "        "
   ]
  },
  {
   "cell_type": "code",
   "execution_count": 26,
   "id": "a6a5fa92",
   "metadata": {
    "execution": {
     "iopub.execute_input": "2022-10-10T15:30:39.200267Z",
     "iopub.status.busy": "2022-10-10T15:30:39.199052Z",
     "iopub.status.idle": "2022-10-10T15:31:06.346918Z",
     "shell.execute_reply": "2022-10-10T15:31:06.345439Z"
    },
    "papermill": {
     "duration": 27.164023,
     "end_time": "2022-10-10T15:31:06.350398",
     "exception": false,
     "start_time": "2022-10-10T15:30:39.186375",
     "status": "completed"
    },
    "tags": []
   },
   "outputs": [],
   "source": [
    "sp500['shares'] = sp500.apply(lambda x: cal_shares(x['Adj Close']) , axis=1)\n",
    "sp500.loc[(sp500['Buy']==False) & (sp500['Sell']==False), 'shares'] = 0\n",
    "sp500['init_amount'] = sp500['shares'] * sp500['Adj Close']\n",
    "sp500['end_amount'] = sp500['shares'] * sp500['Next_AdjClose']\n",
    "sp500['cost'] = sp500['init_amount']*0.003\n",
    "\n",
    "sp500['pnl'] = sp500['end_amount'] - sp500['init_amount']\n",
    "sp500.loc[sp500['Buy'], 'pnl'] = sp500.loc[sp500['Buy'], 'pnl'] - sp500.loc[sp500['Buy'], 'cost']\n",
    "sp500.loc[sp500['Sell'], 'pnl'] = -sp500.loc[sp500['Sell'], 'pnl'] - sp500.loc[sp500['Sell'], 'cost']"
   ]
  },
  {
   "cell_type": "code",
   "execution_count": 27,
   "id": "60e09495",
   "metadata": {
    "execution": {
     "iopub.execute_input": "2022-10-10T15:31:06.375911Z",
     "iopub.status.busy": "2022-10-10T15:31:06.374732Z",
     "iopub.status.idle": "2022-10-10T15:31:06.579621Z",
     "shell.execute_reply": "2022-10-10T15:31:06.578244Z"
    },
    "papermill": {
     "duration": 0.219881,
     "end_time": "2022-10-10T15:31:06.582208",
     "exception": false,
     "start_time": "2022-10-10T15:31:06.362327",
     "status": "completed"
    },
    "tags": []
   },
   "outputs": [
    {
     "data": {
      "text/html": [
       "<div>\n",
       "<style scoped>\n",
       "    .dataframe tbody tr th:only-of-type {\n",
       "        vertical-align: middle;\n",
       "    }\n",
       "\n",
       "    .dataframe tbody tr th {\n",
       "        vertical-align: top;\n",
       "    }\n",
       "\n",
       "    .dataframe thead th {\n",
       "        text-align: right;\n",
       "    }\n",
       "</style>\n",
       "<table border=\"1\" class=\"dataframe\">\n",
       "  <thead>\n",
       "    <tr style=\"text-align: right;\">\n",
       "      <th></th>\n",
       "      <th>Date</th>\n",
       "      <th>Symbol</th>\n",
       "      <th>Adj Close</th>\n",
       "      <th>Close</th>\n",
       "      <th>High</th>\n",
       "      <th>Low</th>\n",
       "      <th>Open</th>\n",
       "      <th>Volume</th>\n",
       "      <th>ibs</th>\n",
       "      <th>pre_ibs</th>\n",
       "      <th>pre_ibs_rank</th>\n",
       "      <th>pre_ibs_rank_reverse</th>\n",
       "      <th>Buy</th>\n",
       "      <th>Sell</th>\n",
       "      <th>Next_AdjClose</th>\n",
       "      <th>Target</th>\n",
       "      <th>Rank</th>\n",
       "      <th>shares</th>\n",
       "      <th>init_amount</th>\n",
       "      <th>end_amount</th>\n",
       "      <th>cost</th>\n",
       "      <th>pnl</th>\n",
       "    </tr>\n",
       "  </thead>\n",
       "  <tbody>\n",
       "    <tr>\n",
       "      <th>48283</th>\n",
       "      <td>2022-10-06</td>\n",
       "      <td>APD</td>\n",
       "      <td>238.59</td>\n",
       "      <td>238.59</td>\n",
       "      <td>242.76</td>\n",
       "      <td>237.89</td>\n",
       "      <td>241.17</td>\n",
       "      <td>965,400.00</td>\n",
       "      <td>0.14</td>\n",
       "      <td>0.04</td>\n",
       "      <td>1.00</td>\n",
       "      <td>503.00</td>\n",
       "      <td>True</td>\n",
       "      <td>False</td>\n",
       "      <td>231.75</td>\n",
       "      <td>-0.03</td>\n",
       "      <td>502</td>\n",
       "      <td>41</td>\n",
       "      <td>9,782.19</td>\n",
       "      <td>9,501.75</td>\n",
       "      <td>29.35</td>\n",
       "      <td>-309.79</td>\n",
       "    </tr>\n",
       "    <tr>\n",
       "      <th>460315</th>\n",
       "      <td>2022-10-06</td>\n",
       "      <td>DE</td>\n",
       "      <td>355.47</td>\n",
       "      <td>355.47</td>\n",
       "      <td>359.34</td>\n",
       "      <td>353.04</td>\n",
       "      <td>354.24</td>\n",
       "      <td>915,100.00</td>\n",
       "      <td>0.39</td>\n",
       "      <td>0.11</td>\n",
       "      <td>2.00</td>\n",
       "      <td>502.00</td>\n",
       "      <td>True</td>\n",
       "      <td>False</td>\n",
       "      <td>356.15</td>\n",
       "      <td>0.00</td>\n",
       "      <td>501</td>\n",
       "      <td>28</td>\n",
       "      <td>9,953.16</td>\n",
       "      <td>9,972.20</td>\n",
       "      <td>29.86</td>\n",
       "      <td>-10.82</td>\n",
       "    </tr>\n",
       "    <tr>\n",
       "      <th>898099</th>\n",
       "      <td>2022-10-06</td>\n",
       "      <td>LHX</td>\n",
       "      <td>220.50</td>\n",
       "      <td>220.50</td>\n",
       "      <td>222.49</td>\n",
       "      <td>219.92</td>\n",
       "      <td>220.00</td>\n",
       "      <td>990,600.00</td>\n",
       "      <td>0.23</td>\n",
       "      <td>0.11</td>\n",
       "      <td>3.00</td>\n",
       "      <td>501.00</td>\n",
       "      <td>True</td>\n",
       "      <td>False</td>\n",
       "      <td>224.32</td>\n",
       "      <td>0.02</td>\n",
       "      <td>500</td>\n",
       "      <td>45</td>\n",
       "      <td>9,922.50</td>\n",
       "      <td>10,094.40</td>\n",
       "      <td>29.77</td>\n",
       "      <td>142.13</td>\n",
       "    </tr>\n",
       "    <tr>\n",
       "      <th>1554775</th>\n",
       "      <td>2022-10-06</td>\n",
       "      <td>WM</td>\n",
       "      <td>159.40</td>\n",
       "      <td>159.40</td>\n",
       "      <td>165.75</td>\n",
       "      <td>158.88</td>\n",
       "      <td>165.13</td>\n",
       "      <td>3,010,400.00</td>\n",
       "      <td>0.08</td>\n",
       "      <td>0.11</td>\n",
       "      <td>4.00</td>\n",
       "      <td>500.00</td>\n",
       "      <td>True</td>\n",
       "      <td>False</td>\n",
       "      <td>155.24</td>\n",
       "      <td>-0.03</td>\n",
       "      <td>499</td>\n",
       "      <td>62</td>\n",
       "      <td>9,882.80</td>\n",
       "      <td>9,624.88</td>\n",
       "      <td>29.65</td>\n",
       "      <td>-287.57</td>\n",
       "    </tr>\n",
       "    <tr>\n",
       "      <th>762901</th>\n",
       "      <td>2022-10-06</td>\n",
       "      <td>HRL</td>\n",
       "      <td>44.91</td>\n",
       "      <td>44.91</td>\n",
       "      <td>46.20</td>\n",
       "      <td>44.85</td>\n",
       "      <td>46.16</td>\n",
       "      <td>2,337,700.00</td>\n",
       "      <td>0.04</td>\n",
       "      <td>0.12</td>\n",
       "      <td>5.00</td>\n",
       "      <td>499.00</td>\n",
       "      <td>True</td>\n",
       "      <td>False</td>\n",
       "      <td>44.54</td>\n",
       "      <td>-0.01</td>\n",
       "      <td>498</td>\n",
       "      <td>222</td>\n",
       "      <td>9,970.02</td>\n",
       "      <td>9,887.88</td>\n",
       "      <td>29.91</td>\n",
       "      <td>-112.05</td>\n",
       "    </tr>\n",
       "    <tr>\n",
       "      <th>...</th>\n",
       "      <td>...</td>\n",
       "      <td>...</td>\n",
       "      <td>...</td>\n",
       "      <td>...</td>\n",
       "      <td>...</td>\n",
       "      <td>...</td>\n",
       "      <td>...</td>\n",
       "      <td>...</td>\n",
       "      <td>...</td>\n",
       "      <td>...</td>\n",
       "      <td>...</td>\n",
       "      <td>...</td>\n",
       "      <td>...</td>\n",
       "      <td>...</td>\n",
       "      <td>...</td>\n",
       "      <td>...</td>\n",
       "      <td>...</td>\n",
       "      <td>...</td>\n",
       "      <td>...</td>\n",
       "      <td>...</td>\n",
       "      <td>...</td>\n",
       "      <td>...</td>\n",
       "    </tr>\n",
       "    <tr>\n",
       "      <th>569761</th>\n",
       "      <td>2022-10-06</td>\n",
       "      <td>EQT</td>\n",
       "      <td>43.94</td>\n",
       "      <td>43.94</td>\n",
       "      <td>45.91</td>\n",
       "      <td>43.75</td>\n",
       "      <td>45.05</td>\n",
       "      <td>5,541,500.00</td>\n",
       "      <td>0.09</td>\n",
       "      <td>0.92</td>\n",
       "      <td>499.00</td>\n",
       "      <td>5.00</td>\n",
       "      <td>False</td>\n",
       "      <td>True</td>\n",
       "      <td>43.17</td>\n",
       "      <td>-0.02</td>\n",
       "      <td>4</td>\n",
       "      <td>227</td>\n",
       "      <td>9,974.38</td>\n",
       "      <td>9,799.59</td>\n",
       "      <td>29.92</td>\n",
       "      <td>144.87</td>\n",
       "    </tr>\n",
       "    <tr>\n",
       "      <th>798310</th>\n",
       "      <td>2022-10-06</td>\n",
       "      <td>ILMN</td>\n",
       "      <td>212.72</td>\n",
       "      <td>212.72</td>\n",
       "      <td>219.60</td>\n",
       "      <td>210.53</td>\n",
       "      <td>216.59</td>\n",
       "      <td>1,553,000.00</td>\n",
       "      <td>0.24</td>\n",
       "      <td>0.93</td>\n",
       "      <td>500.00</td>\n",
       "      <td>4.00</td>\n",
       "      <td>False</td>\n",
       "      <td>True</td>\n",
       "      <td>206.18</td>\n",
       "      <td>-0.03</td>\n",
       "      <td>3</td>\n",
       "      <td>47</td>\n",
       "      <td>9,997.84</td>\n",
       "      <td>9,690.46</td>\n",
       "      <td>29.99</td>\n",
       "      <td>277.39</td>\n",
       "    </tr>\n",
       "    <tr>\n",
       "      <th>173824</th>\n",
       "      <td>2022-10-06</td>\n",
       "      <td>ADSK</td>\n",
       "      <td>205.87</td>\n",
       "      <td>205.87</td>\n",
       "      <td>209.64</td>\n",
       "      <td>203.37</td>\n",
       "      <td>203.81</td>\n",
       "      <td>1,791,600.00</td>\n",
       "      <td>0.40</td>\n",
       "      <td>0.94</td>\n",
       "      <td>501.00</td>\n",
       "      <td>3.00</td>\n",
       "      <td>False</td>\n",
       "      <td>True</td>\n",
       "      <td>194.74</td>\n",
       "      <td>-0.05</td>\n",
       "      <td>2</td>\n",
       "      <td>48</td>\n",
       "      <td>9,881.76</td>\n",
       "      <td>9,347.52</td>\n",
       "      <td>29.65</td>\n",
       "      <td>504.59</td>\n",
       "    </tr>\n",
       "    <tr>\n",
       "      <th>766120</th>\n",
       "      <td>2022-10-06</td>\n",
       "      <td>HST</td>\n",
       "      <td>16.56</td>\n",
       "      <td>16.56</td>\n",
       "      <td>16.97</td>\n",
       "      <td>16.48</td>\n",
       "      <td>16.65</td>\n",
       "      <td>6,926,100.00</td>\n",
       "      <td>0.16</td>\n",
       "      <td>0.95</td>\n",
       "      <td>502.00</td>\n",
       "      <td>2.00</td>\n",
       "      <td>False</td>\n",
       "      <td>True</td>\n",
       "      <td>16.30</td>\n",
       "      <td>-0.02</td>\n",
       "      <td>1</td>\n",
       "      <td>603</td>\n",
       "      <td>9,985.68</td>\n",
       "      <td>9,828.90</td>\n",
       "      <td>29.96</td>\n",
       "      <td>126.82</td>\n",
       "    </tr>\n",
       "    <tr>\n",
       "      <th>1197466</th>\n",
       "      <td>2022-10-06</td>\n",
       "      <td>PCG</td>\n",
       "      <td>14.63</td>\n",
       "      <td>14.63</td>\n",
       "      <td>15.07</td>\n",
       "      <td>14.37</td>\n",
       "      <td>14.80</td>\n",
       "      <td>63,378,700.00</td>\n",
       "      <td>0.37</td>\n",
       "      <td>0.96</td>\n",
       "      <td>503.00</td>\n",
       "      <td>1.00</td>\n",
       "      <td>False</td>\n",
       "      <td>True</td>\n",
       "      <td>14.93</td>\n",
       "      <td>0.02</td>\n",
       "      <td>0</td>\n",
       "      <td>683</td>\n",
       "      <td>9,992.29</td>\n",
       "      <td>10,197.19</td>\n",
       "      <td>29.98</td>\n",
       "      <td>-234.88</td>\n",
       "    </tr>\n",
       "  </tbody>\n",
       "</table>\n",
       "<p>503 rows × 22 columns</p>\n",
       "</div>"
      ],
      "text/plain": [
       "              Date Symbol  Adj Close  Close   High    Low   Open  \\\n",
       "48283   2022-10-06    APD     238.59 238.59 242.76 237.89 241.17   \n",
       "460315  2022-10-06     DE     355.47 355.47 359.34 353.04 354.24   \n",
       "898099  2022-10-06    LHX     220.50 220.50 222.49 219.92 220.00   \n",
       "1554775 2022-10-06     WM     159.40 159.40 165.75 158.88 165.13   \n",
       "762901  2022-10-06    HRL      44.91  44.91  46.20  44.85  46.16   \n",
       "...            ...    ...        ...    ...    ...    ...    ...   \n",
       "569761  2022-10-06    EQT      43.94  43.94  45.91  43.75  45.05   \n",
       "798310  2022-10-06   ILMN     212.72 212.72 219.60 210.53 216.59   \n",
       "173824  2022-10-06   ADSK     205.87 205.87 209.64 203.37 203.81   \n",
       "766120  2022-10-06    HST      16.56  16.56  16.97  16.48  16.65   \n",
       "1197466 2022-10-06    PCG      14.63  14.63  15.07  14.37  14.80   \n",
       "\n",
       "               Volume  ibs  pre_ibs  pre_ibs_rank  pre_ibs_rank_reverse  \\\n",
       "48283      965,400.00 0.14     0.04          1.00                503.00   \n",
       "460315     915,100.00 0.39     0.11          2.00                502.00   \n",
       "898099     990,600.00 0.23     0.11          3.00                501.00   \n",
       "1554775  3,010,400.00 0.08     0.11          4.00                500.00   \n",
       "762901   2,337,700.00 0.04     0.12          5.00                499.00   \n",
       "...               ...  ...      ...           ...                   ...   \n",
       "569761   5,541,500.00 0.09     0.92        499.00                  5.00   \n",
       "798310   1,553,000.00 0.24     0.93        500.00                  4.00   \n",
       "173824   1,791,600.00 0.40     0.94        501.00                  3.00   \n",
       "766120   6,926,100.00 0.16     0.95        502.00                  2.00   \n",
       "1197466 63,378,700.00 0.37     0.96        503.00                  1.00   \n",
       "\n",
       "           Buy   Sell  Next_AdjClose  Target  Rank  shares  init_amount  \\\n",
       "48283     True  False         231.75   -0.03   502      41     9,782.19   \n",
       "460315    True  False         356.15    0.00   501      28     9,953.16   \n",
       "898099    True  False         224.32    0.02   500      45     9,922.50   \n",
       "1554775   True  False         155.24   -0.03   499      62     9,882.80   \n",
       "762901    True  False          44.54   -0.01   498     222     9,970.02   \n",
       "...        ...    ...            ...     ...   ...     ...          ...   \n",
       "569761   False   True          43.17   -0.02     4     227     9,974.38   \n",
       "798310   False   True         206.18   -0.03     3      47     9,997.84   \n",
       "173824   False   True         194.74   -0.05     2      48     9,881.76   \n",
       "766120   False   True          16.30   -0.02     1     603     9,985.68   \n",
       "1197466  False   True          14.93    0.02     0     683     9,992.29   \n",
       "\n",
       "         end_amount  cost     pnl  \n",
       "48283      9,501.75 29.35 -309.79  \n",
       "460315     9,972.20 29.86  -10.82  \n",
       "898099    10,094.40 29.77  142.13  \n",
       "1554775    9,624.88 29.65 -287.57  \n",
       "762901     9,887.88 29.91 -112.05  \n",
       "...             ...   ...     ...  \n",
       "569761     9,799.59 29.92  144.87  \n",
       "798310     9,690.46 29.99  277.39  \n",
       "173824     9,347.52 29.65  504.59  \n",
       "766120     9,828.90 29.96  126.82  \n",
       "1197466   10,197.19 29.98 -234.88  \n",
       "\n",
       "[503 rows x 22 columns]"
      ]
     },
     "execution_count": 27,
     "metadata": {},
     "output_type": "execute_result"
    }
   ],
   "source": [
    "sp500[sp500['Date']=='2022-10-06'].sort_values(by='pre_ibs')"
   ]
  },
  {
   "cell_type": "code",
   "execution_count": 28,
   "id": "b3309891",
   "metadata": {
    "execution": {
     "iopub.execute_input": "2022-10-10T15:31:06.607654Z",
     "iopub.status.busy": "2022-10-10T15:31:06.606621Z",
     "iopub.status.idle": "2022-10-10T15:31:06.930180Z",
     "shell.execute_reply": "2022-10-10T15:31:06.928816Z"
    },
    "papermill": {
     "duration": 0.339056,
     "end_time": "2022-10-10T15:31:06.932839",
     "exception": false,
     "start_time": "2022-10-10T15:31:06.593783",
     "status": "completed"
    },
    "tags": []
   },
   "outputs": [
    {
     "data": {
      "image/png": "[encoded data removed]",
      "text/plain": [
       "<Figure size 432x288 with 1 Axes>"
      ]
     },
     "metadata": {},
     "output_type": "display_data"
    }
   ],
   "source": [
    "hist(sp500[['Date', 'pnl']].groupby('Date')['pnl'].sum(), 'Distribution of Daily PnL')"
   ]
  },
  {
   "cell_type": "code",
   "execution_count": 29,
   "id": "607610d8",
   "metadata": {
    "execution": {
     "iopub.execute_input": "2022-10-10T15:31:06.959466Z",
     "iopub.status.busy": "2022-10-10T15:31:06.958374Z",
     "iopub.status.idle": "2022-10-10T15:31:07.012289Z",
     "shell.execute_reply": "2022-10-10T15:31:07.010972Z"
    },
    "papermill": {
     "duration": 0.069782,
     "end_time": "2022-10-10T15:31:07.014991",
     "exception": false,
     "start_time": "2022-10-10T15:31:06.945209",
     "status": "completed"
    },
    "tags": []
   },
   "outputs": [
    {
     "data": {
      "text/plain": [
       "count    3,213.00\n",
       "mean      -612.14\n",
       "std      1,066.00\n",
       "min     -7,311.98\n",
       "25%     -1,149.55\n",
       "50%       -609.02\n",
       "75%        -66.19\n",
       "max     11,275.76\n",
       "Name: pnl, dtype: float64"
      ]
     },
     "execution_count": 29,
     "metadata": {},
     "output_type": "execute_result"
    }
   ],
   "source": [
    "sp500[['Date', 'pnl']].groupby('Date')['pnl'].sum().describe()"
   ]
  },
  {
   "cell_type": "code",
   "execution_count": 30,
   "id": "f3e2f076",
   "metadata": {
    "execution": {
     "iopub.execute_input": "2022-10-10T15:31:07.041530Z",
     "iopub.status.busy": "2022-10-10T15:31:07.040712Z",
     "iopub.status.idle": "2022-10-10T15:31:07.055787Z",
     "shell.execute_reply": "2022-10-10T15:31:07.054536Z"
    },
    "papermill": {
     "duration": 0.031559,
     "end_time": "2022-10-10T15:31:07.058672",
     "exception": false,
     "start_time": "2022-10-10T15:31:07.027113",
     "status": "completed"
    },
    "tags": []
   },
   "outputs": [
    {
     "data": {
      "text/plain": [
       "-1966820.1249256593"
      ]
     },
     "execution_count": 30,
     "metadata": {},
     "output_type": "execute_result"
    }
   ],
   "source": [
    "sp500['pnl'].sum()"
   ]
  }
 ],
 "metadata": {
  "kernelspec": {
   "display_name": "Python 3",
   "language": "python",
   "name": "python3"
  },
  "language_info": {
   "codemirror_mode": {
    "name": "ipython",
    "version": 3
   },
   "file_extension": ".py",
   "mimetype": "text/x-python",
   "name": "python",
   "nbconvert_exporter": "python",
   "pygments_lexer": "ipython3",
   "version": "3.7.12"
  },
  "papermill": {
   "default_parameters": {},
   "duration": 127.905826,
   "end_time": "2022-10-10T15:31:08.396836",
   "environment_variables": {},
   "exception": null,
   "input_path": "__notebook__.ipynb",
   "output_path": "__notebook__.ipynb",
   "parameters": {},
   "start_time": "2022-10-10T15:29:00.491010",
   "version": "2.3.4"
  }
 },
 "nbformat": 4,
 "nbformat_minor": 5
}
