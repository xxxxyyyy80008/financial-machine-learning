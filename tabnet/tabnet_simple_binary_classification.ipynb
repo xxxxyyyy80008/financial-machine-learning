{
 "cells": [
  {
   "cell_type": "markdown",
   "metadata": {},
   "source": [
    "### TabNet - simple binary classification\n",
    "\n",
    "reference: \n",
    "\n",
    "https://github.com/dreamquark-ai/tabnet/blob/develop/census_example.ipynb\n",
    "\n",
    "#### steps:\n",
    "1. download market data using yfinance: download S&P 500 ('^GSPC')\n",
    "1. calculate return 20-day max return (i.e. target in supervised learning problem):\n",
    "   - for each date (T):\n",
    "      - calculate the max price change in next 20 trading dates: price_change = (max{close price in T+1 to T+20} - {close price on T})/({close price on T})\n",
    "1. convert the 20-day max return into binary target\n",
    "1. engineer a few features\n",
    "    - lag21: previous 21 day target\n",
    "    - lag31: previous 31 day target\n",
    "    - lag41: previous 41 day target\n",
    "    - day price change: the difference between open and closing prices\n",
    "        - (Close - Open)/Open\n",
    "    - day max price change: the difference between high and low prices\n",
    "        - (High-Low)/Open\n",
    "    - one day close price change: day T close price versus day T-1 close price.\n",
    "        - 100*({Close on T} - {Close on T-1})/{Close on T-1}\n",
    "    - 10 day close price change: day T close price versus day T-10 close price.\n",
    "        - 100*({Close on T} - {Close on T-10})/{Close on T-10}\n",
    "    - 20 day close price change: day T close price versus day T-20 close price.\n",
    "        - 100*({Close on T} - {Close on T-20})/{Close on T-20}\n",
    "    - one day/10day/20day volume change\n",
    "\n",
    "1. feed data into tabnet classifier\n",
    "1. visualize the loss/performance in each epoch"
   ]
  },
  {
   "cell_type": "code",
   "execution_count": 1,
   "metadata": {},
   "outputs": [],
   "source": [
    "import numpy as np\n",
    "import pandas as pd\n",
    "\n",
    "from datetime import datetime, timedelta\n",
    "import yfinance as yf #to download stock price data"
   ]
  },
  {
   "cell_type": "code",
   "execution_count": 4,
   "metadata": {},
   "outputs": [],
   "source": [
    "from pytorch_tabnet.tab_model import TabNetClassifier\n",
    "\n",
    "import torch\n",
    "from sklearn.preprocessing import LabelEncoder\n",
    "from sklearn.metrics import accuracy_score\n",
    "from sklearn.model_selection import train_test_split\n",
    "import pandas as pd\n",
    "import numpy as np\n",
    "\n",
    "import os\n",
    "from pathlib import Path\n",
    "import shutil"
   ]
  },
  {
   "cell_type": "code",
   "execution_count": 5,
   "metadata": {},
   "outputs": [],
   "source": [
    "import plotly.express as px\n",
    "import plotly.graph_objects as go\n",
    "from plotly.subplots import make_subplots"
   ]
  },
  {
   "cell_type": "code",
   "execution_count": 7,
   "metadata": {},
   "outputs": [],
   "source": [
    "#initiate random seed\n",
    "import random\n",
    "def init_seed(random_seed):\n",
    "    \n",
    "    random.seed(random_seed)\n",
    "    os.environ['PYTHONHASHSEED'] = str(random_seed)\n",
    "    np.random.seed(random_seed)\n",
    "    torch.manual_seed(random_seed)\n",
    "    \n",
    "    if torch.cuda.is_available():\n",
    "        torch.cuda.manual_seed(random_seed)\n",
    "        torch.cuda.manual_seed_all(random_seed)\n",
    "        torch.backends.cudnn.deterministic = True\n",
    "        torch.backends.cudnn.benchmark = False\n",
    "        \n",
    "init_seed(5678)"
   ]
  },
  {
   "cell_type": "markdown",
   "metadata": {},
   "source": [
    "#### download S&P 500 price data"
   ]
  },
  {
   "cell_type": "code",
   "execution_count": 8,
   "metadata": {},
   "outputs": [
    {
     "name": "stdout",
     "output_type": "stream",
     "text": [
      "^GSPC (19721, 7) 1927-12-30 00:00:00\n"
     ]
    }
   ],
   "source": [
    "ticker = '^GSPC'\n",
    "cur_data = yf.Ticker(ticker)\n",
    "hist = cur_data.history(period=\"max\")\n",
    "print(ticker, hist.shape, hist.index.min())"
   ]
  },
  {
   "cell_type": "code",
   "execution_count": 9,
   "metadata": {},
   "outputs": [
    {
     "data": {
      "text/html": [
       "<div>\n",
       "<style scoped>\n",
       "    .dataframe tbody tr th:only-of-type {\n",
       "        vertical-align: middle;\n",
       "    }\n",
       "\n",
       "    .dataframe tbody tr th {\n",
       "        vertical-align: top;\n",
       "    }\n",
       "\n",
       "    .dataframe thead th {\n",
       "        text-align: right;\n",
       "    }\n",
       "</style>\n",
       "<table border=\"1\" class=\"dataframe\">\n",
       "  <thead>\n",
       "    <tr style=\"text-align: right;\">\n",
       "      <th></th>\n",
       "      <th>Open</th>\n",
       "      <th>High</th>\n",
       "      <th>Low</th>\n",
       "      <th>Close</th>\n",
       "      <th>Volume</th>\n",
       "      <th>Dividends</th>\n",
       "      <th>Stock Splits</th>\n",
       "    </tr>\n",
       "    <tr>\n",
       "      <th>Date</th>\n",
       "      <th></th>\n",
       "      <th></th>\n",
       "      <th></th>\n",
       "      <th></th>\n",
       "      <th></th>\n",
       "      <th></th>\n",
       "      <th></th>\n",
       "    </tr>\n",
       "  </thead>\n",
       "  <tbody>\n",
       "    <tr>\n",
       "      <th>2000-01-03</th>\n",
       "      <td>1469.250000</td>\n",
       "      <td>1478.000000</td>\n",
       "      <td>1438.359985</td>\n",
       "      <td>1455.219971</td>\n",
       "      <td>931800000</td>\n",
       "      <td>0</td>\n",
       "      <td>0</td>\n",
       "    </tr>\n",
       "    <tr>\n",
       "      <th>2000-01-04</th>\n",
       "      <td>1455.219971</td>\n",
       "      <td>1455.219971</td>\n",
       "      <td>1397.430054</td>\n",
       "      <td>1399.420044</td>\n",
       "      <td>1009000000</td>\n",
       "      <td>0</td>\n",
       "      <td>0</td>\n",
       "    </tr>\n",
       "    <tr>\n",
       "      <th>2000-01-05</th>\n",
       "      <td>1399.420044</td>\n",
       "      <td>1413.270020</td>\n",
       "      <td>1377.680054</td>\n",
       "      <td>1402.109985</td>\n",
       "      <td>1085500000</td>\n",
       "      <td>0</td>\n",
       "      <td>0</td>\n",
       "    </tr>\n",
       "    <tr>\n",
       "      <th>2000-01-06</th>\n",
       "      <td>1402.109985</td>\n",
       "      <td>1411.900024</td>\n",
       "      <td>1392.099976</td>\n",
       "      <td>1403.449951</td>\n",
       "      <td>1092300000</td>\n",
       "      <td>0</td>\n",
       "      <td>0</td>\n",
       "    </tr>\n",
       "    <tr>\n",
       "      <th>2000-01-07</th>\n",
       "      <td>1403.449951</td>\n",
       "      <td>1441.469971</td>\n",
       "      <td>1400.729980</td>\n",
       "      <td>1441.469971</td>\n",
       "      <td>1225200000</td>\n",
       "      <td>0</td>\n",
       "      <td>0</td>\n",
       "    </tr>\n",
       "  </tbody>\n",
       "</table>\n",
       "</div>"
      ],
      "text/plain": [
       "                   Open         High          Low        Close      Volume  \\\n",
       "Date                                                                         \n",
       "2000-01-03  1469.250000  1478.000000  1438.359985  1455.219971   931800000   \n",
       "2000-01-04  1455.219971  1455.219971  1397.430054  1399.420044  1009000000   \n",
       "2000-01-05  1399.420044  1413.270020  1377.680054  1402.109985  1085500000   \n",
       "2000-01-06  1402.109985  1411.900024  1392.099976  1403.449951  1092300000   \n",
       "2000-01-07  1403.449951  1441.469971  1400.729980  1441.469971  1225200000   \n",
       "\n",
       "            Dividends  Stock Splits  \n",
       "Date                                 \n",
       "2000-01-03          0             0  \n",
       "2000-01-04          0             0  \n",
       "2000-01-05          0             0  \n",
       "2000-01-06          0             0  \n",
       "2000-01-07          0             0  "
      ]
     },
     "execution_count": 9,
     "metadata": {},
     "output_type": "execute_result"
    }
   ],
   "source": [
    "df=hist[hist.index>='2000-01-01'].copy(deep=True)\n",
    "df.head()"
   ]
  },
  {
   "cell_type": "markdown",
   "metadata": {},
   "source": [
    "#### calcualte max return in next 20 trading days"
   ]
  },
  {
   "cell_type": "code",
   "execution_count": 10,
   "metadata": {},
   "outputs": [
    {
     "data": {
      "text/html": [
       "<div>\n",
       "<style scoped>\n",
       "    .dataframe tbody tr th:only-of-type {\n",
       "        vertical-align: middle;\n",
       "    }\n",
       "\n",
       "    .dataframe tbody tr th {\n",
       "        vertical-align: top;\n",
       "    }\n",
       "\n",
       "    .dataframe thead th {\n",
       "        text-align: right;\n",
       "    }\n",
       "</style>\n",
       "<table border=\"1\" class=\"dataframe\">\n",
       "  <thead>\n",
       "    <tr style=\"text-align: right;\">\n",
       "      <th></th>\n",
       "      <th>Open</th>\n",
       "      <th>High</th>\n",
       "      <th>Low</th>\n",
       "      <th>Close</th>\n",
       "      <th>Volume</th>\n",
       "      <th>Dividends</th>\n",
       "      <th>Stock Splits</th>\n",
       "    </tr>\n",
       "    <tr>\n",
       "      <th>Date</th>\n",
       "      <th></th>\n",
       "      <th></th>\n",
       "      <th></th>\n",
       "      <th></th>\n",
       "      <th></th>\n",
       "      <th></th>\n",
       "      <th></th>\n",
       "    </tr>\n",
       "  </thead>\n",
       "  <tbody>\n",
       "    <tr>\n",
       "      <th>2000-01-03</th>\n",
       "      <td>1469.250000</td>\n",
       "      <td>1478.000000</td>\n",
       "      <td>1438.359985</td>\n",
       "      <td>1455.219971</td>\n",
       "      <td>931800000</td>\n",
       "      <td>0</td>\n",
       "      <td>0</td>\n",
       "    </tr>\n",
       "    <tr>\n",
       "      <th>2000-01-04</th>\n",
       "      <td>1455.219971</td>\n",
       "      <td>1455.219971</td>\n",
       "      <td>1397.430054</td>\n",
       "      <td>1399.420044</td>\n",
       "      <td>1009000000</td>\n",
       "      <td>0</td>\n",
       "      <td>0</td>\n",
       "    </tr>\n",
       "    <tr>\n",
       "      <th>2000-01-05</th>\n",
       "      <td>1399.420044</td>\n",
       "      <td>1413.270020</td>\n",
       "      <td>1377.680054</td>\n",
       "      <td>1402.109985</td>\n",
       "      <td>1085500000</td>\n",
       "      <td>0</td>\n",
       "      <td>0</td>\n",
       "    </tr>\n",
       "  </tbody>\n",
       "</table>\n",
       "</div>"
      ],
      "text/plain": [
       "                   Open         High          Low        Close      Volume  \\\n",
       "Date                                                                         \n",
       "2000-01-03  1469.250000  1478.000000  1438.359985  1455.219971   931800000   \n",
       "2000-01-04  1455.219971  1455.219971  1397.430054  1399.420044  1009000000   \n",
       "2000-01-05  1399.420044  1413.270020  1377.680054  1402.109985  1085500000   \n",
       "\n",
       "            Dividends  Stock Splits  \n",
       "Date                                 \n",
       "2000-01-03          0             0  \n",
       "2000-01-04          0             0  \n",
       "2000-01-05          0             0  "
      ]
     },
     "execution_count": 10,
     "metadata": {},
     "output_type": "execute_result"
    }
   ],
   "source": [
    "#for each stock_id, get the max close in next 20 trading days\n",
    "price_col = 'Close'\n",
    "roll_len=20\n",
    "new_col = 'next_20day_max'\n",
    "target_list = []\n",
    "\n",
    "df.sort_index(ascending=True, inplace=True)\n",
    "df.head(3)"
   ]
  },
  {
   "cell_type": "code",
   "execution_count": 11,
   "metadata": {},
   "outputs": [],
   "source": [
    "df_next20dmax=df[[price_col]].shift(1).rolling(roll_len).max()\n",
    "df_next20dmax.columns=[new_col]\n",
    "df = df.merge(df_next20dmax, right_index=True, left_index=True, how='inner')\n",
    "\n",
    "df.dropna(how='any', inplace=True)\n",
    "df['target']= 100*(df[new_col]-df[price_col])/df[price_col]  "
   ]
  },
  {
   "cell_type": "code",
   "execution_count": 12,
   "metadata": {},
   "outputs": [
    {
     "data": {
      "text/plain": [
       "count    5479.000000\n",
       "mean        2.450868\n",
       "std         4.077580\n",
       "min        -3.743456\n",
       "25%         0.135604\n",
       "50%         1.130147\n",
       "75%         3.318523\n",
       "max        44.809803\n",
       "Name: target, dtype: float64"
      ]
     },
     "execution_count": 12,
     "metadata": {},
     "output_type": "execute_result"
    }
   ],
   "source": [
    "df['target'].describe()"
   ]
  },
  {
   "cell_type": "code",
   "execution_count": 13,
   "metadata": {},
   "outputs": [
    {
     "data": {
      "text/plain": [
       "<AxesSubplot:>"
      ]
     },
     "execution_count": 13,
     "metadata": {},
     "output_type": "execute_result"
    },
    {
     "data": {
      "image/png": "[encoded data removed]",
      "text/plain": [
       "<Figure size 432x288 with 1 Axes>"
      ]
     },
     "metadata": {
      "needs_background": "light"
     },
     "output_type": "display_data"
    }
   ],
   "source": [
    "df['target'].hist(bins=100)"
   ]
  },
  {
   "cell_type": "code",
   "execution_count": 14,
   "metadata": {},
   "outputs": [
    {
     "data": {
      "text/plain": [
       "0    4643\n",
       "1     836\n",
       "Name: binary_target, dtype: int64"
      ]
     },
     "execution_count": 14,
     "metadata": {},
     "output_type": "execute_result"
    }
   ],
   "source": [
    "df['binary_target'] = 0\n",
    "df.loc[df['target']>5, 'binary_target'] = 1\n",
    "df['binary_target'].value_counts()"
   ]
  },
  {
   "cell_type": "code",
   "execution_count": 15,
   "metadata": {},
   "outputs": [
    {
     "data": {
      "text/html": [
       "<div>\n",
       "<style scoped>\n",
       "    .dataframe tbody tr th:only-of-type {\n",
       "        vertical-align: middle;\n",
       "    }\n",
       "\n",
       "    .dataframe tbody tr th {\n",
       "        vertical-align: top;\n",
       "    }\n",
       "\n",
       "    .dataframe thead th {\n",
       "        text-align: right;\n",
       "    }\n",
       "</style>\n",
       "<table border=\"1\" class=\"dataframe\">\n",
       "  <thead>\n",
       "    <tr style=\"text-align: right;\">\n",
       "      <th></th>\n",
       "      <th>Open</th>\n",
       "      <th>High</th>\n",
       "      <th>Low</th>\n",
       "      <th>Close</th>\n",
       "      <th>Volume</th>\n",
       "      <th>Dividends</th>\n",
       "      <th>Stock Splits</th>\n",
       "      <th>next_20day_max</th>\n",
       "      <th>target</th>\n",
       "      <th>binary_target</th>\n",
       "    </tr>\n",
       "    <tr>\n",
       "      <th>Date</th>\n",
       "      <th></th>\n",
       "      <th></th>\n",
       "      <th></th>\n",
       "      <th></th>\n",
       "      <th></th>\n",
       "      <th></th>\n",
       "      <th></th>\n",
       "      <th></th>\n",
       "      <th></th>\n",
       "      <th></th>\n",
       "    </tr>\n",
       "  </thead>\n",
       "  <tbody>\n",
       "    <tr>\n",
       "      <th>2000-02-01</th>\n",
       "      <td>1394.459961</td>\n",
       "      <td>1412.489990</td>\n",
       "      <td>1384.790039</td>\n",
       "      <td>1409.280029</td>\n",
       "      <td>981000000</td>\n",
       "      <td>0</td>\n",
       "      <td>0</td>\n",
       "      <td>1465.150024</td>\n",
       "      <td>3.964435</td>\n",
       "      <td>0</td>\n",
       "    </tr>\n",
       "    <tr>\n",
       "      <th>2000-02-02</th>\n",
       "      <td>1409.280029</td>\n",
       "      <td>1420.609985</td>\n",
       "      <td>1403.489990</td>\n",
       "      <td>1409.119995</td>\n",
       "      <td>1038600000</td>\n",
       "      <td>0</td>\n",
       "      <td>0</td>\n",
       "      <td>1465.150024</td>\n",
       "      <td>3.976243</td>\n",
       "      <td>0</td>\n",
       "    </tr>\n",
       "    <tr>\n",
       "      <th>2000-02-03</th>\n",
       "      <td>1409.119995</td>\n",
       "      <td>1425.780029</td>\n",
       "      <td>1398.520020</td>\n",
       "      <td>1424.969971</td>\n",
       "      <td>1146500000</td>\n",
       "      <td>0</td>\n",
       "      <td>0</td>\n",
       "      <td>1465.150024</td>\n",
       "      <td>2.819712</td>\n",
       "      <td>0</td>\n",
       "    </tr>\n",
       "  </tbody>\n",
       "</table>\n",
       "</div>"
      ],
      "text/plain": [
       "                   Open         High          Low        Close      Volume  \\\n",
       "Date                                                                         \n",
       "2000-02-01  1394.459961  1412.489990  1384.790039  1409.280029   981000000   \n",
       "2000-02-02  1409.280029  1420.609985  1403.489990  1409.119995  1038600000   \n",
       "2000-02-03  1409.119995  1425.780029  1398.520020  1424.969971  1146500000   \n",
       "\n",
       "            Dividends  Stock Splits  next_20day_max    target  binary_target  \n",
       "Date                                                                          \n",
       "2000-02-01          0             0     1465.150024  3.964435              0  \n",
       "2000-02-02          0             0     1465.150024  3.976243              0  \n",
       "2000-02-03          0             0     1465.150024  2.819712              0  "
      ]
     },
     "execution_count": 15,
     "metadata": {},
     "output_type": "execute_result"
    }
   ],
   "source": [
    "df.head(3)"
   ]
  },
  {
   "cell_type": "markdown",
   "metadata": {},
   "source": [
    "#### create additional input features"
   ]
  },
  {
   "cell_type": "code",
   "execution_count": 16,
   "metadata": {},
   "outputs": [
    {
     "data": {
      "text/html": [
       "<div>\n",
       "<style scoped>\n",
       "    .dataframe tbody tr th:only-of-type {\n",
       "        vertical-align: middle;\n",
       "    }\n",
       "\n",
       "    .dataframe tbody tr th {\n",
       "        vertical-align: top;\n",
       "    }\n",
       "\n",
       "    .dataframe thead th {\n",
       "        text-align: right;\n",
       "    }\n",
       "</style>\n",
       "<table border=\"1\" class=\"dataframe\">\n",
       "  <thead>\n",
       "    <tr style=\"text-align: right;\">\n",
       "      <th></th>\n",
       "      <th>Open</th>\n",
       "      <th>High</th>\n",
       "      <th>Low</th>\n",
       "      <th>Close</th>\n",
       "      <th>Volume</th>\n",
       "      <th>Dividends</th>\n",
       "      <th>Stock Splits</th>\n",
       "      <th>next_20day_max</th>\n",
       "      <th>target</th>\n",
       "      <th>binary_target</th>\n",
       "      <th>...</th>\n",
       "      <th>lag41</th>\n",
       "      <th>open_close_diff</th>\n",
       "      <th>day_change</th>\n",
       "      <th>day_max_change</th>\n",
       "      <th>oneday_change</th>\n",
       "      <th>10day_change</th>\n",
       "      <th>20day_change</th>\n",
       "      <th>oneday_volchange</th>\n",
       "      <th>10day_volchange</th>\n",
       "      <th>20day_volchange</th>\n",
       "    </tr>\n",
       "    <tr>\n",
       "      <th>Date</th>\n",
       "      <th></th>\n",
       "      <th></th>\n",
       "      <th></th>\n",
       "      <th></th>\n",
       "      <th></th>\n",
       "      <th></th>\n",
       "      <th></th>\n",
       "      <th></th>\n",
       "      <th></th>\n",
       "      <th></th>\n",
       "      <th></th>\n",
       "      <th></th>\n",
       "      <th></th>\n",
       "      <th></th>\n",
       "      <th></th>\n",
       "      <th></th>\n",
       "      <th></th>\n",
       "      <th></th>\n",
       "      <th></th>\n",
       "      <th></th>\n",
       "      <th></th>\n",
       "    </tr>\n",
       "  </thead>\n",
       "  <tbody>\n",
       "    <tr>\n",
       "      <th>2000-02-01</th>\n",
       "      <td>1394.459961</td>\n",
       "      <td>1412.489990</td>\n",
       "      <td>1384.790039</td>\n",
       "      <td>1409.280029</td>\n",
       "      <td>981000000</td>\n",
       "      <td>0</td>\n",
       "      <td>0</td>\n",
       "      <td>1465.150024</td>\n",
       "      <td>3.964435</td>\n",
       "      <td>0</td>\n",
       "      <td>...</td>\n",
       "      <td>NaN</td>\n",
       "      <td>14.820068</td>\n",
       "      <td>1.06</td>\n",
       "      <td>1.99</td>\n",
       "      <td>0</td>\n",
       "      <td>NaN</td>\n",
       "      <td>NaN</td>\n",
       "      <td>0</td>\n",
       "      <td>NaN</td>\n",
       "      <td>NaN</td>\n",
       "    </tr>\n",
       "    <tr>\n",
       "      <th>2000-02-02</th>\n",
       "      <td>1409.280029</td>\n",
       "      <td>1420.609985</td>\n",
       "      <td>1403.489990</td>\n",
       "      <td>1409.119995</td>\n",
       "      <td>1038600000</td>\n",
       "      <td>0</td>\n",
       "      <td>0</td>\n",
       "      <td>1465.150024</td>\n",
       "      <td>3.976243</td>\n",
       "      <td>0</td>\n",
       "      <td>...</td>\n",
       "      <td>NaN</td>\n",
       "      <td>-0.160034</td>\n",
       "      <td>-0.01</td>\n",
       "      <td>1.21</td>\n",
       "      <td>0</td>\n",
       "      <td>NaN</td>\n",
       "      <td>NaN</td>\n",
       "      <td>1</td>\n",
       "      <td>NaN</td>\n",
       "      <td>NaN</td>\n",
       "    </tr>\n",
       "    <tr>\n",
       "      <th>2000-02-03</th>\n",
       "      <td>1409.119995</td>\n",
       "      <td>1425.780029</td>\n",
       "      <td>1398.520020</td>\n",
       "      <td>1424.969971</td>\n",
       "      <td>1146500000</td>\n",
       "      <td>0</td>\n",
       "      <td>0</td>\n",
       "      <td>1465.150024</td>\n",
       "      <td>2.819712</td>\n",
       "      <td>0</td>\n",
       "      <td>...</td>\n",
       "      <td>NaN</td>\n",
       "      <td>15.849976</td>\n",
       "      <td>1.12</td>\n",
       "      <td>1.93</td>\n",
       "      <td>1</td>\n",
       "      <td>NaN</td>\n",
       "      <td>NaN</td>\n",
       "      <td>1</td>\n",
       "      <td>NaN</td>\n",
       "      <td>NaN</td>\n",
       "    </tr>\n",
       "  </tbody>\n",
       "</table>\n",
       "<p>3 rows × 22 columns</p>\n",
       "</div>"
      ],
      "text/plain": [
       "                   Open         High          Low        Close      Volume  \\\n",
       "Date                                                                         \n",
       "2000-02-01  1394.459961  1412.489990  1384.790039  1409.280029   981000000   \n",
       "2000-02-02  1409.280029  1420.609985  1403.489990  1409.119995  1038600000   \n",
       "2000-02-03  1409.119995  1425.780029  1398.520020  1424.969971  1146500000   \n",
       "\n",
       "            Dividends  Stock Splits  next_20day_max    target  binary_target  \\\n",
       "Date                                                                           \n",
       "2000-02-01          0             0     1465.150024  3.964435              0   \n",
       "2000-02-02          0             0     1465.150024  3.976243              0   \n",
       "2000-02-03          0             0     1465.150024  2.819712              0   \n",
       "\n",
       "            ...  lag41  open_close_diff  day_change  day_max_change  \\\n",
       "Date        ...                                                       \n",
       "2000-02-01  ...    NaN        14.820068        1.06            1.99   \n",
       "2000-02-02  ...    NaN        -0.160034       -0.01            1.21   \n",
       "2000-02-03  ...    NaN        15.849976        1.12            1.93   \n",
       "\n",
       "            oneday_change  10day_change  20day_change  oneday_volchange  \\\n",
       "Date                                                                      \n",
       "2000-02-01              0           NaN           NaN                 0   \n",
       "2000-02-02              0           NaN           NaN                 1   \n",
       "2000-02-03              1           NaN           NaN                 1   \n",
       "\n",
       "            10day_volchange  20day_volchange  \n",
       "Date                                          \n",
       "2000-02-01              NaN              NaN  \n",
       "2000-02-02              NaN              NaN  \n",
       "2000-02-03              NaN              NaN  \n",
       "\n",
       "[3 rows x 22 columns]"
      ]
     },
     "execution_count": 16,
     "metadata": {},
     "output_type": "execute_result"
    }
   ],
   "source": [
    "df['lag21']=df['target'].shift(21)\n",
    "df['lag31']=df['target'].shift(31)\n",
    "df['lag41']=df['target'].shift(41)\n",
    "\n",
    "df['open_close_diff'] = df['Close'] - df['Open']\n",
    "df['day_change']=(100*df['open_close_diff']/df['Open']).round(2)\n",
    "df['day_max_change'] = (100*(df['High'] - df['Low'])/df['Open']).round(2)\n",
    "\n",
    "#create a binary feature: 1 day change\n",
    "#0: decrease; 1: increase\n",
    "df['oneday_change']=(df['Close'].diff()>0)+1-1\n",
    "\n",
    "df['10day_change']=df['Close'].diff(10)\n",
    "df['20day_change']=df['Close'].diff(20)\n",
    "\n",
    "\n",
    "df['oneday_volchange']=(df['Volume'].diff()>0)+1-1\n",
    "\n",
    "df['10day_volchange']=df['Volume'].diff(10)\n",
    "df['20day_volchange']=df['Volume'].diff(20)\n",
    "\n",
    "\n",
    "df.head(3)"
   ]
  },
  {
   "cell_type": "code",
   "execution_count": 17,
   "metadata": {},
   "outputs": [
    {
     "data": {
      "text/plain": [
       "<AxesSubplot:>"
      ]
     },
     "execution_count": 17,
     "metadata": {},
     "output_type": "execute_result"
    },
    {
     "data": {
      "image/png": "[encoded data removed]",
      "text/plain": [
       "<Figure size 432x288 with 1 Axes>"
      ]
     },
     "metadata": {
      "needs_background": "light"
     },
     "output_type": "display_data"
    }
   ],
   "source": [
    "df['day_change'].hist(bins=50)"
   ]
  },
  {
   "cell_type": "code",
   "execution_count": 18,
   "metadata": {},
   "outputs": [
    {
     "data": {
      "text/plain": [
       " 0    5095\n",
       "-1     210\n",
       " 1     174\n",
       "Name: day_change_cat, dtype: int64"
      ]
     },
     "execution_count": 18,
     "metadata": {},
     "output_type": "execute_result"
    }
   ],
   "source": [
    "#convert day_change into categorical feature\n",
    "#above 2- class 1; below -2 - class -1, in the middle - class0\n",
    "df['day_change_cat']=0\n",
    "df.loc[df['day_change']<=-2, 'day_change_cat']=-1\n",
    "df.loc[df['day_change']>=2, 'day_change_cat']=1\n",
    "df['day_change_cat'].value_counts()"
   ]
  },
  {
   "cell_type": "code",
   "execution_count": 19,
   "metadata": {},
   "outputs": [
    {
     "name": "stdout",
     "output_type": "stream",
     "text": [
      "(5438, 23) 2000-03-30 00:00:00\n"
     ]
    },
    {
     "data": {
      "text/html": [
       "<div>\n",
       "<style scoped>\n",
       "    .dataframe tbody tr th:only-of-type {\n",
       "        vertical-align: middle;\n",
       "    }\n",
       "\n",
       "    .dataframe tbody tr th {\n",
       "        vertical-align: top;\n",
       "    }\n",
       "\n",
       "    .dataframe thead th {\n",
       "        text-align: right;\n",
       "    }\n",
       "</style>\n",
       "<table border=\"1\" class=\"dataframe\">\n",
       "  <thead>\n",
       "    <tr style=\"text-align: right;\">\n",
       "      <th></th>\n",
       "      <th>Open</th>\n",
       "      <th>High</th>\n",
       "      <th>Low</th>\n",
       "      <th>Close</th>\n",
       "      <th>Volume</th>\n",
       "      <th>Dividends</th>\n",
       "      <th>Stock Splits</th>\n",
       "      <th>next_20day_max</th>\n",
       "      <th>target</th>\n",
       "      <th>binary_target</th>\n",
       "      <th>...</th>\n",
       "      <th>open_close_diff</th>\n",
       "      <th>day_change</th>\n",
       "      <th>day_max_change</th>\n",
       "      <th>oneday_change</th>\n",
       "      <th>10day_change</th>\n",
       "      <th>20day_change</th>\n",
       "      <th>oneday_volchange</th>\n",
       "      <th>10day_volchange</th>\n",
       "      <th>20day_volchange</th>\n",
       "      <th>day_change_cat</th>\n",
       "    </tr>\n",
       "    <tr>\n",
       "      <th>Date</th>\n",
       "      <th></th>\n",
       "      <th></th>\n",
       "      <th></th>\n",
       "      <th></th>\n",
       "      <th></th>\n",
       "      <th></th>\n",
       "      <th></th>\n",
       "      <th></th>\n",
       "      <th></th>\n",
       "      <th></th>\n",
       "      <th></th>\n",
       "      <th></th>\n",
       "      <th></th>\n",
       "      <th></th>\n",
       "      <th></th>\n",
       "      <th></th>\n",
       "      <th></th>\n",
       "      <th></th>\n",
       "      <th></th>\n",
       "      <th></th>\n",
       "      <th></th>\n",
       "    </tr>\n",
       "  </thead>\n",
       "  <tbody>\n",
       "    <tr>\n",
       "      <th>2000-03-30</th>\n",
       "      <td>1508.520020</td>\n",
       "      <td>1517.380005</td>\n",
       "      <td>1474.630005</td>\n",
       "      <td>1487.920044</td>\n",
       "      <td>1193400000</td>\n",
       "      <td>0</td>\n",
       "      <td>0</td>\n",
       "      <td>1527.459961</td>\n",
       "      <td>2.657395</td>\n",
       "      <td>0</td>\n",
       "      <td>...</td>\n",
       "      <td>-20.599976</td>\n",
       "      <td>-1.37</td>\n",
       "      <td>2.83</td>\n",
       "      <td>0</td>\n",
       "      <td>29.450073</td>\n",
       "      <td>106.160034</td>\n",
       "      <td>1</td>\n",
       "      <td>-288900000.0</td>\n",
       "      <td>-5200000.0</td>\n",
       "      <td>0</td>\n",
       "    </tr>\n",
       "    <tr>\n",
       "      <th>2000-03-31</th>\n",
       "      <td>1487.920044</td>\n",
       "      <td>1519.810059</td>\n",
       "      <td>1484.380005</td>\n",
       "      <td>1498.579956</td>\n",
       "      <td>1227400000</td>\n",
       "      <td>0</td>\n",
       "      <td>0</td>\n",
       "      <td>1527.459961</td>\n",
       "      <td>1.927158</td>\n",
       "      <td>0</td>\n",
       "      <td>...</td>\n",
       "      <td>10.659912</td>\n",
       "      <td>0.72</td>\n",
       "      <td>2.38</td>\n",
       "      <td>1</td>\n",
       "      <td>34.109985</td>\n",
       "      <td>89.409912</td>\n",
       "      <td>1</td>\n",
       "      <td>-67700000.0</td>\n",
       "      <td>77100000.0</td>\n",
       "      <td>0</td>\n",
       "    </tr>\n",
       "    <tr>\n",
       "      <th>2000-04-03</th>\n",
       "      <td>1498.579956</td>\n",
       "      <td>1507.189941</td>\n",
       "      <td>1486.959961</td>\n",
       "      <td>1505.969971</td>\n",
       "      <td>1021700000</td>\n",
       "      <td>0</td>\n",
       "      <td>0</td>\n",
       "      <td>1527.459961</td>\n",
       "      <td>1.426987</td>\n",
       "      <td>0</td>\n",
       "      <td>...</td>\n",
       "      <td>7.390015</td>\n",
       "      <td>0.49</td>\n",
       "      <td>1.35</td>\n",
       "      <td>1</td>\n",
       "      <td>49.339966</td>\n",
       "      <td>114.689941</td>\n",
       "      <td>0</td>\n",
       "      <td>100900000.0</td>\n",
       "      <td>-7300000.0</td>\n",
       "      <td>0</td>\n",
       "    </tr>\n",
       "  </tbody>\n",
       "</table>\n",
       "<p>3 rows × 23 columns</p>\n",
       "</div>"
      ],
      "text/plain": [
       "                   Open         High          Low        Close      Volume  \\\n",
       "Date                                                                         \n",
       "2000-03-30  1508.520020  1517.380005  1474.630005  1487.920044  1193400000   \n",
       "2000-03-31  1487.920044  1519.810059  1484.380005  1498.579956  1227400000   \n",
       "2000-04-03  1498.579956  1507.189941  1486.959961  1505.969971  1021700000   \n",
       "\n",
       "            Dividends  Stock Splits  next_20day_max    target  binary_target  \\\n",
       "Date                                                                           \n",
       "2000-03-30          0             0     1527.459961  2.657395              0   \n",
       "2000-03-31          0             0     1527.459961  1.927158              0   \n",
       "2000-04-03          0             0     1527.459961  1.426987              0   \n",
       "\n",
       "            ...  open_close_diff  day_change  day_max_change  oneday_change  \\\n",
       "Date        ...                                                               \n",
       "2000-03-30  ...       -20.599976       -1.37            2.83              0   \n",
       "2000-03-31  ...        10.659912        0.72            2.38              1   \n",
       "2000-04-03  ...         7.390015        0.49            1.35              1   \n",
       "\n",
       "            10day_change  20day_change  oneday_volchange  10day_volchange  \\\n",
       "Date                                                                        \n",
       "2000-03-30     29.450073    106.160034                 1     -288900000.0   \n",
       "2000-03-31     34.109985     89.409912                 1      -67700000.0   \n",
       "2000-04-03     49.339966    114.689941                 0      100900000.0   \n",
       "\n",
       "            20day_volchange  day_change_cat  \n",
       "Date                                         \n",
       "2000-03-30       -5200000.0               0  \n",
       "2000-03-31       77100000.0               0  \n",
       "2000-04-03       -7300000.0               0  \n",
       "\n",
       "[3 rows x 23 columns]"
      ]
     },
     "execution_count": 19,
     "metadata": {},
     "output_type": "execute_result"
    }
   ],
   "source": [
    "df.dropna(how='any', inplace=True)\n",
    "print(df.shape, df.index.min())\n",
    "df.head(3)"
   ]
  },
  {
   "cell_type": "markdown",
   "metadata": {},
   "source": [
    "# split data into simple training and testing subsets"
   ]
  },
  {
   "cell_type": "code",
   "execution_count": 20,
   "metadata": {},
   "outputs": [],
   "source": [
    "target='binary_target'\n",
    "bool_columns = ['oneday_change', 'oneday_volchange']"
   ]
  },
  {
   "cell_type": "code",
   "execution_count": 22,
   "metadata": {},
   "outputs": [],
   "source": [
    "df.dropna(how='any', inplace=True)\n",
    "train = df.copy(deep=True)"
   ]
  },
  {
   "cell_type": "markdown",
   "metadata": {},
   "source": [
    "# Simple preprocessing\n",
    "\n",
    "Label encode categorical features and fill empty cells."
   ]
  },
  {
   "cell_type": "code",
   "execution_count": 23,
   "metadata": {},
   "outputs": [
    {
     "name": "stdout",
     "output_type": "stream",
     "text": [
      "day_change_cat 3\n"
     ]
    },
    {
     "data": {
      "text/plain": [
       "{'day_change_cat': 3}"
      ]
     },
     "execution_count": 23,
     "metadata": {},
     "output_type": "execute_result"
    }
   ],
   "source": [
    "categorical_columns = ['day_change_cat']\n",
    "categorical_dims =  {}\n",
    "for col in categorical_columns:\n",
    "    print(col, train[col].nunique())\n",
    "    l_enc = LabelEncoder()\n",
    "    train[col] = l_enc.fit_transform(train[col].values)\n",
    "    \n",
    "    categorical_dims[col] = len(l_enc.classes_)\n",
    "\n",
    "categorical_dims"
   ]
  },
  {
   "cell_type": "code",
   "execution_count": 24,
   "metadata": {},
   "outputs": [
    {
     "data": {
      "text/plain": [
       "(['day_change_cat'], {'day_change_cat': 3})"
      ]
     },
     "execution_count": 24,
     "metadata": {},
     "output_type": "execute_result"
    }
   ],
   "source": [
    "categorical_columns, categorical_dims"
   ]
  },
  {
   "cell_type": "markdown",
   "metadata": {},
   "source": [
    "# Define categorical features for categorical embeddings"
   ]
  },
  {
   "cell_type": "code",
   "execution_count": 25,
   "metadata": {},
   "outputs": [],
   "source": [
    "unused_feat = ['Dividends', 'Stock Splits', 'next_20day_max',\n",
    "               'open_close_diff', 'day_change' ]\n",
    "\n",
    "features = [ col for col in train.columns if col not in unused_feat+[target]] \n",
    "\n",
    "cat_idxs = [ i for i, f in enumerate(features) if f in categorical_columns]\n",
    "\n",
    "cat_dims = [ categorical_dims[f] for i, f in enumerate(features) if f in categorical_columns]\n"
   ]
  },
  {
   "cell_type": "code",
   "execution_count": 26,
   "metadata": {},
   "outputs": [
    {
     "name": "stdout",
     "output_type": "stream",
     "text": [
      "['Open', 'High', 'Low', 'Close', 'Volume', 'target', 'lag21', 'lag31', 'lag41', 'day_max_change', 'oneday_change', '10day_change', '20day_change', 'oneday_volchange', '10day_volchange', '20day_volchange', 'day_change_cat']\n"
     ]
    }
   ],
   "source": [
    "print(features)"
   ]
  },
  {
   "cell_type": "code",
   "execution_count": 27,
   "metadata": {},
   "outputs": [
    {
     "data": {
      "text/plain": [
       "[16]"
      ]
     },
     "execution_count": 27,
     "metadata": {},
     "output_type": "execute_result"
    }
   ],
   "source": [
    "cat_idxs"
   ]
  },
  {
   "cell_type": "code",
   "execution_count": 28,
   "metadata": {},
   "outputs": [
    {
     "data": {
      "text/plain": [
       "[3]"
      ]
     },
     "execution_count": 28,
     "metadata": {},
     "output_type": "execute_result"
    }
   ],
   "source": [
    "cat_dims"
   ]
  },
  {
   "cell_type": "markdown",
   "metadata": {},
   "source": [
    "# Network parameters"
   ]
  },
  {
   "cell_type": "code",
   "execution_count": 29,
   "metadata": {},
   "outputs": [
    {
     "name": "stdout",
     "output_type": "stream",
     "text": [
      "Device used : cpu\n"
     ]
    }
   ],
   "source": [
    "clf = TabNetClassifier(\n",
    "    n_d=32, n_a=32, n_steps=5,\n",
    "    gamma=1.5, n_independent=2, n_shared=2,\n",
    "    cat_idxs=cat_idxs,\n",
    "    cat_dims=cat_dims,\n",
    "    cat_emb_dim=1,\n",
    "    lambda_sparse=1e-4, momentum=0.3, clip_value=2.,\n",
    "    optimizer_fn=torch.optim.Adam,\n",
    "    optimizer_params=dict(lr=2e-2),\n",
    "    scheduler_params = {\"gamma\": 0.95,\n",
    "                     \"step_size\": 20},\n",
    "    scheduler_fn=torch.optim.lr_scheduler.StepLR, epsilon=1e-15\n",
    ")"
   ]
  },
  {
   "cell_type": "code",
   "execution_count": 82,
   "metadata": {},
   "outputs": [
    {
     "name": "stdout",
     "output_type": "stream",
     "text": [
      "Device used : cpu\n"
     ]
    },
    {
     "data": {
      "text/plain": [
       "TabNetClassifier(n_d=8, n_a=8, n_steps=3, gamma=1.3, cat_idxs=[], cat_dims=[], cat_emb_dim=1, n_independent=2, n_shared=2, epsilon=1e-15, momentum=0.02, lambda_sparse=0.001, seed=0, clip_value=1, verbose=1, optimizer_fn=<class 'torch.optim.adam.Adam'>, optimizer_params={'lr': 0.02}, scheduler_fn=None, scheduler_params={}, mask_type='sparsemax', input_dim=None, output_dim=None, device_name='auto')"
      ]
     },
     "execution_count": 82,
     "metadata": {},
     "output_type": "execute_result"
    }
   ],
   "source": [
    "clf2 = TabNetClassifier()\n",
    "clf2"
   ]
  },
  {
   "cell_type": "markdown",
   "metadata": {},
   "source": [
    "# Training"
   ]
  },
  {
   "cell_type": "code",
   "execution_count": 30,
   "metadata": {},
   "outputs": [
    {
     "data": {
      "text/plain": [
       "(5438, 23)"
      ]
     },
     "execution_count": 30,
     "metadata": {},
     "output_type": "execute_result"
    }
   ],
   "source": [
    "train.shape"
   ]
  },
  {
   "cell_type": "code",
   "execution_count": 32,
   "metadata": {},
   "outputs": [],
   "source": [
    "X_train = train[features].values[:-1500,:]\n",
    "y_train = train[target].values[:-1500]\n",
    "\n",
    "X_valid = train[features].values[-1450:-650,:]\n",
    "y_valid = train[target].values[-1450:-650]\n",
    "\n",
    "X_test = train[features].values[-600:, ]\n",
    "y_test = train[target].values[-600:]"
   ]
  },
  {
   "cell_type": "code",
   "execution_count": 33,
   "metadata": {},
   "outputs": [
    {
     "data": {
      "text/plain": [
       "((3938, 17), (800, 17), (600, 17))"
      ]
     },
     "execution_count": 33,
     "metadata": {},
     "output_type": "execute_result"
    }
   ],
   "source": [
    "X_train.shape, X_valid.shape, X_test.shape"
   ]
  },
  {
   "cell_type": "code",
   "execution_count": 34,
   "metadata": {},
   "outputs": [],
   "source": [
    "max_epochs = 50"
   ]
  },
  {
   "cell_type": "code",
   "execution_count": 35,
   "metadata": {
    "scrolled": true
   },
   "outputs": [
    {
     "name": "stdout",
     "output_type": "stream",
     "text": [
      "epoch 0  | loss: 0.6085  | train_auc: 0.5946  | valid_auc: 0.55134 |  0:00:00s\n",
      "epoch 1  | loss: 0.25079 | train_auc: 0.72439 | valid_auc: 0.62383 |  0:00:01s\n",
      "epoch 2  | loss: 0.20278 | train_auc: 0.74185 | valid_auc: 0.67725 |  0:00:02s\n",
      "epoch 3  | loss: 0.16259 | train_auc: 0.77868 | valid_auc: 0.73814 |  0:00:03s\n",
      "epoch 4  | loss: 0.1455  | train_auc: 0.823   | valid_auc: 0.88184 |  0:00:03s\n",
      "epoch 5  | loss: 0.12248 | train_auc: 0.86481 | valid_auc: 0.80974 |  0:00:04s\n",
      "epoch 6  | loss: 0.12148 | train_auc: 0.87193 | valid_auc: 0.73214 |  0:00:05s\n",
      "epoch 7  | loss: 0.09959 | train_auc: 0.92461 | valid_auc: 0.855   |  0:00:05s\n",
      "epoch 8  | loss: 0.1053  | train_auc: 0.90809 | valid_auc: 0.90169 |  0:00:06s\n",
      "epoch 9  | loss: 0.10171 | train_auc: 0.92914 | valid_auc: 0.84598 |  0:00:07s\n",
      "epoch 10 | loss: 0.09968 | train_auc: 0.88691 | valid_auc: 0.92718 |  0:00:07s\n",
      "epoch 11 | loss: 0.07191 | train_auc: 0.88264 | valid_auc: 0.90451 |  0:00:08s\n",
      "epoch 12 | loss: 0.07202 | train_auc: 0.89332 | valid_auc: 0.91838 |  0:00:09s\n",
      "epoch 13 | loss: 0.06804 | train_auc: 0.9532  | valid_auc: 0.9241  |  0:00:10s\n",
      "epoch 14 | loss: 0.05959 | train_auc: 0.97328 | valid_auc: 0.9259  |  0:00:10s\n",
      "epoch 15 | loss: 0.05237 | train_auc: 0.9798  | valid_auc: 0.92061 |  0:00:11s\n",
      "epoch 16 | loss: 0.0527  | train_auc: 0.98212 | valid_auc: 0.95056 |  0:00:12s\n",
      "epoch 17 | loss: 0.04247 | train_auc: 0.98444 | valid_auc: 0.96823 |  0:00:12s\n",
      "epoch 18 | loss: 0.04855 | train_auc: 0.98537 | valid_auc: 0.91772 |  0:00:13s\n",
      "epoch 19 | loss: 0.05294 | train_auc: 0.98751 | valid_auc: 0.97337 |  0:00:14s\n",
      "epoch 20 | loss: 0.05513 | train_auc: 0.98903 | valid_auc: 0.95136 |  0:00:15s\n",
      "epoch 21 | loss: 0.05105 | train_auc: 0.98586 | valid_auc: 0.95794 |  0:00:15s\n",
      "epoch 22 | loss: 0.05698 | train_auc: 0.98526 | valid_auc: 0.95633 |  0:00:16s\n",
      "epoch 23 | loss: 0.04063 | train_auc: 0.98628 | valid_auc: 0.94675 |  0:00:17s\n",
      "epoch 24 | loss: 0.04106 | train_auc: 0.99017 | valid_auc: 0.96589 |  0:00:17s\n",
      "epoch 25 | loss: 0.04789 | train_auc: 0.99188 | valid_auc: 0.96874 |  0:00:18s\n",
      "epoch 26 | loss: 0.03689 | train_auc: 0.99214 | valid_auc: 0.95453 |  0:00:19s\n",
      "epoch 27 | loss: 0.04332 | train_auc: 0.99126 | valid_auc: 0.96753 |  0:00:20s\n",
      "epoch 28 | loss: 0.04386 | train_auc: 0.9947  | valid_auc: 0.98204 |  0:00:20s\n",
      "epoch 29 | loss: 0.03909 | train_auc: 0.99469 | valid_auc: 0.99208 |  0:00:21s\n",
      "epoch 30 | loss: 0.04479 | train_auc: 0.99478 | valid_auc: 0.9625  |  0:00:22s\n",
      "epoch 31 | loss: 0.04565 | train_auc: 0.99615 | valid_auc: 0.9235  |  0:00:22s\n",
      "epoch 32 | loss: 0.03824 | train_auc: 0.99425 | valid_auc: 0.98025 |  0:00:23s\n",
      "epoch 33 | loss: 0.02534 | train_auc: 0.99519 | valid_auc: 0.99611 |  0:00:24s\n",
      "epoch 34 | loss: 0.02821 | train_auc: 0.99603 | valid_auc: 0.99306 |  0:00:25s\n",
      "epoch 35 | loss: 0.03126 | train_auc: 0.99478 | valid_auc: 0.99035 |  0:00:25s\n",
      "epoch 36 | loss: 0.02935 | train_auc: 0.9962  | valid_auc: 0.9991  |  0:00:26s\n",
      "epoch 37 | loss: 0.04743 | train_auc: 0.99714 | valid_auc: 0.99868 |  0:00:27s\n",
      "epoch 38 | loss: 0.04275 | train_auc: 0.99752 | valid_auc: 0.99935 |  0:00:27s\n",
      "epoch 39 | loss: 0.03126 | train_auc: 0.99728 | valid_auc: 0.99664 |  0:00:28s\n",
      "epoch 40 | loss: 0.03763 | train_auc: 0.99903 | valid_auc: 0.99352 |  0:00:29s\n",
      "epoch 41 | loss: 0.05079 | train_auc: 0.999   | valid_auc: 0.9938  |  0:00:29s\n",
      "epoch 42 | loss: 0.03019 | train_auc: 0.99848 | valid_auc: 0.99407 |  0:00:30s\n",
      "epoch 43 | loss: 0.02432 | train_auc: 0.99936 | valid_auc: 0.98669 |  0:00:31s\n",
      "epoch 44 | loss: 0.04208 | train_auc: 0.99914 | valid_auc: 0.98569 |  0:00:32s\n",
      "epoch 45 | loss: 0.03639 | train_auc: 0.99944 | valid_auc: 0.98695 |  0:00:32s\n",
      "epoch 46 | loss: 0.03375 | train_auc: 0.99922 | valid_auc: 0.9797  |  0:00:33s\n",
      "epoch 47 | loss: 0.03105 | train_auc: 0.99863 | valid_auc: 0.98265 |  0:00:34s\n",
      "epoch 48 | loss: 0.02795 | train_auc: 0.99946 | valid_auc: 0.98412 |  0:00:34s\n",
      "epoch 49 | loss: 0.03275 | train_auc: 0.9993  | valid_auc: 0.98    |  0:00:35s\n",
      "Stop training because you reached max_epochs = 50 with best_epoch = 38 and best_valid_auc = 0.99935\n",
      "Best weights from best epoch are automatically used!\n"
     ]
    }
   ],
   "source": [
    "clf.fit(\n",
    "    X_train=X_train, y_train=y_train,\n",
    "    eval_set=[(X_train, y_train), (X_valid, y_valid)],\n",
    "    eval_name=['train', 'valid'],\n",
    "    max_epochs=max_epochs, patience=100,\n",
    "    batch_size=1024, virtual_batch_size=256\n",
    ") "
   ]
  },
  {
   "cell_type": "code",
   "execution_count": 84,
   "metadata": {},
   "outputs": [
    {
     "name": "stdout",
     "output_type": "stream",
     "text": [
      "epoch 0  | loss: 0.04553 | train_auc: 0.98935 | valid_auc: 0.99878 |  0:00:00s\n",
      "epoch 1  | loss: 0.04278 | train_auc: 0.98504 | valid_auc: 0.97955 |  0:00:00s\n",
      "epoch 2  | loss: 0.02881 | train_auc: 0.98514 | valid_auc: 0.99199 |  0:00:00s\n",
      "epoch 3  | loss: 0.04076 | train_auc: 0.98423 | valid_auc: 0.99251 |  0:00:01s\n",
      "epoch 4  | loss: 0.03414 | train_auc: 0.98811 | valid_auc: 0.99318 |  0:00:01s\n",
      "epoch 5  | loss: 0.03644 | train_auc: 0.99269 | valid_auc: 0.99511 |  0:00:01s\n",
      "epoch 6  | loss: 0.02725 | train_auc: 0.9956  | valid_auc: 0.99439 |  0:00:01s\n",
      "epoch 7  | loss: 0.0272  | train_auc: 0.99641 | valid_auc: 0.99542 |  0:00:02s\n",
      "epoch 8  | loss: 0.03312 | train_auc: 0.99755 | valid_auc: 0.99533 |  0:00:02s\n",
      "epoch 9  | loss: 0.03144 | train_auc: 0.9983  | valid_auc: 0.99587 |  0:00:02s\n",
      "epoch 10 | loss: 0.03173 | train_auc: 0.99891 | valid_auc: 0.9969  |  0:00:02s\n",
      "epoch 11 | loss: 0.02985 | train_auc: 0.99912 | valid_auc: 0.99827 |  0:00:03s\n",
      "epoch 12 | loss: 0.02482 | train_auc: 0.99905 | valid_auc: 0.99755 |  0:00:03s\n",
      "epoch 13 | loss: 0.02069 | train_auc: 0.99904 | valid_auc: 0.99718 |  0:00:03s\n",
      "epoch 14 | loss: 0.02969 | train_auc: 0.99907 | valid_auc: 0.99257 |  0:00:03s\n",
      "epoch 15 | loss: 0.02153 | train_auc: 0.999   | valid_auc: 0.98468 |  0:00:04s\n",
      "epoch 16 | loss: 0.01556 | train_auc: 0.99883 | valid_auc: 0.97252 |  0:00:04s\n",
      "epoch 17 | loss: 0.02614 | train_auc: 0.99903 | valid_auc: 0.94694 |  0:00:04s\n",
      "epoch 18 | loss: 0.02147 | train_auc: 0.99924 | valid_auc: 0.9476  |  0:00:05s\n",
      "epoch 19 | loss: 0.03949 | train_auc: 0.99965 | valid_auc: 0.97237 |  0:00:05s\n",
      "epoch 20 | loss: 0.03701 | train_auc: 0.99963 | valid_auc: 0.9469  |  0:00:05s\n",
      "epoch 21 | loss: 0.05568 | train_auc: 0.99977 | valid_auc: 0.93323 |  0:00:06s\n",
      "epoch 22 | loss: 0.02871 | train_auc: 0.99986 | valid_auc: 0.94559 |  0:00:06s\n",
      "epoch 23 | loss: 0.02558 | train_auc: 0.99988 | valid_auc: 1.0     |  0:00:06s\n",
      "epoch 24 | loss: 0.01854 | train_auc: 0.9999  | valid_auc: 1.0     |  0:00:06s\n",
      "epoch 25 | loss: 0.04108 | train_auc: 0.99992 | valid_auc: 1.0     |  0:00:07s\n",
      "epoch 26 | loss: 0.02608 | train_auc: 0.99991 | valid_auc: 1.0     |  0:00:07s\n",
      "epoch 27 | loss: 0.0196  | train_auc: 0.99992 | valid_auc: 1.0     |  0:00:07s\n",
      "epoch 28 | loss: 0.01689 | train_auc: 0.99994 | valid_auc: 1.0     |  0:00:07s\n",
      "epoch 29 | loss: 0.02221 | train_auc: 0.99993 | valid_auc: 1.0     |  0:00:08s\n",
      "epoch 30 | loss: 0.01336 | train_auc: 0.99988 | valid_auc: 1.0     |  0:00:08s\n",
      "epoch 31 | loss: 0.01686 | train_auc: 0.99994 | valid_auc: 1.0     |  0:00:08s\n",
      "epoch 32 | loss: 0.01983 | train_auc: 0.99994 | valid_auc: 1.0     |  0:00:09s\n",
      "epoch 33 | loss: 0.01631 | train_auc: 0.99997 | valid_auc: 0.99957 |  0:00:09s\n",
      "epoch 34 | loss: 0.02721 | train_auc: 0.99994 | valid_auc: 0.99994 |  0:00:09s\n",
      "epoch 35 | loss: 0.02679 | train_auc: 0.99985 | valid_auc: 1.0     |  0:00:09s\n",
      "epoch 36 | loss: 0.04    | train_auc: 0.99984 | valid_auc: 1.0     |  0:00:10s\n",
      "epoch 37 | loss: 0.03121 | train_auc: 0.99996 | valid_auc: 0.99984 |  0:00:10s\n",
      "epoch 38 | loss: 0.03083 | train_auc: 0.99997 | valid_auc: 0.99904 |  0:00:10s\n",
      "epoch 39 | loss: 0.02723 | train_auc: 0.99994 | valid_auc: 0.99827 |  0:00:10s\n",
      "epoch 40 | loss: 0.0429  | train_auc: 0.99991 | valid_auc: 0.99788 |  0:00:11s\n",
      "epoch 41 | loss: 0.02929 | train_auc: 0.99994 | valid_auc: 0.99902 |  0:00:11s\n",
      "epoch 42 | loss: 0.03338 | train_auc: 0.99997 | valid_auc: 1.0     |  0:00:11s\n",
      "epoch 43 | loss: 0.03398 | train_auc: 0.99998 | valid_auc: 1.0     |  0:00:11s\n",
      "epoch 44 | loss: 0.0267  | train_auc: 0.99995 | valid_auc: 0.9998  |  0:00:12s\n",
      "epoch 45 | loss: 0.02937 | train_auc: 0.99991 | valid_auc: 0.99996 |  0:00:12s\n",
      "epoch 46 | loss: 0.02838 | train_auc: 0.99996 | valid_auc: 1.0     |  0:00:12s\n",
      "epoch 47 | loss: 0.01855 | train_auc: 0.99998 | valid_auc: 1.0     |  0:00:13s\n",
      "epoch 48 | loss: 0.02415 | train_auc: 0.99998 | valid_auc: 1.0     |  0:00:13s\n",
      "epoch 49 | loss: 0.01826 | train_auc: 0.99998 | valid_auc: 1.0     |  0:00:13s\n",
      "Stop training because you reached max_epochs = 50 with best_epoch = 23 and best_valid_auc = 1.0\n",
      "Best weights from best epoch are automatically used!\n"
     ]
    }
   ],
   "source": [
    "clf2.fit(\n",
    "    X_train=X_train, y_train=y_train,\n",
    "    eval_set=[(X_train, y_train), (X_valid, y_valid)],\n",
    "    eval_name=['train', 'valid'],\n",
    "    max_epochs=max_epochs, patience=50,\n",
    "    batch_size=1024, virtual_batch_size=128\n",
    ") "
   ]
  },
  {
   "cell_type": "code",
   "execution_count": 91,
   "metadata": {},
   "outputs": [],
   "source": [
    "fig_list =[]"
   ]
  },
  {
   "cell_type": "code",
   "execution_count": 92,
   "metadata": {},
   "outputs": [],
   "source": [
    "# Create figure with secondary y-axis\n",
    "fig = make_subplots(specs=[[{\"secondary_y\": True}]])\n",
    "           \n",
    "x_vals=list(range(1, max_epochs+1))\n",
    "\n",
    "fig.add_trace(go.Scatter(\n",
    "                        name=\"loss\",\n",
    "                        mode=\"lines\", x=x_vals, y=clf.history['loss']),\n",
    "              secondary_y=False\n",
    "             )\n",
    "\n",
    "fig.add_trace(go.Scatter(\n",
    "                        name=\"train_auc\",\n",
    "                        mode=\"lines\", x=x_vals,y=clf.history['train_auc']),\n",
    "              secondary_y=True\n",
    "             )\n",
    "\n",
    "fig.add_trace(go.Scatter(\n",
    "                        name=\"valid_auc\",\n",
    "                        mode=\"lines\", x=x_vals,y=clf.history['valid_auc']),\n",
    "              secondary_y=True\n",
    "             )\n",
    "\n",
    "\n",
    "fig.update_layout(hovermode=\"x unified\", \n",
    "                  title_text=\"training data - loss and auc\"\n",
    "                 )\n",
    "\n",
    "\n",
    "\n",
    "#fig.show()\n",
    "\n",
    "fig_list.append(fig)"
   ]
  },
  {
   "cell_type": "code",
   "execution_count": 93,
   "metadata": {},
   "outputs": [],
   "source": [
    "# Create figure with secondary y-axis\n",
    "fig = make_subplots(specs=[[{\"secondary_y\": True}]])\n",
    "           \n",
    "x_vals=list(range(1, max_epochs+1))\n",
    "\n",
    "fig.add_trace(go.Scatter(\n",
    "                        name=\"loss\",\n",
    "                        mode=\"lines\", x=x_vals, y=clf2.history['loss']),\n",
    "              secondary_y=False\n",
    "             )\n",
    "\n",
    "fig.add_trace(go.Scatter(\n",
    "                        name=\"train_auc\",\n",
    "                        mode=\"lines\", x=x_vals,y=clf2.history['train_auc']),\n",
    "              secondary_y=True\n",
    "             )\n",
    "\n",
    "fig.add_trace(go.Scatter(\n",
    "                        name=\"valid_auc\",\n",
    "                        mode=\"lines\", x=x_vals,y=clf2.history['valid_auc']),\n",
    "              secondary_y=True\n",
    "             )\n",
    "\n",
    "\n",
    "fig.update_layout(hovermode=\"x unified\", \n",
    "                  title_text=\"training data - loss and auc - default hyperparameters\"\n",
    "                 )\n",
    "\n",
    "\n",
    "\n",
    "#fig.show()\n",
    "\n",
    "fig_list.append(fig)"
   ]
  },
  {
   "cell_type": "markdown",
   "metadata": {},
   "source": [
    "### Predictions\n"
   ]
  },
  {
   "cell_type": "code",
   "execution_count": 88,
   "metadata": {},
   "outputs": [
    {
     "name": "stdout",
     "output_type": "stream",
     "text": [
      "BEST VALID SCORE FOR  : 0.9993484148154181, 1.0\n",
      "FINAL TEST SCORE FOR  : 0.9733333333333334, 0.9483333333333334\n"
     ]
    }
   ],
   "source": [
    "\n",
    "preds_mapper = { idx : class_name for idx, class_name in enumerate(clf.classes_)}\n",
    "preds = clf.predict_proba(X_test)\n",
    "y_pred = np.vectorize(preds_mapper.get)(np.argmax(preds, axis=1))\n",
    "test_acc = accuracy_score(y_pred=y_pred, y_true=y_test)\n",
    "\n",
    "preds_mapper2 = { idx : class_name for idx, class_name in enumerate(clf2.classes_)}\n",
    "preds2 = clf2.predict_proba(X_test)\n",
    "y_pred2 = np.vectorize(preds_mapper2.get)(np.argmax(preds2, axis=1))\n",
    "test_acc2 = accuracy_score(y_pred=y_pred2, y_true=y_test)\n",
    "\n",
    "\n",
    "print(f\"BEST VALID SCORE FOR  : {clf.best_cost}, {clf2.best_cost}\")\n",
    "print(f\"FINAL TEST SCORE FOR  : {test_acc}, {test_acc2}\")"
   ]
  },
  {
   "cell_type": "code",
   "execution_count": 89,
   "metadata": {},
   "outputs": [
    {
     "name": "stdout",
     "output_type": "stream",
     "text": [
      "FINAL TEST SCORE FOR  : 0.9733333333333334, 0.9483333333333334\n"
     ]
    }
   ],
   "source": [
    "y_pred = clf.predict(X_test)\n",
    "test_acc = accuracy_score(y_pred=y_pred, y_true=y_test)\n",
    "\n",
    "\n",
    "y_pred2 = clf2.predict(X_test)\n",
    "test_acc2 = accuracy_score(y_pred=y_pred2, y_true=y_test)\n",
    "print(f\"FINAL TEST SCORE FOR  : {test_acc}, {test_acc2}\")"
   ]
  },
  {
   "cell_type": "markdown",
   "metadata": {},
   "source": [
    "# Save and load Model"
   ]
  },
  {
   "cell_type": "code",
   "execution_count": 44,
   "metadata": {},
   "outputs": [
    {
     "name": "stdout",
     "output_type": "stream",
     "text": [
      "Successfully saved model at binary_model.zip\n"
     ]
    }
   ],
   "source": [
    "# save state dict\n",
    "saved_filename = clf.save_model('binary_model')"
   ]
  },
  {
   "cell_type": "code",
   "execution_count": 45,
   "metadata": {},
   "outputs": [
    {
     "name": "stdout",
     "output_type": "stream",
     "text": [
      "Device used : cpu\n",
      "Device used : cpu\n"
     ]
    }
   ],
   "source": [
    "# define new model and load save parameters\n",
    "loaded_clf = TabNetClassifier()\n",
    "loaded_clf.load_model(saved_filename)"
   ]
  },
  {
   "cell_type": "code",
   "execution_count": 46,
   "metadata": {},
   "outputs": [
    {
     "name": "stdout",
     "output_type": "stream",
     "text": [
      "FINAL TEST SCORE FOR  : 0.9733333333333334\n"
     ]
    }
   ],
   "source": [
    "loaded_preds = loaded_clf.predict_proba(X_test)\n",
    "loaded_y_pred = np.vectorize(preds_mapper.get)(np.argmax(loaded_preds, axis=1))\n",
    "\n",
    "loaded_test_acc = accuracy_score(y_pred=loaded_y_pred, y_true=y_test)\n",
    "\n",
    "print(f\"FINAL TEST SCORE FOR  : {loaded_test_acc}\")"
   ]
  },
  {
   "cell_type": "code",
   "execution_count": 47,
   "metadata": {},
   "outputs": [
    {
     "data": {
      "text/plain": [
       "True"
      ]
     },
     "execution_count": 47,
     "metadata": {},
     "output_type": "execute_result"
    }
   ],
   "source": [
    "test_acc == loaded_test_acc"
   ]
  },
  {
   "cell_type": "markdown",
   "metadata": {},
   "source": [
    "# Global explainability : feat importance summing to 1"
   ]
  },
  {
   "cell_type": "code",
   "execution_count": 48,
   "metadata": {},
   "outputs": [
    {
     "data": {
      "text/plain": [
       "array([0.01141833, 0.10568571, 0.01697402, 0.0599244 , 0.0296432 ,\n",
       "       0.2647944 , 0.01209274, 0.03980985, 0.02885467, 0.00494661,\n",
       "       0.04379065, 0.04271051, 0.20845756, 0.00243536, 0.0882974 ,\n",
       "       0.02919195, 0.01097264])"
      ]
     },
     "execution_count": 48,
     "metadata": {},
     "output_type": "execute_result"
    }
   ],
   "source": [
    "clf.feature_importances_"
   ]
  },
  {
   "cell_type": "markdown",
   "metadata": {},
   "source": [
    "# Local explainability and masks"
   ]
  },
  {
   "cell_type": "code",
   "execution_count": 77,
   "metadata": {},
   "outputs": [],
   "source": [
    "from matplotlib import pyplot as plt"
   ]
  },
  {
   "cell_type": "code",
   "execution_count": 78,
   "metadata": {},
   "outputs": [],
   "source": [
    "explain_matrix, masks = clf.explain(X_test)"
   ]
  },
  {
   "cell_type": "code",
   "execution_count": 79,
   "metadata": {},
   "outputs": [
    {
     "data": {
      "image/png": "[encoded data removed]",
      "text/plain": [
       "<Figure size 1440x1440 with 5 Axes>"
      ]
     },
     "metadata": {
      "needs_background": "light"
     },
     "output_type": "display_data"
    }
   ],
   "source": [
    "fig, axs = plt.subplots(1, 5, figsize=(20,20))\n",
    "\n",
    "for i in range(5):\n",
    "    axs[i].imshow(masks[i][:50])\n",
    "    axs[i].set_title(f\"mask {i}\")"
   ]
  },
  {
   "cell_type": "markdown",
   "metadata": {},
   "source": [
    "#### Export graphs to a html file"
   ]
  },
  {
   "cell_type": "code",
   "execution_count": 94,
   "metadata": {},
   "outputs": [],
   "source": [
    "fig_path = r'html/tabnet_binary.html'\n",
    "fig_list[0].write_html(fig_path)\n",
    "\n",
    "\n",
    "with open(fig_path, 'a') as f:\n",
    "    for fig_i in fig_list[1:]:\n",
    "        f.write(fig_i.to_html(full_html=False, include_plotlyjs='cdn'))"
   ]
  }
 ],
 "metadata": {
  "kernelspec": {
   "display_name": "Python 3",
   "language": "python",
   "name": "python3"
  },
  "language_info": {
   "codemirror_mode": {
    "name": "ipython",
    "version": 3
   },
   "file_extension": ".py",
   "mimetype": "text/x-python",
   "name": "python",
   "nbconvert_exporter": "python",
   "pygments_lexer": "ipython3",
   "version": "3.6.8"
  },
  "toc": {
   "base_numbering": 1,
   "nav_menu": {},
   "number_sections": true,
   "sideBar": true,
   "skip_h1_title": false,
   "title_cell": "Table of Contents",
   "title_sidebar": "Contents",
   "toc_cell": false,
   "toc_position": {},
   "toc_section_display": true,
   "toc_window_display": false
  }
 },
 "nbformat": 4,
 "nbformat_minor": 2
}
