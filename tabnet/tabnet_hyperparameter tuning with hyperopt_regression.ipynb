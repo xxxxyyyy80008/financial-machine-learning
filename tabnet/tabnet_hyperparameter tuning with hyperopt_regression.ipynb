{
 "cells": [
  {
   "cell_type": "markdown",
   "metadata": {},
   "source": [
    "### Tabnet hyperparamter tuning with hyperopt - regression\n",
    "\n",
    "reference: \n",
    "\n",
    "- https://github.com/dreamquark-ai/tabnet/blob/develop/regression_example.ipynb\n",
    "- https://arxiv.org/pdf/1908.07442.pdf\n",
    "- http://hyperopt.github.io/hyperopt/\n",
    "- \n",
    "\n",
    "#### steps:\n",
    "1. download market data using yfinance: download S&P 500 ('^GSPC')\n",
    "1. create target variable: calculate return 20-day max return (i.e. target in supervised learning problem).\n",
    "   - for each date (T):\n",
    "      - calculate the max price change in next 20 trading dates: price_change = (max{close price in T+1 to T+20} - {close price on T})/({close price on T})\n",
    "1. feature engineering: engineer a few features\n",
    "    - lag21: previous 21 day target\n",
    "    - lag31: previous 31 day target\n",
    "    - lag41: previous 41 day target\n",
    "    - day price change: the difference between open and closing prices\n",
    "        - (Close - Open)/Open\n",
    "    - day max price change: the difference between high and low prices\n",
    "        - (High-Low)/Open\n",
    "    - one day close price change: day T close price versus day T-1 close price.\n",
    "        - 100*({Close on T} - {Close on T-1})/{Close on T-1}\n",
    "    - 10 day close price change: day T close price versus day T-10 close price.\n",
    "        - 100*({Close on T} - {Close on T-10})/{Close on T-10}\n",
    "    - 20 day close price change: day T close price versus day T-20 close price.\n",
    "        - 100*({Close on T} - {Close on T-20})/{Close on T-20}\n",
    "    - one day/10day/20day volume change\n",
    "1. processing data and split data into training and testing subsets\n",
    "1. setup the hyperparamter search space. \n",
    "  - the search space is defined based on 1) hyperparamters defined on [this page](https://dreamquark-ai.github.io/tabnet/generated_docs/README.html#model-parameters) and the search space described in TabNet original [paper](https://arxiv.org/pdf/1908.07442.pdf)\n",
    "  - I also added max number of epoches to search space, and I am not using any early stop (the early stop parametr in TabNet is `patience` - Number of consecutive epochs without improvement before performing early stopping.\n",
    "1. use hyperopt to run the tuning process\n",
    "  - I use tpe algorithm  - it is a Baysian search process with certain number of initial random trials.\n",
    "  - here is a full walkthrough of hyperopt [pdf](https://iopscience.iop.org/article/10.1088/1749-4699/8/1/014008)\n",
    "1. save trials and results \n",
    "- dump trials into a pickle file. this file can be helpful if I later want to run more trials of hyperparamter tuning.  "
   ]
  },
  {
   "cell_type": "code",
   "execution_count": 1,
   "metadata": {},
   "outputs": [],
   "source": [
    "import numpy as np\n",
    "import pandas as pd\n",
    "\n",
    "from datetime import datetime, timedelta\n",
    "import yfinance as yf #to download stock price data"
   ]
  },
  {
   "cell_type": "code",
   "execution_count": 2,
   "metadata": {},
   "outputs": [],
   "source": [
    "from pytorch_tabnet.tab_model import TabNetClassifier\n",
    "\n",
    "import torch\n",
    "from sklearn.preprocessing import LabelEncoder\n",
    "from sklearn.metrics import accuracy_score\n",
    "import pandas as pd\n",
    "import numpy as np\n",
    "\n",
    "\n",
    "import os\n",
    "from pathlib import Path\n",
    "import shutil"
   ]
  },
  {
   "cell_type": "code",
   "execution_count": 4,
   "metadata": {},
   "outputs": [],
   "source": [
    "#initiate random seed\n",
    "rand_seed=568\n",
    "import random\n",
    "def init_seed(random_seed):\n",
    "    \n",
    "    random.seed(random_seed)\n",
    "    os.environ['PYTHONHASHSEED'] = str(random_seed)\n",
    "    np.random.seed(random_seed)\n",
    "    torch.manual_seed(random_seed)\n",
    "    \n",
    "    if torch.cuda.is_available():\n",
    "        torch.cuda.manual_seed(random_seed)\n",
    "        torch.cuda.manual_seed_all(random_seed)\n",
    "        torch.backends.cudnn.deterministic = True\n",
    "        torch.backends.cudnn.benchmark = False\n",
    "        \n",
    "init_seed(rand_seed)"
   ]
  },
  {
   "cell_type": "code",
   "execution_count": 5,
   "metadata": {},
   "outputs": [],
   "source": [
    "import plotly.express as px\n",
    "import plotly.graph_objects as go\n",
    "from plotly.subplots import make_subplots"
   ]
  },
  {
   "cell_type": "markdown",
   "metadata": {},
   "source": [
    "#### download S&P 500 price data"
   ]
  },
  {
   "cell_type": "code",
   "execution_count": 6,
   "metadata": {},
   "outputs": [
    {
     "name": "stdout",
     "output_type": "stream",
     "text": [
      "^GSPC (19721, 7) 1927-12-30 00:00:00\n"
     ]
    }
   ],
   "source": [
    "ticker = '^GSPC'\n",
    "cur_data = yf.Ticker(ticker)\n",
    "hist = cur_data.history(period=\"max\")\n",
    "print(ticker, hist.shape, hist.index.min())"
   ]
  },
  {
   "cell_type": "code",
   "execution_count": 7,
   "metadata": {},
   "outputs": [
    {
     "data": {
      "text/html": [
       "<div>\n",
       "<style scoped>\n",
       "    .dataframe tbody tr th:only-of-type {\n",
       "        vertical-align: middle;\n",
       "    }\n",
       "\n",
       "    .dataframe tbody tr th {\n",
       "        vertical-align: top;\n",
       "    }\n",
       "\n",
       "    .dataframe thead th {\n",
       "        text-align: right;\n",
       "    }\n",
       "</style>\n",
       "<table border=\"1\" class=\"dataframe\">\n",
       "  <thead>\n",
       "    <tr style=\"text-align: right;\">\n",
       "      <th></th>\n",
       "      <th>Open</th>\n",
       "      <th>High</th>\n",
       "      <th>Low</th>\n",
       "      <th>Close</th>\n",
       "      <th>Volume</th>\n",
       "      <th>Dividends</th>\n",
       "      <th>Stock Splits</th>\n",
       "    </tr>\n",
       "    <tr>\n",
       "      <th>Date</th>\n",
       "      <th></th>\n",
       "      <th></th>\n",
       "      <th></th>\n",
       "      <th></th>\n",
       "      <th></th>\n",
       "      <th></th>\n",
       "      <th></th>\n",
       "    </tr>\n",
       "  </thead>\n",
       "  <tbody>\n",
       "    <tr>\n",
       "      <th>2000-01-03</th>\n",
       "      <td>1469.250000</td>\n",
       "      <td>1478.000000</td>\n",
       "      <td>1438.359985</td>\n",
       "      <td>1455.219971</td>\n",
       "      <td>931800000</td>\n",
       "      <td>0</td>\n",
       "      <td>0</td>\n",
       "    </tr>\n",
       "    <tr>\n",
       "      <th>2000-01-04</th>\n",
       "      <td>1455.219971</td>\n",
       "      <td>1455.219971</td>\n",
       "      <td>1397.430054</td>\n",
       "      <td>1399.420044</td>\n",
       "      <td>1009000000</td>\n",
       "      <td>0</td>\n",
       "      <td>0</td>\n",
       "    </tr>\n",
       "    <tr>\n",
       "      <th>2000-01-05</th>\n",
       "      <td>1399.420044</td>\n",
       "      <td>1413.270020</td>\n",
       "      <td>1377.680054</td>\n",
       "      <td>1402.109985</td>\n",
       "      <td>1085500000</td>\n",
       "      <td>0</td>\n",
       "      <td>0</td>\n",
       "    </tr>\n",
       "    <tr>\n",
       "      <th>2000-01-06</th>\n",
       "      <td>1402.109985</td>\n",
       "      <td>1411.900024</td>\n",
       "      <td>1392.099976</td>\n",
       "      <td>1403.449951</td>\n",
       "      <td>1092300000</td>\n",
       "      <td>0</td>\n",
       "      <td>0</td>\n",
       "    </tr>\n",
       "    <tr>\n",
       "      <th>2000-01-07</th>\n",
       "      <td>1403.449951</td>\n",
       "      <td>1441.469971</td>\n",
       "      <td>1400.729980</td>\n",
       "      <td>1441.469971</td>\n",
       "      <td>1225200000</td>\n",
       "      <td>0</td>\n",
       "      <td>0</td>\n",
       "    </tr>\n",
       "  </tbody>\n",
       "</table>\n",
       "</div>"
      ],
      "text/plain": [
       "                   Open         High          Low        Close      Volume  \\\n",
       "Date                                                                         \n",
       "2000-01-03  1469.250000  1478.000000  1438.359985  1455.219971   931800000   \n",
       "2000-01-04  1455.219971  1455.219971  1397.430054  1399.420044  1009000000   \n",
       "2000-01-05  1399.420044  1413.270020  1377.680054  1402.109985  1085500000   \n",
       "2000-01-06  1402.109985  1411.900024  1392.099976  1403.449951  1092300000   \n",
       "2000-01-07  1403.449951  1441.469971  1400.729980  1441.469971  1225200000   \n",
       "\n",
       "            Dividends  Stock Splits  \n",
       "Date                                 \n",
       "2000-01-03          0             0  \n",
       "2000-01-04          0             0  \n",
       "2000-01-05          0             0  \n",
       "2000-01-06          0             0  \n",
       "2000-01-07          0             0  "
      ]
     },
     "execution_count": 7,
     "metadata": {},
     "output_type": "execute_result"
    }
   ],
   "source": [
    "df=hist[hist.index>='2000-01-01'].copy(deep=True)\n",
    "df.head()"
   ]
  },
  {
   "cell_type": "markdown",
   "metadata": {},
   "source": [
    "#### create the target variable: calcualte max return in next 20 trading days"
   ]
  },
  {
   "cell_type": "code",
   "execution_count": 8,
   "metadata": {},
   "outputs": [
    {
     "data": {
      "text/html": [
       "<div>\n",
       "<style scoped>\n",
       "    .dataframe tbody tr th:only-of-type {\n",
       "        vertical-align: middle;\n",
       "    }\n",
       "\n",
       "    .dataframe tbody tr th {\n",
       "        vertical-align: top;\n",
       "    }\n",
       "\n",
       "    .dataframe thead th {\n",
       "        text-align: right;\n",
       "    }\n",
       "</style>\n",
       "<table border=\"1\" class=\"dataframe\">\n",
       "  <thead>\n",
       "    <tr style=\"text-align: right;\">\n",
       "      <th></th>\n",
       "      <th>Open</th>\n",
       "      <th>High</th>\n",
       "      <th>Low</th>\n",
       "      <th>Close</th>\n",
       "      <th>Volume</th>\n",
       "      <th>Dividends</th>\n",
       "      <th>Stock Splits</th>\n",
       "    </tr>\n",
       "    <tr>\n",
       "      <th>Date</th>\n",
       "      <th></th>\n",
       "      <th></th>\n",
       "      <th></th>\n",
       "      <th></th>\n",
       "      <th></th>\n",
       "      <th></th>\n",
       "      <th></th>\n",
       "    </tr>\n",
       "  </thead>\n",
       "  <tbody>\n",
       "    <tr>\n",
       "      <th>2000-01-03</th>\n",
       "      <td>1469.250000</td>\n",
       "      <td>1478.000000</td>\n",
       "      <td>1438.359985</td>\n",
       "      <td>1455.219971</td>\n",
       "      <td>931800000</td>\n",
       "      <td>0</td>\n",
       "      <td>0</td>\n",
       "    </tr>\n",
       "    <tr>\n",
       "      <th>2000-01-04</th>\n",
       "      <td>1455.219971</td>\n",
       "      <td>1455.219971</td>\n",
       "      <td>1397.430054</td>\n",
       "      <td>1399.420044</td>\n",
       "      <td>1009000000</td>\n",
       "      <td>0</td>\n",
       "      <td>0</td>\n",
       "    </tr>\n",
       "    <tr>\n",
       "      <th>2000-01-05</th>\n",
       "      <td>1399.420044</td>\n",
       "      <td>1413.270020</td>\n",
       "      <td>1377.680054</td>\n",
       "      <td>1402.109985</td>\n",
       "      <td>1085500000</td>\n",
       "      <td>0</td>\n",
       "      <td>0</td>\n",
       "    </tr>\n",
       "  </tbody>\n",
       "</table>\n",
       "</div>"
      ],
      "text/plain": [
       "                   Open         High          Low        Close      Volume  \\\n",
       "Date                                                                         \n",
       "2000-01-03  1469.250000  1478.000000  1438.359985  1455.219971   931800000   \n",
       "2000-01-04  1455.219971  1455.219971  1397.430054  1399.420044  1009000000   \n",
       "2000-01-05  1399.420044  1413.270020  1377.680054  1402.109985  1085500000   \n",
       "\n",
       "            Dividends  Stock Splits  \n",
       "Date                                 \n",
       "2000-01-03          0             0  \n",
       "2000-01-04          0             0  \n",
       "2000-01-05          0             0  "
      ]
     },
     "execution_count": 8,
     "metadata": {},
     "output_type": "execute_result"
    }
   ],
   "source": [
    "#for each stock_id, get the max close in next 20 trading days\n",
    "price_col = 'Close'\n",
    "roll_len=20\n",
    "new_col = 'next_20day_max'\n",
    "target_list = []\n",
    "\n",
    "df.sort_index(ascending=True, inplace=True)\n",
    "df.head(3)"
   ]
  },
  {
   "cell_type": "code",
   "execution_count": 9,
   "metadata": {},
   "outputs": [],
   "source": [
    "df_next20dmax=df[[price_col]].shift(1).rolling(roll_len).max()\n",
    "df_next20dmax.columns=[new_col]\n",
    "df = df.merge(df_next20dmax, right_index=True, left_index=True, how='inner')\n",
    "\n",
    "df.dropna(how='any', inplace=True)\n",
    "df['target']= 100*(df[new_col]-df[price_col])/df[price_col]  "
   ]
  },
  {
   "cell_type": "code",
   "execution_count": 10,
   "metadata": {},
   "outputs": [
    {
     "data": {
      "text/plain": [
       "count    5479.000000\n",
       "mean        2.450897\n",
       "std         4.077561\n",
       "min        -3.743456\n",
       "25%         0.135604\n",
       "50%         1.130147\n",
       "75%         3.318523\n",
       "max        44.809803\n",
       "Name: target, dtype: float64"
      ]
     },
     "execution_count": 10,
     "metadata": {},
     "output_type": "execute_result"
    }
   ],
   "source": [
    "df['target'].describe()"
   ]
  },
  {
   "cell_type": "code",
   "execution_count": 11,
   "metadata": {},
   "outputs": [
    {
     "data": {
      "text/plain": [
       "<AxesSubplot:>"
      ]
     },
     "execution_count": 11,
     "metadata": {},
     "output_type": "execute_result"
    },
    {
     "data": {
      "image/png": "[encoded data removed]",
      "text/plain": [
       "<Figure size 432x288 with 1 Axes>"
      ]
     },
     "metadata": {
      "needs_background": "light"
     },
     "output_type": "display_data"
    }
   ],
   "source": [
    "df['target'].hist(bins=100)"
   ]
  },
  {
   "cell_type": "markdown",
   "metadata": {},
   "source": [
    "#### engineer features\n",
    "\n",
    "- lag21: previous 21 day target\n",
    "- lag31: previous 31 day target\n",
    "- lag41: previous 41 day target\n",
    "- day price change: the difference between open and closing prices\n",
    "    - (Close - Open)/Open\n",
    "- day max price change: the difference between high and low prices\n",
    "    - (High-Low)/Open\n",
    "- one day close price change: day T close price versus day T-1 close price.\n",
    "    - 100*({Close on T} - {Close on T-1})/{Close on T-1}\n",
    "- 10 day close price change: day T close price versus day T-10 close price.\n",
    "    - 100*({Close on T} - {Close on T-10})/{Close on T-10}\n",
    "- 20 day close price change: day T close price versus day T-20 close price.\n",
    "    - 100*({Close on T} - {Close on T-20})/{Close on T-20}\n",
    "- one day/10day/20day volume change\n",
    "    \n",
    "  \n"
   ]
  },
  {
   "cell_type": "code",
   "execution_count": 12,
   "metadata": {},
   "outputs": [
    {
     "data": {
      "text/html": [
       "<div>\n",
       "<style scoped>\n",
       "    .dataframe tbody tr th:only-of-type {\n",
       "        vertical-align: middle;\n",
       "    }\n",
       "\n",
       "    .dataframe tbody tr th {\n",
       "        vertical-align: top;\n",
       "    }\n",
       "\n",
       "    .dataframe thead th {\n",
       "        text-align: right;\n",
       "    }\n",
       "</style>\n",
       "<table border=\"1\" class=\"dataframe\">\n",
       "  <thead>\n",
       "    <tr style=\"text-align: right;\">\n",
       "      <th></th>\n",
       "      <th>Open</th>\n",
       "      <th>High</th>\n",
       "      <th>Low</th>\n",
       "      <th>Close</th>\n",
       "      <th>Volume</th>\n",
       "      <th>Dividends</th>\n",
       "      <th>Stock Splits</th>\n",
       "      <th>next_20day_max</th>\n",
       "      <th>target</th>\n",
       "      <th>lag21</th>\n",
       "      <th>...</th>\n",
       "      <th>lag41</th>\n",
       "      <th>open_close_diff</th>\n",
       "      <th>day_change</th>\n",
       "      <th>day_max_change</th>\n",
       "      <th>oneday_change</th>\n",
       "      <th>10day_change</th>\n",
       "      <th>20day_change</th>\n",
       "      <th>oneday_volchange</th>\n",
       "      <th>10day_volchange</th>\n",
       "      <th>20day_volchange</th>\n",
       "    </tr>\n",
       "    <tr>\n",
       "      <th>Date</th>\n",
       "      <th></th>\n",
       "      <th></th>\n",
       "      <th></th>\n",
       "      <th></th>\n",
       "      <th></th>\n",
       "      <th></th>\n",
       "      <th></th>\n",
       "      <th></th>\n",
       "      <th></th>\n",
       "      <th></th>\n",
       "      <th></th>\n",
       "      <th></th>\n",
       "      <th></th>\n",
       "      <th></th>\n",
       "      <th></th>\n",
       "      <th></th>\n",
       "      <th></th>\n",
       "      <th></th>\n",
       "      <th></th>\n",
       "      <th></th>\n",
       "      <th></th>\n",
       "    </tr>\n",
       "  </thead>\n",
       "  <tbody>\n",
       "    <tr>\n",
       "      <th>2000-02-01</th>\n",
       "      <td>1394.459961</td>\n",
       "      <td>1412.489990</td>\n",
       "      <td>1384.790039</td>\n",
       "      <td>1409.280029</td>\n",
       "      <td>981000000</td>\n",
       "      <td>0</td>\n",
       "      <td>0</td>\n",
       "      <td>1465.150024</td>\n",
       "      <td>3.964435</td>\n",
       "      <td>NaN</td>\n",
       "      <td>...</td>\n",
       "      <td>NaN</td>\n",
       "      <td>14.820068</td>\n",
       "      <td>1.06</td>\n",
       "      <td>1.99</td>\n",
       "      <td>0</td>\n",
       "      <td>NaN</td>\n",
       "      <td>NaN</td>\n",
       "      <td>0</td>\n",
       "      <td>NaN</td>\n",
       "      <td>NaN</td>\n",
       "    </tr>\n",
       "    <tr>\n",
       "      <th>2000-02-02</th>\n",
       "      <td>1409.280029</td>\n",
       "      <td>1420.609985</td>\n",
       "      <td>1403.489990</td>\n",
       "      <td>1409.119995</td>\n",
       "      <td>1038600000</td>\n",
       "      <td>0</td>\n",
       "      <td>0</td>\n",
       "      <td>1465.150024</td>\n",
       "      <td>3.976243</td>\n",
       "      <td>NaN</td>\n",
       "      <td>...</td>\n",
       "      <td>NaN</td>\n",
       "      <td>-0.160034</td>\n",
       "      <td>-0.01</td>\n",
       "      <td>1.21</td>\n",
       "      <td>0</td>\n",
       "      <td>NaN</td>\n",
       "      <td>NaN</td>\n",
       "      <td>1</td>\n",
       "      <td>NaN</td>\n",
       "      <td>NaN</td>\n",
       "    </tr>\n",
       "    <tr>\n",
       "      <th>2000-02-03</th>\n",
       "      <td>1409.119995</td>\n",
       "      <td>1425.780029</td>\n",
       "      <td>1398.520020</td>\n",
       "      <td>1424.969971</td>\n",
       "      <td>1146500000</td>\n",
       "      <td>0</td>\n",
       "      <td>0</td>\n",
       "      <td>1465.150024</td>\n",
       "      <td>2.819712</td>\n",
       "      <td>NaN</td>\n",
       "      <td>...</td>\n",
       "      <td>NaN</td>\n",
       "      <td>15.849976</td>\n",
       "      <td>1.12</td>\n",
       "      <td>1.93</td>\n",
       "      <td>1</td>\n",
       "      <td>NaN</td>\n",
       "      <td>NaN</td>\n",
       "      <td>1</td>\n",
       "      <td>NaN</td>\n",
       "      <td>NaN</td>\n",
       "    </tr>\n",
       "  </tbody>\n",
       "</table>\n",
       "<p>3 rows × 21 columns</p>\n",
       "</div>"
      ],
      "text/plain": [
       "                   Open         High          Low        Close      Volume  \\\n",
       "Date                                                                         \n",
       "2000-02-01  1394.459961  1412.489990  1384.790039  1409.280029   981000000   \n",
       "2000-02-02  1409.280029  1420.609985  1403.489990  1409.119995  1038600000   \n",
       "2000-02-03  1409.119995  1425.780029  1398.520020  1424.969971  1146500000   \n",
       "\n",
       "            Dividends  Stock Splits  next_20day_max    target  lag21  ...  \\\n",
       "Date                                                                  ...   \n",
       "2000-02-01          0             0     1465.150024  3.964435    NaN  ...   \n",
       "2000-02-02          0             0     1465.150024  3.976243    NaN  ...   \n",
       "2000-02-03          0             0     1465.150024  2.819712    NaN  ...   \n",
       "\n",
       "            lag41  open_close_diff  day_change  day_max_change  oneday_change  \\\n",
       "Date                                                                            \n",
       "2000-02-01    NaN        14.820068        1.06            1.99              0   \n",
       "2000-02-02    NaN        -0.160034       -0.01            1.21              0   \n",
       "2000-02-03    NaN        15.849976        1.12            1.93              1   \n",
       "\n",
       "            10day_change  20day_change  oneday_volchange  10day_volchange  \\\n",
       "Date                                                                        \n",
       "2000-02-01           NaN           NaN                 0              NaN   \n",
       "2000-02-02           NaN           NaN                 1              NaN   \n",
       "2000-02-03           NaN           NaN                 1              NaN   \n",
       "\n",
       "            20day_volchange  \n",
       "Date                         \n",
       "2000-02-01              NaN  \n",
       "2000-02-02              NaN  \n",
       "2000-02-03              NaN  \n",
       "\n",
       "[3 rows x 21 columns]"
      ]
     },
     "execution_count": 12,
     "metadata": {},
     "output_type": "execute_result"
    }
   ],
   "source": [
    "df['lag21']=df['target'].shift(21)\n",
    "df['lag31']=df['target'].shift(31)\n",
    "df['lag41']=df['target'].shift(41)\n",
    "\n",
    "df['open_close_diff'] = df['Close'] - df['Open']\n",
    "df['day_change']=(100*df['open_close_diff']/df['Open']).round(2)\n",
    "df['day_max_change'] = (100*(df['High'] - df['Low'])/df['Open']).round(2)\n",
    "\n",
    "#create a binary feature: 1 day change\n",
    "#0: decrease; 1: increase\n",
    "df['oneday_change']=(df['Close'].diff()>0)+1-1\n",
    "\n",
    "df['10day_change']=df['Close'].diff(10)\n",
    "df['20day_change']=df['Close'].diff(20)\n",
    "\n",
    "\n",
    "df['oneday_volchange']=(df['Volume'].diff()>0)+1-1\n",
    "\n",
    "df['10day_volchange']=df['Volume'].diff(10)\n",
    "df['20day_volchange']=df['Volume'].diff(20)\n",
    "\n",
    "\n",
    "df.head(3)"
   ]
  },
  {
   "cell_type": "code",
   "execution_count": 13,
   "metadata": {},
   "outputs": [
    {
     "data": {
      "text/plain": [
       "<AxesSubplot:>"
      ]
     },
     "execution_count": 13,
     "metadata": {},
     "output_type": "execute_result"
    },
    {
     "data": {
      "image/png": "[encoded data removed]",
      "text/plain": [
       "<Figure size 432x288 with 1 Axes>"
      ]
     },
     "metadata": {
      "needs_background": "light"
     },
     "output_type": "display_data"
    }
   ],
   "source": [
    "df['day_change'].hist(bins=50)"
   ]
  },
  {
   "cell_type": "code",
   "execution_count": 14,
   "metadata": {},
   "outputs": [
    {
     "data": {
      "text/plain": [
       " 0    5095\n",
       "-1     210\n",
       " 1     174\n",
       "Name: day_change_cat, dtype: int64"
      ]
     },
     "execution_count": 14,
     "metadata": {},
     "output_type": "execute_result"
    }
   ],
   "source": [
    "#convert day_change into categorical feature\n",
    "#above 2- class 1; below -2 - class -1, in the middle - class0\n",
    "df['day_change_cat']=0\n",
    "df.loc[df['day_change']<=-2, 'day_change_cat']=-1\n",
    "df.loc[df['day_change']>=2, 'day_change_cat']=1\n",
    "df['day_change_cat'].value_counts()"
   ]
  },
  {
   "cell_type": "code",
   "execution_count": 15,
   "metadata": {},
   "outputs": [
    {
     "name": "stdout",
     "output_type": "stream",
     "text": [
      "(5438, 22) 2000-03-30 00:00:00\n"
     ]
    },
    {
     "data": {
      "text/html": [
       "<div>\n",
       "<style scoped>\n",
       "    .dataframe tbody tr th:only-of-type {\n",
       "        vertical-align: middle;\n",
       "    }\n",
       "\n",
       "    .dataframe tbody tr th {\n",
       "        vertical-align: top;\n",
       "    }\n",
       "\n",
       "    .dataframe thead th {\n",
       "        text-align: right;\n",
       "    }\n",
       "</style>\n",
       "<table border=\"1\" class=\"dataframe\">\n",
       "  <thead>\n",
       "    <tr style=\"text-align: right;\">\n",
       "      <th></th>\n",
       "      <th>Open</th>\n",
       "      <th>High</th>\n",
       "      <th>Low</th>\n",
       "      <th>Close</th>\n",
       "      <th>Volume</th>\n",
       "      <th>Dividends</th>\n",
       "      <th>Stock Splits</th>\n",
       "      <th>next_20day_max</th>\n",
       "      <th>target</th>\n",
       "      <th>lag21</th>\n",
       "      <th>...</th>\n",
       "      <th>open_close_diff</th>\n",
       "      <th>day_change</th>\n",
       "      <th>day_max_change</th>\n",
       "      <th>oneday_change</th>\n",
       "      <th>10day_change</th>\n",
       "      <th>20day_change</th>\n",
       "      <th>oneday_volchange</th>\n",
       "      <th>10day_volchange</th>\n",
       "      <th>20day_volchange</th>\n",
       "      <th>day_change_cat</th>\n",
       "    </tr>\n",
       "    <tr>\n",
       "      <th>Date</th>\n",
       "      <th></th>\n",
       "      <th></th>\n",
       "      <th></th>\n",
       "      <th></th>\n",
       "      <th></th>\n",
       "      <th></th>\n",
       "      <th></th>\n",
       "      <th></th>\n",
       "      <th></th>\n",
       "      <th></th>\n",
       "      <th></th>\n",
       "      <th></th>\n",
       "      <th></th>\n",
       "      <th></th>\n",
       "      <th></th>\n",
       "      <th></th>\n",
       "      <th></th>\n",
       "      <th></th>\n",
       "      <th></th>\n",
       "      <th></th>\n",
       "      <th></th>\n",
       "    </tr>\n",
       "  </thead>\n",
       "  <tbody>\n",
       "    <tr>\n",
       "      <th>2000-03-30</th>\n",
       "      <td>1508.520020</td>\n",
       "      <td>1517.380005</td>\n",
       "      <td>1474.630005</td>\n",
       "      <td>1487.920044</td>\n",
       "      <td>1193400000</td>\n",
       "      <td>0</td>\n",
       "      <td>0</td>\n",
       "      <td>1527.459961</td>\n",
       "      <td>2.657395</td>\n",
       "      <td>4.533823</td>\n",
       "      <td>...</td>\n",
       "      <td>-20.599976</td>\n",
       "      <td>-1.37</td>\n",
       "      <td>2.83</td>\n",
       "      <td>0</td>\n",
       "      <td>29.450073</td>\n",
       "      <td>106.160034</td>\n",
       "      <td>1</td>\n",
       "      <td>-288900000.0</td>\n",
       "      <td>-5200000.0</td>\n",
       "      <td>0</td>\n",
       "    </tr>\n",
       "    <tr>\n",
       "      <th>2000-03-31</th>\n",
       "      <td>1487.920044</td>\n",
       "      <td>1519.810059</td>\n",
       "      <td>1484.380005</td>\n",
       "      <td>1498.579956</td>\n",
       "      <td>1227400000</td>\n",
       "      <td>0</td>\n",
       "      <td>0</td>\n",
       "      <td>1527.459961</td>\n",
       "      <td>1.927158</td>\n",
       "      <td>4.339390</td>\n",
       "      <td>...</td>\n",
       "      <td>10.659912</td>\n",
       "      <td>0.72</td>\n",
       "      <td>2.38</td>\n",
       "      <td>1</td>\n",
       "      <td>34.109985</td>\n",
       "      <td>89.409912</td>\n",
       "      <td>1</td>\n",
       "      <td>-67700000.0</td>\n",
       "      <td>77100000.0</td>\n",
       "      <td>0</td>\n",
       "    </tr>\n",
       "    <tr>\n",
       "      <th>2000-04-03</th>\n",
       "      <td>1498.579956</td>\n",
       "      <td>1507.189941</td>\n",
       "      <td>1486.959961</td>\n",
       "      <td>1505.969971</td>\n",
       "      <td>1021700000</td>\n",
       "      <td>0</td>\n",
       "      <td>0</td>\n",
       "      <td>1527.459961</td>\n",
       "      <td>1.426987</td>\n",
       "      <td>2.309865</td>\n",
       "      <td>...</td>\n",
       "      <td>7.390015</td>\n",
       "      <td>0.49</td>\n",
       "      <td>1.35</td>\n",
       "      <td>1</td>\n",
       "      <td>49.339966</td>\n",
       "      <td>114.689941</td>\n",
       "      <td>0</td>\n",
       "      <td>100900000.0</td>\n",
       "      <td>-7300000.0</td>\n",
       "      <td>0</td>\n",
       "    </tr>\n",
       "  </tbody>\n",
       "</table>\n",
       "<p>3 rows × 22 columns</p>\n",
       "</div>"
      ],
      "text/plain": [
       "                   Open         High          Low        Close      Volume  \\\n",
       "Date                                                                         \n",
       "2000-03-30  1508.520020  1517.380005  1474.630005  1487.920044  1193400000   \n",
       "2000-03-31  1487.920044  1519.810059  1484.380005  1498.579956  1227400000   \n",
       "2000-04-03  1498.579956  1507.189941  1486.959961  1505.969971  1021700000   \n",
       "\n",
       "            Dividends  Stock Splits  next_20day_max    target     lag21  ...  \\\n",
       "Date                                                                     ...   \n",
       "2000-03-30          0             0     1527.459961  2.657395  4.533823  ...   \n",
       "2000-03-31          0             0     1527.459961  1.927158  4.339390  ...   \n",
       "2000-04-03          0             0     1527.459961  1.426987  2.309865  ...   \n",
       "\n",
       "            open_close_diff  day_change  day_max_change  oneday_change  \\\n",
       "Date                                                                     \n",
       "2000-03-30       -20.599976       -1.37            2.83              0   \n",
       "2000-03-31        10.659912        0.72            2.38              1   \n",
       "2000-04-03         7.390015        0.49            1.35              1   \n",
       "\n",
       "            10day_change  20day_change  oneday_volchange  10day_volchange  \\\n",
       "Date                                                                        \n",
       "2000-03-30     29.450073    106.160034                 1     -288900000.0   \n",
       "2000-03-31     34.109985     89.409912                 1      -67700000.0   \n",
       "2000-04-03     49.339966    114.689941                 0      100900000.0   \n",
       "\n",
       "            20day_volchange  day_change_cat  \n",
       "Date                                         \n",
       "2000-03-30       -5200000.0               0  \n",
       "2000-03-31       77100000.0               0  \n",
       "2000-04-03       -7300000.0               0  \n",
       "\n",
       "[3 rows x 22 columns]"
      ]
     },
     "execution_count": 15,
     "metadata": {},
     "output_type": "execute_result"
    }
   ],
   "source": [
    "df.dropna(how='any', inplace=True)\n",
    "print(df.shape, df.index.min())\n",
    "df.head(3)"
   ]
  },
  {
   "cell_type": "markdown",
   "metadata": {},
   "source": [
    "####  categorical data processing for TabNet"
   ]
  },
  {
   "cell_type": "code",
   "execution_count": 16,
   "metadata": {},
   "outputs": [],
   "source": [
    "target='target'"
   ]
  },
  {
   "cell_type": "code",
   "execution_count": 17,
   "metadata": {},
   "outputs": [],
   "source": [
    "df.dropna(how='any', inplace=True)\n",
    "train = df.copy(deep=True)"
   ]
  },
  {
   "cell_type": "code",
   "execution_count": 18,
   "metadata": {},
   "outputs": [
    {
     "name": "stdout",
     "output_type": "stream",
     "text": [
      "day_change_cat 3\n"
     ]
    },
    {
     "data": {
      "text/plain": [
       "{'day_change_cat': 3}"
      ]
     },
     "execution_count": 18,
     "metadata": {},
     "output_type": "execute_result"
    }
   ],
   "source": [
    "categorical_columns = ['day_change_cat']\n",
    "categorical_dims =  {}\n",
    "for col in categorical_columns:\n",
    "    print(col, train[col].nunique())\n",
    "    l_enc = LabelEncoder()\n",
    "    train[col] = l_enc.fit_transform(train[col].values)\n",
    "    \n",
    "    categorical_dims[col] = len(l_enc.classes_)\n",
    "\n",
    "categorical_dims"
   ]
  },
  {
   "cell_type": "code",
   "execution_count": 19,
   "metadata": {},
   "outputs": [
    {
     "data": {
      "text/plain": [
       "(['day_change_cat'], {'day_change_cat': 3})"
      ]
     },
     "execution_count": 19,
     "metadata": {},
     "output_type": "execute_result"
    }
   ],
   "source": [
    "categorical_columns, categorical_dims"
   ]
  },
  {
   "cell_type": "markdown",
   "metadata": {},
   "source": [
    "#####  Define categorical features for categorical embeddings"
   ]
  },
  {
   "cell_type": "code",
   "execution_count": 20,
   "metadata": {},
   "outputs": [],
   "source": [
    "unused_feat = ['Dividends', 'Stock Splits', 'next_20day_max',\n",
    "               'open_close_diff', 'day_change' ]\n",
    "\n",
    "features = [ col for col in train.columns if col not in unused_feat+[target]] \n",
    "\n",
    "cat_idxs = [ i for i, f in enumerate(features) if f in categorical_columns]\n",
    "\n",
    "cat_dims = [ categorical_dims[f] for i, f in enumerate(features) if f in categorical_columns]\n"
   ]
  },
  {
   "cell_type": "code",
   "execution_count": 21,
   "metadata": {},
   "outputs": [
    {
     "name": "stdout",
     "output_type": "stream",
     "text": [
      "['Open', 'High', 'Low', 'Close', 'Volume', 'lag21', 'lag31', 'lag41', 'day_max_change', 'oneday_change', '10day_change', '20day_change', 'oneday_volchange', '10day_volchange', '20day_volchange', 'day_change_cat'] 16\n"
     ]
    }
   ],
   "source": [
    "print(features, len(features))"
   ]
  },
  {
   "cell_type": "code",
   "execution_count": 22,
   "metadata": {},
   "outputs": [
    {
     "data": {
      "text/plain": [
       "[15]"
      ]
     },
     "execution_count": 22,
     "metadata": {},
     "output_type": "execute_result"
    }
   ],
   "source": [
    "cat_idxs"
   ]
  },
  {
   "cell_type": "code",
   "execution_count": 23,
   "metadata": {},
   "outputs": [
    {
     "data": {
      "text/plain": [
       "[3]"
      ]
     },
     "execution_count": 23,
     "metadata": {},
     "output_type": "execute_result"
    }
   ],
   "source": [
    "cat_dims"
   ]
  },
  {
   "cell_type": "markdown",
   "metadata": {},
   "source": [
    "#### Split data from training"
   ]
  },
  {
   "cell_type": "code",
   "execution_count": 40,
   "metadata": {},
   "outputs": [
    {
     "data": {
      "text/plain": [
       "(5438, 22)"
      ]
     },
     "execution_count": 40,
     "metadata": {},
     "output_type": "execute_result"
    }
   ],
   "source": [
    "train.shape"
   ]
  },
  {
   "cell_type": "code",
   "execution_count": 42,
   "metadata": {},
   "outputs": [],
   "source": [
    "X_train = train[features].values[:-1000,:]\n",
    "y_train = train[target].values[:-1000]\n",
    "\n",
    "\n",
    "X_test = train[features].values[-950:, ]\n",
    "y_test = train[target].values[-950:]"
   ]
  },
  {
   "cell_type": "code",
   "execution_count": 44,
   "metadata": {},
   "outputs": [
    {
     "data": {
      "text/plain": [
       "((4438, 16), (950, 16))"
      ]
     },
     "execution_count": 44,
     "metadata": {},
     "output_type": "execute_result"
    }
   ],
   "source": [
    "X_train.shape, X_test.shape"
   ]
  },
  {
   "cell_type": "markdown",
   "metadata": {},
   "source": [
    "####  hyperopt setup - define search space and score function\n"
   ]
  },
  {
   "cell_type": "code",
   "execution_count": 76,
   "metadata": {},
   "outputs": [],
   "source": [
    "from hyperopt import hp\n",
    "from hyperopt import fmin, tpe, hp, STATUS_OK, Trials, anneal, rand"
   ]
  },
  {
   "cell_type": "code",
   "execution_count": 77,
   "metadata": {},
   "outputs": [],
   "source": [
    "search_space = { \n",
    "    \n",
    "                 'n_d': hp.choice('n_d',[8, 16, 24, 32, 64, 128]), #Nd and Na are chosen from {8, 16, 24, 32, 64, 128},\n",
    "                 'n_steps': hp.choice('n_steps',[3,4,5,6,7,8,9,10]),#Nsteps is chosen from {3, 4, 5, 6, 7, 8, 9, 10}\n",
    "                 'gamma':hp.choice('gamma', [1.0, 1.2, 1.5, 2.0]),#γ is chosen from {1.0, 1.2, 1.5, 2.0}\n",
    "                 'n_independent':hp.choice('n_independent', [1,2,3,4,5] ),\n",
    "                 'n_shared':hp.choice('n_shared', [1,2,3,4,5]),\n",
    "                 'momentum':  hp.choice('momentum', np.round(np.arange(0.01, 0.4, 0.01),3)), #Momentum for batch normalization, typically ranges from 0.01 to 0.4 (default=0.02)\n",
    "                 #momentum mB., and mB is chosen from {0.6, 0.7, 0.8, 0.9, 0.95, 0.98}. \n",
    "                 'lambda_sparse': hp.choice('lambda_sparse', [0, 0.000001, 0.0001, 0.001, 0.01, 0.1]), #λsparse is chosen from {0, 0.000001, 0.0001, 0.001, 0.01, 0.1}\n",
    "                 'optimizer_fn': hp.choice('optimizer_fn', ['Adam', 'RMSprop', 'SGD']),\n",
    "                 'lr': hp.choice('lr', [0.005, 0.01, 0.02, 0.025]), #optimizer. the learning rateis chosen from {0.005, 0.01.0.02, 0.025}, \n",
    "                 'optimizer_momentum': hp.choice('optimizer_momentum', [0.4, 0.8, 0.9, 0.95]),#optimizer ????\n",
    "                 #the decay rate is chosen from {0.4, 0.8, 0.9, 0.95} and the decay iterations is chosen from {0.5k, 2k, 8k, 10k, 20k}\n",
    "                 'weight_decay':hp.choice('weight_decay', [0, 0.5, 0.001, 0.0001] ),#optimizer.  the decay rate is chosen from {0.4, 0.8, 0.9, 0.95} a\n",
    "                 'scheduler_fn':hp.choice('scheduler_fn', ['StepLR', 'CosineAnnealingWarmRestarts', 'ReduceLROnPlateau']),\n",
    "                 'fn_step_size':hp.choice('fn_step_size', [3, 5, 10, 15]), \n",
    "                 'fn_gamma':hp.choice('fn_gamma', np.round(np.arange(0.1, 0.95, 0.01),3)),\n",
    "                 'fn_T_0':hp.choice('fn_T_0', [3, 5, 10, 15]), \n",
    "                 'fn_eta_min':hp.choice('fn_eta_min', np.round(np.arange(0.0001, 0.001, 0.0001),4)),\n",
    "                 'max_epochs':hp.choice('max_epochs', range(30, 201, 1)),\n",
    "                 'batch_size':hp.choice('batch_size', [256, 512, 1024, 2048, 4096, 8192, 16384, 32768]),#B is chosen from {256, 512, 1024, 2048, 4096, 8192, 16384, 32768}\n",
    "                 'virtual_batch_size':hp.choice('virtual_batch_size', [256, 512, 1024, 2048, 4096]),#BV is chosen from {256, 512, 1024, 2048, 4096}\n",
    "                 'patience':hp.choice('patience', [0]),\n",
    "                  }\n",
    "\n",
    "n_trials = 100\n",
    "n_random_trials = 30"
   ]
  },
  {
   "cell_type": "code",
   "execution_count": 78,
   "metadata": {},
   "outputs": [],
   "source": [
    "from pytorch_tabnet.tab_model import TabNetRegressor\n",
    "import torch\n",
    "from sklearn.preprocessing import LabelEncoder\n",
    "from sklearn.preprocessing import label_binarize\n",
    "from sklearn.metrics import mean_squared_error\n",
    "import copy\n",
    "\n",
    "def score(params):\n",
    "    \n",
    "    tab_params = {}\n",
    "    tab_params['n_d'] = params['n_d']\n",
    "    tab_params['n_a'] = params['n_d'] #set n_a equals n_d according to official document\n",
    "    tab_params['seed']= rand_seed #set random seed for reproduciablity\n",
    "    tab_params['gamma'] = params['gamma']\n",
    "    tab_params['n_independent'] = params['n_independent']\n",
    "    tab_params['n_shared'] = params['n_shared']\n",
    "    tab_params['momentum'] = params['momentum']\n",
    "    tab_params['lambda_sparse'] = params['lambda_sparse']\n",
    "    tab_params['cat_idxs']=cat_idxs #no categorical features\n",
    "    tab_params['cat_dims']=cat_dims\n",
    "    tab_params['cat_emb_dim']=1,\n",
    "    \n",
    "    lr =params['lr']\n",
    "    weight_decay =params['weight_decay']\n",
    "    optimizer_momentum =params['optimizer_momentum']\n",
    "    optimizer_fn=params['optimizer_fn']\n",
    "    \n",
    "    if optimizer_fn=='Adam':\n",
    "        tab_params['optimizer_params'] = dict(lr=lr, weight_decay=weight_decay)\n",
    "        tab_params['optimizer_fn'] = torch.optim.Adam\n",
    "    elif optimizer_fn == 'RMSprop':\n",
    "        tab_params['optimizer_params'] = dict(lr=lr, momentum=optimizer_momentum, weight_decay=weight_decay)\n",
    "        tab_params['optimizer_fn'] = torch.optim.RMSprop\n",
    "    elif optimizer_fn == 'SGD':\n",
    "        tab_params['optimizer_params'] = dict(lr=lr, momentum=optimizer_momentum, weight_decay=weight_decay)\n",
    "        tab_params['optimizer_fn'] = torch.optim.SGD\n",
    "   \n",
    "    scheduler_fn = params['scheduler_fn']\n",
    "    fn_step_size = params['fn_step_size']\n",
    "    fn_gamma = params['fn_gamma']\n",
    "    fn_T_0 = params['fn_T_0']\n",
    "    fn_eta_min = params['fn_eta_min']\n",
    "    \n",
    "    if scheduler_fn== 'StepLR':\n",
    "        tab_params['scheduler_params'] ={'gamma':fn_gamma, 'step_size':fn_step_size}\n",
    "        tab_params['scheduler_fn'] = torch.optim.lr_scheduler.StepLR\n",
    "    elif scheduler_fn== 'CosineAnnealingWarmRestarts':\n",
    "        tab_params['scheduler_params'] ={'T_0':fn_T_0, 'eta_min':fn_eta_min}\n",
    "        tab_params['scheduler_fn'] = torch.optim.lr_scheduler.CosineAnnealingWarmRestarts\n",
    "    elif scheduler_fn== 'ReduceLROnPlateau':\n",
    "        tab_params['scheduler_params'] ={'mode':'min', 'min_lr':fn_eta_min}\n",
    "        tab_params['scheduler_fn'] = torch.optim.lr_scheduler.ReduceLROnPlateau\n",
    "        \n",
    "    tab_params['epsilon']=1e-15 #default. leave untouched\n",
    "    tab_params['verbose']=0 #no verbose\n",
    "    \n",
    "    batch_size=params['batch_size'] \n",
    "    mini_batch_size=params['virtual_batch_size'] \n",
    "    if mini_batch_size>batch_size:\n",
    "        mini_batch_size=batch_size\n",
    "    \n",
    "    #--add fit params---\n",
    "    full_params = copy.deepcopy(tab_params)\n",
    "    \n",
    "    max_epochs = params['max_epochs']\n",
    "    patience = params['patience']\n",
    "    full_params['max_epochs'] = max_epochs\n",
    "    full_params['batch_size'] = batch_size\n",
    "    full_params['virtual_batch_size'] = mini_batch_size\n",
    "    full_params['patience'] = patience\n",
    "    \n",
    "    params_list.append(copy.deepcopy(full_params)) \n",
    "    \n",
    "    #-----------------------------------------------------\n",
    "    #---start training: this part can easily be replaced with k-fold list----\n",
    "    \n",
    "    i = len(params_list)\n",
    "    \n",
    "    \n",
    "    #initiate classifier - need to re-initiate for each Train-Test pair\n",
    "    clf = TabNetRegressor(**tab_params)\n",
    "    clf.fit(\n",
    "        X_train=X_train, y_train=y_train.reshape(-1,1),\n",
    "        eval_set=[(X_train, y_train.reshape(-1,1))],\n",
    "        eval_name=['train'],\n",
    "        eval_metric=['mse'],\n",
    "        max_epochs=max_epochs, patience=patience,\n",
    "        batch_size=batch_size, virtual_batch_size=mini_batch_size,\n",
    "        num_workers=0,\n",
    "        drop_last=False\n",
    "    ) \n",
    "\n",
    "    preds = clf.predict(X_test).flatten()\n",
    "    #print(preds)\n",
    "    loss = mean_squared_error(y_pred=preds, y_true=y_test)\n",
    "\n",
    "    \n",
    "        \n",
    "    df_pred = pd.DataFrame({'y_true':y_test, 'y_pred':preds})\n",
    "    \n",
    "    metric_list.append([i, full_params, loss] )\n",
    "    df_pred.to_csv(save_dir.joinpath(f'trial_{i}'), sep='|', index=False, compression='bz2')\n",
    "    \n",
    "    \n",
    "    return {'loss': loss, 'status': STATUS_OK}"
   ]
  },
  {
   "cell_type": "code",
   "execution_count": 79,
   "metadata": {},
   "outputs": [],
   "source": [
    "from functools import partial\n",
    "def optimize(space, evals, cores, trials, optimizer=tpe.suggest, random_state=1234, n_startup_jobs=50):\n",
    "    space['seed']= random_state\n",
    "    algo = partial(optimizer, n_startup_jobs=n_startup_jobs)\n",
    "    best = fmin(score, space, algo=algo, max_evals=evals, trials = trials)\n",
    "    return best"
   ]
  },
  {
   "cell_type": "markdown",
   "metadata": {},
   "source": [
    "#### run hyperparamter tuning"
   ]
  },
  {
   "cell_type": "code",
   "execution_count": 48,
   "metadata": {},
   "outputs": [],
   "source": [
    "params_list = []\n",
    "metric_list = []\n",
    "trials = Trials()"
   ]
  },
  {
   "cell_type": "code",
   "execution_count": 72,
   "metadata": {},
   "outputs": [],
   "source": [
    "save_dir=Path('hyper_tune/tabnet')"
   ]
  },
  {
   "cell_type": "code",
   "execution_count": 73,
   "metadata": {
    "scrolled": true
   },
   "outputs": [
    {
     "name": "stdout",
     "output_type": "stream",
     "text": [
      "No early stopping will be performed, last training weights will be used.                                               \n",
      "No early stopping will be performed, last training weights will be used.                                               \n",
      "No early stopping will be performed, last training weights will be used.                                               \n",
      "No early stopping will be performed, last training weights will be used.                                               \n",
      "No early stopping will be performed, last training weights will be used.                                               \n",
      "No early stopping will be performed, last training weights will be used.                                               \n",
      "No early stopping will be performed, last training weights will be used.                                               \n",
      "No early stopping will be performed, last training weights will be used.                                               \n",
      "No early stopping will be performed, last training weights will be used.                                               \n",
      "No early stopping will be performed, last training weights will be used.                                               \n",
      "100%|███████████████████████████████████████████████| 10/10 [25:39<00:00, 153.91s/trial, best loss: 11.542633152981768]\n"
     ]
    },
    {
     "data": {
      "text/plain": [
       "{'batch_size': 6,\n",
       " 'fn_T_0': 0,\n",
       " 'fn_eta_min': 7,\n",
       " 'fn_gamma': 5,\n",
       " 'fn_step_size': 0,\n",
       " 'gamma': 3,\n",
       " 'lambda_sparse': 0,\n",
       " 'lr': 1,\n",
       " 'max_epochs': 30,\n",
       " 'momentum': 38,\n",
       " 'n_d': 1,\n",
       " 'n_independent': 1,\n",
       " 'n_shared': 3,\n",
       " 'n_steps': 4,\n",
       " 'optimizer_fn': 1,\n",
       " 'optimizer_momentum': 0,\n",
       " 'patience': 0,\n",
       " 'scheduler_fn': 2,\n",
       " 'virtual_batch_size': 3,\n",
       " 'weight_decay': 1}"
      ]
     },
     "execution_count": 73,
     "metadata": {},
     "output_type": "execute_result"
    }
   ],
   "source": [
    "optimize(search_space,\n",
    "          evals = 10,\n",
    "          optimizer=tpe.suggest,\n",
    "          cores = 4,\n",
    "          trials = trials, random_state=rand_seed, \n",
    "          n_startup_jobs=5)"
   ]
  },
  {
   "cell_type": "markdown",
   "metadata": {},
   "source": [
    "##### save trials and results \n",
    "\n",
    "- dump trials into a pickle file. this file can be helpful if I later want to run more trials of hyperparamter tuning."
   ]
  },
  {
   "cell_type": "code",
   "execution_count": 81,
   "metadata": {},
   "outputs": [
    {
     "data": {
      "text/plain": [
       "WindowsPath('hyper_tune')"
      ]
     },
     "execution_count": 81,
     "metadata": {},
     "output_type": "execute_result"
    }
   ],
   "source": [
    "save_dir.parent"
   ]
  },
  {
   "cell_type": "code",
   "execution_count": 83,
   "metadata": {},
   "outputs": [
    {
     "data": {
      "text/plain": [
       "['hyper_tune\\\\tabnet.pkl']"
      ]
     },
     "execution_count": 83,
     "metadata": {},
     "output_type": "execute_result"
    }
   ],
   "source": [
    "import joblib\n",
    "joblib.dump(trials, save_dir.parent.joinpath('tabnet.pkl'))"
   ]
  },
  {
   "cell_type": "code",
   "execution_count": 87,
   "metadata": {},
   "outputs": [],
   "source": [
    "pd.DataFrame(metric_list, columns=['trial_id', 'params', 'loss']).to_excel(save_dir.parent.joinpath('tabnet.xlsx'))"
   ]
  }
 ],
 "metadata": {
  "kernelspec": {
   "display_name": "Python 3",
   "language": "python",
   "name": "python3"
  },
  "language_info": {
   "codemirror_mode": {
    "name": "ipython",
    "version": 3
   },
   "file_extension": ".py",
   "mimetype": "text/x-python",
   "name": "python",
   "nbconvert_exporter": "python",
   "pygments_lexer": "ipython3",
   "version": "3.6.8"
  },
  "toc": {
   "base_numbering": 1,
   "nav_menu": {},
   "number_sections": true,
   "sideBar": true,
   "skip_h1_title": false,
   "title_cell": "Table of Contents",
   "title_sidebar": "Contents",
   "toc_cell": false,
   "toc_position": {},
   "toc_section_display": true,
   "toc_window_display": false
  }
 },
 "nbformat": 4,
 "nbformat_minor": 2
}
