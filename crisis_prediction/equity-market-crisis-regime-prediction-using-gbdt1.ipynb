{
 "cells": [
  {
   "cell_type": "markdown",
   "id": "ce5d01c3",
   "metadata": {
    "papermill": {
     "duration": 0.002345,
     "end_time": "2022-10-08T17:58:49.288357",
     "exception": false,
     "start_time": "2022-10-08T17:58:49.286012",
     "status": "completed"
    },
    "tags": []
   },
   "source": [
    "# Equity Market Crisis Regime Prediction using Machine Learning GBDT\n",
    "\n",
    "## Part I: Introduction\n",
    "\n",
    "### Quick access to the whole series:\n",
    "\n",
    "1. [Part I: Introduction](https://www.kaggle.com/code/xxxxyyyy80008/equity-market-crisis-regime-prediction-using-gbdt1)\n",
    "1. [Part II: Data Preparation](https://www.kaggle.com/code/xxxxyyyy80008/equity-market-crisis-regime-prediction-using-gbdt2)\n",
    "1. [Part III: Exploratory data analysis](https://www.kaggle.com/code/xxxxyyyy80008/equity-market-crisis-regime-prediction-using-gbdt3)\n",
    "1. [Part IV: Feature Selection, Hyperparameter Tuning (LightGBM)](https://www.kaggle.com/code/xxxxyyyy80008/equity-market-crisis-regime-prediction-using-gbdt4)\n",
    "1. [Part V: Model Evaluation and Interpretation (LightGBM)](https://www.kaggle.com/code/xxxxyyyy80008/equity-market-crisis-regime-prediction-using-gbdt5)\n",
    "1. [Part VI: SVM and Neural Networks (MLP and 1D-CNN)](https://www.kaggle.com/code/xxxxyyyy80008/equity-market-crisis-regime-prediction-using-gbdt6)\n",
    "1. [Part VII: Compare GBDT Models: XGBoost and LightGBM](https://www.kaggle.com/code/xxxxyyyy80008/equity-market-crisis-regime-prediction-using-gbdt7)\n",
    "1. [Part VIII: Deployment: end-to-end process (LightGBM)](https://www.kaggle.com/code/xxxxyyyy80008/equity-market-crisis-regime-prediction-using-gbdt8)\n",
    "\n",
    "---\n",
    "\n",
    "\n",
    "## This series is based on the following papers:\n",
    "\n",
    "1. Benhamou, Eric and Ohana, Jean-Jacques and Saltiel, David and Guez, Beatrice, Planning in Financial Markets in Presence of Spikes: Using Machine Learning GBDT (June 8, 2021). Université Paris-Dauphine Research Paper No. 3862428, Available at SSRN: https://ssrn.com/abstract=3862428 or http://dx.doi.org/10.2139/ssrn.3862428\n",
    "\n",
    "1. Benhamou, Eric and Saltiel, David and Tabachnik, Serge and Bourdeix, Corentin and Chareyron, François and Guez, Beatrice, Adaptive Supervised Learning for Volatility Targeting Models (Ecml Pkdd Midas 2021 Presentation Slides) (September 18, 2021). Available at SSRN: https://ssrn.com/abstract=3926218 or http://dx.doi.org/10.2139/ssrn.3926218\n",
    "\n",
    "1. Ungari, Sandrine and Benhamou, Eric, Deep Reinforcement Learning for Portfolio Allocation (July 14, 2021). Risk Magazine Global Quant Network 2021, Available at SSRN: https://ssrn.com/abstract=3886804\n",
    "\n"
   ]
  },
  {
   "cell_type": "markdown",
   "id": "c9ad0c70",
   "metadata": {
    "papermill": {
     "duration": 0.001277,
     "end_time": "2022-10-08T17:58:49.291283",
     "exception": false,
     "start_time": "2022-10-08T17:58:49.290006",
     "status": "completed"
    },
    "tags": []
   },
   "source": [
    "\n",
    "## Define Target\n",
    "\n",
    "Assume there are two regimes for equity markets:\n",
    "\n",
    "- a normal regime where an asset manager should be long to benefit from the long bias of equity markets.\n",
    "- a crisis regime, where an asset manager should either reduce its equity exposure or even sell short it if the strategy is a long short one.\n",
    "\n",
    "\n",
    "binary classification target:\n",
    "\n",
    "- crisis regime: if returns (of S&P 500) are below the historical 5 percentile computed on the training data set. (encoded as 1)\n",
    "- normal regime: encoded as 0\n"
   ]
  },
  {
   "cell_type": "markdown",
   "id": "e88c98f7",
   "metadata": {
    "papermill": {
     "duration": 0.001315,
     "end_time": "2022-10-08T17:58:49.294120",
     "exception": false,
     "start_time": "2022-10-08T17:58:49.292805",
     "status": "completed"
    },
    "tags": []
   },
   "source": [
    "## Initial (raw) data and feature engineering\n",
    "\n",
    "*Note: the following images are taken from the papers in reference list*\n",
    "\n",
    "\n",
    "<img src=\"https://raw.githubusercontent.com/xxxxyyyy80008/financial-machine-learning/main/crisis_prediction/img/crisis_regime_ml_2.png\" width=\"800\">\n",
    "\n",
    "### The ~150 data series grouped to the following categories:\n",
    "\n",
    "- The Risk Aversion metrics include the equities’ and G10/emerging currencies’ implied volatilities, the High Yield corporate credit bonds credit spreads, and the shape of the VIX forward curve, defined as the ratio of the VIX Spot over the VIX three-month forward. These indicators characterize the financial assets’ liquidity conditions or the accessibility of funding, two complementary measures of risk appetite.\n",
    "- Financial metrics include the one month, six months and one year growth of Earnings per Share, Price/Earnings and Price/Sales for each equity index. These indicators predict the earnings and sales growth cycle, while providing an insight into valuation multiples changes.\n",
    "- Macroeconomic indicators consist of the Citigroup Economic Surprise indices in the main economic zones (US,EU, Japan, Emerging, Worldwide). These indicators convey the cycle of positive or negative economic surprises on a daily basis.\n",
    "- US Yields change (10 years yield, 2 years yield, 10 year breakeven, US Libor) over the same horizons: one month, six months and one year. A change in yields may either reflect the business cycle, the inflation cycle, or the monetary stance of the Federal Reserve.\n",
    "- The steepness of the US yield curve is also computed as a difference between the government bond yield rate and the short term LIBOR rate on two distinct maturities (10 years, 2 years). This indicator is a well-known predictor of the economic cycle as it computes the spread between long term and short term rates.\n",
    "- Technical indicators comprise the put/call ratio (as provided by the CBOE), and the market breadth (the percentage of individual stocks above their respective 200 days Moving Average) on the six equity indices and the MSCI World ACWI. The Put/Call ratio may reflect extreme optimism or pessimism in the investors’ consensus while market breadth characterizes the unweighted average participation of individual stocks among the global equity indices.\n",
    "- technical indicators from various asset classes are analyzed:\n",
    "    - Excess returns of six equity indices, BCOM Energy and Industrial Metals, FX Emerging Bloomberg Index Excess Return (reflecting the aggregate evolution of 8 emerging currencies vs. the dollar), dollar index, as computed by the ICE US. Returns are computed over the same time horizons as before (one month, six months and one year),\n",
    "    - Historical volatilities, computed over horizons of 10,20 and 30 days,\n",
    "    - Distance to 250 days and 500 days moving average.\n",
    "    - Sharpe Ratios of all the above-mentioned assets, evaluated over horizons of 6 months and 1 year.\n",
    "    \n",
    "    \n",
    "    \n",
    "Cyclical commodities, the dollar index as well as emerging currencies are often leading indicators of the economic cycle. Furthermore, cyclical asset returns and volatilities may either be used procyclically or countercyclically to predict an incoming crisis. \n",
    "\n",
    "### 102 features are engineered upon the 150+ data series \n",
    "\n",
    "- 102 features for each of the 150+ series, making 10k+ features to fit into the feature selection process \n",
    "- These features are used to predict the crash probability in the equity markets.\n",
    "- These features capture the universal behaviors documented in (Kahneman 2011), namely herding and trending behavior, cross-market contagions, leverage procyclicality etc. \n",
    "- They also contained a mix of fundamental and technical indicators to capture the two main approaches used in the asset management industry.\n",
    "\n",
    "### Data used in this notebook\n",
    "\n",
    "It is impossible to fully obtain the datasets described in the papers via public available dataset. So for this notebook:\n",
    "\n",
    "- market data is downloaded from yahoo using package `yfinance`\n",
    "- economic data is downloaded from [fred.stlouisfed.org](https://fred.stlouisfed.org/)"
   ]
  },
  {
   "cell_type": "markdown",
   "id": "edddbe73",
   "metadata": {
    "papermill": {
     "duration": 0.00131,
     "end_time": "2022-10-08T17:58:49.296936",
     "exception": false,
     "start_time": "2022-10-08T17:58:49.295626",
     "status": "completed"
    },
    "tags": []
   },
   "source": [
    "## Feature selection process\n",
    "\n",
    "\n",
    "<img src=\"https://raw.githubusercontent.com/xxxxyyyy80008/financial-machine-learning/main/crisis_prediction/img/crisis_regime_ml_3.png\" width=\"800\">\n",
    "\n",
    "\n"
   ]
  },
  {
   "cell_type": "markdown",
   "id": "d01a8bda",
   "metadata": {
    "papermill": {
     "duration": 0.001293,
     "end_time": "2022-10-08T17:58:49.299687",
     "exception": false,
     "start_time": "2022-10-08T17:58:49.298394",
     "status": "completed"
    },
    "tags": []
   },
   "source": [
    "## Split data: Training and Testing datasets\n",
    "\n",
    "### Training data\n",
    "\n",
    "- before 2019-12-01\n",
    "- 5fold expanding (growing) sliding window forward-validation: within each window, the testing period (blud dots) is 2 years of data\n",
    "\n",
    "<img src=\"https://raw.githubusercontent.com/xxxxyyyy80008/xxxxyyyy80008.github.io/main/6_financial_machine_learning/time_series/img/ts_model_eval1_7.png\" width=\"800\">\n",
    "\n",
    "\n",
    "\n",
    "### Testing data\n",
    "\n",
    "- after 2020-01-01\n"
   ]
  }
 ],
 "metadata": {
  "kernelspec": {
   "display_name": "Python 3",
   "language": "python",
   "name": "python3"
  },
  "language_info": {
   "codemirror_mode": {
    "name": "ipython",
    "version": 3
   },
   "file_extension": ".py",
   "mimetype": "text/x-python",
   "name": "python",
   "nbconvert_exporter": "python",
   "pygments_lexer": "ipython3",
   "version": "3.7.12"
  },
  "papermill": {
   "default_parameters": {},
   "duration": 10.140975,
   "end_time": "2022-10-08T17:58:49.923110",
   "environment_variables": {},
   "exception": null,
   "input_path": "__notebook__.ipynb",
   "output_path": "__notebook__.ipynb",
   "parameters": {},
   "start_time": "2022-10-08T17:58:39.782135",
   "version": "2.3.4"
  }
 },
 "nbformat": 4,
 "nbformat_minor": 5
}
