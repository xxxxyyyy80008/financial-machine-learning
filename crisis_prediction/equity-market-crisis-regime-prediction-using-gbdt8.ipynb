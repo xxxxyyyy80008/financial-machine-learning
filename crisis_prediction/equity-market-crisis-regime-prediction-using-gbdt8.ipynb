{
 "cells": [
  {
   "cell_type": "markdown",
   "id": "dbaef93b",
   "metadata": {
    "papermill": {
     "duration": 0.019709,
     "end_time": "2022-10-09T23:39:33.469677",
     "exception": false,
     "start_time": "2022-10-09T23:39:33.449968",
     "status": "completed"
    },
    "tags": []
   },
   "source": [
    "# Equity Market Crisis Regime Prediction using Machine Learning GBDT\n",
    "\n",
    "## Part VIII: Deployment: end-to-end process (LightGBM)\n",
    "\n",
    "### Quick access to the whole series:\n",
    "\n",
    "1. [Part I: Introduction](https://www.kaggle.com/code/xxxxyyyy80008/equity-market-crisis-regime-prediction-using-gbdt1)\n",
    "1. [Part II: Data Preparation](https://www.kaggle.com/code/xxxxyyyy80008/equity-market-crisis-regime-prediction-using-gbdt2)\n",
    "1. [Part III: Exploratory data analysis](https://www.kaggle.com/code/xxxxyyyy80008/equity-market-crisis-regime-prediction-using-gbdt3)\n",
    "1. [Part IV: Feature Selection, Hyperparameter Tuning (LightGBM)](https://www.kaggle.com/code/xxxxyyyy80008/equity-market-crisis-regime-prediction-using-gbdt4)\n",
    "1. [Part V: Model Evaluation and Interpretation (LightGBM)](https://www.kaggle.com/code/xxxxyyyy80008/equity-market-crisis-regime-prediction-using-gbdt5)\n",
    "1. [Part VI: SVM and Neural Networks (MLP and 1D-CNN)](https://www.kaggle.com/code/xxxxyyyy80008/equity-market-crisis-regime-prediction-using-gbdt6)\n",
    "1. [Part VII: Compare GBDT Models: XGBoost and LightGBM](https://www.kaggle.com/code/xxxxyyyy80008/equity-market-crisis-regime-prediction-using-gbdt7)\n",
    "1. [Part VIII: Deployment: end-to-end process (LightGBM)](https://www.kaggle.com/code/xxxxyyyy80008/equity-market-crisis-regime-prediction-using-gbdt8)\n",
    "\n",
    "---\n",
    "\n",
    "### █ This notebook is scheduled to run daily to produce the crisis regime prediction. █ \n",
    "\n",
    "---\n",
    "\n",
    "\n",
    "### Outline of this notebook\n",
    "\n",
    "<a id='toc'></a>\n",
    "\n",
    "[0. Prep: install and load packages](#0)\n",
    "\n",
    "[1. Download data from yfinance and stlouisfed via API](#1)\n",
    " \n",
    " - [1.1 Download data from yfinance](#1.1)\n",
    " - [1.2 Engineer target variable](#1.2)\n",
    " - [1.3 Download data from fred.stlouisfed.org](#1.3)\n",
    " - [1.4 Process stlouisfed data: convert non-daily to daily, shift data by update date](#1.4)\n",
    " - [1.5 Combine target variable, yfinance data, and fred.stlouisfed.org data](#1.5)\n",
    " - [1.6 Impute missing values](#1.6)\n",
    " \n",
    "[2. Feature engineering](#2)\n",
    "\n",
    "[3. Train LightGBM models](#3)\n",
    "\n",
    "[4. Predict](#4)\n"
   ]
  },
  {
   "cell_type": "markdown",
   "id": "a228c9e9",
   "metadata": {
    "papermill": {
     "duration": 0.015775,
     "end_time": "2022-10-09T23:39:33.501603",
     "exception": false,
     "start_time": "2022-10-09T23:39:33.485828",
     "status": "completed"
    },
    "tags": []
   },
   "source": [
    "<a id=\"0\"></a>\n",
    "\n",
    "# <left>0. Prep: install and load packages</left>\n",
    "\n",
    "[back to top](#toc)\n"
   ]
  },
  {
   "cell_type": "code",
   "execution_count": 1,
   "id": "71b26401",
   "metadata": {
    "_cell_guid": "b1076dfc-b9ad-4769-8c92-a6c4dae69d19",
    "_uuid": "8f2839f25d086af736a60e9eeb907d3b93b6e0e5",
    "execution": {
     "iopub.execute_input": "2022-10-09T23:39:33.536540Z",
     "iopub.status.busy": "2022-10-09T23:39:33.535527Z",
     "iopub.status.idle": "2022-10-09T23:39:33.549520Z",
     "shell.execute_reply": "2022-10-09T23:39:33.548421Z"
    },
    "papermill": {
     "duration": 0.034282,
     "end_time": "2022-10-09T23:39:33.551859",
     "exception": false,
     "start_time": "2022-10-09T23:39:33.517577",
     "status": "completed"
    },
    "tags": []
   },
   "outputs": [],
   "source": [
    "import pandas as pd\n",
    "import numpy as np\n",
    "import os\n",
    "import gc\n",
    "import copy\n",
    "from pathlib import Path\n",
    "from datetime import datetime, timedelta, date\n",
    "import time\n",
    "from dateutil.relativedelta import relativedelta \n",
    "\n",
    "import pyarrow.parquet as pq\n",
    "import pyarrow as pa\n",
    "\n",
    "from tqdm import tqdm"
   ]
  },
  {
   "cell_type": "code",
   "execution_count": 2,
   "id": "ce791c9c",
   "metadata": {
    "execution": {
     "iopub.execute_input": "2022-10-09T23:39:33.586943Z",
     "iopub.status.busy": "2022-10-09T23:39:33.586091Z",
     "iopub.status.idle": "2022-10-09T23:39:38.523443Z",
     "shell.execute_reply": "2022-10-09T23:39:38.522333Z"
    },
    "papermill": {
     "duration": 4.95729,
     "end_time": "2022-10-09T23:39:38.525742",
     "exception": false,
     "start_time": "2022-10-09T23:39:33.568452",
     "status": "completed"
    },
    "tags": []
   },
   "outputs": [
    {
     "data": {
      "text/plain": [
       "1"
      ]
     },
     "execution_count": 2,
     "metadata": {},
     "output_type": "execute_result"
    }
   ],
   "source": [
    "pd.options.display.max_rows = 100\n",
    "pd.options.display.max_columns = 100\n",
    "\n",
    "pd.options.display.float_format = '{:,.2f}'.format\n",
    "\n",
    "import warnings\n",
    "warnings.filterwarnings(\"ignore\")\n",
    "\n",
    "import pytorch_lightning as pl\n",
    "random_seed=1\n",
    "pl.seed_everything(random_seed)"
   ]
  },
  {
   "cell_type": "code",
   "execution_count": 3,
   "id": "b48799be",
   "metadata": {
    "_kg_hide-input": true,
    "_kg_hide-output": true,
    "execution": {
     "iopub.execute_input": "2022-10-09T23:39:38.561895Z",
     "iopub.status.busy": "2022-10-09T23:39:38.560187Z",
     "iopub.status.idle": "2022-10-09T23:40:18.113548Z",
     "shell.execute_reply": "2022-10-09T23:40:18.111992Z"
    },
    "papermill": {
     "duration": 39.574274,
     "end_time": "2022-10-09T23:40:18.116346",
     "exception": false,
     "start_time": "2022-10-09T23:39:38.542072",
     "status": "completed"
    },
    "scrolled": true,
    "tags": []
   },
   "outputs": [
    {
     "name": "stdout",
     "output_type": "stream",
     "text": [
      "Collecting mplfinance==0.12.9b1\r\n",
      "  Downloading mplfinance-0.12.9b1-py3-none-any.whl (70 kB)\r\n",
      "\u001b[2K     \u001b[90m━━━━━━━━━━━━━━━━━━━━━━━━━━━━━━━━━━━━━━━\u001b[0m \u001b[32m70.9/70.9 kB\u001b[0m \u001b[31m266.2 kB/s\u001b[0m eta \u001b[36m0:00:00\u001b[0m\r\n",
      "\u001b[?25hRequirement already satisfied: matplotlib in /opt/conda/lib/python3.7/site-packages (from mplfinance==0.12.9b1) (3.5.3)\r\n",
      "Requirement already satisfied: pandas in /opt/conda/lib/python3.7/site-packages (from mplfinance==0.12.9b1) (1.3.5)\r\n",
      "Requirement already satisfied: cycler>=0.10 in /opt/conda/lib/python3.7/site-packages (from matplotlib->mplfinance==0.12.9b1) (0.11.0)\r\n",
      "Requirement already satisfied: pillow>=6.2.0 in /opt/conda/lib/python3.7/site-packages (from matplotlib->mplfinance==0.12.9b1) (9.1.1)\r\n",
      "Requirement already satisfied: numpy>=1.17 in /opt/conda/lib/python3.7/site-packages (from matplotlib->mplfinance==0.12.9b1) (1.21.6)\r\n",
      "Requirement already satisfied: packaging>=20.0 in /opt/conda/lib/python3.7/site-packages (from matplotlib->mplfinance==0.12.9b1) (21.3)\r\n",
      "Requirement already satisfied: pyparsing>=2.2.1 in /opt/conda/lib/python3.7/site-packages (from matplotlib->mplfinance==0.12.9b1) (3.0.9)\r\n",
      "Requirement already satisfied: fonttools>=4.22.0 in /opt/conda/lib/python3.7/site-packages (from matplotlib->mplfinance==0.12.9b1) (4.33.3)\r\n",
      "Requirement already satisfied: kiwisolver>=1.0.1 in /opt/conda/lib/python3.7/site-packages (from matplotlib->mplfinance==0.12.9b1) (1.4.3)\r\n",
      "Requirement already satisfied: python-dateutil>=2.7 in /opt/conda/lib/python3.7/site-packages (from matplotlib->mplfinance==0.12.9b1) (2.8.2)\r\n",
      "Requirement already satisfied: pytz>=2017.3 in /opt/conda/lib/python3.7/site-packages (from pandas->mplfinance==0.12.9b1) (2022.1)\r\n",
      "Requirement already satisfied: typing-extensions in /opt/conda/lib/python3.7/site-packages (from kiwisolver>=1.0.1->matplotlib->mplfinance==0.12.9b1) (4.3.0)\r\n",
      "Requirement already satisfied: six>=1.5 in /opt/conda/lib/python3.7/site-packages (from python-dateutil>=2.7->matplotlib->mplfinance==0.12.9b1) (1.15.0)\r\n",
      "Installing collected packages: mplfinance\r\n",
      "Successfully installed mplfinance-0.12.9b1\r\n",
      "\u001b[33mWARNING: Running pip as the 'root' user can result in broken permissions and conflicting behaviour with the system package manager. It is recommended to use a virtual environment instead: https://pip.pypa.io/warnings/venv\u001b[0m\u001b[33m\r\n",
      "\u001b[0mCollecting yfinance==0.1.66\r\n",
      "  Downloading yfinance-0.1.66-py2.py3-none-any.whl (25 kB)\r\n",
      "Requirement already satisfied: requests>=2.20 in /opt/conda/lib/python3.7/site-packages (from yfinance==0.1.66) (2.28.1)\r\n",
      "Requirement already satisfied: lxml>=4.5.1 in /opt/conda/lib/python3.7/site-packages (from yfinance==0.1.66) (4.9.1)\r\n",
      "Collecting multitasking>=0.0.7\r\n",
      "  Downloading multitasking-0.0.11-py3-none-any.whl (8.5 kB)\r\n",
      "Requirement already satisfied: pandas>=0.24 in /opt/conda/lib/python3.7/site-packages (from yfinance==0.1.66) (1.3.5)\r\n",
      "Requirement already satisfied: numpy>=1.15 in /opt/conda/lib/python3.7/site-packages (from yfinance==0.1.66) (1.21.6)\r\n",
      "Requirement already satisfied: python-dateutil>=2.7.3 in /opt/conda/lib/python3.7/site-packages (from pandas>=0.24->yfinance==0.1.66) (2.8.2)\r\n",
      "Requirement already satisfied: pytz>=2017.3 in /opt/conda/lib/python3.7/site-packages (from pandas>=0.24->yfinance==0.1.66) (2022.1)\r\n",
      "Requirement already satisfied: charset-normalizer<3,>=2 in /opt/conda/lib/python3.7/site-packages (from requests>=2.20->yfinance==0.1.66) (2.1.0)\r\n",
      "Requirement already satisfied: urllib3<1.27,>=1.21.1 in /opt/conda/lib/python3.7/site-packages (from requests>=2.20->yfinance==0.1.66) (1.26.12)\r\n",
      "Requirement already satisfied: certifi>=2017.4.17 in /opt/conda/lib/python3.7/site-packages (from requests>=2.20->yfinance==0.1.66) (2022.6.15.2)\r\n",
      "Requirement already satisfied: idna<4,>=2.5 in /opt/conda/lib/python3.7/site-packages (from requests>=2.20->yfinance==0.1.66) (3.3)\r\n",
      "Requirement already satisfied: six>=1.5 in /opt/conda/lib/python3.7/site-packages (from python-dateutil>=2.7.3->pandas>=0.24->yfinance==0.1.66) (1.15.0)\r\n",
      "Installing collected packages: multitasking, yfinance\r\n",
      "Successfully installed multitasking-0.0.11 yfinance-0.1.66\r\n",
      "\u001b[33mWARNING: Running pip as the 'root' user can result in broken permissions and conflicting behaviour with the system package manager. It is recommended to use a virtual environment instead: https://pip.pypa.io/warnings/venv\u001b[0m\u001b[33m\r\n",
      "\u001b[0mCollecting fredapi\r\n",
      "  Downloading fredapi-0.5.0-py3-none-any.whl (11 kB)\r\n",
      "Requirement already satisfied: pandas in /opt/conda/lib/python3.7/site-packages (from fredapi) (1.3.5)\r\n",
      "Requirement already satisfied: python-dateutil>=2.7.3 in /opt/conda/lib/python3.7/site-packages (from pandas->fredapi) (2.8.2)\r\n",
      "Requirement already satisfied: pytz>=2017.3 in /opt/conda/lib/python3.7/site-packages (from pandas->fredapi) (2022.1)\r\n",
      "Requirement already satisfied: numpy>=1.17.3 in /opt/conda/lib/python3.7/site-packages (from pandas->fredapi) (1.21.6)\r\n",
      "Requirement already satisfied: six>=1.5 in /opt/conda/lib/python3.7/site-packages (from python-dateutil>=2.7.3->pandas->fredapi) (1.15.0)\r\n",
      "Installing collected packages: fredapi\r\n",
      "Successfully installed fredapi-0.5.0\r\n",
      "\u001b[33mWARNING: Running pip as the 'root' user can result in broken permissions and conflicting behaviour with the system package manager. It is recommended to use a virtual environment instead: https://pip.pypa.io/warnings/venv\u001b[0m\u001b[33m\r\n",
      "\u001b[0m"
     ]
    }
   ],
   "source": [
    "!pip install mplfinance==0.12.9b1\n",
    "!pip install yfinance==0.1.66\n",
    "!pip install fredapi"
   ]
  },
  {
   "cell_type": "markdown",
   "id": "2c35fa81",
   "metadata": {
    "papermill": {
     "duration": 0.017702,
     "end_time": "2022-10-09T23:40:18.151904",
     "exception": false,
     "start_time": "2022-10-09T23:40:18.134202",
     "status": "completed"
    },
    "tags": []
   },
   "source": [
    "\n",
    "\n",
    "<a id=\"1\"></a>\n",
    "\n",
    "# <left>1. Download data from yfinance and stlouisfed via API</left>\n",
    "\n",
    "[back to top](#toc)"
   ]
  },
  {
   "cell_type": "code",
   "execution_count": 4,
   "id": "787604d4",
   "metadata": {
    "execution": {
     "iopub.execute_input": "2022-10-09T23:40:18.190602Z",
     "iopub.status.busy": "2022-10-09T23:40:18.190173Z",
     "iopub.status.idle": "2022-10-09T23:40:18.204902Z",
     "shell.execute_reply": "2022-10-09T23:40:18.203574Z"
    },
    "papermill": {
     "duration": 0.037291,
     "end_time": "2022-10-09T23:40:18.207511",
     "exception": false,
     "start_time": "2022-10-09T23:40:18.170220",
     "status": "completed"
    },
    "tags": []
   },
   "outputs": [
    {
     "name": "stdout",
     "output_type": "stream",
     "text": [
      "['NASDAQ100_std125_chg200', 'MICH_ma_dist20_50', 'STLPPM_ma_dist20_50', 'GC=F_chg5', 'STLFSI3_pct_chg5', 'VIXCLS_chg20', 'VIX_zscore250', 'IRLTLT01JPM156N_std125', 'LFWA64TTJPM647S_volat60', 'WILLLRGCAPVAL_std60_chg200', 'GC=F_pct_chg20_above200dMA', 'PAYNSA_zscore200', 'T1YFF_pct_chg20', 'NIKKEI225_zscore120', 'LRUN64TTJPM156S_std125_chg200', 'T1YFF_ma_dist200_50', 'WILLSMLCAP_chg20', 'HSI_chg5', 'JPNASSETS_zscore120', 'NIKKEI225_std60_chg200', 'HSI_chg20', 'N225_pct_chg20', 'FVX_chg5', 'NASDAQ100_pct_chg10', 'RBJPBIS_ma_dist20_50', 'KS11_pct_chg5', 'WILLSMLCAP_chg10', 'T10Y2Y_pct_chg120', 'JTSOSL_std60_chg200', 'BAMLHYH0A0HYM2TRIV_std125_chg200', 'IRLTLT01JPM156N_std60_chg200', 'TB3SMFFM_zscore200', 'NIKKEI225_pct_chg10', 'RBJPBIS_zscore60', 'WILLREITIND_ma_dist20_50', 'LRUN64TTJPM156S_pct_chg250', 'MICH_pct_chg5', 'TNX_mean_std120', 'BAMLHE00EHYITRIV_chg10', 'VXNCLS_mean_std120', 'MYAGM2JPM189S_std125', 'BAA10YM_zscore120', 'T10Y3M_chg250', 'MYAGM2JPM189S_chg20', 'EXPINF1YR_chg5_above200dMA', 'NFCICREDIT_pct_chg60', 'GC=F_pct_chg10', 'REAINTRATREARAT1YE_pct_chg120', 'NDX_chg120', 'GVZCLS_chg5', 'KCFSI_chg20', 'AAA10Y_pct_chg5', 'TENEXPCHAINFRISPRE_ma_dist20_50', 'T5YIEM_pct_chg20', 'BAMLHE00EHYITRIV_chg5', 'USSLIND_pct_chg120', 'FVX_pct_chg10', 'T10YIEM_chg60', 'WILLREITIND_pct_chg20', 'BAA10Y_pct_chg10', 'T10YFF_chg10', 'LFWA64TTJPM647S_chg60', 'OVXCLS_volat60', 'RUT_pct_chg10', 'VXNCLS_chg10', 'BAA10Y_zscore250', 'NDX_chg10', 'T10Y2YM_zscore250', 'JPNASSETS', 'CPFF_pct_chg10', 'WILLREITIND_chg20', 'TNX_chg20', 'IRSTCI01JPM156N_chg20', 'GC=F_zscore60', 'CPFF_pct_chg250', 'CPFF_chg5', 'BAMLHYH0A3CMTRIV_chg10', 'CPFF_pct_chg5', 'VXNCLS_chg5', 'GC=F_chg20', 'FVX_pct_chg5', 'T10Y2Y_pct_chg250', 'FTSE_chg10', 'N100_std60_chg200', 'HSI_zscore60', 'NFCIRISK_pct_chg60', 'STLFSI3_pct_chg60', 'VIX_pct_chg10', 'RVXCLS_chg10', 'NFCICREDIT_pct_chg5', 'STLPPM_chg5', 'T3MFF_zscore60', 'ABCOMP_chg5', 'T10Y3M_pct_chg250', 'ABCOMP_pct_chg5', 'USSLIND_pct_chg20', 'STLPPM_pct_chg5', 'T3MFF_chg10', 'FVX_zscore200', 'VXDCLS_chg5', 'VIX_zscore60', 'VIX_chg20', 'STOXX50E_pct_chg10', 'DJI_zscore120', 'STLFSI3_chg5', 'NFCICREDIT', 'T10YIEM_pct_chg60', 'NDX_zscore60', 'HSI_chg10', 'AAAFF_pct_chg5', 'FTSE_mean_std120', 'MYAGM2JPM189S_chg5', 'BAMLHE00EHYITRIV_pct_chg250', 'REAINTRATREARAT1MO_ma_dist500_250', 'CPFF_pct_chg20', 'VXDCLS_pct_chg10', 'BAMLHYH0A3CMTRIV_zscore120', 'NFCI_chg5', 'FTSE_chg20', 'FVX_ma_dist20_50', 'T10YFF_pct_chg20', 'NFCILEVERAGE_chg250', 'BAMLHYH0A0HYM2TRIV_pct_chg10', 'T10Y2YM_std125_chg200', 'CFNAIDIFF_std60', 'N100_zscore120', 'DJI_chg10']\n",
      "127\n"
     ]
    }
   ],
   "source": [
    "final_feats = ['NASDAQ100_std125_chg200', 'MICH_ma_dist20_50', 'STLPPM_ma_dist20_50', 'GC=F_chg5', 'STLFSI3_pct_chg5', 'VIXCLS_chg20', 'VIX_zscore250', 'IRLTLT01JPM156N_std125', 'LFWA64TTJPM647S_volat60', 'WILLLRGCAPVAL_std60_chg200', 'GC=F_pct_chg20_above200dMA', 'PAYNSA_zscore200', 'T1YFF_pct_chg20', 'NIKKEI225_zscore120', 'LRUN64TTJPM156S_std125_chg200', 'T1YFF_ma_dist200_50', 'WILLSMLCAP_chg20', 'HSI_chg5', 'JPNASSETS_zscore120', 'NIKKEI225_std60_chg200', 'HSI_chg20', 'N225_pct_chg20', 'FVX_chg5', 'NASDAQ100_pct_chg10', 'RBJPBIS_ma_dist20_50', 'KS11_pct_chg5', 'WILLSMLCAP_chg10', 'T10Y2Y_pct_chg120', 'JTSOSL_std60_chg200', 'BAMLHYH0A0HYM2TRIV_std125_chg200', 'IRLTLT01JPM156N_std60_chg200', 'TB3SMFFM_zscore200', 'NIKKEI225_pct_chg10', 'RBJPBIS_zscore60', 'WILLREITIND_ma_dist20_50', 'LRUN64TTJPM156S_pct_chg250', 'MICH_pct_chg5', 'TNX_mean_std120', 'BAMLHE00EHYITRIV_chg10', 'VXNCLS_mean_std120', 'MYAGM2JPM189S_std125', 'BAA10YM_zscore120', 'T10Y3M_chg250', 'MYAGM2JPM189S_chg20', 'EXPINF1YR_chg5_above200dMA', 'NFCICREDIT_pct_chg60', 'GC=F_pct_chg10', 'REAINTRATREARAT1YE_pct_chg120', 'NDX_chg120', 'GVZCLS_chg5', 'KCFSI_chg20', 'AAA10Y_pct_chg5', 'TENEXPCHAINFRISPRE_ma_dist20_50', 'T5YIEM_pct_chg20', 'BAMLHE00EHYITRIV_chg5', 'USSLIND_pct_chg120', 'FVX_pct_chg10', 'T10YIEM_chg60', 'WILLREITIND_pct_chg20', 'BAA10Y_pct_chg10', 'T10YFF_chg10', 'LFWA64TTJPM647S_chg60', 'OVXCLS_volat60', 'RUT_pct_chg10', 'VXNCLS_chg10', 'BAA10Y_zscore250', 'NDX_chg10', 'T10Y2YM_zscore250', 'JPNASSETS', 'CPFF_pct_chg10', 'WILLREITIND_chg20', 'TNX_chg20', 'IRSTCI01JPM156N_chg20', 'GC=F_zscore60', 'CPFF_pct_chg250', 'CPFF_chg5', 'BAMLHYH0A3CMTRIV_chg10', 'CPFF_pct_chg5', 'VXNCLS_chg5', 'GC=F_chg20', 'FVX_pct_chg5', 'T10Y2Y_pct_chg250', 'FTSE_chg10', 'N100_std60_chg200', 'HSI_zscore60', 'NFCIRISK_pct_chg60', 'STLFSI3_pct_chg60', 'VIX_pct_chg10', 'RVXCLS_chg10', 'NFCICREDIT_pct_chg5', 'STLPPM_chg5', 'T3MFF_zscore60', 'ABCOMP_chg5', 'T10Y3M_pct_chg250', 'ABCOMP_pct_chg5', 'USSLIND_pct_chg20', 'STLPPM_pct_chg5', 'T3MFF_chg10', 'FVX_zscore200', 'VXDCLS_chg5', 'VIX_zscore60', 'VIX_chg20', 'STOXX50E_pct_chg10', 'DJI_zscore120', 'STLFSI3_chg5', 'NFCICREDIT', 'T10YIEM_pct_chg60', 'NDX_zscore60', 'HSI_chg10', 'AAAFF_pct_chg5', 'FTSE_mean_std120', 'MYAGM2JPM189S_chg5', 'BAMLHE00EHYITRIV_pct_chg250', 'REAINTRATREARAT1MO_ma_dist500_250', 'CPFF_pct_chg20', 'VXDCLS_pct_chg10', 'BAMLHYH0A3CMTRIV_zscore120', 'NFCI_chg5', 'FTSE_chg20', 'FVX_ma_dist20_50', 'T10YFF_pct_chg20', 'NFCILEVERAGE_chg250', 'BAMLHYH0A0HYM2TRIV_pct_chg10', 'T10Y2YM_std125_chg200', 'CFNAIDIFF_std60', 'N100_zscore120', 'DJI_chg10']\n",
    "\n",
    "print(final_feats)\n",
    "print(len(final_feats))"
   ]
  },
  {
   "cell_type": "code",
   "execution_count": 5,
   "id": "5362acfd",
   "metadata": {
    "execution": {
     "iopub.execute_input": "2022-10-09T23:40:18.245565Z",
     "iopub.status.busy": "2022-10-09T23:40:18.245165Z",
     "iopub.status.idle": "2022-10-09T23:40:18.250600Z",
     "shell.execute_reply": "2022-10-09T23:40:18.249406Z"
    },
    "papermill": {
     "duration": 0.027005,
     "end_time": "2022-10-09T23:40:18.252660",
     "exception": false,
     "start_time": "2022-10-09T23:40:18.225655",
     "status": "completed"
    },
    "tags": []
   },
   "outputs": [],
   "source": [
    "raw_feats = []\n",
    "for feat in final_feats:\n",
    "    raw_feats.append(feat.split('_')[0])\n",
    "    \n",
    "raw_feats = list(set(raw_feats))"
   ]
  },
  {
   "cell_type": "code",
   "execution_count": 6,
   "id": "86b087a7",
   "metadata": {
    "execution": {
     "iopub.execute_input": "2022-10-09T23:40:18.291264Z",
     "iopub.status.busy": "2022-10-09T23:40:18.290859Z",
     "iopub.status.idle": "2022-10-09T23:40:18.297786Z",
     "shell.execute_reply": "2022-10-09T23:40:18.296432Z"
    },
    "papermill": {
     "duration": 0.028655,
     "end_time": "2022-10-09T23:40:18.300027",
     "exception": false,
     "start_time": "2022-10-09T23:40:18.271372",
     "status": "completed"
    },
    "tags": []
   },
   "outputs": [
    {
     "name": "stdout",
     "output_type": "stream",
     "text": [
      "65 ['IRLTLT01JPM156N', 'TB3SMFFM', 'PAYNSA', 'AAA10Y', 'NIKKEI225', 'NASDAQ100', 'REAINTRATREARAT1YE', 'RBJPBIS', 'N225', 'T10YIEM', 'FVX', 'T10Y2Y', 'T10YFF', 'NFCILEVERAGE', 'STOXX50E', 'KS11', 'BAA10YM', 'VIX', 'WILLLRGCAPVAL', 'TENEXPCHAINFRISPRE', 'VIXCLS', 'ABCOMP', 'WILLREITIND', 'RUT', 'JTSOSL', 'JPNASSETS', 'VXDCLS', 'CFNAIDIFF', 'VXNCLS', 'OVXCLS', 'N100', 'STLFSI3', 'KCFSI', 'MICH', 'LFWA64TTJPM647S', 'USSLIND', 'BAMLHYH0A3CMTRIV', 'REAINTRATREARAT1MO', 'NFCI', 'NFCICREDIT', 'EXPINF1YR', 'STLPPM', 'NDX', 'T1YFF', 'LRUN64TTJPM156S', 'BAMLHE00EHYITRIV', 'T5YIEM', 'CPFF', 'GVZCLS', 'BAA10Y', 'GC=F', 'T10Y2YM', 'TNX', 'AAAFF', 'BAMLHYH0A0HYM2TRIV', 'IRSTCI01JPM156N', 'HSI', 'NFCIRISK', 'T10Y3M', 'MYAGM2JPM189S', 'RVXCLS', 'FTSE', 'DJI', 'T3MFF', 'WILLSMLCAP']\n"
     ]
    }
   ],
   "source": [
    "print(len(raw_feats), raw_feats)"
   ]
  },
  {
   "cell_type": "code",
   "execution_count": 7,
   "id": "374a7ec3",
   "metadata": {
    "execution": {
     "iopub.execute_input": "2022-10-09T23:40:18.338597Z",
     "iopub.status.busy": "2022-10-09T23:40:18.338216Z",
     "iopub.status.idle": "2022-10-09T23:40:18.343830Z",
     "shell.execute_reply": "2022-10-09T23:40:18.342638Z"
    },
    "papermill": {
     "duration": 0.028047,
     "end_time": "2022-10-09T23:40:18.346067",
     "exception": false,
     "start_time": "2022-10-09T23:40:18.318020",
     "status": "completed"
    },
    "tags": []
   },
   "outputs": [],
   "source": [
    "#https://sg.finance.yahoo.com/world-indices/\n",
    "#https://sg.finance.yahoo.com/bonds/\n",
    "#https://sg.finance.yahoo.com/commodities/\n",
    "benchmark_tickers = ['^GSPC', '^DJI', '^IXIC', '^RUT', '^VIX', \n",
    "                     '^TYX', '^TNX','^FVX', '^IRX','^NDX', 'DX-Y.NYB',  'EEM','IEMG','^FTSE','^STOXX50E',\n",
    "                     '^N225', 'JPY=X', '^KS11', 'GC=F', 'CL=F', '^HSI', '^KLSE', '^N100'\n",
    "                    ]#'^SPX'"
   ]
  },
  {
   "cell_type": "code",
   "execution_count": 8,
   "id": "97fd99c4",
   "metadata": {
    "execution": {
     "iopub.execute_input": "2022-10-09T23:40:18.385199Z",
     "iopub.status.busy": "2022-10-09T23:40:18.384707Z",
     "iopub.status.idle": "2022-10-09T23:40:18.393166Z",
     "shell.execute_reply": "2022-10-09T23:40:18.392048Z"
    },
    "papermill": {
     "duration": 0.031386,
     "end_time": "2022-10-09T23:40:18.395420",
     "exception": false,
     "start_time": "2022-10-09T23:40:18.364034",
     "status": "completed"
    },
    "tags": []
   },
   "outputs": [
    {
     "name": "stdout",
     "output_type": "stream",
     "text": [
      "['^GSPC', '^N225', '^FVX', '^STOXX50E', '^KS11', '^VIX', '^RUT', '^N100', '^NDX', 'GC=F', '^TNX', '^HSI', '^FTSE', '^DJI']\n",
      "['IRLTLT01JPM156N', 'TB3SMFFM', 'PAYNSA', 'AAA10Y', 'NIKKEI225', 'NASDAQ100', 'REAINTRATREARAT1YE', 'RBJPBIS', 'T10YIEM', 'T10Y2Y', 'T10YFF', 'NFCILEVERAGE', 'BAA10YM', 'WILLLRGCAPVAL', 'TENEXPCHAINFRISPRE', 'VIXCLS', 'ABCOMP', 'WILLREITIND', 'JTSOSL', 'JPNASSETS', 'VXDCLS', 'CFNAIDIFF', 'VXNCLS', 'OVXCLS', 'STLFSI3', 'KCFSI', 'MICH', 'LFWA64TTJPM647S', 'USSLIND', 'BAMLHYH0A3CMTRIV', 'REAINTRATREARAT1MO', 'NFCI', 'NFCICREDIT', 'EXPINF1YR', 'STLPPM', 'T1YFF', 'LRUN64TTJPM156S', 'BAMLHE00EHYITRIV', 'T5YIEM', 'CPFF', 'GVZCLS', 'BAA10Y', 'T10Y2YM', 'AAAFF', 'BAMLHYH0A0HYM2TRIV', 'IRSTCI01JPM156N', 'NFCIRISK', 'T10Y3M', 'MYAGM2JPM189S', 'RVXCLS', 'T3MFF', 'WILLSMLCAP']\n"
     ]
    }
   ],
   "source": [
    "yfinance_tickers = ['^GSPC']\n",
    "fed_tickers = []\n",
    "for f in raw_feats:\n",
    "    if (f'^{f}' in benchmark_tickers):\n",
    "        yfinance_tickers.append(f'^{f}')\n",
    "    elif (f'{f}' in benchmark_tickers):\n",
    "        yfinance_tickers.append(f'{f}')\n",
    "    else:\n",
    "        fed_tickers.append(f)\n",
    "        \n",
    "print(yfinance_tickers)\n",
    "print(fed_tickers)"
   ]
  },
  {
   "cell_type": "markdown",
   "id": "dfa4ede1",
   "metadata": {
    "papermill": {
     "duration": 0.01778,
     "end_time": "2022-10-09T23:40:18.431429",
     "exception": false,
     "start_time": "2022-10-09T23:40:18.413649",
     "status": "completed"
    },
    "tags": []
   },
   "source": [
    "<a id=\"1.1\"></a>\n",
    "\n",
    "## <left>1.1 Download data from yfinance</left>\n",
    "\n",
    "\n",
    "[back to top](#toc)\n"
   ]
  },
  {
   "cell_type": "code",
   "execution_count": 9,
   "id": "cb3ada34",
   "metadata": {
    "execution": {
     "iopub.execute_input": "2022-10-09T23:40:18.469165Z",
     "iopub.status.busy": "2022-10-09T23:40:18.468760Z",
     "iopub.status.idle": "2022-10-09T23:40:18.483199Z",
     "shell.execute_reply": "2022-10-09T23:40:18.481969Z"
    },
    "papermill": {
     "duration": 0.036284,
     "end_time": "2022-10-09T23:40:18.485667",
     "exception": false,
     "start_time": "2022-10-09T23:40:18.449383",
     "status": "completed"
    },
    "tags": []
   },
   "outputs": [],
   "source": [
    "import yfinance as yf"
   ]
  },
  {
   "cell_type": "code",
   "execution_count": 10,
   "id": "f48938ab",
   "metadata": {
    "execution": {
     "iopub.execute_input": "2022-10-09T23:40:18.523359Z",
     "iopub.status.busy": "2022-10-09T23:40:18.522943Z",
     "iopub.status.idle": "2022-10-09T23:42:39.127624Z",
     "shell.execute_reply": "2022-10-09T23:42:39.126322Z"
    },
    "papermill": {
     "duration": 140.644012,
     "end_time": "2022-10-09T23:42:39.147831",
     "exception": false,
     "start_time": "2022-10-09T23:40:18.503819",
     "status": "completed"
    },
    "tags": []
   },
   "outputs": [
    {
     "name": "stdout",
     "output_type": "stream",
     "text": [
      "^GSPC S&P 500 2022-10-09 23:40:29.137319 ^GSPC (18311, 7) 1950-01-03 00:00:00 2022-10-07 00:00:00\n",
      "^N225 Nikkei 225 2022-10-09 23:40:39.362469 ^N225 (14205, 7) 1965-01-05 00:00:00 2022-10-07 00:00:00\n",
      "^FVX Treasury Yield 5 Years 2022-10-09 23:40:49.445964 ^FVX (15204, 7) 1962-01-02 00:00:00 2022-10-07 00:00:00\n",
      "^STOXX50E ESTX 50 PR.EUR 2022-10-09 23:40:58.826143 ^STOXX50E (3892, 7) 2007-03-30 00:00:00 2022-10-07 00:00:00\n",
      "^KS11 KOSPI Composite Index 2022-10-09 23:41:09.243587 ^KS11 (6364, 7) 1996-12-11 00:00:00 2022-10-07 00:00:00\n",
      "^VIX CBOE Volatility Index 2022-10-09 23:41:18.936160 ^VIX (8257, 7) 1990-01-02 00:00:00 2022-10-07 00:00:00\n",
      "^RUT Russell 2000 2022-10-09 23:41:29.732809 ^RUT (8841, 7) 1987-09-10 00:00:00 2022-10-07 00:00:00\n",
      "^N100 Euronext 100 Index 2022-10-09 23:41:39.291650 ^N100 (5824, 7) 1999-12-31 00:00:00 2022-10-07 00:00:00\n",
      "^NDX NASDAQ 100 2022-10-09 23:41:48.867650 ^NDX (9332, 7) 1985-10-01 00:00:00 2022-10-07 00:00:00\n",
      "GC=F Gold Dec 22 2022-10-09 23:41:59.084350 GC=F (5548, 7) 2000-08-30 00:00:00 2022-10-09 00:00:00\n",
      "^TNX CBOE Interest Rate 10 Year T No 2022-10-09 23:42:08.900213 ^TNX (15204, 7) 1962-01-02 00:00:00 2022-10-07 00:00:00\n",
      "^HSI HANG SENG INDEX 2022-10-09 23:42:18.782024 ^HSI (8833, 7) 1986-12-31 00:00:00 2022-10-07 00:00:00\n",
      "^FTSE FTSE 100 2022-10-09 23:42:28.591211 ^FTSE (9793, 7) 1984-01-03 00:00:00 2022-10-07 00:00:00\n",
      "^DJI Dow Jones Industrial Average 2022-10-09 23:42:39.123501 ^DJI (7751, 7) 1992-01-02 00:00:00 2022-10-07 00:00:00\n"
     ]
    }
   ],
   "source": [
    "#https://github.com/ranaroussi/yfinance/blob/main/yfinance/base.py\n",
    "#     def history(self, period=\"1mo\", interval=\"1d\",\n",
    "#                 start=None, end=None, prepost=False, actions=True,\n",
    "#                 auto_adjust=True, back_adjust=False,\n",
    "#                 proxy=None, rounding=False, tz=None, timeout=None, **kwargs):\n",
    "\n",
    "dfs = {}\n",
    "\n",
    "for ticker in  yfinance_tickers:\n",
    "    cur_data = yf.Ticker(ticker)\n",
    "    hist = cur_data.history(period=\"max\")\n",
    "    print(ticker, cur_data.info['shortName'], datetime.now(), ticker, hist.shape, hist.index.min(), hist.index.max())\n",
    "\n",
    "    dfs[ticker] = hist\n",
    "    \n"
   ]
  },
  {
   "cell_type": "markdown",
   "id": "23094ec9",
   "metadata": {
    "papermill": {
     "duration": 0.019155,
     "end_time": "2022-10-09T23:42:39.186155",
     "exception": false,
     "start_time": "2022-10-09T23:42:39.167000",
     "status": "completed"
    },
    "tags": []
   },
   "source": [
    "<a id=\"1.2\"></a>\n",
    "\n",
    "## <left>1.2 Download data from yfinance</left>\n",
    "\n",
    "\n",
    "[back to top](#toc)\n"
   ]
  },
  {
   "cell_type": "code",
   "execution_count": 11,
   "id": "f57f8c61",
   "metadata": {
    "execution": {
     "iopub.execute_input": "2022-10-09T23:42:39.226766Z",
     "iopub.status.busy": "2022-10-09T23:42:39.226052Z",
     "iopub.status.idle": "2022-10-09T23:42:39.230882Z",
     "shell.execute_reply": "2022-10-09T23:42:39.230140Z"
    },
    "papermill": {
     "duration": 0.027936,
     "end_time": "2022-10-09T23:42:39.232923",
     "exception": false,
     "start_time": "2022-10-09T23:42:39.204987",
     "status": "completed"
    },
    "tags": []
   },
   "outputs": [],
   "source": [
    "df_target = dfs['^GSPC'].copy(deep=True)\n"
   ]
  },
  {
   "cell_type": "code",
   "execution_count": 12,
   "id": "1a4db940",
   "metadata": {
    "execution": {
     "iopub.execute_input": "2022-10-09T23:42:39.273918Z",
     "iopub.status.busy": "2022-10-09T23:42:39.273214Z",
     "iopub.status.idle": "2022-10-09T23:42:53.456493Z",
     "shell.execute_reply": "2022-10-09T23:42:53.455343Z"
    },
    "papermill": {
     "duration": 14.206709,
     "end_time": "2022-10-09T23:42:53.459464",
     "exception": false,
     "start_time": "2022-10-09T23:42:39.252755",
     "status": "completed"
    },
    "tags": []
   },
   "outputs": [],
   "source": [
    "#15day_pct change\n",
    "df_target['pct_chg15'] = df_target['Close'].pct_change(15)\n",
    "df_target['regime_change'] = df_target['pct_chg15'].rolling(window=5000, min_periods=2000).apply(lambda x:x[:-1].quantile(q=0.05)>x[-1])\n",
    "#in the papers, the authors did not describe shifting the target. \n",
    "#here shift the target by n days to use X on d0 to predict if there will be a crisis regime in n days\n",
    "df_target['target'] = df_target['regime_change'].shift(-3)"
   ]
  },
  {
   "cell_type": "code",
   "execution_count": 13,
   "id": "aa092260",
   "metadata": {
    "execution": {
     "iopub.execute_input": "2022-10-09T23:42:53.500605Z",
     "iopub.status.busy": "2022-10-09T23:42:53.499933Z",
     "iopub.status.idle": "2022-10-09T23:42:53.848377Z",
     "shell.execute_reply": "2022-10-09T23:42:53.847206Z"
    },
    "papermill": {
     "duration": 0.372023,
     "end_time": "2022-10-09T23:42:53.851487",
     "exception": false,
     "start_time": "2022-10-09T23:42:53.479464",
     "status": "completed"
    },
    "tags": []
   },
   "outputs": [
    {
     "data": {
      "text/plain": [
       "<AxesSubplot:xlabel='Date'>"
      ]
     },
     "execution_count": 13,
     "metadata": {},
     "output_type": "execute_result"
    },
    {
     "data": {
      "image/png": "[encoded data removed]",
      "text/plain": [
       "<Figure size 1152x360 with 1 Axes>"
      ]
     },
     "metadata": {
      "needs_background": "light"
     },
     "output_type": "display_data"
    }
   ],
   "source": [
    "df_target[['regime_change', 'target']].tail(100).plot(figsize=(16, 5))"
   ]
  },
  {
   "cell_type": "code",
   "execution_count": 14,
   "id": "c76790b3",
   "metadata": {
    "execution": {
     "iopub.execute_input": "2022-10-09T23:42:53.894644Z",
     "iopub.status.busy": "2022-10-09T23:42:53.894259Z",
     "iopub.status.idle": "2022-10-09T23:42:53.901334Z",
     "shell.execute_reply": "2022-10-09T23:42:53.900305Z"
    },
    "papermill": {
     "duration": 0.031149,
     "end_time": "2022-10-09T23:42:53.903595",
     "exception": false,
     "start_time": "2022-10-09T23:42:53.872446",
     "status": "completed"
    },
    "tags": []
   },
   "outputs": [
    {
     "data": {
      "text/plain": [
       "Timestamp('2022-10-07 00:00:00')"
      ]
     },
     "execution_count": 14,
     "metadata": {},
     "output_type": "execute_result"
    }
   ],
   "source": [
    "max_date = df_target.index.max()\n",
    "max_date"
   ]
  },
  {
   "cell_type": "markdown",
   "id": "be04393f",
   "metadata": {
    "papermill": {
     "duration": 0.019366,
     "end_time": "2022-10-09T23:42:53.942986",
     "exception": false,
     "start_time": "2022-10-09T23:42:53.923620",
     "status": "completed"
    },
    "tags": []
   },
   "source": [
    "<a id=\"1.3\"></a>\n",
    "\n",
    "## <left>1.3 Download data from [fred.stlouisfed.org](https://fred.stlouisfed.org/)</left>\n",
    "\n",
    "[back to top](#toc)\n",
    "\n"
   ]
  },
  {
   "cell_type": "code",
   "execution_count": 15,
   "id": "b94eb071",
   "metadata": {
    "execution": {
     "iopub.execute_input": "2022-10-09T23:42:53.984901Z",
     "iopub.status.busy": "2022-10-09T23:42:53.984524Z",
     "iopub.status.idle": "2022-10-09T23:42:53.991507Z",
     "shell.execute_reply": "2022-10-09T23:42:53.990576Z"
    },
    "papermill": {
     "duration": 0.030555,
     "end_time": "2022-10-09T23:42:53.993549",
     "exception": false,
     "start_time": "2022-10-09T23:42:53.962994",
     "status": "completed"
    },
    "tags": []
   },
   "outputs": [],
   "source": [
    "# https://www.multpl.com/s-p-500-dividend-yield/table/by-month\n",
    "# https://www.multpl.com/s-p-500-earnings\n",
    "# https://www.multpl.com/s-p-500-pe-ratio/table/by-month\n",
    "# https://www.multpl.com/shiller-pe/table/by-year\n",
    "#https://fred.stlouisfed.org/categories/46\n",
    "\n",
    "#https://fredaccount.stlouisfed.org/apikeys\n",
    "#https://mortada.net/python-api-for-fred.html\n",
    "#https://github.com/mortada/fredapi\n",
    "#https://www.briancjenkins.com/fredpy/docs/build/html/fredpy_examples.html\n",
    "from fredapi import Fred\n",
    "fred = Fred('c8d4f8e608b42f6d85dd037f2080e451')"
   ]
  },
  {
   "cell_type": "code",
   "execution_count": 16,
   "id": "bf554152",
   "metadata": {
    "_kg_hide-input": true,
    "_kg_hide-output": true,
    "execution": {
     "iopub.execute_input": "2022-10-09T23:42:54.035844Z",
     "iopub.status.busy": "2022-10-09T23:42:54.035109Z",
     "iopub.status.idle": "2022-10-09T23:42:54.041794Z",
     "shell.execute_reply": "2022-10-09T23:42:54.040693Z"
    },
    "papermill": {
     "duration": 0.030445,
     "end_time": "2022-10-09T23:42:54.044329",
     "exception": false,
     "start_time": "2022-10-09T23:42:54.013884",
     "status": "completed"
    },
    "tags": []
   },
   "outputs": [
    {
     "data": {
      "text/plain": [
       "['_Fred__do_series_search',\n",
       " '_Fred__fetch_data',\n",
       " '_Fred__get_search_results',\n",
       " '__class__',\n",
       " '__delattr__',\n",
       " '__dict__',\n",
       " '__dir__',\n",
       " '__doc__',\n",
       " '__eq__',\n",
       " '__format__',\n",
       " '__ge__',\n",
       " '__getattribute__',\n",
       " '__gt__',\n",
       " '__hash__',\n",
       " '__init__',\n",
       " '__init_subclass__',\n",
       " '__le__',\n",
       " '__lt__',\n",
       " '__module__',\n",
       " '__ne__',\n",
       " '__new__',\n",
       " '__reduce__',\n",
       " '__reduce_ex__',\n",
       " '__repr__',\n",
       " '__setattr__',\n",
       " '__sizeof__',\n",
       " '__str__',\n",
       " '__subclasshook__',\n",
       " '__weakref__',\n",
       " '_parse',\n",
       " 'api_key',\n",
       " 'earliest_realtime_start',\n",
       " 'get_series',\n",
       " 'get_series_all_releases',\n",
       " 'get_series_as_of_date',\n",
       " 'get_series_first_release',\n",
       " 'get_series_info',\n",
       " 'get_series_latest_release',\n",
       " 'get_series_vintage_dates',\n",
       " 'latest_realtime_end',\n",
       " 'max_results_per_request',\n",
       " 'nan_char',\n",
       " 'root_url',\n",
       " 'search',\n",
       " 'search_by_category',\n",
       " 'search_by_release']"
      ]
     },
     "execution_count": 16,
     "metadata": {},
     "output_type": "execute_result"
    }
   ],
   "source": [
    "dir(fred)"
   ]
  },
  {
   "cell_type": "code",
   "execution_count": 17,
   "id": "be6088b4",
   "metadata": {
    "_kg_hide-input": true,
    "_kg_hide-output": true,
    "execution": {
     "iopub.execute_input": "2022-10-09T23:42:54.086769Z",
     "iopub.status.busy": "2022-10-09T23:42:54.086369Z",
     "iopub.status.idle": "2022-10-09T23:42:54.092427Z",
     "shell.execute_reply": "2022-10-09T23:42:54.091204Z"
    },
    "papermill": {
     "duration": 0.029746,
     "end_time": "2022-10-09T23:42:54.094949",
     "exception": false,
     "start_time": "2022-10-09T23:42:54.065203",
     "status": "completed"
    },
    "tags": []
   },
   "outputs": [
    {
     "name": "stdout",
     "output_type": "stream",
     "text": [
      "Help on method get_series in module fredapi.fred:\n",
      "\n",
      "get_series(series_id, observation_start=None, observation_end=None, **kwargs) method of fredapi.fred.Fred instance\n",
      "    Get data for a Fred series id. This fetches the latest known data, and is equivalent to get_series_latest_release()\n",
      "    \n",
      "    Parameters\n",
      "    ----------\n",
      "    series_id : str\n",
      "        Fred series id such as 'CPIAUCSL'\n",
      "    observation_start : datetime or datetime-like str such as '7/1/2014', optional\n",
      "        earliest observation date\n",
      "    observation_end : datetime or datetime-like str such as '7/1/2014', optional\n",
      "        latest observation date\n",
      "    kwargs : additional parameters\n",
      "        Any additional parameters supported by FRED. You can see https://api.stlouisfed.org/docs/fred/series_observations.html for the full list\n",
      "    \n",
      "    Returns\n",
      "    -------\n",
      "    data : Series\n",
      "        a Series where each index is the observation date and the value is the data for the Fred series\n",
      "\n"
     ]
    }
   ],
   "source": [
    "help(fred.get_series)"
   ]
  },
  {
   "cell_type": "code",
   "execution_count": 18,
   "id": "c5890f0a",
   "metadata": {
    "execution": {
     "iopub.execute_input": "2022-10-09T23:42:54.138615Z",
     "iopub.status.busy": "2022-10-09T23:42:54.137614Z",
     "iopub.status.idle": "2022-10-09T23:43:46.562761Z",
     "shell.execute_reply": "2022-10-09T23:43:46.561713Z"
    },
    "papermill": {
     "duration": 52.450539,
     "end_time": "2022-10-09T23:43:46.566018",
     "exception": false,
     "start_time": "2022-10-09T23:42:54.115479",
     "status": "completed"
    },
    "tags": []
   },
   "outputs": [
    {
     "name": "stderr",
     "output_type": "stream",
     "text": [
      "100%|██████████| 52/52 [00:52<00:00,  1.01s/it]"
     ]
    },
    {
     "name": "stdout",
     "output_type": "stream",
     "text": [
      "CPU times: user 739 ms, sys: 57.7 ms, total: 797 ms\n",
      "Wall time: 52.4 s\n"
     ]
    },
    {
     "name": "stderr",
     "output_type": "stream",
     "text": [
      "\n"
     ]
    }
   ],
   "source": [
    "%%time\n",
    "desc_dfs = []\n",
    "for series_id in tqdm(fed_tickers):\n",
    "    desc_dfs.append(fred.get_series_info(series_id))\n",
    "    "
   ]
  },
  {
   "cell_type": "code",
   "execution_count": 19,
   "id": "383dbf66",
   "metadata": {
    "execution": {
     "iopub.execute_input": "2022-10-09T23:43:46.615000Z",
     "iopub.status.busy": "2022-10-09T23:43:46.614558Z",
     "iopub.status.idle": "2022-10-09T23:43:46.630591Z",
     "shell.execute_reply": "2022-10-09T23:43:46.629546Z"
    },
    "papermill": {
     "duration": 0.04354,
     "end_time": "2022-10-09T23:43:46.633246",
     "exception": false,
     "start_time": "2022-10-09T23:43:46.589706",
     "status": "completed"
    },
    "tags": []
   },
   "outputs": [],
   "source": [
    "df_desc = pd.concat(desc_dfs, axis=1).T\n",
    "df_desc['popularity'] = df_desc['popularity'].astype(int)\n",
    "df_desc['discontinued'] = df_desc['title'].apply(lambda x: 'DISCONTINUED' in x)\n",
    "df_desc.sort_values(by='popularity', ascending=False, inplace=True)"
   ]
  },
  {
   "cell_type": "code",
   "execution_count": 20,
   "id": "a1541bc7",
   "metadata": {
    "execution": {
     "iopub.execute_input": "2022-10-09T23:43:46.682359Z",
     "iopub.status.busy": "2022-10-09T23:43:46.681922Z",
     "iopub.status.idle": "2022-10-09T23:43:46.689892Z",
     "shell.execute_reply": "2022-10-09T23:43:46.688634Z"
    },
    "papermill": {
     "duration": 0.035311,
     "end_time": "2022-10-09T23:43:46.692309",
     "exception": false,
     "start_time": "2022-10-09T23:43:46.656998",
     "status": "completed"
    },
    "tags": []
   },
   "outputs": [],
   "source": [
    "df_desc.index=df_desc['id']\n",
    "df_desc.index.name='series_id'\n",
    "\n",
    "df_desc['last_updated'] = pd.to_datetime(df_desc['last_updated'].values)"
   ]
  },
  {
   "cell_type": "markdown",
   "id": "b121ea93",
   "metadata": {
    "papermill": {
     "duration": 0.023419,
     "end_time": "2022-10-09T23:43:46.739583",
     "exception": false,
     "start_time": "2022-10-09T23:43:46.716164",
     "status": "completed"
    },
    "tags": []
   },
   "source": [
    "# !!!! Make sure all the fed_tickers can be retrieved via API\n",
    "\n",
    "- this is validated by comparing `df_desc.shape[0]` and `len(fed_tickers)`"
   ]
  },
  {
   "cell_type": "code",
   "execution_count": 21,
   "id": "0602260f",
   "metadata": {
    "execution": {
     "iopub.execute_input": "2022-10-09T23:43:46.789412Z",
     "iopub.status.busy": "2022-10-09T23:43:46.788995Z",
     "iopub.status.idle": "2022-10-09T23:43:46.795757Z",
     "shell.execute_reply": "2022-10-09T23:43:46.794749Z"
    },
    "papermill": {
     "duration": 0.034114,
     "end_time": "2022-10-09T23:43:46.797714",
     "exception": false,
     "start_time": "2022-10-09T23:43:46.763600",
     "status": "completed"
    },
    "tags": []
   },
   "outputs": [
    {
     "data": {
      "text/plain": [
       "((52, 16), 52)"
      ]
     },
     "execution_count": 21,
     "metadata": {},
     "output_type": "execute_result"
    }
   ],
   "source": [
    "df_desc.shape, len(fed_tickers)"
   ]
  },
  {
   "cell_type": "code",
   "execution_count": 22,
   "id": "95633ec6",
   "metadata": {
    "execution": {
     "iopub.execute_input": "2022-10-09T23:43:46.847601Z",
     "iopub.status.busy": "2022-10-09T23:43:46.846762Z",
     "iopub.status.idle": "2022-10-09T23:43:46.893290Z",
     "shell.execute_reply": "2022-10-09T23:43:46.891875Z"
    },
    "papermill": {
     "duration": 0.076108,
     "end_time": "2022-10-09T23:43:46.897597",
     "exception": false,
     "start_time": "2022-10-09T23:43:46.821489",
     "status": "completed"
    },
    "tags": []
   },
   "outputs": [
    {
     "data": {
      "text/html": [
       "<div>\n",
       "<style scoped>\n",
       "    .dataframe tbody tr th:only-of-type {\n",
       "        vertical-align: middle;\n",
       "    }\n",
       "\n",
       "    .dataframe tbody tr th {\n",
       "        vertical-align: top;\n",
       "    }\n",
       "\n",
       "    .dataframe thead th {\n",
       "        text-align: right;\n",
       "    }\n",
       "</style>\n",
       "<table border=\"1\" class=\"dataframe\">\n",
       "  <thead>\n",
       "    <tr style=\"text-align: right;\">\n",
       "      <th></th>\n",
       "      <th>id</th>\n",
       "      <th>realtime_start</th>\n",
       "      <th>realtime_end</th>\n",
       "      <th>title</th>\n",
       "      <th>observation_start</th>\n",
       "      <th>observation_end</th>\n",
       "      <th>frequency</th>\n",
       "      <th>frequency_short</th>\n",
       "      <th>units</th>\n",
       "      <th>units_short</th>\n",
       "      <th>seasonal_adjustment</th>\n",
       "      <th>seasonal_adjustment_short</th>\n",
       "      <th>last_updated</th>\n",
       "      <th>popularity</th>\n",
       "      <th>notes</th>\n",
       "      <th>discontinued</th>\n",
       "    </tr>\n",
       "    <tr>\n",
       "      <th>series_id</th>\n",
       "      <th></th>\n",
       "      <th></th>\n",
       "      <th></th>\n",
       "      <th></th>\n",
       "      <th></th>\n",
       "      <th></th>\n",
       "      <th></th>\n",
       "      <th></th>\n",
       "      <th></th>\n",
       "      <th></th>\n",
       "      <th></th>\n",
       "      <th></th>\n",
       "      <th></th>\n",
       "      <th></th>\n",
       "      <th></th>\n",
       "      <th></th>\n",
       "    </tr>\n",
       "  </thead>\n",
       "  <tbody>\n",
       "    <tr>\n",
       "      <th>T10Y2Y</th>\n",
       "      <td>T10Y2Y</td>\n",
       "      <td>2022-10-09</td>\n",
       "      <td>2022-10-09</td>\n",
       "      <td>10-Year Treasury Constant Maturity Minus 2-Yea...</td>\n",
       "      <td>1976-06-01</td>\n",
       "      <td>2022-10-07</td>\n",
       "      <td>Daily</td>\n",
       "      <td>D</td>\n",
       "      <td>Percent</td>\n",
       "      <td>%</td>\n",
       "      <td>Not Seasonally Adjusted</td>\n",
       "      <td>NSA</td>\n",
       "      <td>2022-10-07 16:01:02-05:00</td>\n",
       "      <td>100</td>\n",
       "      <td>Starting with the update on June 21, 2019, the...</td>\n",
       "      <td>False</td>\n",
       "    </tr>\n",
       "    <tr>\n",
       "      <th>T10Y3M</th>\n",
       "      <td>T10Y3M</td>\n",
       "      <td>2022-10-09</td>\n",
       "      <td>2022-10-09</td>\n",
       "      <td>10-Year Treasury Constant Maturity Minus 3-Mon...</td>\n",
       "      <td>1982-01-04</td>\n",
       "      <td>2022-10-07</td>\n",
       "      <td>Daily</td>\n",
       "      <td>D</td>\n",
       "      <td>Percent</td>\n",
       "      <td>%</td>\n",
       "      <td>Not Seasonally Adjusted</td>\n",
       "      <td>NSA</td>\n",
       "      <td>2022-10-07 16:01:02-05:00</td>\n",
       "      <td>93</td>\n",
       "      <td>Series is calculated as the spread between 10-...</td>\n",
       "      <td>False</td>\n",
       "    </tr>\n",
       "    <tr>\n",
       "      <th>VIXCLS</th>\n",
       "      <td>VIXCLS</td>\n",
       "      <td>2022-10-09</td>\n",
       "      <td>2022-10-09</td>\n",
       "      <td>CBOE Volatility Index: VIX</td>\n",
       "      <td>1990-01-02</td>\n",
       "      <td>2022-10-06</td>\n",
       "      <td>Daily, Close</td>\n",
       "      <td>D</td>\n",
       "      <td>Index</td>\n",
       "      <td>Index</td>\n",
       "      <td>Not Seasonally Adjusted</td>\n",
       "      <td>NSA</td>\n",
       "      <td>2022-10-07 08:36:04-05:00</td>\n",
       "      <td>77</td>\n",
       "      <td>VIX measures market expectation of near term v...</td>\n",
       "      <td>False</td>\n",
       "    </tr>\n",
       "    <tr>\n",
       "      <th>BAA10Y</th>\n",
       "      <td>BAA10Y</td>\n",
       "      <td>2022-10-09</td>\n",
       "      <td>2022-10-09</td>\n",
       "      <td>Moody's Seasoned Baa Corporate Bond Yield Rela...</td>\n",
       "      <td>1986-01-02</td>\n",
       "      <td>2022-10-06</td>\n",
       "      <td>Daily</td>\n",
       "      <td>D</td>\n",
       "      <td>Percent</td>\n",
       "      <td>%</td>\n",
       "      <td>Not Seasonally Adjusted</td>\n",
       "      <td>NSA</td>\n",
       "      <td>2022-10-07 16:02:02-05:00</td>\n",
       "      <td>77</td>\n",
       "      <td>Series is calculated as the spread between Moo...</td>\n",
       "      <td>False</td>\n",
       "    </tr>\n",
       "    <tr>\n",
       "      <th>MICH</th>\n",
       "      <td>MICH</td>\n",
       "      <td>2022-10-09</td>\n",
       "      <td>2022-10-09</td>\n",
       "      <td>University of Michigan: Inflation Expectation</td>\n",
       "      <td>1978-01-01</td>\n",
       "      <td>2022-08-01</td>\n",
       "      <td>Monthly</td>\n",
       "      <td>M</td>\n",
       "      <td>Percent</td>\n",
       "      <td>%</td>\n",
       "      <td>Not Seasonally Adjusted</td>\n",
       "      <td>NSA</td>\n",
       "      <td>2022-09-30 10:01:01-05:00</td>\n",
       "      <td>76</td>\n",
       "      <td>Median expected price change next 12 months, S...</td>\n",
       "      <td>False</td>\n",
       "    </tr>\n",
       "    <tr>\n",
       "      <th>NFCI</th>\n",
       "      <td>NFCI</td>\n",
       "      <td>2022-10-09</td>\n",
       "      <td>2022-10-09</td>\n",
       "      <td>Chicago Fed National Financial Conditions Index</td>\n",
       "      <td>1971-01-08</td>\n",
       "      <td>2022-09-30</td>\n",
       "      <td>Weekly, Ending Friday</td>\n",
       "      <td>W</td>\n",
       "      <td>Index</td>\n",
       "      <td>Index</td>\n",
       "      <td>Not Seasonally Adjusted</td>\n",
       "      <td>NSA</td>\n",
       "      <td>2022-10-05 07:33:03-05:00</td>\n",
       "      <td>76</td>\n",
       "      <td>The Chicago Fed's National Financial Condition...</td>\n",
       "      <td>False</td>\n",
       "    </tr>\n",
       "    <tr>\n",
       "      <th>T10YFF</th>\n",
       "      <td>T10YFF</td>\n",
       "      <td>2022-10-09</td>\n",
       "      <td>2022-10-09</td>\n",
       "      <td>10-Year Treasury Constant Maturity Minus Feder...</td>\n",
       "      <td>1962-01-02</td>\n",
       "      <td>2022-10-06</td>\n",
       "      <td>Daily</td>\n",
       "      <td>D</td>\n",
       "      <td>Percent</td>\n",
       "      <td>%</td>\n",
       "      <td>Not Seasonally Adjusted</td>\n",
       "      <td>NSA</td>\n",
       "      <td>2022-10-07 16:01:03-05:00</td>\n",
       "      <td>74</td>\n",
       "      <td>Series is calculated as the spread between 10-...</td>\n",
       "      <td>False</td>\n",
       "    </tr>\n",
       "    <tr>\n",
       "      <th>AAA10Y</th>\n",
       "      <td>AAA10Y</td>\n",
       "      <td>2022-10-09</td>\n",
       "      <td>2022-10-09</td>\n",
       "      <td>Moody's Seasoned Aaa Corporate Bond Yield Rela...</td>\n",
       "      <td>1983-01-03</td>\n",
       "      <td>2022-10-06</td>\n",
       "      <td>Daily</td>\n",
       "      <td>D</td>\n",
       "      <td>Percent</td>\n",
       "      <td>%</td>\n",
       "      <td>Not Seasonally Adjusted</td>\n",
       "      <td>NSA</td>\n",
       "      <td>2022-10-07 16:02:03-05:00</td>\n",
       "      <td>69</td>\n",
       "      <td>Series is calculated as the spread between Moo...</td>\n",
       "      <td>False</td>\n",
       "    </tr>\n",
       "    <tr>\n",
       "      <th>STLFSI3</th>\n",
       "      <td>STLFSI3</td>\n",
       "      <td>2022-10-09</td>\n",
       "      <td>2022-10-09</td>\n",
       "      <td>St. Louis Fed Financial Stress Index</td>\n",
       "      <td>1993-12-31</td>\n",
       "      <td>2022-09-30</td>\n",
       "      <td>Weekly, Ending Friday</td>\n",
       "      <td>W</td>\n",
       "      <td>Index</td>\n",
       "      <td>Index</td>\n",
       "      <td>Not Seasonally Adjusted</td>\n",
       "      <td>NSA</td>\n",
       "      <td>2022-10-06 09:00:03-05:00</td>\n",
       "      <td>68</td>\n",
       "      <td>The STLFSI3 measures the degree of financial s...</td>\n",
       "      <td>False</td>\n",
       "    </tr>\n",
       "    <tr>\n",
       "      <th>USSLIND</th>\n",
       "      <td>USSLIND</td>\n",
       "      <td>2022-10-09</td>\n",
       "      <td>2022-10-09</td>\n",
       "      <td>Leading Index for the United States</td>\n",
       "      <td>1982-01-01</td>\n",
       "      <td>2020-02-01</td>\n",
       "      <td>Monthly</td>\n",
       "      <td>M</td>\n",
       "      <td>Percent</td>\n",
       "      <td>%</td>\n",
       "      <td>Seasonally Adjusted</td>\n",
       "      <td>SA</td>\n",
       "      <td>2020-04-14 09:16:10-05:00</td>\n",
       "      <td>67</td>\n",
       "      <td>The leading index for each state predicts the ...</td>\n",
       "      <td>False</td>\n",
       "    </tr>\n",
       "    <tr>\n",
       "      <th>BAMLHYH0A0HYM2TRIV</th>\n",
       "      <td>BAMLHYH0A0HYM2TRIV</td>\n",
       "      <td>2022-10-09</td>\n",
       "      <td>2022-10-09</td>\n",
       "      <td>ICE BofA US High Yield Index Total Return Inde...</td>\n",
       "      <td>1986-08-31</td>\n",
       "      <td>2022-10-06</td>\n",
       "      <td>Daily, Close</td>\n",
       "      <td>D</td>\n",
       "      <td>Index</td>\n",
       "      <td>Index</td>\n",
       "      <td>Not Seasonally Adjusted</td>\n",
       "      <td>NSA</td>\n",
       "      <td>2022-10-07 09:16:11-05:00</td>\n",
       "      <td>65</td>\n",
       "      <td>This data represents the ICE BofA US High Yiel...</td>\n",
       "      <td>False</td>\n",
       "    </tr>\n",
       "    <tr>\n",
       "      <th>REAINTRATREARAT1YE</th>\n",
       "      <td>REAINTRATREARAT1YE</td>\n",
       "      <td>2022-10-09</td>\n",
       "      <td>2022-10-09</td>\n",
       "      <td>1-Year Real Interest Rate</td>\n",
       "      <td>1982-01-01</td>\n",
       "      <td>2022-09-01</td>\n",
       "      <td>Monthly</td>\n",
       "      <td>M</td>\n",
       "      <td>Percent</td>\n",
       "      <td>%</td>\n",
       "      <td>Not Seasonally Adjusted</td>\n",
       "      <td>NSA</td>\n",
       "      <td>2022-09-13 15:01:02-05:00</td>\n",
       "      <td>60</td>\n",
       "      <td>The Federal Reserve Bank of Cleveland estimate...</td>\n",
       "      <td>False</td>\n",
       "    </tr>\n",
       "    <tr>\n",
       "      <th>EXPINF1YR</th>\n",
       "      <td>EXPINF1YR</td>\n",
       "      <td>2022-10-09</td>\n",
       "      <td>2022-10-09</td>\n",
       "      <td>1-Year Expected Inflation</td>\n",
       "      <td>1982-01-01</td>\n",
       "      <td>2022-09-01</td>\n",
       "      <td>Monthly</td>\n",
       "      <td>M</td>\n",
       "      <td>Percent</td>\n",
       "      <td>%</td>\n",
       "      <td>Not Seasonally Adjusted</td>\n",
       "      <td>NSA</td>\n",
       "      <td>2022-09-13 15:01:02-05:00</td>\n",
       "      <td>60</td>\n",
       "      <td>The Federal Reserve Bank of Cleveland estimate...</td>\n",
       "      <td>False</td>\n",
       "    </tr>\n",
       "    <tr>\n",
       "      <th>T10Y2YM</th>\n",
       "      <td>T10Y2YM</td>\n",
       "      <td>2022-10-09</td>\n",
       "      <td>2022-10-09</td>\n",
       "      <td>10-Year Treasury Constant Maturity Minus 2-Yea...</td>\n",
       "      <td>1976-06-01</td>\n",
       "      <td>2022-09-01</td>\n",
       "      <td>Monthly</td>\n",
       "      <td>M</td>\n",
       "      <td>Percent</td>\n",
       "      <td>%</td>\n",
       "      <td>Not Seasonally Adjusted</td>\n",
       "      <td>NSA</td>\n",
       "      <td>2022-10-03 16:01:02-05:00</td>\n",
       "      <td>57</td>\n",
       "      <td>Series is calculated as the spread between 10-...</td>\n",
       "      <td>False</td>\n",
       "    </tr>\n",
       "    <tr>\n",
       "      <th>GVZCLS</th>\n",
       "      <td>GVZCLS</td>\n",
       "      <td>2022-10-09</td>\n",
       "      <td>2022-10-09</td>\n",
       "      <td>CBOE Gold ETF Volatility Index</td>\n",
       "      <td>2008-06-03</td>\n",
       "      <td>2022-10-06</td>\n",
       "      <td>Daily, Close</td>\n",
       "      <td>D</td>\n",
       "      <td>Index</td>\n",
       "      <td>Index</td>\n",
       "      <td>Not Seasonally Adjusted</td>\n",
       "      <td>NSA</td>\n",
       "      <td>2022-10-07 08:36:03-05:00</td>\n",
       "      <td>56</td>\n",
       "      <td>Exchange Traded Funds (ETFs) are shares of tru...</td>\n",
       "      <td>False</td>\n",
       "    </tr>\n",
       "    <tr>\n",
       "      <th>NASDAQ100</th>\n",
       "      <td>NASDAQ100</td>\n",
       "      <td>2022-10-09</td>\n",
       "      <td>2022-10-09</td>\n",
       "      <td>NASDAQ 100 Index</td>\n",
       "      <td>1986-01-02</td>\n",
       "      <td>2022-10-06</td>\n",
       "      <td>Daily, Close</td>\n",
       "      <td>D</td>\n",
       "      <td>Index</td>\n",
       "      <td>Index</td>\n",
       "      <td>Not Seasonally Adjusted</td>\n",
       "      <td>NSA</td>\n",
       "      <td>2022-10-07 07:06:02-05:00</td>\n",
       "      <td>55</td>\n",
       "      <td>The observations for the NASDAQ 100 Index repr...</td>\n",
       "      <td>False</td>\n",
       "    </tr>\n",
       "    <tr>\n",
       "      <th>JPNASSETS</th>\n",
       "      <td>JPNASSETS</td>\n",
       "      <td>2022-10-09</td>\n",
       "      <td>2022-10-09</td>\n",
       "      <td>Bank of Japan: Total Assets for Japan</td>\n",
       "      <td>1998-04-01</td>\n",
       "      <td>2022-08-01</td>\n",
       "      <td>Monthly, End of Period</td>\n",
       "      <td>M</td>\n",
       "      <td>100 Million Yen</td>\n",
       "      <td>100 Mil. Yen</td>\n",
       "      <td>Not Seasonally Adjusted</td>\n",
       "      <td>NSA</td>\n",
       "      <td>2022-09-04 20:11:01-05:00</td>\n",
       "      <td>55</td>\n",
       "      <td>Copyright, 2016, Bank of Japan.</td>\n",
       "      <td>False</td>\n",
       "    </tr>\n",
       "    <tr>\n",
       "      <th>NFCICREDIT</th>\n",
       "      <td>NFCICREDIT</td>\n",
       "      <td>2022-10-09</td>\n",
       "      <td>2022-10-09</td>\n",
       "      <td>Chicago Fed National Financial Conditions Cred...</td>\n",
       "      <td>1971-01-08</td>\n",
       "      <td>2022-09-30</td>\n",
       "      <td>Weekly, Ending Friday</td>\n",
       "      <td>W</td>\n",
       "      <td>Index</td>\n",
       "      <td>Index</td>\n",
       "      <td>Not Seasonally Adjusted</td>\n",
       "      <td>NSA</td>\n",
       "      <td>2022-10-05 07:33:21-05:00</td>\n",
       "      <td>54</td>\n",
       "      <td>The Chicago Fed’s National Financial Condition...</td>\n",
       "      <td>False</td>\n",
       "    </tr>\n",
       "    <tr>\n",
       "      <th>NIKKEI225</th>\n",
       "      <td>NIKKEI225</td>\n",
       "      <td>2022-10-09</td>\n",
       "      <td>2022-10-09</td>\n",
       "      <td>Nikkei Stock Average, Nikkei 225</td>\n",
       "      <td>1949-05-16</td>\n",
       "      <td>2022-10-07</td>\n",
       "      <td>Daily, Close</td>\n",
       "      <td>D</td>\n",
       "      <td>Index</td>\n",
       "      <td>Index</td>\n",
       "      <td>Not Seasonally Adjusted</td>\n",
       "      <td>NSA</td>\n",
       "      <td>2022-10-07 07:02:06-05:00</td>\n",
       "      <td>54</td>\n",
       "      <td>The observations for the Nikkei Stock Average,...</td>\n",
       "      <td>False</td>\n",
       "    </tr>\n",
       "    <tr>\n",
       "      <th>KCFSI</th>\n",
       "      <td>KCFSI</td>\n",
       "      <td>2022-10-09</td>\n",
       "      <td>2022-10-09</td>\n",
       "      <td>Kansas City Financial Stress Index</td>\n",
       "      <td>1990-02-01</td>\n",
       "      <td>2022-08-01</td>\n",
       "      <td>Monthly</td>\n",
       "      <td>M</td>\n",
       "      <td>Index</td>\n",
       "      <td>Index</td>\n",
       "      <td>Not Seasonally Adjusted</td>\n",
       "      <td>NSA</td>\n",
       "      <td>2022-09-09 14:16:02-05:00</td>\n",
       "      <td>54</td>\n",
       "      <td>Starting with the September 14, 2021, release,...</td>\n",
       "      <td>False</td>\n",
       "    </tr>\n",
       "    <tr>\n",
       "      <th>IRLTLT01JPM156N</th>\n",
       "      <td>IRLTLT01JPM156N</td>\n",
       "      <td>2022-10-09</td>\n",
       "      <td>2022-10-09</td>\n",
       "      <td>Long-Term Government Bond Yields: 10-year: Mai...</td>\n",
       "      <td>1989-01-01</td>\n",
       "      <td>2022-08-01</td>\n",
       "      <td>Monthly</td>\n",
       "      <td>M</td>\n",
       "      <td>Percent</td>\n",
       "      <td>%</td>\n",
       "      <td>Not Seasonally Adjusted</td>\n",
       "      <td>NSA</td>\n",
       "      <td>2022-09-14 14:51:03-05:00</td>\n",
       "      <td>52</td>\n",
       "      <td>OECD descriptor ID: IRLTLT01 OECD unit ID: ST ...</td>\n",
       "      <td>False</td>\n",
       "    </tr>\n",
       "    <tr>\n",
       "      <th>T10YIEM</th>\n",
       "      <td>T10YIEM</td>\n",
       "      <td>2022-10-09</td>\n",
       "      <td>2022-10-09</td>\n",
       "      <td>10-Year Breakeven Inflation Rate</td>\n",
       "      <td>2003-01-01</td>\n",
       "      <td>2022-09-01</td>\n",
       "      <td>Monthly</td>\n",
       "      <td>M</td>\n",
       "      <td>Percent</td>\n",
       "      <td>%</td>\n",
       "      <td>Not Seasonally Adjusted</td>\n",
       "      <td>NSA</td>\n",
       "      <td>2022-10-03 16:01:04-05:00</td>\n",
       "      <td>51</td>\n",
       "      <td>The breakeven inflation rate represents a meas...</td>\n",
       "      <td>False</td>\n",
       "    </tr>\n",
       "    <tr>\n",
       "      <th>TB3SMFFM</th>\n",
       "      <td>TB3SMFFM</td>\n",
       "      <td>2022-10-09</td>\n",
       "      <td>2022-10-09</td>\n",
       "      <td>3-Month Treasury Bill Minus Federal Funds Rate</td>\n",
       "      <td>1954-07-01</td>\n",
       "      <td>2022-09-01</td>\n",
       "      <td>Monthly</td>\n",
       "      <td>M</td>\n",
       "      <td>Percent</td>\n",
       "      <td>%</td>\n",
       "      <td>Not Seasonally Adjusted</td>\n",
       "      <td>NSA</td>\n",
       "      <td>2022-10-03 16:01:03-05:00</td>\n",
       "      <td>51</td>\n",
       "      <td>Series is calculated as the spread between 3-M...</td>\n",
       "      <td>False</td>\n",
       "    </tr>\n",
       "    <tr>\n",
       "      <th>NFCILEVERAGE</th>\n",
       "      <td>NFCILEVERAGE</td>\n",
       "      <td>2022-10-09</td>\n",
       "      <td>2022-10-09</td>\n",
       "      <td>Chicago Fed National Financial Conditions Leve...</td>\n",
       "      <td>1971-01-08</td>\n",
       "      <td>2022-09-30</td>\n",
       "      <td>Weekly, Ending Friday</td>\n",
       "      <td>W</td>\n",
       "      <td>Index</td>\n",
       "      <td>Index</td>\n",
       "      <td>Not Seasonally Adjusted</td>\n",
       "      <td>NSA</td>\n",
       "      <td>2022-10-05 07:33:33-05:00</td>\n",
       "      <td>49</td>\n",
       "      <td>The Chicago Fed’s National Financial Condition...</td>\n",
       "      <td>False</td>\n",
       "    </tr>\n",
       "    <tr>\n",
       "      <th>CPFF</th>\n",
       "      <td>CPFF</td>\n",
       "      <td>2022-10-09</td>\n",
       "      <td>2022-10-09</td>\n",
       "      <td>3-Month Commercial Paper Minus Federal Funds Rate</td>\n",
       "      <td>1997-01-02</td>\n",
       "      <td>2022-10-06</td>\n",
       "      <td>Daily</td>\n",
       "      <td>D</td>\n",
       "      <td>Percent</td>\n",
       "      <td>%</td>\n",
       "      <td>Not Seasonally Adjusted</td>\n",
       "      <td>NSA</td>\n",
       "      <td>2022-10-07 16:01:02-05:00</td>\n",
       "      <td>49</td>\n",
       "      <td>Series is calculated as the spread between 3-M...</td>\n",
       "      <td>False</td>\n",
       "    </tr>\n",
       "    <tr>\n",
       "      <th>MYAGM2JPM189S</th>\n",
       "      <td>MYAGM2JPM189S</td>\n",
       "      <td>2022-10-09</td>\n",
       "      <td>2022-10-09</td>\n",
       "      <td>M2 for Japan</td>\n",
       "      <td>1955-01-01</td>\n",
       "      <td>2017-02-01</td>\n",
       "      <td>Monthly</td>\n",
       "      <td>M</td>\n",
       "      <td>National Currency</td>\n",
       "      <td>National Currency</td>\n",
       "      <td>Seasonally Adjusted</td>\n",
       "      <td>SA</td>\n",
       "      <td>2017-07-03 11:31:03-05:00</td>\n",
       "      <td>48</td>\n",
       "      <td>M2 comprises notes and coins in circulation ou...</td>\n",
       "      <td>False</td>\n",
       "    </tr>\n",
       "    <tr>\n",
       "      <th>T1YFF</th>\n",
       "      <td>T1YFF</td>\n",
       "      <td>2022-10-09</td>\n",
       "      <td>2022-10-09</td>\n",
       "      <td>1-Year Treasury Constant Maturity Minus Federa...</td>\n",
       "      <td>1962-01-02</td>\n",
       "      <td>2022-10-06</td>\n",
       "      <td>Daily</td>\n",
       "      <td>D</td>\n",
       "      <td>Percent</td>\n",
       "      <td>%</td>\n",
       "      <td>Not Seasonally Adjusted</td>\n",
       "      <td>NSA</td>\n",
       "      <td>2022-10-07 16:01:03-05:00</td>\n",
       "      <td>48</td>\n",
       "      <td>Series is calculated as the spread between 1-Y...</td>\n",
       "      <td>False</td>\n",
       "    </tr>\n",
       "    <tr>\n",
       "      <th>PAYNSA</th>\n",
       "      <td>PAYNSA</td>\n",
       "      <td>2022-10-09</td>\n",
       "      <td>2022-10-09</td>\n",
       "      <td>All Employees, Total Nonfarm</td>\n",
       "      <td>1939-01-01</td>\n",
       "      <td>2022-09-01</td>\n",
       "      <td>Monthly</td>\n",
       "      <td>M</td>\n",
       "      <td>Thousands of Persons</td>\n",
       "      <td>Thous. of Persons</td>\n",
       "      <td>Not Seasonally Adjusted</td>\n",
       "      <td>NSA</td>\n",
       "      <td>2022-10-07 07:44:06-05:00</td>\n",
       "      <td>47</td>\n",
       "      <td>All Employees: Total Nonfarm, commonly known a...</td>\n",
       "      <td>False</td>\n",
       "    </tr>\n",
       "    <tr>\n",
       "      <th>OVXCLS</th>\n",
       "      <td>OVXCLS</td>\n",
       "      <td>2022-10-09</td>\n",
       "      <td>2022-10-09</td>\n",
       "      <td>CBOE Crude Oil ETF Volatility Index</td>\n",
       "      <td>2007-05-10</td>\n",
       "      <td>2022-10-06</td>\n",
       "      <td>Daily, Close</td>\n",
       "      <td>D</td>\n",
       "      <td>Index</td>\n",
       "      <td>Index</td>\n",
       "      <td>Not Seasonally Adjusted</td>\n",
       "      <td>NSA</td>\n",
       "      <td>2022-10-07 08:36:03-05:00</td>\n",
       "      <td>46</td>\n",
       "      <td>Exchange Traded Funds (ETFs) are shares of tru...</td>\n",
       "      <td>False</td>\n",
       "    </tr>\n",
       "    <tr>\n",
       "      <th>LFWA64TTJPM647S</th>\n",
       "      <td>LFWA64TTJPM647S</td>\n",
       "      <td>2022-10-09</td>\n",
       "      <td>2022-10-09</td>\n",
       "      <td>Working Age Population: Aged 15-64: All Person...</td>\n",
       "      <td>1970-01-01</td>\n",
       "      <td>2022-07-01</td>\n",
       "      <td>Monthly</td>\n",
       "      <td>M</td>\n",
       "      <td>Persons</td>\n",
       "      <td>Persons</td>\n",
       "      <td>Seasonally Adjusted</td>\n",
       "      <td>SA</td>\n",
       "      <td>2022-09-14 14:50:03-05:00</td>\n",
       "      <td>46</td>\n",
       "      <td>OECD descriptor ID: LFWA64TT OECD unit ID: STS...</td>\n",
       "      <td>False</td>\n",
       "    </tr>\n",
       "    <tr>\n",
       "      <th>NFCIRISK</th>\n",
       "      <td>NFCIRISK</td>\n",
       "      <td>2022-10-09</td>\n",
       "      <td>2022-10-09</td>\n",
       "      <td>Chicago Fed National Financial Conditions Risk...</td>\n",
       "      <td>1971-01-08</td>\n",
       "      <td>2022-09-30</td>\n",
       "      <td>Weekly, Ending Friday</td>\n",
       "      <td>W</td>\n",
       "      <td>Index</td>\n",
       "      <td>Index</td>\n",
       "      <td>Not Seasonally Adjusted</td>\n",
       "      <td>NSA</td>\n",
       "      <td>2022-10-05 07:33:44-05:00</td>\n",
       "      <td>45</td>\n",
       "      <td>The Chicago Fed’s National Financial Condition...</td>\n",
       "      <td>False</td>\n",
       "    </tr>\n",
       "    <tr>\n",
       "      <th>AAAFF</th>\n",
       "      <td>AAAFF</td>\n",
       "      <td>2022-10-09</td>\n",
       "      <td>2022-10-09</td>\n",
       "      <td>Moody's Seasoned Aaa Corporate Bond Minus Fede...</td>\n",
       "      <td>1983-01-03</td>\n",
       "      <td>2022-10-06</td>\n",
       "      <td>Daily</td>\n",
       "      <td>D</td>\n",
       "      <td>Percent</td>\n",
       "      <td>%</td>\n",
       "      <td>Not Seasonally Adjusted</td>\n",
       "      <td>NSA</td>\n",
       "      <td>2022-10-07 16:02:02-05:00</td>\n",
       "      <td>41</td>\n",
       "      <td>Series is calculated as the spread between Moo...</td>\n",
       "      <td>False</td>\n",
       "    </tr>\n",
       "    <tr>\n",
       "      <th>BAMLHE00EHYITRIV</th>\n",
       "      <td>BAMLHE00EHYITRIV</td>\n",
       "      <td>2022-10-09</td>\n",
       "      <td>2022-10-09</td>\n",
       "      <td>ICE BofA Euro High Yield Index Total Return In...</td>\n",
       "      <td>1997-12-31</td>\n",
       "      <td>2022-10-06</td>\n",
       "      <td>Daily, Close</td>\n",
       "      <td>D</td>\n",
       "      <td>Index</td>\n",
       "      <td>Index</td>\n",
       "      <td>Not Seasonally Adjusted</td>\n",
       "      <td>NSA</td>\n",
       "      <td>2022-10-07 09:15:10-05:00</td>\n",
       "      <td>41</td>\n",
       "      <td>This data represents the ICE BofA Euro High Yi...</td>\n",
       "      <td>False</td>\n",
       "    </tr>\n",
       "    <tr>\n",
       "      <th>T3MFF</th>\n",
       "      <td>T3MFF</td>\n",
       "      <td>2022-10-09</td>\n",
       "      <td>2022-10-09</td>\n",
       "      <td>3-Month Treasury Constant Maturity Minus Feder...</td>\n",
       "      <td>1982-01-04</td>\n",
       "      <td>2022-10-06</td>\n",
       "      <td>Daily</td>\n",
       "      <td>D</td>\n",
       "      <td>Percent</td>\n",
       "      <td>%</td>\n",
       "      <td>Not Seasonally Adjusted</td>\n",
       "      <td>NSA</td>\n",
       "      <td>2022-10-07 16:01:03-05:00</td>\n",
       "      <td>41</td>\n",
       "      <td>Series is calculated as the spread between 3-M...</td>\n",
       "      <td>False</td>\n",
       "    </tr>\n",
       "    <tr>\n",
       "      <th>RBJPBIS</th>\n",
       "      <td>RBJPBIS</td>\n",
       "      <td>2022-10-09</td>\n",
       "      <td>2022-10-09</td>\n",
       "      <td>Real Broad Effective Exchange Rate for Japan</td>\n",
       "      <td>1994-01-01</td>\n",
       "      <td>2022-08-01</td>\n",
       "      <td>Monthly</td>\n",
       "      <td>M</td>\n",
       "      <td>Index 2010=100</td>\n",
       "      <td>Index 2010=100</td>\n",
       "      <td>Not Seasonally Adjusted</td>\n",
       "      <td>NSA</td>\n",
       "      <td>2022-09-22 11:01:09-05:00</td>\n",
       "      <td>40</td>\n",
       "      <td>Real effective exchange rates are calculated a...</td>\n",
       "      <td>False</td>\n",
       "    </tr>\n",
       "    <tr>\n",
       "      <th>STLPPM</th>\n",
       "      <td>STLPPM</td>\n",
       "      <td>2022-10-09</td>\n",
       "      <td>2022-10-09</td>\n",
       "      <td>Price Pressures Measure</td>\n",
       "      <td>1990-01-01</td>\n",
       "      <td>2022-09-01</td>\n",
       "      <td>Monthly</td>\n",
       "      <td>M</td>\n",
       "      <td>Probability</td>\n",
       "      <td>Probability</td>\n",
       "      <td>Not Seasonally Adjusted</td>\n",
       "      <td>NSA</td>\n",
       "      <td>2022-09-30 20:20:02-05:00</td>\n",
       "      <td>40</td>\n",
       "      <td>This series measures the probability that the ...</td>\n",
       "      <td>False</td>\n",
       "    </tr>\n",
       "    <tr>\n",
       "      <th>WILLREITIND</th>\n",
       "      <td>WILLREITIND</td>\n",
       "      <td>2022-10-09</td>\n",
       "      <td>2022-10-09</td>\n",
       "      <td>Wilshire US Real Estate Investment Trust Total...</td>\n",
       "      <td>1977-12-30</td>\n",
       "      <td>2022-10-06</td>\n",
       "      <td>Daily, Close</td>\n",
       "      <td>D</td>\n",
       "      <td>Index</td>\n",
       "      <td>Index</td>\n",
       "      <td>Not Seasonally Adjusted</td>\n",
       "      <td>NSA</td>\n",
       "      <td>2022-10-07 07:04:03-05:00</td>\n",
       "      <td>40</td>\n",
       "      <td>The observations for the Wilshire US Real Esta...</td>\n",
       "      <td>False</td>\n",
       "    </tr>\n",
       "    <tr>\n",
       "      <th>LRUN64TTJPM156S</th>\n",
       "      <td>LRUN64TTJPM156S</td>\n",
       "      <td>2022-10-09</td>\n",
       "      <td>2022-10-09</td>\n",
       "      <td>Unemployment Rate: Aged 15-64: All Persons for...</td>\n",
       "      <td>1970-01-01</td>\n",
       "      <td>2022-07-01</td>\n",
       "      <td>Monthly</td>\n",
       "      <td>M</td>\n",
       "      <td>Percent</td>\n",
       "      <td>%</td>\n",
       "      <td>Seasonally Adjusted</td>\n",
       "      <td>SA</td>\n",
       "      <td>2022-09-14 14:50:03-05:00</td>\n",
       "      <td>40</td>\n",
       "      <td>OECD descriptor ID: LRUN64TT OECD unit ID: STS...</td>\n",
       "      <td>False</td>\n",
       "    </tr>\n",
       "    <tr>\n",
       "      <th>VXNCLS</th>\n",
       "      <td>VXNCLS</td>\n",
       "      <td>2022-10-09</td>\n",
       "      <td>2022-10-09</td>\n",
       "      <td>CBOE NASDAQ 100 Volatility Index</td>\n",
       "      <td>2001-02-02</td>\n",
       "      <td>2022-10-06</td>\n",
       "      <td>Daily, Close</td>\n",
       "      <td>D</td>\n",
       "      <td>Index</td>\n",
       "      <td>Index</td>\n",
       "      <td>Not Seasonally Adjusted</td>\n",
       "      <td>NSA</td>\n",
       "      <td>2022-10-07 08:36:05-05:00</td>\n",
       "      <td>39</td>\n",
       "      <td>Copyright, 2016, Chicago Board Options Exchang...</td>\n",
       "      <td>False</td>\n",
       "    </tr>\n",
       "    <tr>\n",
       "      <th>BAA10YM</th>\n",
       "      <td>BAA10YM</td>\n",
       "      <td>2022-10-09</td>\n",
       "      <td>2022-10-09</td>\n",
       "      <td>Moody's Seasoned Baa Corporate Bond Yield Rela...</td>\n",
       "      <td>1953-04-01</td>\n",
       "      <td>2022-09-01</td>\n",
       "      <td>Monthly</td>\n",
       "      <td>M</td>\n",
       "      <td>Percent</td>\n",
       "      <td>%</td>\n",
       "      <td>Not Seasonally Adjusted</td>\n",
       "      <td>NSA</td>\n",
       "      <td>2022-10-03 16:01:05-05:00</td>\n",
       "      <td>39</td>\n",
       "      <td>Series is calculated as the spread between Moo...</td>\n",
       "      <td>False</td>\n",
       "    </tr>\n",
       "    <tr>\n",
       "      <th>REAINTRATREARAT1MO</th>\n",
       "      <td>REAINTRATREARAT1MO</td>\n",
       "      <td>2022-10-09</td>\n",
       "      <td>2022-10-09</td>\n",
       "      <td>1-Month Real Interest Rate</td>\n",
       "      <td>1982-01-01</td>\n",
       "      <td>2022-09-01</td>\n",
       "      <td>Monthly</td>\n",
       "      <td>M</td>\n",
       "      <td>Percent</td>\n",
       "      <td>%</td>\n",
       "      <td>Not Seasonally Adjusted</td>\n",
       "      <td>NSA</td>\n",
       "      <td>2022-09-13 15:01:04-05:00</td>\n",
       "      <td>38</td>\n",
       "      <td>The Federal Reserve Bank of Cleveland estimate...</td>\n",
       "      <td>False</td>\n",
       "    </tr>\n",
       "    <tr>\n",
       "      <th>T5YIEM</th>\n",
       "      <td>T5YIEM</td>\n",
       "      <td>2022-10-09</td>\n",
       "      <td>2022-10-09</td>\n",
       "      <td>5-Year Breakeven Inflation Rate</td>\n",
       "      <td>2003-01-01</td>\n",
       "      <td>2022-09-01</td>\n",
       "      <td>Monthly</td>\n",
       "      <td>M</td>\n",
       "      <td>Percent</td>\n",
       "      <td>%</td>\n",
       "      <td>Not Seasonally Adjusted</td>\n",
       "      <td>NSA</td>\n",
       "      <td>2022-10-03 16:01:06-05:00</td>\n",
       "      <td>38</td>\n",
       "      <td>The breakeven inflation rate represents a meas...</td>\n",
       "      <td>False</td>\n",
       "    </tr>\n",
       "    <tr>\n",
       "      <th>BAMLHYH0A3CMTRIV</th>\n",
       "      <td>BAMLHYH0A3CMTRIV</td>\n",
       "      <td>2022-10-09</td>\n",
       "      <td>2022-10-09</td>\n",
       "      <td>ICE BofA CCC &amp; Lower US High Yield Index Total...</td>\n",
       "      <td>1996-12-31</td>\n",
       "      <td>2022-10-06</td>\n",
       "      <td>Daily, Close</td>\n",
       "      <td>D</td>\n",
       "      <td>Index</td>\n",
       "      <td>Index</td>\n",
       "      <td>Not Seasonally Adjusted</td>\n",
       "      <td>NSA</td>\n",
       "      <td>2022-10-07 09:15:12-05:00</td>\n",
       "      <td>37</td>\n",
       "      <td>This data represents the ICE BofA US Corporate...</td>\n",
       "      <td>False</td>\n",
       "    </tr>\n",
       "    <tr>\n",
       "      <th>CFNAIDIFF</th>\n",
       "      <td>CFNAIDIFF</td>\n",
       "      <td>2022-10-09</td>\n",
       "      <td>2022-10-09</td>\n",
       "      <td>Chicago Fed National Activity Index: Diffusion...</td>\n",
       "      <td>1967-05-01</td>\n",
       "      <td>2022-08-01</td>\n",
       "      <td>Monthly</td>\n",
       "      <td>M</td>\n",
       "      <td>Index</td>\n",
       "      <td>Index</td>\n",
       "      <td>Not Seasonally Adjusted</td>\n",
       "      <td>NSA</td>\n",
       "      <td>2022-09-26 07:34:05-05:00</td>\n",
       "      <td>35</td>\n",
       "      <td>The CFNAI Diffusion Index is a metric based on...</td>\n",
       "      <td>False</td>\n",
       "    </tr>\n",
       "    <tr>\n",
       "      <th>ABCOMP</th>\n",
       "      <td>ABCOMP</td>\n",
       "      <td>2022-10-09</td>\n",
       "      <td>2022-10-09</td>\n",
       "      <td>Asset-Backed Commercial Paper Outstanding</td>\n",
       "      <td>2001-01-03</td>\n",
       "      <td>2022-10-05</td>\n",
       "      <td>Weekly, Ending Wednesday</td>\n",
       "      <td>W</td>\n",
       "      <td>Billions of Dollars</td>\n",
       "      <td>Bil. of $</td>\n",
       "      <td>Seasonally Adjusted</td>\n",
       "      <td>SA</td>\n",
       "      <td>2022-10-06 12:14:01-05:00</td>\n",
       "      <td>34</td>\n",
       "      <td>For more information, please refer to http://w...</td>\n",
       "      <td>False</td>\n",
       "    </tr>\n",
       "    <tr>\n",
       "      <th>TENEXPCHAINFRISPRE</th>\n",
       "      <td>TENEXPCHAINFRISPRE</td>\n",
       "      <td>2022-10-09</td>\n",
       "      <td>2022-10-09</td>\n",
       "      <td>Inflation Risk Premium</td>\n",
       "      <td>1982-01-01</td>\n",
       "      <td>2022-09-01</td>\n",
       "      <td>Monthly</td>\n",
       "      <td>M</td>\n",
       "      <td>Percent</td>\n",
       "      <td>%</td>\n",
       "      <td>Not Seasonally Adjusted</td>\n",
       "      <td>NSA</td>\n",
       "      <td>2022-09-13 15:01:04-05:00</td>\n",
       "      <td>33</td>\n",
       "      <td>The Federal Reserve Bank of Cleveland estimate...</td>\n",
       "      <td>False</td>\n",
       "    </tr>\n",
       "    <tr>\n",
       "      <th>WILLLRGCAPVAL</th>\n",
       "      <td>WILLLRGCAPVAL</td>\n",
       "      <td>2022-10-09</td>\n",
       "      <td>2022-10-09</td>\n",
       "      <td>Wilshire US Large-Cap Value Total Market Index</td>\n",
       "      <td>1978-06-30</td>\n",
       "      <td>2022-10-06</td>\n",
       "      <td>Daily, Close</td>\n",
       "      <td>D</td>\n",
       "      <td>Index</td>\n",
       "      <td>Index</td>\n",
       "      <td>Not Seasonally Adjusted</td>\n",
       "      <td>NSA</td>\n",
       "      <td>2022-10-07 07:03:04-05:00</td>\n",
       "      <td>31</td>\n",
       "      <td>The observations for the Wilshire US Large-Cap...</td>\n",
       "      <td>False</td>\n",
       "    </tr>\n",
       "    <tr>\n",
       "      <th>JTSOSL</th>\n",
       "      <td>JTSOSL</td>\n",
       "      <td>2022-10-09</td>\n",
       "      <td>2022-10-09</td>\n",
       "      <td>Other Separations: Total Nonfarm</td>\n",
       "      <td>2000-12-01</td>\n",
       "      <td>2022-08-01</td>\n",
       "      <td>Monthly</td>\n",
       "      <td>M</td>\n",
       "      <td>Level in Thousands</td>\n",
       "      <td>Level in Thous.</td>\n",
       "      <td>Seasonally Adjusted</td>\n",
       "      <td>SA</td>\n",
       "      <td>2022-10-04 09:06:03-05:00</td>\n",
       "      <td>31</td>\n",
       "      <td>NaN</td>\n",
       "      <td>False</td>\n",
       "    </tr>\n",
       "    <tr>\n",
       "      <th>RVXCLS</th>\n",
       "      <td>RVXCLS</td>\n",
       "      <td>2022-10-09</td>\n",
       "      <td>2022-10-09</td>\n",
       "      <td>CBOE Russell 2000 Volatility Index</td>\n",
       "      <td>2004-01-02</td>\n",
       "      <td>2022-10-06</td>\n",
       "      <td>Daily, Close</td>\n",
       "      <td>D</td>\n",
       "      <td>Index</td>\n",
       "      <td>Index</td>\n",
       "      <td>Not Seasonally Adjusted</td>\n",
       "      <td>NSA</td>\n",
       "      <td>2022-10-07 08:36:03-05:00</td>\n",
       "      <td>31</td>\n",
       "      <td>Copyright, 2016, Chicago Board Options Exchang...</td>\n",
       "      <td>False</td>\n",
       "    </tr>\n",
       "    <tr>\n",
       "      <th>IRSTCI01JPM156N</th>\n",
       "      <td>IRSTCI01JPM156N</td>\n",
       "      <td>2022-10-09</td>\n",
       "      <td>2022-10-09</td>\n",
       "      <td>Immediate Rates: Less than 24 Hours: Call Mone...</td>\n",
       "      <td>1985-07-01</td>\n",
       "      <td>2022-08-01</td>\n",
       "      <td>Monthly</td>\n",
       "      <td>M</td>\n",
       "      <td>Percent</td>\n",
       "      <td>%</td>\n",
       "      <td>Not Seasonally Adjusted</td>\n",
       "      <td>NSA</td>\n",
       "      <td>2022-09-14 14:51:04-05:00</td>\n",
       "      <td>28</td>\n",
       "      <td>OECD descriptor ID: IRSTCI01 OECD unit ID: ST ...</td>\n",
       "      <td>False</td>\n",
       "    </tr>\n",
       "    <tr>\n",
       "      <th>WILLSMLCAP</th>\n",
       "      <td>WILLSMLCAP</td>\n",
       "      <td>2022-10-09</td>\n",
       "      <td>2022-10-09</td>\n",
       "      <td>Wilshire US Small-Cap Total Market Index</td>\n",
       "      <td>1978-06-30</td>\n",
       "      <td>2022-10-06</td>\n",
       "      <td>Daily, Close</td>\n",
       "      <td>D</td>\n",
       "      <td>Index</td>\n",
       "      <td>Index</td>\n",
       "      <td>Not Seasonally Adjusted</td>\n",
       "      <td>NSA</td>\n",
       "      <td>2022-10-07 07:03:05-05:00</td>\n",
       "      <td>28</td>\n",
       "      <td>The observations for the Wilshire US Small-Cap...</td>\n",
       "      <td>False</td>\n",
       "    </tr>\n",
       "    <tr>\n",
       "      <th>VXDCLS</th>\n",
       "      <td>VXDCLS</td>\n",
       "      <td>2022-10-09</td>\n",
       "      <td>2022-10-09</td>\n",
       "      <td>CBOE DJIA Volatility Index</td>\n",
       "      <td>1997-10-07</td>\n",
       "      <td>2022-10-06</td>\n",
       "      <td>Daily, Close</td>\n",
       "      <td>D</td>\n",
       "      <td>Index</td>\n",
       "      <td>Index</td>\n",
       "      <td>Not Seasonally Adjusted</td>\n",
       "      <td>NSA</td>\n",
       "      <td>2022-10-07 08:36:04-05:00</td>\n",
       "      <td>27</td>\n",
       "      <td>Copyright, 2016, Chicago Board Options Exchang...</td>\n",
       "      <td>False</td>\n",
       "    </tr>\n",
       "  </tbody>\n",
       "</table>\n",
       "</div>"
      ],
      "text/plain": [
       "                                    id realtime_start realtime_end  \\\n",
       "series_id                                                            \n",
       "T10Y2Y                          T10Y2Y     2022-10-09   2022-10-09   \n",
       "T10Y3M                          T10Y3M     2022-10-09   2022-10-09   \n",
       "VIXCLS                          VIXCLS     2022-10-09   2022-10-09   \n",
       "BAA10Y                          BAA10Y     2022-10-09   2022-10-09   \n",
       "MICH                              MICH     2022-10-09   2022-10-09   \n",
       "NFCI                              NFCI     2022-10-09   2022-10-09   \n",
       "T10YFF                          T10YFF     2022-10-09   2022-10-09   \n",
       "AAA10Y                          AAA10Y     2022-10-09   2022-10-09   \n",
       "STLFSI3                        STLFSI3     2022-10-09   2022-10-09   \n",
       "USSLIND                        USSLIND     2022-10-09   2022-10-09   \n",
       "BAMLHYH0A0HYM2TRIV  BAMLHYH0A0HYM2TRIV     2022-10-09   2022-10-09   \n",
       "REAINTRATREARAT1YE  REAINTRATREARAT1YE     2022-10-09   2022-10-09   \n",
       "EXPINF1YR                    EXPINF1YR     2022-10-09   2022-10-09   \n",
       "T10Y2YM                        T10Y2YM     2022-10-09   2022-10-09   \n",
       "GVZCLS                          GVZCLS     2022-10-09   2022-10-09   \n",
       "NASDAQ100                    NASDAQ100     2022-10-09   2022-10-09   \n",
       "JPNASSETS                    JPNASSETS     2022-10-09   2022-10-09   \n",
       "NFCICREDIT                  NFCICREDIT     2022-10-09   2022-10-09   \n",
       "NIKKEI225                    NIKKEI225     2022-10-09   2022-10-09   \n",
       "KCFSI                            KCFSI     2022-10-09   2022-10-09   \n",
       "IRLTLT01JPM156N        IRLTLT01JPM156N     2022-10-09   2022-10-09   \n",
       "T10YIEM                        T10YIEM     2022-10-09   2022-10-09   \n",
       "TB3SMFFM                      TB3SMFFM     2022-10-09   2022-10-09   \n",
       "NFCILEVERAGE              NFCILEVERAGE     2022-10-09   2022-10-09   \n",
       "CPFF                              CPFF     2022-10-09   2022-10-09   \n",
       "MYAGM2JPM189S            MYAGM2JPM189S     2022-10-09   2022-10-09   \n",
       "T1YFF                            T1YFF     2022-10-09   2022-10-09   \n",
       "PAYNSA                          PAYNSA     2022-10-09   2022-10-09   \n",
       "OVXCLS                          OVXCLS     2022-10-09   2022-10-09   \n",
       "LFWA64TTJPM647S        LFWA64TTJPM647S     2022-10-09   2022-10-09   \n",
       "NFCIRISK                      NFCIRISK     2022-10-09   2022-10-09   \n",
       "AAAFF                            AAAFF     2022-10-09   2022-10-09   \n",
       "BAMLHE00EHYITRIV      BAMLHE00EHYITRIV     2022-10-09   2022-10-09   \n",
       "T3MFF                            T3MFF     2022-10-09   2022-10-09   \n",
       "RBJPBIS                        RBJPBIS     2022-10-09   2022-10-09   \n",
       "STLPPM                          STLPPM     2022-10-09   2022-10-09   \n",
       "WILLREITIND                WILLREITIND     2022-10-09   2022-10-09   \n",
       "LRUN64TTJPM156S        LRUN64TTJPM156S     2022-10-09   2022-10-09   \n",
       "VXNCLS                          VXNCLS     2022-10-09   2022-10-09   \n",
       "BAA10YM                        BAA10YM     2022-10-09   2022-10-09   \n",
       "REAINTRATREARAT1MO  REAINTRATREARAT1MO     2022-10-09   2022-10-09   \n",
       "T5YIEM                          T5YIEM     2022-10-09   2022-10-09   \n",
       "BAMLHYH0A3CMTRIV      BAMLHYH0A3CMTRIV     2022-10-09   2022-10-09   \n",
       "CFNAIDIFF                    CFNAIDIFF     2022-10-09   2022-10-09   \n",
       "ABCOMP                          ABCOMP     2022-10-09   2022-10-09   \n",
       "TENEXPCHAINFRISPRE  TENEXPCHAINFRISPRE     2022-10-09   2022-10-09   \n",
       "WILLLRGCAPVAL            WILLLRGCAPVAL     2022-10-09   2022-10-09   \n",
       "JTSOSL                          JTSOSL     2022-10-09   2022-10-09   \n",
       "RVXCLS                          RVXCLS     2022-10-09   2022-10-09   \n",
       "IRSTCI01JPM156N        IRSTCI01JPM156N     2022-10-09   2022-10-09   \n",
       "WILLSMLCAP                  WILLSMLCAP     2022-10-09   2022-10-09   \n",
       "VXDCLS                          VXDCLS     2022-10-09   2022-10-09   \n",
       "\n",
       "                                                                title  \\\n",
       "series_id                                                               \n",
       "T10Y2Y              10-Year Treasury Constant Maturity Minus 2-Yea...   \n",
       "T10Y3M              10-Year Treasury Constant Maturity Minus 3-Mon...   \n",
       "VIXCLS                                     CBOE Volatility Index: VIX   \n",
       "BAA10Y              Moody's Seasoned Baa Corporate Bond Yield Rela...   \n",
       "MICH                    University of Michigan: Inflation Expectation   \n",
       "NFCI                  Chicago Fed National Financial Conditions Index   \n",
       "T10YFF              10-Year Treasury Constant Maturity Minus Feder...   \n",
       "AAA10Y              Moody's Seasoned Aaa Corporate Bond Yield Rela...   \n",
       "STLFSI3                          St. Louis Fed Financial Stress Index   \n",
       "USSLIND                           Leading Index for the United States   \n",
       "BAMLHYH0A0HYM2TRIV  ICE BofA US High Yield Index Total Return Inde...   \n",
       "REAINTRATREARAT1YE                          1-Year Real Interest Rate   \n",
       "EXPINF1YR                                   1-Year Expected Inflation   \n",
       "T10Y2YM             10-Year Treasury Constant Maturity Minus 2-Yea...   \n",
       "GVZCLS                                 CBOE Gold ETF Volatility Index   \n",
       "NASDAQ100                                            NASDAQ 100 Index   \n",
       "JPNASSETS                       Bank of Japan: Total Assets for Japan   \n",
       "NFCICREDIT          Chicago Fed National Financial Conditions Cred...   \n",
       "NIKKEI225                            Nikkei Stock Average, Nikkei 225   \n",
       "KCFSI                              Kansas City Financial Stress Index   \n",
       "IRLTLT01JPM156N     Long-Term Government Bond Yields: 10-year: Mai...   \n",
       "T10YIEM                              10-Year Breakeven Inflation Rate   \n",
       "TB3SMFFM               3-Month Treasury Bill Minus Federal Funds Rate   \n",
       "NFCILEVERAGE        Chicago Fed National Financial Conditions Leve...   \n",
       "CPFF                3-Month Commercial Paper Minus Federal Funds Rate   \n",
       "MYAGM2JPM189S                                            M2 for Japan   \n",
       "T1YFF               1-Year Treasury Constant Maturity Minus Federa...   \n",
       "PAYNSA                                   All Employees, Total Nonfarm   \n",
       "OVXCLS                            CBOE Crude Oil ETF Volatility Index   \n",
       "LFWA64TTJPM647S     Working Age Population: Aged 15-64: All Person...   \n",
       "NFCIRISK            Chicago Fed National Financial Conditions Risk...   \n",
       "AAAFF               Moody's Seasoned Aaa Corporate Bond Minus Fede...   \n",
       "BAMLHE00EHYITRIV    ICE BofA Euro High Yield Index Total Return In...   \n",
       "T3MFF               3-Month Treasury Constant Maturity Minus Feder...   \n",
       "RBJPBIS                  Real Broad Effective Exchange Rate for Japan   \n",
       "STLPPM                                        Price Pressures Measure   \n",
       "WILLREITIND         Wilshire US Real Estate Investment Trust Total...   \n",
       "LRUN64TTJPM156S     Unemployment Rate: Aged 15-64: All Persons for...   \n",
       "VXNCLS                               CBOE NASDAQ 100 Volatility Index   \n",
       "BAA10YM             Moody's Seasoned Baa Corporate Bond Yield Rela...   \n",
       "REAINTRATREARAT1MO                         1-Month Real Interest Rate   \n",
       "T5YIEM                                5-Year Breakeven Inflation Rate   \n",
       "BAMLHYH0A3CMTRIV    ICE BofA CCC & Lower US High Yield Index Total...   \n",
       "CFNAIDIFF           Chicago Fed National Activity Index: Diffusion...   \n",
       "ABCOMP                      Asset-Backed Commercial Paper Outstanding   \n",
       "TENEXPCHAINFRISPRE                             Inflation Risk Premium   \n",
       "WILLLRGCAPVAL          Wilshire US Large-Cap Value Total Market Index   \n",
       "JTSOSL                               Other Separations: Total Nonfarm   \n",
       "RVXCLS                             CBOE Russell 2000 Volatility Index   \n",
       "IRSTCI01JPM156N     Immediate Rates: Less than 24 Hours: Call Mone...   \n",
       "WILLSMLCAP                   Wilshire US Small-Cap Total Market Index   \n",
       "VXDCLS                                     CBOE DJIA Volatility Index   \n",
       "\n",
       "                   observation_start observation_end  \\\n",
       "series_id                                              \n",
       "T10Y2Y                    1976-06-01      2022-10-07   \n",
       "T10Y3M                    1982-01-04      2022-10-07   \n",
       "VIXCLS                    1990-01-02      2022-10-06   \n",
       "BAA10Y                    1986-01-02      2022-10-06   \n",
       "MICH                      1978-01-01      2022-08-01   \n",
       "NFCI                      1971-01-08      2022-09-30   \n",
       "T10YFF                    1962-01-02      2022-10-06   \n",
       "AAA10Y                    1983-01-03      2022-10-06   \n",
       "STLFSI3                   1993-12-31      2022-09-30   \n",
       "USSLIND                   1982-01-01      2020-02-01   \n",
       "BAMLHYH0A0HYM2TRIV        1986-08-31      2022-10-06   \n",
       "REAINTRATREARAT1YE        1982-01-01      2022-09-01   \n",
       "EXPINF1YR                 1982-01-01      2022-09-01   \n",
       "T10Y2YM                   1976-06-01      2022-09-01   \n",
       "GVZCLS                    2008-06-03      2022-10-06   \n",
       "NASDAQ100                 1986-01-02      2022-10-06   \n",
       "JPNASSETS                 1998-04-01      2022-08-01   \n",
       "NFCICREDIT                1971-01-08      2022-09-30   \n",
       "NIKKEI225                 1949-05-16      2022-10-07   \n",
       "KCFSI                     1990-02-01      2022-08-01   \n",
       "IRLTLT01JPM156N           1989-01-01      2022-08-01   \n",
       "T10YIEM                   2003-01-01      2022-09-01   \n",
       "TB3SMFFM                  1954-07-01      2022-09-01   \n",
       "NFCILEVERAGE              1971-01-08      2022-09-30   \n",
       "CPFF                      1997-01-02      2022-10-06   \n",
       "MYAGM2JPM189S             1955-01-01      2017-02-01   \n",
       "T1YFF                     1962-01-02      2022-10-06   \n",
       "PAYNSA                    1939-01-01      2022-09-01   \n",
       "OVXCLS                    2007-05-10      2022-10-06   \n",
       "LFWA64TTJPM647S           1970-01-01      2022-07-01   \n",
       "NFCIRISK                  1971-01-08      2022-09-30   \n",
       "AAAFF                     1983-01-03      2022-10-06   \n",
       "BAMLHE00EHYITRIV          1997-12-31      2022-10-06   \n",
       "T3MFF                     1982-01-04      2022-10-06   \n",
       "RBJPBIS                   1994-01-01      2022-08-01   \n",
       "STLPPM                    1990-01-01      2022-09-01   \n",
       "WILLREITIND               1977-12-30      2022-10-06   \n",
       "LRUN64TTJPM156S           1970-01-01      2022-07-01   \n",
       "VXNCLS                    2001-02-02      2022-10-06   \n",
       "BAA10YM                   1953-04-01      2022-09-01   \n",
       "REAINTRATREARAT1MO        1982-01-01      2022-09-01   \n",
       "T5YIEM                    2003-01-01      2022-09-01   \n",
       "BAMLHYH0A3CMTRIV          1996-12-31      2022-10-06   \n",
       "CFNAIDIFF                 1967-05-01      2022-08-01   \n",
       "ABCOMP                    2001-01-03      2022-10-05   \n",
       "TENEXPCHAINFRISPRE        1982-01-01      2022-09-01   \n",
       "WILLLRGCAPVAL             1978-06-30      2022-10-06   \n",
       "JTSOSL                    2000-12-01      2022-08-01   \n",
       "RVXCLS                    2004-01-02      2022-10-06   \n",
       "IRSTCI01JPM156N           1985-07-01      2022-08-01   \n",
       "WILLSMLCAP                1978-06-30      2022-10-06   \n",
       "VXDCLS                    1997-10-07      2022-10-06   \n",
       "\n",
       "                                   frequency frequency_short  \\\n",
       "series_id                                                      \n",
       "T10Y2Y                                 Daily               D   \n",
       "T10Y3M                                 Daily               D   \n",
       "VIXCLS                          Daily, Close               D   \n",
       "BAA10Y                                 Daily               D   \n",
       "MICH                                 Monthly               M   \n",
       "NFCI                   Weekly, Ending Friday               W   \n",
       "T10YFF                                 Daily               D   \n",
       "AAA10Y                                 Daily               D   \n",
       "STLFSI3                Weekly, Ending Friday               W   \n",
       "USSLIND                              Monthly               M   \n",
       "BAMLHYH0A0HYM2TRIV              Daily, Close               D   \n",
       "REAINTRATREARAT1YE                   Monthly               M   \n",
       "EXPINF1YR                            Monthly               M   \n",
       "T10Y2YM                              Monthly               M   \n",
       "GVZCLS                          Daily, Close               D   \n",
       "NASDAQ100                       Daily, Close               D   \n",
       "JPNASSETS             Monthly, End of Period               M   \n",
       "NFCICREDIT             Weekly, Ending Friday               W   \n",
       "NIKKEI225                       Daily, Close               D   \n",
       "KCFSI                                Monthly               M   \n",
       "IRLTLT01JPM156N                      Monthly               M   \n",
       "T10YIEM                              Monthly               M   \n",
       "TB3SMFFM                             Monthly               M   \n",
       "NFCILEVERAGE           Weekly, Ending Friday               W   \n",
       "CPFF                                   Daily               D   \n",
       "MYAGM2JPM189S                        Monthly               M   \n",
       "T1YFF                                  Daily               D   \n",
       "PAYNSA                               Monthly               M   \n",
       "OVXCLS                          Daily, Close               D   \n",
       "LFWA64TTJPM647S                      Monthly               M   \n",
       "NFCIRISK               Weekly, Ending Friday               W   \n",
       "AAAFF                                  Daily               D   \n",
       "BAMLHE00EHYITRIV                Daily, Close               D   \n",
       "T3MFF                                  Daily               D   \n",
       "RBJPBIS                              Monthly               M   \n",
       "STLPPM                               Monthly               M   \n",
       "WILLREITIND                     Daily, Close               D   \n",
       "LRUN64TTJPM156S                      Monthly               M   \n",
       "VXNCLS                          Daily, Close               D   \n",
       "BAA10YM                              Monthly               M   \n",
       "REAINTRATREARAT1MO                   Monthly               M   \n",
       "T5YIEM                               Monthly               M   \n",
       "BAMLHYH0A3CMTRIV                Daily, Close               D   \n",
       "CFNAIDIFF                            Monthly               M   \n",
       "ABCOMP              Weekly, Ending Wednesday               W   \n",
       "TENEXPCHAINFRISPRE                   Monthly               M   \n",
       "WILLLRGCAPVAL                   Daily, Close               D   \n",
       "JTSOSL                               Monthly               M   \n",
       "RVXCLS                          Daily, Close               D   \n",
       "IRSTCI01JPM156N                      Monthly               M   \n",
       "WILLSMLCAP                      Daily, Close               D   \n",
       "VXDCLS                          Daily, Close               D   \n",
       "\n",
       "                                   units        units_short  \\\n",
       "series_id                                                     \n",
       "T10Y2Y                           Percent                  %   \n",
       "T10Y3M                           Percent                  %   \n",
       "VIXCLS                             Index              Index   \n",
       "BAA10Y                           Percent                  %   \n",
       "MICH                             Percent                  %   \n",
       "NFCI                               Index              Index   \n",
       "T10YFF                           Percent                  %   \n",
       "AAA10Y                           Percent                  %   \n",
       "STLFSI3                            Index              Index   \n",
       "USSLIND                          Percent                  %   \n",
       "BAMLHYH0A0HYM2TRIV                 Index              Index   \n",
       "REAINTRATREARAT1YE               Percent                  %   \n",
       "EXPINF1YR                        Percent                  %   \n",
       "T10Y2YM                          Percent                  %   \n",
       "GVZCLS                             Index              Index   \n",
       "NASDAQ100                          Index              Index   \n",
       "JPNASSETS                100 Million Yen       100 Mil. Yen   \n",
       "NFCICREDIT                         Index              Index   \n",
       "NIKKEI225                          Index              Index   \n",
       "KCFSI                              Index              Index   \n",
       "IRLTLT01JPM156N                  Percent                  %   \n",
       "T10YIEM                          Percent                  %   \n",
       "TB3SMFFM                         Percent                  %   \n",
       "NFCILEVERAGE                       Index              Index   \n",
       "CPFF                             Percent                  %   \n",
       "MYAGM2JPM189S          National Currency  National Currency   \n",
       "T1YFF                            Percent                  %   \n",
       "PAYNSA              Thousands of Persons  Thous. of Persons   \n",
       "OVXCLS                             Index              Index   \n",
       "LFWA64TTJPM647S                  Persons            Persons   \n",
       "NFCIRISK                           Index              Index   \n",
       "AAAFF                            Percent                  %   \n",
       "BAMLHE00EHYITRIV                   Index              Index   \n",
       "T3MFF                            Percent                  %   \n",
       "RBJPBIS                   Index 2010=100     Index 2010=100   \n",
       "STLPPM                       Probability        Probability   \n",
       "WILLREITIND                        Index              Index   \n",
       "LRUN64TTJPM156S                  Percent                  %   \n",
       "VXNCLS                             Index              Index   \n",
       "BAA10YM                          Percent                  %   \n",
       "REAINTRATREARAT1MO               Percent                  %   \n",
       "T5YIEM                           Percent                  %   \n",
       "BAMLHYH0A3CMTRIV                   Index              Index   \n",
       "CFNAIDIFF                          Index              Index   \n",
       "ABCOMP               Billions of Dollars          Bil. of $   \n",
       "TENEXPCHAINFRISPRE               Percent                  %   \n",
       "WILLLRGCAPVAL                      Index              Index   \n",
       "JTSOSL                Level in Thousands    Level in Thous.   \n",
       "RVXCLS                             Index              Index   \n",
       "IRSTCI01JPM156N                  Percent                  %   \n",
       "WILLSMLCAP                         Index              Index   \n",
       "VXDCLS                             Index              Index   \n",
       "\n",
       "                        seasonal_adjustment seasonal_adjustment_short  \\\n",
       "series_id                                                               \n",
       "T10Y2Y              Not Seasonally Adjusted                       NSA   \n",
       "T10Y3M              Not Seasonally Adjusted                       NSA   \n",
       "VIXCLS              Not Seasonally Adjusted                       NSA   \n",
       "BAA10Y              Not Seasonally Adjusted                       NSA   \n",
       "MICH                Not Seasonally Adjusted                       NSA   \n",
       "NFCI                Not Seasonally Adjusted                       NSA   \n",
       "T10YFF              Not Seasonally Adjusted                       NSA   \n",
       "AAA10Y              Not Seasonally Adjusted                       NSA   \n",
       "STLFSI3             Not Seasonally Adjusted                       NSA   \n",
       "USSLIND                 Seasonally Adjusted                        SA   \n",
       "BAMLHYH0A0HYM2TRIV  Not Seasonally Adjusted                       NSA   \n",
       "REAINTRATREARAT1YE  Not Seasonally Adjusted                       NSA   \n",
       "EXPINF1YR           Not Seasonally Adjusted                       NSA   \n",
       "T10Y2YM             Not Seasonally Adjusted                       NSA   \n",
       "GVZCLS              Not Seasonally Adjusted                       NSA   \n",
       "NASDAQ100           Not Seasonally Adjusted                       NSA   \n",
       "JPNASSETS           Not Seasonally Adjusted                       NSA   \n",
       "NFCICREDIT          Not Seasonally Adjusted                       NSA   \n",
       "NIKKEI225           Not Seasonally Adjusted                       NSA   \n",
       "KCFSI               Not Seasonally Adjusted                       NSA   \n",
       "IRLTLT01JPM156N     Not Seasonally Adjusted                       NSA   \n",
       "T10YIEM             Not Seasonally Adjusted                       NSA   \n",
       "TB3SMFFM            Not Seasonally Adjusted                       NSA   \n",
       "NFCILEVERAGE        Not Seasonally Adjusted                       NSA   \n",
       "CPFF                Not Seasonally Adjusted                       NSA   \n",
       "MYAGM2JPM189S           Seasonally Adjusted                        SA   \n",
       "T1YFF               Not Seasonally Adjusted                       NSA   \n",
       "PAYNSA              Not Seasonally Adjusted                       NSA   \n",
       "OVXCLS              Not Seasonally Adjusted                       NSA   \n",
       "LFWA64TTJPM647S         Seasonally Adjusted                        SA   \n",
       "NFCIRISK            Not Seasonally Adjusted                       NSA   \n",
       "AAAFF               Not Seasonally Adjusted                       NSA   \n",
       "BAMLHE00EHYITRIV    Not Seasonally Adjusted                       NSA   \n",
       "T3MFF               Not Seasonally Adjusted                       NSA   \n",
       "RBJPBIS             Not Seasonally Adjusted                       NSA   \n",
       "STLPPM              Not Seasonally Adjusted                       NSA   \n",
       "WILLREITIND         Not Seasonally Adjusted                       NSA   \n",
       "LRUN64TTJPM156S         Seasonally Adjusted                        SA   \n",
       "VXNCLS              Not Seasonally Adjusted                       NSA   \n",
       "BAA10YM             Not Seasonally Adjusted                       NSA   \n",
       "REAINTRATREARAT1MO  Not Seasonally Adjusted                       NSA   \n",
       "T5YIEM              Not Seasonally Adjusted                       NSA   \n",
       "BAMLHYH0A3CMTRIV    Not Seasonally Adjusted                       NSA   \n",
       "CFNAIDIFF           Not Seasonally Adjusted                       NSA   \n",
       "ABCOMP                  Seasonally Adjusted                        SA   \n",
       "TENEXPCHAINFRISPRE  Not Seasonally Adjusted                       NSA   \n",
       "WILLLRGCAPVAL       Not Seasonally Adjusted                       NSA   \n",
       "JTSOSL                  Seasonally Adjusted                        SA   \n",
       "RVXCLS              Not Seasonally Adjusted                       NSA   \n",
       "IRSTCI01JPM156N     Not Seasonally Adjusted                       NSA   \n",
       "WILLSMLCAP          Not Seasonally Adjusted                       NSA   \n",
       "VXDCLS              Not Seasonally Adjusted                       NSA   \n",
       "\n",
       "                                last_updated  popularity  \\\n",
       "series_id                                                  \n",
       "T10Y2Y             2022-10-07 16:01:02-05:00         100   \n",
       "T10Y3M             2022-10-07 16:01:02-05:00          93   \n",
       "VIXCLS             2022-10-07 08:36:04-05:00          77   \n",
       "BAA10Y             2022-10-07 16:02:02-05:00          77   \n",
       "MICH               2022-09-30 10:01:01-05:00          76   \n",
       "NFCI               2022-10-05 07:33:03-05:00          76   \n",
       "T10YFF             2022-10-07 16:01:03-05:00          74   \n",
       "AAA10Y             2022-10-07 16:02:03-05:00          69   \n",
       "STLFSI3            2022-10-06 09:00:03-05:00          68   \n",
       "USSLIND            2020-04-14 09:16:10-05:00          67   \n",
       "BAMLHYH0A0HYM2TRIV 2022-10-07 09:16:11-05:00          65   \n",
       "REAINTRATREARAT1YE 2022-09-13 15:01:02-05:00          60   \n",
       "EXPINF1YR          2022-09-13 15:01:02-05:00          60   \n",
       "T10Y2YM            2022-10-03 16:01:02-05:00          57   \n",
       "GVZCLS             2022-10-07 08:36:03-05:00          56   \n",
       "NASDAQ100          2022-10-07 07:06:02-05:00          55   \n",
       "JPNASSETS          2022-09-04 20:11:01-05:00          55   \n",
       "NFCICREDIT         2022-10-05 07:33:21-05:00          54   \n",
       "NIKKEI225          2022-10-07 07:02:06-05:00          54   \n",
       "KCFSI              2022-09-09 14:16:02-05:00          54   \n",
       "IRLTLT01JPM156N    2022-09-14 14:51:03-05:00          52   \n",
       "T10YIEM            2022-10-03 16:01:04-05:00          51   \n",
       "TB3SMFFM           2022-10-03 16:01:03-05:00          51   \n",
       "NFCILEVERAGE       2022-10-05 07:33:33-05:00          49   \n",
       "CPFF               2022-10-07 16:01:02-05:00          49   \n",
       "MYAGM2JPM189S      2017-07-03 11:31:03-05:00          48   \n",
       "T1YFF              2022-10-07 16:01:03-05:00          48   \n",
       "PAYNSA             2022-10-07 07:44:06-05:00          47   \n",
       "OVXCLS             2022-10-07 08:36:03-05:00          46   \n",
       "LFWA64TTJPM647S    2022-09-14 14:50:03-05:00          46   \n",
       "NFCIRISK           2022-10-05 07:33:44-05:00          45   \n",
       "AAAFF              2022-10-07 16:02:02-05:00          41   \n",
       "BAMLHE00EHYITRIV   2022-10-07 09:15:10-05:00          41   \n",
       "T3MFF              2022-10-07 16:01:03-05:00          41   \n",
       "RBJPBIS            2022-09-22 11:01:09-05:00          40   \n",
       "STLPPM             2022-09-30 20:20:02-05:00          40   \n",
       "WILLREITIND        2022-10-07 07:04:03-05:00          40   \n",
       "LRUN64TTJPM156S    2022-09-14 14:50:03-05:00          40   \n",
       "VXNCLS             2022-10-07 08:36:05-05:00          39   \n",
       "BAA10YM            2022-10-03 16:01:05-05:00          39   \n",
       "REAINTRATREARAT1MO 2022-09-13 15:01:04-05:00          38   \n",
       "T5YIEM             2022-10-03 16:01:06-05:00          38   \n",
       "BAMLHYH0A3CMTRIV   2022-10-07 09:15:12-05:00          37   \n",
       "CFNAIDIFF          2022-09-26 07:34:05-05:00          35   \n",
       "ABCOMP             2022-10-06 12:14:01-05:00          34   \n",
       "TENEXPCHAINFRISPRE 2022-09-13 15:01:04-05:00          33   \n",
       "WILLLRGCAPVAL      2022-10-07 07:03:04-05:00          31   \n",
       "JTSOSL             2022-10-04 09:06:03-05:00          31   \n",
       "RVXCLS             2022-10-07 08:36:03-05:00          31   \n",
       "IRSTCI01JPM156N    2022-09-14 14:51:04-05:00          28   \n",
       "WILLSMLCAP         2022-10-07 07:03:05-05:00          28   \n",
       "VXDCLS             2022-10-07 08:36:04-05:00          27   \n",
       "\n",
       "                                                                notes  \\\n",
       "series_id                                                               \n",
       "T10Y2Y              Starting with the update on June 21, 2019, the...   \n",
       "T10Y3M              Series is calculated as the spread between 10-...   \n",
       "VIXCLS              VIX measures market expectation of near term v...   \n",
       "BAA10Y              Series is calculated as the spread between Moo...   \n",
       "MICH                Median expected price change next 12 months, S...   \n",
       "NFCI                The Chicago Fed's National Financial Condition...   \n",
       "T10YFF              Series is calculated as the spread between 10-...   \n",
       "AAA10Y              Series is calculated as the spread between Moo...   \n",
       "STLFSI3             The STLFSI3 measures the degree of financial s...   \n",
       "USSLIND             The leading index for each state predicts the ...   \n",
       "BAMLHYH0A0HYM2TRIV  This data represents the ICE BofA US High Yiel...   \n",
       "REAINTRATREARAT1YE  The Federal Reserve Bank of Cleveland estimate...   \n",
       "EXPINF1YR           The Federal Reserve Bank of Cleveland estimate...   \n",
       "T10Y2YM             Series is calculated as the spread between 10-...   \n",
       "GVZCLS              Exchange Traded Funds (ETFs) are shares of tru...   \n",
       "NASDAQ100           The observations for the NASDAQ 100 Index repr...   \n",
       "JPNASSETS                             Copyright, 2016, Bank of Japan.   \n",
       "NFCICREDIT          The Chicago Fed’s National Financial Condition...   \n",
       "NIKKEI225           The observations for the Nikkei Stock Average,...   \n",
       "KCFSI               Starting with the September 14, 2021, release,...   \n",
       "IRLTLT01JPM156N     OECD descriptor ID: IRLTLT01 OECD unit ID: ST ...   \n",
       "T10YIEM             The breakeven inflation rate represents a meas...   \n",
       "TB3SMFFM            Series is calculated as the spread between 3-M...   \n",
       "NFCILEVERAGE        The Chicago Fed’s National Financial Condition...   \n",
       "CPFF                Series is calculated as the spread between 3-M...   \n",
       "MYAGM2JPM189S       M2 comprises notes and coins in circulation ou...   \n",
       "T1YFF               Series is calculated as the spread between 1-Y...   \n",
       "PAYNSA              All Employees: Total Nonfarm, commonly known a...   \n",
       "OVXCLS              Exchange Traded Funds (ETFs) are shares of tru...   \n",
       "LFWA64TTJPM647S     OECD descriptor ID: LFWA64TT OECD unit ID: STS...   \n",
       "NFCIRISK            The Chicago Fed’s National Financial Condition...   \n",
       "AAAFF               Series is calculated as the spread between Moo...   \n",
       "BAMLHE00EHYITRIV    This data represents the ICE BofA Euro High Yi...   \n",
       "T3MFF               Series is calculated as the spread between 3-M...   \n",
       "RBJPBIS             Real effective exchange rates are calculated a...   \n",
       "STLPPM              This series measures the probability that the ...   \n",
       "WILLREITIND         The observations for the Wilshire US Real Esta...   \n",
       "LRUN64TTJPM156S     OECD descriptor ID: LRUN64TT OECD unit ID: STS...   \n",
       "VXNCLS              Copyright, 2016, Chicago Board Options Exchang...   \n",
       "BAA10YM             Series is calculated as the spread between Moo...   \n",
       "REAINTRATREARAT1MO  The Federal Reserve Bank of Cleveland estimate...   \n",
       "T5YIEM              The breakeven inflation rate represents a meas...   \n",
       "BAMLHYH0A3CMTRIV    This data represents the ICE BofA US Corporate...   \n",
       "CFNAIDIFF           The CFNAI Diffusion Index is a metric based on...   \n",
       "ABCOMP              For more information, please refer to http://w...   \n",
       "TENEXPCHAINFRISPRE  The Federal Reserve Bank of Cleveland estimate...   \n",
       "WILLLRGCAPVAL       The observations for the Wilshire US Large-Cap...   \n",
       "JTSOSL                                                            NaN   \n",
       "RVXCLS              Copyright, 2016, Chicago Board Options Exchang...   \n",
       "IRSTCI01JPM156N     OECD descriptor ID: IRSTCI01 OECD unit ID: ST ...   \n",
       "WILLSMLCAP          The observations for the Wilshire US Small-Cap...   \n",
       "VXDCLS              Copyright, 2016, Chicago Board Options Exchang...   \n",
       "\n",
       "                    discontinued  \n",
       "series_id                         \n",
       "T10Y2Y                     False  \n",
       "T10Y3M                     False  \n",
       "VIXCLS                     False  \n",
       "BAA10Y                     False  \n",
       "MICH                       False  \n",
       "NFCI                       False  \n",
       "T10YFF                     False  \n",
       "AAA10Y                     False  \n",
       "STLFSI3                    False  \n",
       "USSLIND                    False  \n",
       "BAMLHYH0A0HYM2TRIV         False  \n",
       "REAINTRATREARAT1YE         False  \n",
       "EXPINF1YR                  False  \n",
       "T10Y2YM                    False  \n",
       "GVZCLS                     False  \n",
       "NASDAQ100                  False  \n",
       "JPNASSETS                  False  \n",
       "NFCICREDIT                 False  \n",
       "NIKKEI225                  False  \n",
       "KCFSI                      False  \n",
       "IRLTLT01JPM156N            False  \n",
       "T10YIEM                    False  \n",
       "TB3SMFFM                   False  \n",
       "NFCILEVERAGE               False  \n",
       "CPFF                       False  \n",
       "MYAGM2JPM189S              False  \n",
       "T1YFF                      False  \n",
       "PAYNSA                     False  \n",
       "OVXCLS                     False  \n",
       "LFWA64TTJPM647S            False  \n",
       "NFCIRISK                   False  \n",
       "AAAFF                      False  \n",
       "BAMLHE00EHYITRIV           False  \n",
       "T3MFF                      False  \n",
       "RBJPBIS                    False  \n",
       "STLPPM                     False  \n",
       "WILLREITIND                False  \n",
       "LRUN64TTJPM156S            False  \n",
       "VXNCLS                     False  \n",
       "BAA10YM                    False  \n",
       "REAINTRATREARAT1MO         False  \n",
       "T5YIEM                     False  \n",
       "BAMLHYH0A3CMTRIV           False  \n",
       "CFNAIDIFF                  False  \n",
       "ABCOMP                     False  \n",
       "TENEXPCHAINFRISPRE         False  \n",
       "WILLLRGCAPVAL              False  \n",
       "JTSOSL                     False  \n",
       "RVXCLS                     False  \n",
       "IRSTCI01JPM156N            False  \n",
       "WILLSMLCAP                 False  \n",
       "VXDCLS                     False  "
      ]
     },
     "execution_count": 22,
     "metadata": {},
     "output_type": "execute_result"
    }
   ],
   "source": [
    "df_desc"
   ]
  },
  {
   "cell_type": "markdown",
   "id": "8824f7fa",
   "metadata": {
    "papermill": {
     "duration": 0.025503,
     "end_time": "2022-10-09T23:43:46.949310",
     "exception": false,
     "start_time": "2022-10-09T23:43:46.923807",
     "status": "completed"
    },
    "tags": []
   },
   "source": [
    "# !!!! Pay attention to discontinued datasets"
   ]
  },
  {
   "cell_type": "code",
   "execution_count": 23,
   "id": "29aa85d5",
   "metadata": {
    "execution": {
     "iopub.execute_input": "2022-10-09T23:43:47.002624Z",
     "iopub.status.busy": "2022-10-09T23:43:47.002214Z",
     "iopub.status.idle": "2022-10-09T23:43:47.008279Z",
     "shell.execute_reply": "2022-10-09T23:43:47.007399Z"
    },
    "papermill": {
     "duration": 0.035225,
     "end_time": "2022-10-09T23:43:47.010395",
     "exception": false,
     "start_time": "2022-10-09T23:43:46.975170",
     "status": "completed"
    },
    "tags": []
   },
   "outputs": [
    {
     "data": {
      "text/plain": [
       "0"
      ]
     },
     "execution_count": 23,
     "metadata": {},
     "output_type": "execute_result"
    }
   ],
   "source": [
    "\n",
    "df_desc['discontinued'].sum()"
   ]
  },
  {
   "cell_type": "markdown",
   "id": "73fc10b7",
   "metadata": {
    "papermill": {
     "duration": 0.026392,
     "end_time": "2022-10-09T23:43:47.063429",
     "exception": false,
     "start_time": "2022-10-09T23:43:47.037037",
     "status": "completed"
    },
    "tags": []
   },
   "source": [
    "<a id=\"1.4\"></a>\n",
    "\n",
    "## <left>1.4 Process stlouisfed data</left>\n",
    "\n",
    "\n",
    "[back to top](#toc)\n"
   ]
  },
  {
   "cell_type": "code",
   "execution_count": 24,
   "id": "a768de3d",
   "metadata": {
    "execution": {
     "iopub.execute_input": "2022-10-09T23:43:47.117416Z",
     "iopub.status.busy": "2022-10-09T23:43:47.116744Z",
     "iopub.status.idle": "2022-10-09T23:43:47.125837Z",
     "shell.execute_reply": "2022-10-09T23:43:47.124736Z"
    },
    "papermill": {
     "duration": 0.038907,
     "end_time": "2022-10-09T23:43:47.128204",
     "exception": false,
     "start_time": "2022-10-09T23:43:47.089297",
     "status": "completed"
    },
    "tags": []
   },
   "outputs": [
    {
     "data": {
      "text/plain": [
       "Monthly                     22\n",
       "Daily, Close                14\n",
       "Daily                        9\n",
       "Weekly, Ending Friday        5\n",
       "Monthly, End of Period       1\n",
       "Weekly, Ending Wednesday     1\n",
       "Name: frequency, dtype: int64"
      ]
     },
     "execution_count": 24,
     "metadata": {},
     "output_type": "execute_result"
    }
   ],
   "source": [
    "df_desc['frequency'].value_counts()"
   ]
  },
  {
   "cell_type": "code",
   "execution_count": 25,
   "id": "4390dfc3",
   "metadata": {
    "execution": {
     "iopub.execute_input": "2022-10-09T23:43:47.185276Z",
     "iopub.status.busy": "2022-10-09T23:43:47.184063Z",
     "iopub.status.idle": "2022-10-09T23:43:47.195182Z",
     "shell.execute_reply": "2022-10-09T23:43:47.194008Z"
    },
    "papermill": {
     "duration": 0.041857,
     "end_time": "2022-10-09T23:43:47.197523",
     "exception": false,
     "start_time": "2022-10-09T23:43:47.155666",
     "status": "completed"
    },
    "tags": []
   },
   "outputs": [
    {
     "data": {
      "text/plain": [
       "D    23\n",
       "M    23\n",
       "W     6\n",
       "Name: frequency_short, dtype: int64"
      ]
     },
     "execution_count": 25,
     "metadata": {},
     "output_type": "execute_result"
    }
   ],
   "source": [
    "df_desc['frequency_short'].value_counts()"
   ]
  },
  {
   "cell_type": "code",
   "execution_count": 26,
   "id": "07987b17",
   "metadata": {
    "execution": {
     "iopub.execute_input": "2022-10-09T23:43:47.257404Z",
     "iopub.status.busy": "2022-10-09T23:43:47.256930Z",
     "iopub.status.idle": "2022-10-09T23:43:47.265925Z",
     "shell.execute_reply": "2022-10-09T23:43:47.263950Z"
    },
    "papermill": {
     "duration": 0.043757,
     "end_time": "2022-10-09T23:43:47.268039",
     "exception": false,
     "start_time": "2022-10-09T23:43:47.224282",
     "status": "completed"
    },
    "tags": []
   },
   "outputs": [
    {
     "data": {
      "text/plain": [
       "'2022-10-09'"
      ]
     },
     "execution_count": 26,
     "metadata": {},
     "output_type": "execute_result"
    }
   ],
   "source": [
    "start_date = '2000-01-01'\n",
    "end_date = datetime.now().strftime('%Y-%m-%d')\n",
    "end_date"
   ]
  },
  {
   "cell_type": "code",
   "execution_count": 27,
   "id": "cb7fccc0",
   "metadata": {
    "execution": {
     "iopub.execute_input": "2022-10-09T23:43:47.330983Z",
     "iopub.status.busy": "2022-10-09T23:43:47.330089Z",
     "iopub.status.idle": "2022-10-09T23:45:25.653418Z",
     "shell.execute_reply": "2022-10-09T23:45:25.652182Z"
    },
    "papermill": {
     "duration": 98.381085,
     "end_time": "2022-10-09T23:45:25.680351",
     "exception": false,
     "start_time": "2022-10-09T23:43:47.299266",
     "status": "completed"
    },
    "tags": []
   },
   "outputs": [
    {
     "name": "stdout",
     "output_type": "stream",
     "text": [
      "CPU times: user 17.5 s, sys: 163 ms, total: 17.6 s\n",
      "Wall time: 1min 38s\n"
     ]
    }
   ],
   "source": [
    "%%time\n",
    "fed_data_dict = {}\n",
    "for series_id, row in df_desc.iterrows():\n",
    "    data = fred.get_series(series_id, observation_start=start_date, observation_end=end_date)\n",
    "    fed_data_dict[series_id] = data\n",
    "    "
   ]
  },
  {
   "cell_type": "markdown",
   "id": "94be2a75",
   "metadata": {
    "papermill": {
     "duration": 0.0257,
     "end_time": "2022-10-09T23:45:25.732065",
     "exception": false,
     "start_time": "2022-10-09T23:45:25.706365",
     "status": "completed"
    },
    "tags": []
   },
   "source": [
    "#### Process data\n",
    "\n",
    "For `Today`:  Grab data - most recent data will be yesterday's data updated at day-end - to predict if crisis regime is going to happen in ? days\n",
    "\n",
    "- For `daily` frequency data: check the difference (in days) between last_updated and max_date (from target data), and make the x_date shift by n\n",
    "    - if n<1, day-end update. x_date is the date \n",
    "    - if n>=1: shift \n",
    "- For `weekly` and `monthly` data:\n",
    "    - convert to daily\n",
    "    - shift the date to update date"
   ]
  },
  {
   "cell_type": "code",
   "execution_count": 28,
   "id": "3b292798",
   "metadata": {
    "execution": {
     "iopub.execute_input": "2022-10-09T23:45:25.785855Z",
     "iopub.status.busy": "2022-10-09T23:45:25.785437Z",
     "iopub.status.idle": "2022-10-09T23:45:26.893028Z",
     "shell.execute_reply": "2022-10-09T23:45:26.891420Z"
    },
    "papermill": {
     "duration": 1.13734,
     "end_time": "2022-10-09T23:45:26.895416",
     "exception": false,
     "start_time": "2022-10-09T23:45:25.758076",
     "status": "completed"
    },
    "tags": []
   },
   "outputs": [
    {
     "name": "stdout",
     "output_type": "stream",
     "text": [
      "D T10Y2Y 2022-10-07 16:01:02-05:00 0\n",
      "D T10Y3M 2022-10-07 16:01:02-05:00 0\n",
      "D VIXCLS 2022-10-07 08:36:04-05:00 1\n",
      "D BAA10Y 2022-10-07 16:02:02-05:00 1\n",
      "M MICH 2022-09-30 10:01:01-05:00 60\n",
      "W NFCI 2022-10-05 07:33:03-05:00 5\n",
      "D T10YFF 2022-10-07 16:01:03-05:00 1\n",
      "D AAA10Y 2022-10-07 16:02:03-05:00 1\n",
      "W STLFSI3 2022-10-06 09:00:03-05:00 6\n",
      "M USSLIND 2020-04-14 09:16:10-05:00 73\n",
      "D BAMLHYH0A0HYM2TRIV 2022-10-07 09:16:11-05:00 1\n",
      "M REAINTRATREARAT1YE 2022-09-13 15:01:02-05:00 12\n",
      "M EXPINF1YR 2022-09-13 15:01:02-05:00 12\n",
      "M T10Y2YM 2022-10-03 16:01:02-05:00 32\n",
      "D GVZCLS 2022-10-07 08:36:03-05:00 1\n",
      "D NASDAQ100 2022-10-07 07:06:02-05:00 1\n",
      "M JPNASSETS 2022-09-04 20:11:01-05:00 34\n",
      "W NFCICREDIT 2022-10-05 07:33:21-05:00 5\n",
      "D NIKKEI225 2022-10-07 07:02:06-05:00 0\n",
      "M KCFSI 2022-09-09 14:16:02-05:00 39\n",
      "M IRLTLT01JPM156N 2022-09-14 14:51:03-05:00 44\n",
      "M T10YIEM 2022-10-03 16:01:04-05:00 32\n",
      "M TB3SMFFM 2022-10-03 16:01:03-05:00 32\n",
      "W NFCILEVERAGE 2022-10-05 07:33:33-05:00 5\n",
      "D CPFF 2022-10-07 16:01:02-05:00 1\n",
      "M MYAGM2JPM189S 2017-07-03 11:31:03-05:00 152\n",
      "D T1YFF 2022-10-07 16:01:03-05:00 1\n",
      "M PAYNSA 2022-10-07 07:44:06-05:00 36\n",
      "D OVXCLS 2022-10-07 08:36:03-05:00 1\n",
      "M LFWA64TTJPM647S 2022-09-14 14:50:03-05:00 75\n",
      "W NFCIRISK 2022-10-05 07:33:44-05:00 5\n",
      "D AAAFF 2022-10-07 16:02:02-05:00 1\n",
      "D BAMLHE00EHYITRIV 2022-10-07 09:15:10-05:00 1\n",
      "D T3MFF 2022-10-07 16:01:03-05:00 1\n",
      "M RBJPBIS 2022-09-22 11:01:09-05:00 52\n",
      "M STLPPM 2022-09-30 20:20:02-05:00 29\n",
      "D WILLREITIND 2022-10-07 07:04:03-05:00 1\n",
      "M LRUN64TTJPM156S 2022-09-14 14:50:03-05:00 75\n",
      "D VXNCLS 2022-10-07 08:36:05-05:00 1\n",
      "M BAA10YM 2022-10-03 16:01:05-05:00 32\n",
      "M REAINTRATREARAT1MO 2022-09-13 15:01:04-05:00 12\n",
      "M T5YIEM 2022-10-03 16:01:06-05:00 32\n",
      "D BAMLHYH0A3CMTRIV 2022-10-07 09:15:12-05:00 1\n",
      "M CFNAIDIFF 2022-09-26 07:34:05-05:00 56\n",
      "W ABCOMP 2022-10-06 12:14:01-05:00 1\n",
      "M TENEXPCHAINFRISPRE 2022-09-13 15:01:04-05:00 12\n",
      "D WILLLRGCAPVAL 2022-10-07 07:03:04-05:00 1\n",
      "M JTSOSL 2022-10-04 09:06:03-05:00 64\n",
      "D RVXCLS 2022-10-07 08:36:03-05:00 1\n",
      "M IRSTCI01JPM156N 2022-09-14 14:51:04-05:00 44\n",
      "D WILLSMLCAP 2022-10-07 07:03:05-05:00 1\n",
      "D VXDCLS 2022-10-07 08:36:04-05:00 1\n"
     ]
    }
   ],
   "source": [
    "fed_dfs = {}\n",
    "for series_id, data in fed_data_dict.items():\n",
    "    row = df_desc.loc[series_id]\n",
    "    #n_diff = (datetime.now(tz=row['last_updated'].tzinfo) - row['last_updated']).days\n",
    "    #n_diff = (max_date - datetime.strptime(row['last_updated'].strftime('%Y-%m-%d'),'%Y-%m-%d')).days\n",
    "    \n",
    "    #process daily data\n",
    "    if row['frequency_short']=='D': \n",
    "        n_diff = (max_date - datetime.strptime(data.index.max().strftime('%Y-%m-%d'),'%Y-%m-%d')).days\n",
    "        data.index.name='date'\n",
    "        data.name=series_id\n",
    "        data = data.to_frame().reset_index()\n",
    "        print(row['frequency_short'],series_id, row['last_updated'], n_diff)\n",
    "        \n",
    "        if n_diff<1:\n",
    "            data['x_date'] = data['date']\n",
    "        else:\n",
    "            #data['x_date'] = data['date'].shift(-n_diff)\n",
    "            data['x_date'] = data['date'].shift(-n_diff).tolist()[:-n_diff] + df_target.index[-n_diff:].tolist()\n",
    "        fed_dfs[series_id] = data\n",
    "    else: #monthly/weekly data\n",
    "        data.index.name='date'\n",
    "        data.name=series_id\n",
    "        data = data.to_frame().reset_index()\n",
    "        \n",
    "        n_diff = (datetime.strptime(row['last_updated'].strftime('%Y-%m-%d'),'%Y-%m-%d') - data['date'].max()).days \n",
    "        data['x_date'] = data['date'].apply(lambda x: x+relativedelta(days=n_diff))\n",
    "        \n",
    "        data_ = pd.DataFrame({'x_date':pd.date_range(start=data['x_date'].min(), end=data['x_date'].max(), freq='D')})\n",
    "        data_ = data_.merge(data,  on='x_date', how='left')\n",
    "        data_.fillna(method='ffill', inplace=True)\n",
    "        \n",
    "        print(row['frequency_short'],series_id, row['last_updated'], n_diff)\n",
    "        fed_dfs[series_id] = data_"
   ]
  },
  {
   "cell_type": "markdown",
   "id": "efb664f3",
   "metadata": {
    "papermill": {
     "duration": 0.028604,
     "end_time": "2022-10-09T23:45:26.950925",
     "exception": false,
     "start_time": "2022-10-09T23:45:26.922321",
     "status": "completed"
    },
    "tags": []
   },
   "source": [
    "<a id=\"1.5\"></a>\n",
    "\n",
    "## <left>1.5 Combine target variable, yfinance data, and fred.stlouisfed.org data </left>\n",
    "\n",
    "\n",
    "[back to top](#toc)\n"
   ]
  },
  {
   "cell_type": "code",
   "execution_count": 29,
   "id": "09d68a12",
   "metadata": {
    "execution": {
     "iopub.execute_input": "2022-10-09T23:45:27.007350Z",
     "iopub.status.busy": "2022-10-09T23:45:27.006906Z",
     "iopub.status.idle": "2022-10-09T23:45:27.014455Z",
     "shell.execute_reply": "2022-10-09T23:45:27.013177Z"
    },
    "papermill": {
     "duration": 0.038477,
     "end_time": "2022-10-09T23:45:27.016719",
     "exception": false,
     "start_time": "2022-10-09T23:45:26.978242",
     "status": "completed"
    },
    "tags": []
   },
   "outputs": [],
   "source": [
    "df = df_target[['pct_chg15', 'regime_change', 'target']].copy(deep=True)#'^GSPC'"
   ]
  },
  {
   "cell_type": "code",
   "execution_count": 30,
   "id": "eafc8c2e",
   "metadata": {
    "execution": {
     "iopub.execute_input": "2022-10-09T23:45:27.072617Z",
     "iopub.status.busy": "2022-10-09T23:45:27.072220Z",
     "iopub.status.idle": "2022-10-09T23:45:27.111579Z",
     "shell.execute_reply": "2022-10-09T23:45:27.110401Z"
    },
    "papermill": {
     "duration": 0.069892,
     "end_time": "2022-10-09T23:45:27.114103",
     "exception": false,
     "start_time": "2022-10-09T23:45:27.044211",
     "status": "completed"
    },
    "tags": []
   },
   "outputs": [],
   "source": [
    "for ticker, data in dfs.items():\n",
    "    df = df.merge(data[['Close']], left_index=True, right_index=True, how='left')\n",
    "    df.rename(columns={'Close': ticker.replace('^', '')}, inplace=True)\n",
    "df.index.name='x_date'\n",
    "df.reset_index(drop=False, inplace=True)"
   ]
  },
  {
   "cell_type": "code",
   "execution_count": 31,
   "id": "b308a36d",
   "metadata": {
    "execution": {
     "iopub.execute_input": "2022-10-09T23:45:27.170015Z",
     "iopub.status.busy": "2022-10-09T23:45:27.169602Z",
     "iopub.status.idle": "2022-10-09T23:45:28.114543Z",
     "shell.execute_reply": "2022-10-09T23:45:28.113268Z"
    },
    "papermill": {
     "duration": 0.975831,
     "end_time": "2022-10-09T23:45:28.117088",
     "exception": false,
     "start_time": "2022-10-09T23:45:27.141257",
     "status": "completed"
    },
    "scrolled": true,
    "tags": []
   },
   "outputs": [
    {
     "name": "stdout",
     "output_type": "stream",
     "text": [
      "T10Y2Y (5940, 3)\n",
      "T10Y3M (5940, 3)\n",
      "VIXCLS (5939, 3)\n",
      "BAA10Y (5939, 3)\n",
      "MICH (8249, 3)\n",
      "NFCI (8303, 3)\n",
      "T10YFF (5939, 3)\n",
      "AAA10Y (5939, 3)\n",
      "STLFSI3 (8303, 3)\n",
      "USSLIND (7337, 3)\n",
      "BAMLHYH0A0HYM2TRIV (6015, 3)\n",
      "REAINTRATREARAT1YE (8280, 3)\n",
      "EXPINF1YR (8280, 3)\n",
      "T10Y2YM (8280, 3)\n",
      "GVZCLS (3743, 3)\n",
      "NASDAQ100 (5939, 3)\n",
      "JPNASSETS (8249, 3)\n",
      "NFCICREDIT (8303, 3)\n",
      "NIKKEI225 (5940, 3)\n",
      "KCFSI (8249, 3)\n",
      "IRLTLT01JPM156N (8249, 3)\n",
      "T10YIEM (7184, 3)\n",
      "TB3SMFFM (8280, 3)\n",
      "NFCILEVERAGE (8303, 3)\n",
      "CPFF (5939, 3)\n",
      "MYAGM2JPM189S (6242, 3)\n",
      "T1YFF (5939, 3)\n",
      "PAYNSA (8280, 3)\n",
      "OVXCLS (4021, 3)\n",
      "LFWA64TTJPM647S (8218, 3)\n",
      "NFCIRISK (8303, 3)\n",
      "AAAFF (5939, 3)\n",
      "BAMLHE00EHYITRIV (6015, 3)\n",
      "T3MFF (5939, 3)\n",
      "RBJPBIS (8249, 3)\n",
      "STLPPM (8280, 3)\n",
      "WILLREITIND (5939, 3)\n",
      "LRUN64TTJPM156S (8218, 3)\n",
      "VXNCLS (5656, 3)\n",
      "BAA10YM (8280, 3)\n",
      "REAINTRATREARAT1MO (8280, 3)\n",
      "T5YIEM (7184, 3)\n",
      "BAMLHYH0A3CMTRIV (6015, 3)\n",
      "CFNAIDIFF (8249, 3)\n",
      "ABCOMP (7946, 3)\n",
      "TENEXPCHAINFRISPRE (8280, 3)\n",
      "WILLLRGCAPVAL (5939, 3)\n",
      "JTSOSL (7914, 3)\n",
      "RVXCLS (4895, 3)\n",
      "IRSTCI01JPM156N (8249, 3)\n",
      "WILLSMLCAP (5939, 3)\n",
      "VXDCLS (5940, 3)\n"
     ]
    }
   ],
   "source": [
    "for c,data in fed_dfs.items():\n",
    "    print(c, data.shape)\n",
    "    df = df.merge(data[['x_date', c]], on='x_date', how='left')\n",
    "    "
   ]
  },
  {
   "cell_type": "code",
   "execution_count": 32,
   "id": "ebffea19",
   "metadata": {
    "execution": {
     "iopub.execute_input": "2022-10-09T23:45:28.174613Z",
     "iopub.status.busy": "2022-10-09T23:45:28.174210Z",
     "iopub.status.idle": "2022-10-09T23:45:28.196438Z",
     "shell.execute_reply": "2022-10-09T23:45:28.195201Z"
    },
    "papermill": {
     "duration": 0.054319,
     "end_time": "2022-10-09T23:45:28.198980",
     "exception": false,
     "start_time": "2022-10-09T23:45:28.144661",
     "status": "completed"
    },
    "tags": []
   },
   "outputs": [],
   "source": [
    "df = df[df['x_date']>='2000-01-01'].copy(deep=True)"
   ]
  },
  {
   "cell_type": "code",
   "execution_count": 33,
   "id": "4678066d",
   "metadata": {
    "_kg_hide-input": false,
    "execution": {
     "iopub.execute_input": "2022-10-09T23:45:28.256158Z",
     "iopub.status.busy": "2022-10-09T23:45:28.255737Z",
     "iopub.status.idle": "2022-10-09T23:45:28.268199Z",
     "shell.execute_reply": "2022-10-09T23:45:28.267336Z"
    },
    "papermill": {
     "duration": 0.043268,
     "end_time": "2022-10-09T23:45:28.270492",
     "exception": false,
     "start_time": "2022-10-09T23:45:28.227224",
     "status": "completed"
    },
    "scrolled": true,
    "tags": []
   },
   "outputs": [
    {
     "data": {
      "text/plain": [
       "x_date                   0\n",
       "pct_chg15                0\n",
       "regime_change            0\n",
       "GSPC                     0\n",
       "VIX                      0\n",
       "RUT                      0\n",
       "NDX                      0\n",
       "DJI                      0\n",
       "target                   3\n",
       "FVX                      7\n",
       "TNX                      7\n",
       "STLFSI3                  9\n",
       "NFCILEVERAGE             9\n",
       "NFCI                     9\n",
       "NFCIRISK                 9\n",
       "NFCICREDIT               9\n",
       "PAYNSA                  24\n",
       "STLPPM                  24\n",
       "T10Y2YM                 25\n",
       "BAA10YM                 25\n",
       "TB3SMFFM                25\n",
       "EXPINF1YR               26\n",
       "REAINTRATREARAT1YE      26\n",
       "TENEXPCHAINFRISPRE      26\n",
       "REAINTRATREARAT1MO      26\n",
       "T10Y3M                  41\n",
       "T10Y2Y                  41\n",
       "MICH                    45\n",
       "RBJPBIS                 45\n",
       "IRSTCI01JPM156N         46\n",
       "IRLTLT01JPM156N         46\n",
       "KCFSI                   46\n",
       "CFNAIDIFF               47\n",
       "JPNASSETS               47\n",
       "N100                    57\n",
       "BAMLHYH0A3CMTRIV        64\n",
       "BAMLHYH0A0HYM2TRIV      64\n",
       "BAMLHE00EHYITRIV        64\n",
       "LRUN64TTJPM156S         68\n",
       "LFWA64TTJPM647S         68\n",
       "FTSE                   107\n",
       "GC=F                   186\n",
       "VIXCLS                 202\n",
       "VXDCLS                 205\n",
       "WILLLRGCAPVAL          206\n",
       "WILLREITIND            206\n",
       "WILLSMLCAP             206\n",
       "NASDAQ100              207\n",
       "T3MFF                  241\n",
       "T1YFF                  241\n",
       "T10YFF                 241\n",
       "AAA10Y                 244\n",
       "BAA10Y                 244\n",
       "AAAFF                  244\n",
       "ABCOMP                 255\n",
       "HSI                    261\n",
       "JTSOSL                 278\n",
       "KS11                   290\n",
       "NIKKEI225              336\n",
       "N225                   339\n",
       "CPFF                   460\n",
       "VXNCLS                 470\n",
       "USSLIND                676\n",
       "T5YIEM                 777\n",
       "T10YIEM                777\n",
       "RVXCLS                1176\n",
       "MYAGM2JPM189S         1430\n",
       "STOXX50E              1923\n",
       "OVXCLS                1985\n",
       "GVZCLS                2243\n",
       "dtype: int64"
      ]
     },
     "execution_count": 33,
     "metadata": {},
     "output_type": "execute_result"
    }
   ],
   "source": [
    "df.isna().sum().sort_values().tail(100)"
   ]
  },
  {
   "cell_type": "code",
   "execution_count": 34,
   "id": "c41b4d63",
   "metadata": {
    "execution": {
     "iopub.execute_input": "2022-10-09T23:45:28.328253Z",
     "iopub.status.busy": "2022-10-09T23:45:28.327829Z",
     "iopub.status.idle": "2022-10-09T23:45:28.332170Z",
     "shell.execute_reply": "2022-10-09T23:45:28.331387Z"
    },
    "papermill": {
     "duration": 0.035391,
     "end_time": "2022-10-09T23:45:28.334261",
     "exception": false,
     "start_time": "2022-10-09T23:45:28.298870",
     "status": "completed"
    },
    "tags": []
   },
   "outputs": [],
   "source": [
    "df.reset_index(drop=True, inplace=True)"
   ]
  },
  {
   "cell_type": "code",
   "execution_count": 35,
   "id": "1280b944",
   "metadata": {
    "execution": {
     "iopub.execute_input": "2022-10-09T23:45:28.390370Z",
     "iopub.status.busy": "2022-10-09T23:45:28.389867Z",
     "iopub.status.idle": "2022-10-09T23:45:28.395777Z",
     "shell.execute_reply": "2022-10-09T23:45:28.395003Z"
    },
    "papermill": {
     "duration": 0.036525,
     "end_time": "2022-10-09T23:45:28.397982",
     "exception": false,
     "start_time": "2022-10-09T23:45:28.361457",
     "status": "completed"
    },
    "tags": []
   },
   "outputs": [],
   "source": [
    "df.set_index(keys=['x_date'], inplace=True)\n",
    "df.sort_index(ascending=True, inplace=True)"
   ]
  },
  {
   "cell_type": "markdown",
   "id": "9adc6e65",
   "metadata": {
    "papermill": {
     "duration": 0.026982,
     "end_time": "2022-10-09T23:45:28.452400",
     "exception": false,
     "start_time": "2022-10-09T23:45:28.425418",
     "status": "completed"
    },
    "tags": []
   },
   "source": [
    "<a id=\"1.6\"></a>\n",
    "\n",
    "## <left>1.6 Impute missing values </left>\n",
    "\n",
    "\n",
    "[back to top](#toc)\n"
   ]
  },
  {
   "cell_type": "code",
   "execution_count": 36,
   "id": "85c35070",
   "metadata": {
    "execution": {
     "iopub.execute_input": "2022-10-09T23:45:28.509342Z",
     "iopub.status.busy": "2022-10-09T23:45:28.508929Z",
     "iopub.status.idle": "2022-10-09T23:45:28.512987Z",
     "shell.execute_reply": "2022-10-09T23:45:28.512002Z"
    },
    "papermill": {
     "duration": 0.035783,
     "end_time": "2022-10-09T23:45:28.515337",
     "exception": false,
     "start_time": "2022-10-09T23:45:28.479554",
     "status": "completed"
    },
    "tags": []
   },
   "outputs": [],
   "source": [
    "# print(df.shape)\n",
    "# df.dropna(how='any', subset=['target'], inplace=True)\n",
    "# print(df.shape)"
   ]
  },
  {
   "cell_type": "code",
   "execution_count": 37,
   "id": "6555bd82",
   "metadata": {
    "execution": {
     "iopub.execute_input": "2022-10-09T23:45:28.592326Z",
     "iopub.status.busy": "2022-10-09T23:45:28.591849Z",
     "iopub.status.idle": "2022-10-09T23:45:28.606986Z",
     "shell.execute_reply": "2022-10-09T23:45:28.606202Z"
    },
    "papermill": {
     "duration": 0.060828,
     "end_time": "2022-10-09T23:45:28.611271",
     "exception": false,
     "start_time": "2022-10-09T23:45:28.550443",
     "status": "completed"
    },
    "tags": []
   },
   "outputs": [
    {
     "data": {
      "text/plain": [
       "target                   3\n",
       "N225                   339\n",
       "FVX                      7\n",
       "STOXX50E              1923\n",
       "KS11                   290\n",
       "N100                    57\n",
       "GC=F                   186\n",
       "TNX                      7\n",
       "HSI                    261\n",
       "FTSE                   107\n",
       "T10Y2Y                  41\n",
       "T10Y3M                  41\n",
       "VIXCLS                 202\n",
       "BAA10Y                 244\n",
       "MICH                    45\n",
       "NFCI                     9\n",
       "T10YFF                 241\n",
       "AAA10Y                 244\n",
       "STLFSI3                  9\n",
       "USSLIND                676\n",
       "BAMLHYH0A0HYM2TRIV      64\n",
       "REAINTRATREARAT1YE      26\n",
       "EXPINF1YR               26\n",
       "T10Y2YM                 25\n",
       "GVZCLS                2243\n",
       "NASDAQ100              207\n",
       "JPNASSETS               47\n",
       "NFCICREDIT               9\n",
       "NIKKEI225              336\n",
       "KCFSI                   46\n",
       "IRLTLT01JPM156N         46\n",
       "T10YIEM                777\n",
       "TB3SMFFM                25\n",
       "NFCILEVERAGE             9\n",
       "CPFF                   460\n",
       "MYAGM2JPM189S         1430\n",
       "T1YFF                  241\n",
       "PAYNSA                  24\n",
       "OVXCLS                1985\n",
       "LFWA64TTJPM647S         68\n",
       "NFCIRISK                 9\n",
       "AAAFF                  244\n",
       "BAMLHE00EHYITRIV        64\n",
       "T3MFF                  241\n",
       "RBJPBIS                 45\n",
       "STLPPM                  24\n",
       "WILLREITIND            206\n",
       "LRUN64TTJPM156S         68\n",
       "VXNCLS                 470\n",
       "BAA10YM                 25\n",
       "REAINTRATREARAT1MO      26\n",
       "T5YIEM                 777\n",
       "BAMLHYH0A3CMTRIV        64\n",
       "CFNAIDIFF               47\n",
       "ABCOMP                 255\n",
       "TENEXPCHAINFRISPRE      26\n",
       "WILLLRGCAPVAL          206\n",
       "JTSOSL                 278\n",
       "RVXCLS                1176\n",
       "IRSTCI01JPM156N         46\n",
       "WILLSMLCAP             206\n",
       "VXDCLS                 205\n",
       "dtype: int64"
      ]
     },
     "execution_count": 37,
     "metadata": {},
     "output_type": "execute_result"
    }
   ],
   "source": [
    "df.replace([-np.inf, np.inf], np.nan, inplace=True)\n",
    "df.isna().sum()[df.isna().sum()>0]"
   ]
  },
  {
   "cell_type": "code",
   "execution_count": 38,
   "id": "f29d8f92",
   "metadata": {
    "execution": {
     "iopub.execute_input": "2022-10-09T23:45:28.674246Z",
     "iopub.status.busy": "2022-10-09T23:45:28.673742Z",
     "iopub.status.idle": "2022-10-09T23:45:28.682651Z",
     "shell.execute_reply": "2022-10-09T23:45:28.681561Z"
    },
    "papermill": {
     "duration": 0.040197,
     "end_time": "2022-10-09T23:45:28.685146",
     "exception": false,
     "start_time": "2022-10-09T23:45:28.644949",
     "status": "completed"
    },
    "tags": []
   },
   "outputs": [],
   "source": [
    "df.fillna(method='ffill', inplace=True)\n",
    "df.fillna(method='bfill', inplace=True)"
   ]
  },
  {
   "cell_type": "code",
   "execution_count": 39,
   "id": "8e0d929c",
   "metadata": {
    "execution": {
     "iopub.execute_input": "2022-10-09T23:45:28.742000Z",
     "iopub.status.busy": "2022-10-09T23:45:28.741597Z",
     "iopub.status.idle": "2022-10-09T23:45:28.753986Z",
     "shell.execute_reply": "2022-10-09T23:45:28.752827Z"
    },
    "papermill": {
     "duration": 0.04347,
     "end_time": "2022-10-09T23:45:28.756213",
     "exception": false,
     "start_time": "2022-10-09T23:45:28.712743",
     "status": "completed"
    },
    "tags": []
   },
   "outputs": [
    {
     "data": {
      "text/plain": [
       "Series([], dtype: int64)"
      ]
     },
     "execution_count": 39,
     "metadata": {},
     "output_type": "execute_result"
    }
   ],
   "source": [
    "df.isna().sum()[df.isna().sum()>0]"
   ]
  },
  {
   "cell_type": "markdown",
   "id": "74c143f1",
   "metadata": {
    "papermill": {
     "duration": 0.027119,
     "end_time": "2022-10-09T23:45:28.811457",
     "exception": false,
     "start_time": "2022-10-09T23:45:28.784338",
     "status": "completed"
    },
    "tags": []
   },
   "source": [
    "<a id=\"2\"></a>\n",
    "\n",
    "# <left>2. Feature engineering</left>\n",
    "\n",
    "\n",
    "[back to top](#toc)\n"
   ]
  },
  {
   "cell_type": "code",
   "execution_count": 40,
   "id": "f28299fb",
   "metadata": {
    "execution": {
     "iopub.execute_input": "2022-10-09T23:45:28.868643Z",
     "iopub.status.busy": "2022-10-09T23:45:28.868248Z",
     "iopub.status.idle": "2022-10-09T23:45:28.875301Z",
     "shell.execute_reply": "2022-10-09T23:45:28.874271Z"
    },
    "papermill": {
     "duration": 0.038732,
     "end_time": "2022-10-09T23:45:28.877797",
     "exception": false,
     "start_time": "2022-10-09T23:45:28.839065",
     "status": "completed"
    },
    "tags": []
   },
   "outputs": [],
   "source": [
    "#calculate volatility\n",
    "def cal_vol(series, period=10, eps=1e-8):\n",
    "    series = series.fillna(method='ffill').fillna(method='bfill').fillna(0)\n",
    "\n",
    "    #ensure the input data is positive numeric values\n",
    "    if series.min()<0:\n",
    "        return None\n",
    "    \n",
    "    vol = np.log(series + eps).diff(1).rolling(period).apply(lambda x: np.sqrt(np.sum(x**2)))\n",
    "    \n",
    "    return pd.Series(vol, name= f\"vol{period}\")"
   ]
  },
  {
   "cell_type": "code",
   "execution_count": 41,
   "id": "4f9b5af4",
   "metadata": {
    "execution": {
     "iopub.execute_input": "2022-10-09T23:45:28.935337Z",
     "iopub.status.busy": "2022-10-09T23:45:28.934911Z",
     "iopub.status.idle": "2022-10-09T23:45:28.941924Z",
     "shell.execute_reply": "2022-10-09T23:45:28.940871Z"
    },
    "papermill": {
     "duration": 0.038323,
     "end_time": "2022-10-09T23:45:28.944072",
     "exception": false,
     "start_time": "2022-10-09T23:45:28.905749",
     "status": "completed"
    },
    "tags": []
   },
   "outputs": [],
   "source": [
    "#calculate sharpe ratio, here assume risk free rate is 0\n",
    "def cal_sharpe(series):\n",
    "    series = series.fillna(method='ffill').fillna(method='bfill').fillna(0)\n",
    "    \n",
    "    diff_ = series.diff()\n",
    "    std_ = np.std(diff_, ddof = 1)\n",
    "    \n",
    "    if np.isnan(std_) or std_==0:\n",
    "        sharpe  = 0.0\n",
    "    else:\n",
    "        sharpe = np.divide(diff_.mean(), std_)\n",
    "        \n",
    "    return sharpe"
   ]
  },
  {
   "cell_type": "code",
   "execution_count": 42,
   "id": "8359443d",
   "metadata": {
    "execution": {
     "iopub.execute_input": "2022-10-09T23:45:29.001651Z",
     "iopub.status.busy": "2022-10-09T23:45:29.001265Z",
     "iopub.status.idle": "2022-10-09T23:45:29.007653Z",
     "shell.execute_reply": "2022-10-09T23:45:29.006469Z"
    },
    "papermill": {
     "duration": 0.037822,
     "end_time": "2022-10-09T23:45:29.009765",
     "exception": false,
     "start_time": "2022-10-09T23:45:28.971943",
     "status": "completed"
    },
    "tags": []
   },
   "outputs": [],
   "source": [
    "def cal_zscore(series):\n",
    "    series = series.fillna(method='ffill').fillna(method='bfill').fillna(0)\n",
    "    series = np.nan_to_num(series, 0)\n",
    "    m_ = series.mean()\n",
    "    s_ = series.std()\n",
    "    z = (series[-1] - m_)/s_\n",
    "    return z"
   ]
  },
  {
   "cell_type": "code",
   "execution_count": 43,
   "id": "f4456e0f",
   "metadata": {
    "execution": {
     "iopub.execute_input": "2022-10-09T23:45:29.067302Z",
     "iopub.status.busy": "2022-10-09T23:45:29.066863Z",
     "iopub.status.idle": "2022-10-09T23:45:29.072408Z",
     "shell.execute_reply": "2022-10-09T23:45:29.071569Z"
    },
    "papermill": {
     "duration": 0.036958,
     "end_time": "2022-10-09T23:45:29.074424",
     "exception": false,
     "start_time": "2022-10-09T23:45:29.037466",
     "status": "completed"
    },
    "tags": []
   },
   "outputs": [],
   "source": [
    "def above_mean(series):\n",
    "    series = series.fillna(method='ffill').fillna(method='bfill').fillna(0)\n",
    "    series = np.nan_to_num(series, 0)\n",
    "    return series[:-1].mean()<series[-1]"
   ]
  },
  {
   "cell_type": "code",
   "execution_count": 44,
   "id": "6e834302",
   "metadata": {
    "_kg_hide-input": true,
    "execution": {
     "iopub.execute_input": "2022-10-09T23:45:29.132845Z",
     "iopub.status.busy": "2022-10-09T23:45:29.132450Z",
     "iopub.status.idle": "2022-10-09T23:45:29.147532Z",
     "shell.execute_reply": "2022-10-09T23:45:29.146399Z"
    },
    "papermill": {
     "duration": 0.046924,
     "end_time": "2022-10-09T23:45:29.149876",
     "exception": false,
     "start_time": "2022-10-09T23:45:29.102952",
     "status": "completed"
    },
    "tags": []
   },
   "outputs": [],
   "source": [
    "def generate_features(data_df, name_pref, feat):\n",
    "    for period in [10, 20, 60, 120, 200, 250 ]:\n",
    "        data_df[f'{name_pref}_chg{period}'] = data_df[feat].diff(period)\n",
    "        data_df[f'{name_pref}_pct_chg{period}'] = data_df[feat].pct_change(period)\n",
    "        data_df[f'{name_pref}_volat{period}'] = cal_vol(data_df[feat], period=period, eps=1e-8)\n",
    "        \n",
    "#         for p2 in [20, 60]:\n",
    "#             data_df[f'{name_pref}_chg{period}_ma{p2}'] = data_df[f'{name_pref}_chg{period}'].rolling(window=p2, min_periods=p2).mean()\n",
    "#             data_df[f'{name_pref}_pct_chg{period}_ma{p2}'] = data_df[f'{name_pref}_pct_chg{period}'].rolling(window=p2, min_periods=p2).mean()\n",
    "#             data_df[f'{name_pref}_volat{period}_ma{p2}'] = data_df[f'{name_pref}_volat{period}'].rolling(window=p2, min_periods=p2).mean()\n",
    "\n",
    "        data_df[f'{name_pref}_chg{period}_above200dMA'] = data_df[f'{name_pref}_chg{period}'].fillna(0).rolling(window=200, min_periods=200).apply(above_mean)\n",
    "        data_df[f'{name_pref}_pct_chg{period}_above200dMA'] = data_df[f'{name_pref}_pct_chg{period}'].fillna(0).rolling(window=200, min_periods=200).apply(above_mean)\n",
    "        data_df[f'{name_pref}_volat{period}_above200dMA'] = data_df[f'{name_pref}_volat{period}'].fillna(0).rolling(window=200, min_periods=200).apply(above_mean)\n",
    "    \n",
    "    data_df[f'{name_pref}_ma_dist20_50'] = data_df[feat].rolling(window=20, min_periods=20).mean() - data_df[feat].rolling(window=50, min_periods=50).mean()\n",
    "    data_df[f'{name_pref}_ma_dist200_50'] = data_df[feat].rolling(window=200, min_periods=200).mean() - data_df[feat].rolling(window=50, min_periods=50).mean()\n",
    "    \n",
    "    for period in [60, 120, 200, 250]:\n",
    "        data_df[f'{name_pref}_mean_std{period}'] = data_df[feat].rolling(window=period, min_periods=period).apply(cal_sharpe)\n",
    "        data_df[f'{name_pref}_mean_std{period}_above200dMA'] = data_df[f'{name_pref}_mean_std{period}'].rolling(window=200, min_periods=200).apply(above_mean)\n",
    "        data_df[f'{name_pref}_zscore{period}'] = data_df[feat].rolling(window=period, min_periods=period).apply(cal_zscore)\n",
    "        data_df[f'{name_pref}_zscore{period}_above200dMA'] = data_df[f'{name_pref}_zscore{period}'].rolling(window=200, min_periods=200).apply(above_mean)\n",
    "        data_df[f'{name_pref}_ma_dist20_50_zscore{period}'] = data_df[f'{name_pref}_ma_dist20_50'].rolling(window=period, min_periods=period).apply(cal_zscore)\n",
    "        data_df[f'{name_pref}_ma_dist200_50_zscore{period}'] = data_df[f'{name_pref}_ma_dist200_50'].rolling(window=period, min_periods=period).apply(cal_zscore)\n",
    "       \n"
   ]
  },
  {
   "cell_type": "code",
   "execution_count": 45,
   "id": "095a2e6c",
   "metadata": {
    "_kg_hide-input": true,
    "execution": {
     "iopub.execute_input": "2022-10-09T23:45:29.206838Z",
     "iopub.status.busy": "2022-10-09T23:45:29.206435Z",
     "iopub.status.idle": "2022-10-09T23:45:29.220525Z",
     "shell.execute_reply": "2022-10-09T23:45:29.219368Z"
    },
    "papermill": {
     "duration": 0.045231,
     "end_time": "2022-10-09T23:45:29.222797",
     "exception": false,
     "start_time": "2022-10-09T23:45:29.177566",
     "status": "completed"
    },
    "tags": []
   },
   "outputs": [],
   "source": [
    "def generate_features(data_df, name_pref, feat):\n",
    "    for period in [5, 10, 20, 60, 120, 250 ]:\n",
    "        data_df[f'{name_pref}_chg{period}'] = data_df[feat].diff(period)\n",
    "        data_df[f'{name_pref}_pct_chg{period}'] = data_df[feat].pct_change(period)\n",
    "        \n",
    "        if period in [5, 20]:\n",
    "            data_df[f'{name_pref}_chg{period}_above200dMA'] = data_df[f'{name_pref}_chg{period}'].fillna(0).rolling(window=200, min_periods=200).apply(above_mean)\n",
    "            data_df[f'{name_pref}_pct_chg{period}_above200dMA'] = data_df[f'{name_pref}_pct_chg{period}'].fillna(0).rolling(window=200, min_periods=200).apply(above_mean)\n",
    "        \n",
    "    data_df[f'{name_pref}_ma_dist20_50'] = data_df[feat].rolling(window=20, min_periods=20).mean() - data_df[feat].rolling(window=50, min_periods=50).mean()\n",
    "    data_df[f'{name_pref}_ma_dist200_50'] = data_df[feat].rolling(window=200, min_periods=200).mean() - data_df[feat].rolling(window=50, min_periods=50).mean()\n",
    "    data_df[f'{name_pref}_ma_dist500_250'] = data_df[feat].rolling(window=500, min_periods=500).mean() - data_df[feat].rolling(window=250, min_periods=250).mean()\n",
    "    \n",
    "    for period in [60, 125,]:\n",
    "        data_df[f'{name_pref}_std{period}'] = data_df[feat].rolling(window=period, min_periods=period).std()\n",
    "        data_df[f'{name_pref}_std{period}_chg200'] = data_df[f'{name_pref}_std{period}'].diff(200)\n",
    "        \n",
    "        if data_df[feat].min()>0:\n",
    "            data_df[f'{name_pref}_volat{period}'] = cal_vol(data_df[feat], period=period, eps=1e-8)\n",
    "        \n",
    "        \n",
    "    for period in [120, 250]:\n",
    "        if data_df[feat].min()>0:\n",
    "            data_df[f'{name_pref}_mean_std{period}'] = data_df[feat].rolling(window=period, min_periods=period).apply(cal_sharpe)\n",
    "        \n",
    "    for period in [60, 120, 200, 250]:        \n",
    "        data_df[f'{name_pref}_zscore{period}'] = data_df[feat].rolling(window=period, min_periods=period).apply(cal_zscore)\n",
    "        "
   ]
  },
  {
   "cell_type": "code",
   "execution_count": 46,
   "id": "69d4caee",
   "metadata": {
    "execution": {
     "iopub.execute_input": "2022-10-09T23:45:29.282555Z",
     "iopub.status.busy": "2022-10-09T23:45:29.281618Z",
     "iopub.status.idle": "2022-10-09T23:46:52.287661Z",
     "shell.execute_reply": "2022-10-09T23:46:52.286349Z"
    },
    "papermill": {
     "duration": 83.039365,
     "end_time": "2022-10-09T23:46:52.290477",
     "exception": false,
     "start_time": "2022-10-09T23:45:29.251112",
     "status": "completed"
    },
    "tags": []
   },
   "outputs": [
    {
     "name": "stdout",
     "output_type": "stream",
     "text": [
      "Raw feat:  JPNASSETS\n",
      "Raw feat:  NFCICREDIT\n"
     ]
    }
   ],
   "source": [
    "#yfinance_tickers, fed_tickers\n",
    "for feat in final_feats:\n",
    "    if (feat in yfinance_tickers) | (feat in fed_tickers):\n",
    "        print('Raw feat: ', feat)\n",
    "        continue\n",
    "    elif '_zscore' in feat:\n",
    "        iloc=feat.index('zscore')+len('zscore')\n",
    "        period = int(feat[iloc:])\n",
    "        raw_feat = feat.split('_')[0]\n",
    "        df[feat] = df[raw_feat].rolling(window=period, min_periods=period).apply(cal_zscore)\n",
    "    elif '_mean_std' in feat:\n",
    "        iloc=feat.index('_mean_std')+len('_mean_std')\n",
    "        period = int(feat[iloc:])\n",
    "        raw_feat = feat.split('_')[0] \n",
    "        df[feat] = df[raw_feat].rolling(window=period, min_periods=period).apply(cal_sharpe)\n",
    "    elif '_volat' in feat:\n",
    "        iloc=feat.index('_volat')+len('_volat')\n",
    "        period = int(feat[iloc:])\n",
    "        raw_feat = feat.split('_')[0]\n",
    "        df[feat] = cal_vol(df[raw_feat], period=period, eps=1e-8)\n",
    "    elif '_ma_dist' in feat:\n",
    "        iloc=feat.index('_ma_dist')+len('_ma_dist')\n",
    "        pp_ = feat[iloc:].split('_')\n",
    "        period1, period2 = int(pp_[0]), int(pp_[-1])\n",
    "        raw_feat = feat.split('_')[0]        \n",
    "        df[feat] = df[raw_feat].rolling(window=period1, min_periods=period1).mean() - df[raw_feat].rolling(window=period2, min_periods=period2).mean()\n",
    "    elif '_above200dMA' in feat:\n",
    "        iloc=feat.index('_chg')+len('_chg')\n",
    "        period = int(feat[iloc:-len('_above200dMA')])\n",
    "        raw_feat = feat.split('_')[0]\n",
    "        if '_pct_chg' in feat:\n",
    "            df[f'{raw_feat}_pct_chg{period}'] = df[raw_feat].pct_change(period)\n",
    "            df[feat] = df[f'{raw_feat}_pct_chg{period}'].fillna(0).rolling(window=200, min_periods=200).apply(above_mean)\n",
    "        else:\n",
    "            df[f'{raw_feat}_chg{period}'] = df[raw_feat].diff(period)\n",
    "            df[feat] = df[f'{raw_feat}_chg{period}'].fillna(0).rolling(window=200, min_periods=200).apply(above_mean)\n",
    "    elif '_std' in feat:  \n",
    "        if '_chg200' in feat:\n",
    "            iloc=feat.index('_std')+len('_std')\n",
    "            period = int(feat[iloc:-len('_chg200')])\n",
    "            raw_feat = feat.split('_')[0]\n",
    "\n",
    "            df[f'{raw_feat}_std{period}'] = df[raw_feat].rolling(window=period, min_periods=period).std()\n",
    "            df[feat] = df[f'{raw_feat}_std{period}'].diff(200)\n",
    "        else:\n",
    "            iloc=feat.index('_std')+len('_std')\n",
    "            period = int(feat[iloc:])\n",
    "            raw_feat = feat.split('_')[0]\n",
    "            \n",
    "            df[feat]  = df[raw_feat].rolling(window=period, min_periods=period).std()\n",
    "    elif '_chg' in feat:\n",
    "        if ('_above200dMA' in feat) | ('_std' in feat):\n",
    "            continue\n",
    "        else:\n",
    "            if '_pct_chg' in feat:\n",
    "                iloc=feat.index('_pct_chg')+len('_pct_chg')\n",
    "                period = int(feat[iloc:])\n",
    "                raw_feat = feat.split('_')[0]\n",
    "                \n",
    "                df[feat] = df[raw_feat].pct_change(period)\n",
    "            else:\n",
    "                \n",
    "                iloc=feat.index('_chg')+len('_chg')\n",
    "                period = int(feat[iloc:])\n",
    "                raw_feat = feat.split('_')[0]\n",
    "                \n",
    "                df[feat] = df[raw_feat].diff(period)\n",
    "    else:\n",
    "        print('No category: ', feat)\n",
    "                \n",
    "                \n",
    "        "
   ]
  },
  {
   "cell_type": "markdown",
   "id": "5039a91a",
   "metadata": {
    "papermill": {
     "duration": 0.027316,
     "end_time": "2022-10-09T23:46:52.345348",
     "exception": false,
     "start_time": "2022-10-09T23:46:52.318032",
     "status": "completed"
    },
    "tags": []
   },
   "source": [
    "# !!!! Make sure all features in final_feats list in df"
   ]
  },
  {
   "cell_type": "code",
   "execution_count": 47,
   "id": "5313d7a7",
   "metadata": {
    "execution": {
     "iopub.execute_input": "2022-10-09T23:46:52.402506Z",
     "iopub.status.busy": "2022-10-09T23:46:52.402085Z",
     "iopub.status.idle": "2022-10-09T23:46:52.409509Z",
     "shell.execute_reply": "2022-10-09T23:46:52.408304Z"
    },
    "papermill": {
     "duration": 0.038351,
     "end_time": "2022-10-09T23:46:52.411616",
     "exception": false,
     "start_time": "2022-10-09T23:46:52.373265",
     "status": "completed"
    },
    "tags": []
   },
   "outputs": [
    {
     "data": {
      "text/plain": [
       "set()"
      ]
     },
     "execution_count": 47,
     "metadata": {},
     "output_type": "execute_result"
    }
   ],
   "source": [
    "set(final_feats)-set(df.columns)"
   ]
  },
  {
   "cell_type": "markdown",
   "id": "c950b9a9",
   "metadata": {
    "papermill": {
     "duration": 0.027081,
     "end_time": "2022-10-09T23:46:52.466531",
     "exception": false,
     "start_time": "2022-10-09T23:46:52.439450",
     "status": "completed"
    },
    "tags": []
   },
   "source": [
    "### Impute missing values"
   ]
  },
  {
   "cell_type": "code",
   "execution_count": 48,
   "id": "59f81d5a",
   "metadata": {
    "execution": {
     "iopub.execute_input": "2022-10-09T23:46:52.523500Z",
     "iopub.status.busy": "2022-10-09T23:46:52.522552Z",
     "iopub.status.idle": "2022-10-09T23:46:52.555291Z",
     "shell.execute_reply": "2022-10-09T23:46:52.554101Z"
    },
    "papermill": {
     "duration": 0.06371,
     "end_time": "2022-10-09T23:46:52.557666",
     "exception": false,
     "start_time": "2022-10-09T23:46:52.493956",
     "status": "completed"
    },
    "tags": []
   },
   "outputs": [
    {
     "data": {
      "text/plain": [
       "EXPINF1YR_chg5                         5\n",
       "FVX_chg5                               5\n",
       "VXNCLS_chg5                            5\n",
       "FVX_pct_chg5                           5\n",
       "HSI_chg5                               5\n",
       "                                    ... \n",
       "BAMLHYH0A0HYM2TRIV_std125_chg200     324\n",
       "NASDAQ100_std125_chg200              324\n",
       "T10Y2YM_std125_chg200                324\n",
       "CPFF_pct_chg250                      392\n",
       "REAINTRATREARAT1MO_ma_dist500_250    499\n",
       "Length: 136, dtype: int64"
      ]
     },
     "execution_count": 48,
     "metadata": {},
     "output_type": "execute_result"
    }
   ],
   "source": [
    "df.replace([-np.inf, np.inf], np.nan, inplace=True)\n",
    "df.isna().sum()[df.isna().sum()>0].sort_values()"
   ]
  },
  {
   "cell_type": "code",
   "execution_count": 49,
   "id": "43e91929",
   "metadata": {
    "execution": {
     "iopub.execute_input": "2022-10-09T23:46:52.614577Z",
     "iopub.status.busy": "2022-10-09T23:46:52.614185Z",
     "iopub.status.idle": "2022-10-09T23:46:52.624732Z",
     "shell.execute_reply": "2022-10-09T23:46:52.623400Z"
    },
    "papermill": {
     "duration": 0.041488,
     "end_time": "2022-10-09T23:46:52.626943",
     "exception": false,
     "start_time": "2022-10-09T23:46:52.585455",
     "status": "completed"
    },
    "tags": []
   },
   "outputs": [],
   "source": [
    "df.fillna(method='ffill', inplace=True)\n",
    "df.fillna(method='bfill', inplace=True)"
   ]
  },
  {
   "cell_type": "code",
   "execution_count": 50,
   "id": "ebe0a830",
   "metadata": {
    "execution": {
     "iopub.execute_input": "2022-10-09T23:46:52.683949Z",
     "iopub.status.busy": "2022-10-09T23:46:52.683537Z",
     "iopub.status.idle": "2022-10-09T23:46:52.852788Z",
     "shell.execute_reply": "2022-10-09T23:46:52.851626Z"
    },
    "papermill": {
     "duration": 0.201019,
     "end_time": "2022-10-09T23:46:52.855470",
     "exception": false,
     "start_time": "2022-10-09T23:46:52.654451",
     "status": "completed"
    },
    "tags": []
   },
   "outputs": [],
   "source": [
    "float64_cols = df.select_dtypes(include=['float64']).columns.tolist()\n",
    "df[float64_cols] = np.float32(df[float64_cols].values)\n",
    "#---convert int64 to int32\n",
    "int64_cols = df.select_dtypes(include=['int64']).columns.tolist()\n",
    "df[int64_cols] = np.int32(df[int64_cols].values)\n",
    "\n",
    "#-- save to parquet file\n",
    "#pq.write_table(pa.Table.from_pandas(df), 'data.parquet', compression = 'GZIP')"
   ]
  },
  {
   "cell_type": "markdown",
   "id": "f390381d",
   "metadata": {
    "papermill": {
     "duration": 0.027413,
     "end_time": "2022-10-09T23:46:52.910675",
     "exception": false,
     "start_time": "2022-10-09T23:46:52.883262",
     "status": "completed"
    },
    "tags": []
   },
   "source": [
    "<a id=\"3\"></a>\n",
    "\n",
    "# <left>3. Train LightGBM models</left>\n",
    "\n",
    "\n",
    "[back to top](#toc)\n"
   ]
  },
  {
   "cell_type": "code",
   "execution_count": 51,
   "id": "7350e366",
   "metadata": {
    "execution": {
     "iopub.execute_input": "2022-10-09T23:46:52.968684Z",
     "iopub.status.busy": "2022-10-09T23:46:52.968299Z",
     "iopub.status.idle": "2022-10-09T23:46:54.804076Z",
     "shell.execute_reply": "2022-10-09T23:46:54.802869Z"
    },
    "papermill": {
     "duration": 1.86848,
     "end_time": "2022-10-09T23:46:54.807209",
     "exception": false,
     "start_time": "2022-10-09T23:46:52.938729",
     "status": "completed"
    },
    "tags": []
   },
   "outputs": [
    {
     "data": {
      "text/html": [
       "<style type='text/css'>\n",
       ".datatable table.frame { margin-bottom: 0; }\n",
       ".datatable table.frame thead { border-bottom: none; }\n",
       ".datatable table.frame tr.coltypes td {  color: #FFFFFF;  line-height: 6px;  padding: 0 0.5em;}\n",
       ".datatable .bool    { background: #DDDD99; }\n",
       ".datatable .object  { background: #565656; }\n",
       ".datatable .int     { background: #5D9E5D; }\n",
       ".datatable .float   { background: #4040CC; }\n",
       ".datatable .str     { background: #CC4040; }\n",
       ".datatable .time    { background: #40CC40; }\n",
       ".datatable .row_index {  background: var(--jp-border-color3);  border-right: 1px solid var(--jp-border-color0);  color: var(--jp-ui-font-color3);  font-size: 9px;}\n",
       ".datatable .frame tbody td { text-align: left; }\n",
       ".datatable .frame tr.coltypes .row_index {  background: var(--jp-border-color0);}\n",
       ".datatable th:nth-child(2) { padding-left: 12px; }\n",
       ".datatable .hellipsis {  color: var(--jp-cell-editor-border-color);}\n",
       ".datatable .vellipsis {  background: var(--jp-layout-color0);  color: var(--jp-cell-editor-border-color);}\n",
       ".datatable .na {  color: var(--jp-cell-editor-border-color);  font-size: 80%;}\n",
       ".datatable .sp {  opacity: 0.25;}\n",
       ".datatable .footer { font-size: 9px; }\n",
       ".datatable .frame_dimensions {  background: var(--jp-border-color3);  border-top: 1px solid var(--jp-border-color0);  color: var(--jp-ui-font-color3);  display: inline-block;  opacity: 0.6;  padding: 1px 10px 1px 5px;}\n",
       "</style>\n"
      ],
      "text/plain": [
       "<IPython.core.display.HTML object>"
      ]
     },
     "metadata": {},
     "output_type": "display_data"
    }
   ],
   "source": [
    "import numpy as np\n",
    "import pandas as pd\n",
    "import xgboost as xgb\n",
    "import lightgbm as lgb\n",
    "import json\n",
    "\n",
    "def get_tree_preds(X_train, y_train, X_test, params,\n",
    "                   num_round=2000, cust_eval=None):\n",
    "\n",
    "    dtrain = lgb.Dataset(X_train, y_train)\n",
    "    params['verbosity'] = -1\n",
    "    i_model = lgb.train(params = params,\n",
    "                        train_set = dtrain,\n",
    "                        num_boost_round=num_round,\n",
    "                        feval=cust_eval,\n",
    "                        early_stopping_rounds=None)\n",
    "\n",
    "    y_preds = i_model.predict(X_test, num_iteration=i_model.best_iteration)\n",
    "    scores = i_model.feature_importance(importance_type='gain', iteration=i_model.best_iteration)\n",
    "    df_scores = pd.DataFrame({'feature':list(X_train.columns), 'gain': list(scores)})\n",
    "\n",
    "    return y_preds, df_scores, i_model"
   ]
  },
  {
   "cell_type": "code",
   "execution_count": 52,
   "id": "04365395",
   "metadata": {
    "execution": {
     "iopub.execute_input": "2022-10-09T23:46:54.865257Z",
     "iopub.status.busy": "2022-10-09T23:46:54.864839Z",
     "iopub.status.idle": "2022-10-09T23:46:54.876649Z",
     "shell.execute_reply": "2022-10-09T23:46:54.875677Z"
    },
    "papermill": {
     "duration": 0.043467,
     "end_time": "2022-10-09T23:46:54.878899",
     "exception": false,
     "start_time": "2022-10-09T23:46:54.835432",
     "status": "completed"
    },
    "tags": []
   },
   "outputs": [],
   "source": [
    "#final set of hyperparameters from: \n",
    "#https://www.kaggle.com/code/xxxxyyyy80008/equity-market-crisis-regime-prediction-using-gbdt7#2.-LightGBM\n",
    "\n",
    "params_dict = {\n",
    "0: {'bagging_fraction': 0.435, 'bagging_freq': 8, 'boosting': 'gbdt', 'feature_fraction': 0.4, 'lambda_l1': 1.473, 'lambda_l2': 0.994, 'learning_rate': 0.02, 'max_bin': 121, 'max_depth': 2, 'metric': 'auc', 'min_data_in_leaf': 75, 'min_gain_to_split': 0.41, 'min_sum_hessian_in_leaf': 1.21, 'num_boost_round': 870, 'objective': 'binary', 'scale_pos_weight': 20, 'seed': 1},\n",
    "1: {'bagging_fraction': 0.485, 'bagging_freq': 1, 'boosting': 'gbdt', 'feature_fraction': 0.4, 'lambda_l1': 0.594, 'lambda_l2': 0.379, 'learning_rate': 0.02, 'max_bin': 306, 'max_depth': 2, 'metric': 'auc', 'min_data_in_leaf': 100, 'min_gain_to_split': 0.09, 'min_sum_hessian_in_leaf': 0.83, 'num_boost_round': 810, 'objective': 'binary', 'scale_pos_weight': 20, 'seed': 1},\n",
    "2: {'bagging_fraction': 0.435, 'bagging_freq': 9, 'boosting': 'gbdt', 'feature_fraction': 0.6, 'lambda_l1': 1.047, 'lambda_l2': 0.866, 'learning_rate': 0.02, 'max_bin': 420, 'max_depth': 2, 'metric': 'auc', 'min_data_in_leaf': 95, 'min_gain_to_split': 0.38, 'min_sum_hessian_in_leaf': 1.04, 'num_boost_round': 750, 'objective': 'binary', 'scale_pos_weight': 20, 'seed': 1},\n",
    "3: {'bagging_fraction': 0.545, 'bagging_freq': 11, 'boosting': 'gbdt', 'feature_fraction': 0.5, 'lambda_l1': 1.797, 'lambda_l2': 0.371, 'learning_rate': 0.12, 'max_bin': 338, 'max_depth': 1, 'metric': 'auc', 'min_data_in_leaf': 100, 'min_gain_to_split': 0.42, 'min_sum_hessian_in_leaf': 1.2, 'num_boost_round': 880, 'objective': 'binary', 'scale_pos_weight': 20, 'seed': 1},\n",
    "4: {'bagging_fraction': 0.445, 'bagging_freq': 19, 'boosting': 'gbdt', 'feature_fraction': 0.7, 'lambda_l1': 1.307, 'lambda_l2': 0.296, 'learning_rate': 0.02, 'max_bin': 239, 'max_depth': 1, 'metric': 'auc', 'min_data_in_leaf': 90, 'min_gain_to_split': 0.15, 'min_sum_hessian_in_leaf': 0.4, 'num_boost_round': 880, 'objective': 'binary', 'scale_pos_weight': 20, 'seed': 1},\n",
    "    \n",
    "}"
   ]
  },
  {
   "cell_type": "code",
   "execution_count": 53,
   "id": "c02c63e9",
   "metadata": {
    "execution": {
     "iopub.execute_input": "2022-10-09T23:46:54.936618Z",
     "iopub.status.busy": "2022-10-09T23:46:54.936250Z",
     "iopub.status.idle": "2022-10-09T23:46:54.943557Z",
     "shell.execute_reply": "2022-10-09T23:46:54.942301Z"
    },
    "papermill": {
     "duration": 0.038679,
     "end_time": "2022-10-09T23:46:54.945896",
     "exception": false,
     "start_time": "2022-10-09T23:46:54.907217",
     "status": "completed"
    },
    "tags": []
   },
   "outputs": [
    {
     "data": {
      "text/plain": [
       "2022"
      ]
     },
     "execution_count": 53,
     "metadata": {},
     "output_type": "execute_result"
    }
   ],
   "source": [
    "yr = datetime.now().year\n",
    "yr"
   ]
  },
  {
   "cell_type": "code",
   "execution_count": 54,
   "id": "896813f1",
   "metadata": {
    "execution": {
     "iopub.execute_input": "2022-10-09T23:46:55.004044Z",
     "iopub.status.busy": "2022-10-09T23:46:55.003529Z",
     "iopub.status.idle": "2022-10-09T23:46:55.021438Z",
     "shell.execute_reply": "2022-10-09T23:46:55.020364Z"
    },
    "papermill": {
     "duration": 0.049827,
     "end_time": "2022-10-09T23:46:55.023511",
     "exception": false,
     "start_time": "2022-10-09T23:46:54.973684",
     "status": "completed"
    },
    "tags": []
   },
   "outputs": [
    {
     "name": "stdout",
     "output_type": "stream",
     "text": [
      "1 (3524, 127) (3524,) (193, 127) (193, 1) 2007-12-03 00:00:00 2021-11-30 00:00:00 2022-01-03 00:00:00 2022-10-07 00:00:00\n"
     ]
    }
   ],
   "source": [
    "if yr%2==0: #2022, 2024\n",
    "    train_loc = (df.index<f'{yr-1}-12-01') & (df.index>=f'{yr-15}-12-01') \n",
    "    test_loc = (df.index>=f'{yr}-01-01') & (df.index<f'{yr+2}-01-01')    \n",
    "else: #2023\n",
    "    train_loc = (df.index<f'{yr-2}-12-01') & (df.index>=f'{yr-16}-12-01') \n",
    "    test_loc = (df.index>=f'{yr-1}-01-01') & (df.index<f'{yr+1}-01-01')   \n",
    "\n",
    "kfold_list = []\n",
    "kfold_list.append([df.loc[train_loc, final_feats], df.loc[train_loc, 'target'],\n",
    "                    df.loc[test_loc, final_feats], df.loc[test_loc, ['target']],\n",
    "                      ]\n",
    "                     )\n",
    "for i, (a, b, c, d) in enumerate(kfold_list):\n",
    "    print(i+1, a.shape, b.shape, c.shape, d.shape, a.index.min(), a.index.max(), c.index.min(), c.index.max())"
   ]
  },
  {
   "cell_type": "code",
   "execution_count": 55,
   "id": "2840d975",
   "metadata": {
    "execution": {
     "iopub.execute_input": "2022-10-09T23:46:55.084508Z",
     "iopub.status.busy": "2022-10-09T23:46:55.083394Z",
     "iopub.status.idle": "2022-10-09T23:46:59.420639Z",
     "shell.execute_reply": "2022-10-09T23:46:59.419805Z"
    },
    "papermill": {
     "duration": 4.370037,
     "end_time": "2022-10-09T23:46:59.423084",
     "exception": false,
     "start_time": "2022-10-09T23:46:55.053047",
     "status": "completed"
    },
    "tags": []
   },
   "outputs": [
    {
     "name": "stdout",
     "output_type": "stream",
     "text": [
      "{'bagging_fraction': 0.435, 'bagging_freq': 8, 'boosting': 'gbdt', 'feature_fraction': 0.4, 'lambda_l1': 1.473, 'lambda_l2': 0.994, 'learning_rate': 0.02, 'max_bin': 121, 'max_depth': 2, 'metric': 'auc', 'min_data_in_leaf': 75, 'min_gain_to_split': 0.41, 'min_sum_hessian_in_leaf': 1.21, 'num_boost_round': 870, 'objective': 'binary', 'scale_pos_weight': 20, 'seed': 1}\n",
      "{'bagging_fraction': 0.485, 'bagging_freq': 1, 'boosting': 'gbdt', 'feature_fraction': 0.4, 'lambda_l1': 0.594, 'lambda_l2': 0.379, 'learning_rate': 0.02, 'max_bin': 306, 'max_depth': 2, 'metric': 'auc', 'min_data_in_leaf': 100, 'min_gain_to_split': 0.09, 'min_sum_hessian_in_leaf': 0.83, 'num_boost_round': 810, 'objective': 'binary', 'scale_pos_weight': 20, 'seed': 1}\n",
      "{'bagging_fraction': 0.435, 'bagging_freq': 9, 'boosting': 'gbdt', 'feature_fraction': 0.6, 'lambda_l1': 1.047, 'lambda_l2': 0.866, 'learning_rate': 0.02, 'max_bin': 420, 'max_depth': 2, 'metric': 'auc', 'min_data_in_leaf': 95, 'min_gain_to_split': 0.38, 'min_sum_hessian_in_leaf': 1.04, 'num_boost_round': 750, 'objective': 'binary', 'scale_pos_weight': 20, 'seed': 1}\n",
      "{'bagging_fraction': 0.545, 'bagging_freq': 11, 'boosting': 'gbdt', 'feature_fraction': 0.5, 'lambda_l1': 1.797, 'lambda_l2': 0.371, 'learning_rate': 0.12, 'max_bin': 338, 'max_depth': 1, 'metric': 'auc', 'min_data_in_leaf': 100, 'min_gain_to_split': 0.42, 'min_sum_hessian_in_leaf': 1.2, 'num_boost_round': 880, 'objective': 'binary', 'scale_pos_weight': 20, 'seed': 1}\n",
      "{'bagging_fraction': 0.445, 'bagging_freq': 19, 'boosting': 'gbdt', 'feature_fraction': 0.7, 'lambda_l1': 1.307, 'lambda_l2': 0.296, 'learning_rate': 0.02, 'max_bin': 239, 'max_depth': 1, 'metric': 'auc', 'min_data_in_leaf': 90, 'min_gain_to_split': 0.15, 'min_sum_hessian_in_leaf': 0.4, 'num_boost_round': 880, 'objective': 'binary', 'scale_pos_weight': 20, 'seed': 1}\n"
     ]
    }
   ],
   "source": [
    "score_dfs = []\n",
    "preds_list = []\n",
    "pred_cols = []\n",
    "models_dict = {}\n",
    "for iter_i, params in params_dict.items():\n",
    "    params = copy.deepcopy(params)\n",
    "    print(params)\n",
    "    \n",
    "    num_boost_round = params['num_boost_round']\n",
    "    del params['num_boost_round']\n",
    "\n",
    "    scores_i = []\n",
    "    preds_list_i = []\n",
    "    models_list_i = []\n",
    "    for j, (X_train, y_train, X_test, y_test) in enumerate(kfold_list):\n",
    "        y_preds, df_scores, i_model = get_tree_preds(X_train, y_train, X_test, params=params,\n",
    "                                                       num_round=num_boost_round, \n",
    "                                                       cust_eval=None)\n",
    "        df_pred_i = y_test.copy(deep=True)\n",
    "        df_pred_i[f'pred{iter_i}'] = y_preds\n",
    "        scores_i.append(df_scores)\n",
    "        preds_list_i.append(df_pred_i)\n",
    "        models_list_i.append(i_model)\n",
    "    \n",
    "    models_dict[iter_i] = models_list_i\n",
    "        \n",
    "    \n",
    "    df_pred = pd.concat(preds_list_i, axis=0)\n",
    "                 \n",
    "    pred_cols.append(f'pred{iter_i}')\n",
    "    preds_list.append(df_pred)"
   ]
  },
  {
   "cell_type": "code",
   "execution_count": 56,
   "id": "e31a83b0",
   "metadata": {
    "execution": {
     "iopub.execute_input": "2022-10-09T23:46:59.483657Z",
     "iopub.status.busy": "2022-10-09T23:46:59.482422Z",
     "iopub.status.idle": "2022-10-09T23:46:59.503521Z",
     "shell.execute_reply": "2022-10-09T23:46:59.502274Z"
    },
    "papermill": {
     "duration": 0.053971,
     "end_time": "2022-10-09T23:46:59.505852",
     "exception": false,
     "start_time": "2022-10-09T23:46:59.451881",
     "status": "completed"
    },
    "tags": []
   },
   "outputs": [
    {
     "data": {
      "text/html": [
       "<div>\n",
       "<style scoped>\n",
       "    .dataframe tbody tr th:only-of-type {\n",
       "        vertical-align: middle;\n",
       "    }\n",
       "\n",
       "    .dataframe tbody tr th {\n",
       "        vertical-align: top;\n",
       "    }\n",
       "\n",
       "    .dataframe thead th {\n",
       "        text-align: right;\n",
       "    }\n",
       "</style>\n",
       "<table border=\"1\" class=\"dataframe\">\n",
       "  <thead>\n",
       "    <tr style=\"text-align: right;\">\n",
       "      <th></th>\n",
       "      <th>target</th>\n",
       "      <th>pred0</th>\n",
       "      <th>pred1</th>\n",
       "      <th>pred2</th>\n",
       "      <th>pred3</th>\n",
       "      <th>pred4</th>\n",
       "    </tr>\n",
       "    <tr>\n",
       "      <th>x_date</th>\n",
       "      <th></th>\n",
       "      <th></th>\n",
       "      <th></th>\n",
       "      <th></th>\n",
       "      <th></th>\n",
       "      <th></th>\n",
       "    </tr>\n",
       "  </thead>\n",
       "  <tbody>\n",
       "    <tr>\n",
       "      <th>2022-01-03</th>\n",
       "      <td>0.00</td>\n",
       "      <td>0.00</td>\n",
       "      <td>0.00</td>\n",
       "      <td>0.00</td>\n",
       "      <td>0.00</td>\n",
       "      <td>0.00</td>\n",
       "    </tr>\n",
       "    <tr>\n",
       "      <th>2022-01-04</th>\n",
       "      <td>0.00</td>\n",
       "      <td>0.00</td>\n",
       "      <td>0.00</td>\n",
       "      <td>0.00</td>\n",
       "      <td>0.00</td>\n",
       "      <td>0.00</td>\n",
       "    </tr>\n",
       "    <tr>\n",
       "      <th>2022-01-05</th>\n",
       "      <td>0.00</td>\n",
       "      <td>0.00</td>\n",
       "      <td>0.00</td>\n",
       "      <td>0.00</td>\n",
       "      <td>0.00</td>\n",
       "      <td>0.00</td>\n",
       "    </tr>\n",
       "    <tr>\n",
       "      <th>2022-01-06</th>\n",
       "      <td>0.00</td>\n",
       "      <td>0.00</td>\n",
       "      <td>0.00</td>\n",
       "      <td>0.00</td>\n",
       "      <td>0.00</td>\n",
       "      <td>0.01</td>\n",
       "    </tr>\n",
       "    <tr>\n",
       "      <th>2022-01-07</th>\n",
       "      <td>0.00</td>\n",
       "      <td>0.00</td>\n",
       "      <td>0.00</td>\n",
       "      <td>0.00</td>\n",
       "      <td>0.00</td>\n",
       "      <td>0.01</td>\n",
       "    </tr>\n",
       "  </tbody>\n",
       "</table>\n",
       "</div>"
      ],
      "text/plain": [
       "            target  pred0  pred1  pred2  pred3  pred4\n",
       "x_date                                               \n",
       "2022-01-03    0.00   0.00   0.00   0.00   0.00   0.00\n",
       "2022-01-04    0.00   0.00   0.00   0.00   0.00   0.00\n",
       "2022-01-05    0.00   0.00   0.00   0.00   0.00   0.00\n",
       "2022-01-06    0.00   0.00   0.00   0.00   0.00   0.01\n",
       "2022-01-07    0.00   0.00   0.00   0.00   0.00   0.01"
      ]
     },
     "execution_count": 56,
     "metadata": {},
     "output_type": "execute_result"
    }
   ],
   "source": [
    "t = pd.concat(preds_list, axis=1)\n",
    "df_pred = t.iloc[:, :1].copy(deep=True)\n",
    "df_pred[pred_cols] = t[pred_cols]\n",
    "df_pred.head(5)"
   ]
  },
  {
   "cell_type": "markdown",
   "id": "758a0860",
   "metadata": {
    "papermill": {
     "duration": 0.028383,
     "end_time": "2022-10-09T23:46:59.563189",
     "exception": false,
     "start_time": "2022-10-09T23:46:59.534806",
     "status": "completed"
    },
    "tags": []
   },
   "source": [
    "<a id=\"4\"></a>\n",
    "\n",
    "# <left>4. Predict</left>\n",
    "\n",
    "\n",
    "[back to top](#toc)\n"
   ]
  },
  {
   "cell_type": "code",
   "execution_count": 57,
   "id": "e432442b",
   "metadata": {
    "execution": {
     "iopub.execute_input": "2022-10-09T23:46:59.622342Z",
     "iopub.status.busy": "2022-10-09T23:46:59.621457Z",
     "iopub.status.idle": "2022-10-09T23:46:59.631749Z",
     "shell.execute_reply": "2022-10-09T23:46:59.630978Z"
    },
    "papermill": {
     "duration": 0.042321,
     "end_time": "2022-10-09T23:46:59.633984",
     "exception": false,
     "start_time": "2022-10-09T23:46:59.591663",
     "status": "completed"
    },
    "tags": []
   },
   "outputs": [],
   "source": [
    "df_pred['pred_mean']=df_pred[pred_cols].mean(axis=1)\n",
    "df_pred['pred_mean_label']=((df_pred[pred_cols]>0.5).mean(axis=1)>0.5).astype(int)"
   ]
  },
  {
   "cell_type": "code",
   "execution_count": 58,
   "id": "69e32feb",
   "metadata": {
    "execution": {
     "iopub.execute_input": "2022-10-09T23:46:59.693702Z",
     "iopub.status.busy": "2022-10-09T23:46:59.692797Z",
     "iopub.status.idle": "2022-10-09T23:46:59.699146Z",
     "shell.execute_reply": "2022-10-09T23:46:59.698370Z"
    },
    "papermill": {
     "duration": 0.0384,
     "end_time": "2022-10-09T23:46:59.701459",
     "exception": false,
     "start_time": "2022-10-09T23:46:59.663059",
     "status": "completed"
    },
    "tags": []
   },
   "outputs": [],
   "source": [
    "df_pred['target']= df_pred['target'].values.tolist()[:-3]+[np.nan]*3"
   ]
  },
  {
   "cell_type": "code",
   "execution_count": 59,
   "id": "d2ef5da2",
   "metadata": {
    "execution": {
     "iopub.execute_input": "2022-10-09T23:46:59.761967Z",
     "iopub.status.busy": "2022-10-09T23:46:59.761585Z",
     "iopub.status.idle": "2022-10-09T23:47:01.077415Z",
     "shell.execute_reply": "2022-10-09T23:47:01.076270Z"
    },
    "papermill": {
     "duration": 1.349074,
     "end_time": "2022-10-09T23:47:01.079811",
     "exception": false,
     "start_time": "2022-10-09T23:46:59.730737",
     "status": "completed"
    },
    "tags": []
   },
   "outputs": [
    {
     "data": {
      "text/plain": [
       "<AxesSubplot:xlabel='x_date'>"
      ]
     },
     "execution_count": 59,
     "metadata": {},
     "output_type": "execute_result"
    },
    {
     "data": {
      "image/png": "[encoded data removed]",
      "text/plain": [
       "<Figure size 1296x432 with 2 Axes>"
      ]
     },
     "metadata": {
      "needs_background": "light"
     },
     "output_type": "display_data"
    },
    {
     "data": {
      "image/png": "[encoded data removed]",
      "text/plain": [
       "<Figure size 1296x432 with 2 Axes>"
      ]
     },
     "metadata": {
      "needs_background": "light"
     },
     "output_type": "display_data"
    },
    {
     "data": {
      "image/png": "[encoded data removed]",
      "text/plain": [
       "<Figure size 1296x432 with 1 Axes>"
      ]
     },
     "metadata": {
      "needs_background": "light"
     },
     "output_type": "display_data"
    }
   ],
   "source": [
    "df_pred[pred_cols+['target']].plot(figsize=(18, 6), secondary_y=['target'], grid=True)\n",
    "df_pred[['target', 'pred_mean',]].plot(figsize=(18, 6), secondary_y=['target'], grid=True)\n",
    "df_pred[['target', 'pred_mean_label']].plot(figsize=(18, 6),  grid=True)"
   ]
  },
  {
   "cell_type": "code",
   "execution_count": 60,
   "id": "184d0184",
   "metadata": {
    "execution": {
     "iopub.execute_input": "2022-10-09T23:47:01.153971Z",
     "iopub.status.busy": "2022-10-09T23:47:01.153562Z",
     "iopub.status.idle": "2022-10-09T23:47:01.169857Z",
     "shell.execute_reply": "2022-10-09T23:47:01.168756Z"
    },
    "papermill": {
     "duration": 0.055588,
     "end_time": "2022-10-09T23:47:01.172005",
     "exception": false,
     "start_time": "2022-10-09T23:47:01.116417",
     "status": "completed"
    },
    "tags": []
   },
   "outputs": [
    {
     "data": {
      "text/html": [
       "<div>\n",
       "<style scoped>\n",
       "    .dataframe tbody tr th:only-of-type {\n",
       "        vertical-align: middle;\n",
       "    }\n",
       "\n",
       "    .dataframe tbody tr th {\n",
       "        vertical-align: top;\n",
       "    }\n",
       "\n",
       "    .dataframe thead th {\n",
       "        text-align: right;\n",
       "    }\n",
       "</style>\n",
       "<table border=\"1\" class=\"dataframe\">\n",
       "  <thead>\n",
       "    <tr style=\"text-align: right;\">\n",
       "      <th></th>\n",
       "      <th>target</th>\n",
       "      <th>pred0</th>\n",
       "      <th>pred1</th>\n",
       "      <th>pred2</th>\n",
       "      <th>pred3</th>\n",
       "      <th>pred4</th>\n",
       "      <th>pred_mean</th>\n",
       "      <th>pred_mean_label</th>\n",
       "    </tr>\n",
       "    <tr>\n",
       "      <th>x_date</th>\n",
       "      <th></th>\n",
       "      <th></th>\n",
       "      <th></th>\n",
       "      <th></th>\n",
       "      <th></th>\n",
       "      <th></th>\n",
       "      <th></th>\n",
       "      <th></th>\n",
       "    </tr>\n",
       "  </thead>\n",
       "  <tbody>\n",
       "    <tr>\n",
       "      <th>2022-09-26</th>\n",
       "      <td>1.00</td>\n",
       "      <td>0.91</td>\n",
       "      <td>0.96</td>\n",
       "      <td>0.93</td>\n",
       "      <td>0.97</td>\n",
       "      <td>0.97</td>\n",
       "      <td>0.95</td>\n",
       "      <td>1</td>\n",
       "    </tr>\n",
       "    <tr>\n",
       "      <th>2022-09-27</th>\n",
       "      <td>1.00</td>\n",
       "      <td>0.92</td>\n",
       "      <td>0.95</td>\n",
       "      <td>0.88</td>\n",
       "      <td>0.97</td>\n",
       "      <td>0.96</td>\n",
       "      <td>0.93</td>\n",
       "      <td>1</td>\n",
       "    </tr>\n",
       "    <tr>\n",
       "      <th>2022-09-28</th>\n",
       "      <td>1.00</td>\n",
       "      <td>0.89</td>\n",
       "      <td>0.92</td>\n",
       "      <td>0.90</td>\n",
       "      <td>0.94</td>\n",
       "      <td>0.97</td>\n",
       "      <td>0.92</td>\n",
       "      <td>1</td>\n",
       "    </tr>\n",
       "    <tr>\n",
       "      <th>2022-09-29</th>\n",
       "      <td>0.00</td>\n",
       "      <td>0.88</td>\n",
       "      <td>0.94</td>\n",
       "      <td>0.89</td>\n",
       "      <td>0.96</td>\n",
       "      <td>0.97</td>\n",
       "      <td>0.93</td>\n",
       "      <td>1</td>\n",
       "    </tr>\n",
       "    <tr>\n",
       "      <th>2022-09-30</th>\n",
       "      <td>0.00</td>\n",
       "      <td>0.87</td>\n",
       "      <td>0.93</td>\n",
       "      <td>0.91</td>\n",
       "      <td>0.98</td>\n",
       "      <td>0.97</td>\n",
       "      <td>0.93</td>\n",
       "      <td>1</td>\n",
       "    </tr>\n",
       "    <tr>\n",
       "      <th>2022-10-03</th>\n",
       "      <td>0.00</td>\n",
       "      <td>0.93</td>\n",
       "      <td>0.95</td>\n",
       "      <td>0.91</td>\n",
       "      <td>0.96</td>\n",
       "      <td>0.98</td>\n",
       "      <td>0.95</td>\n",
       "      <td>1</td>\n",
       "    </tr>\n",
       "    <tr>\n",
       "      <th>2022-10-04</th>\n",
       "      <td>0.00</td>\n",
       "      <td>0.79</td>\n",
       "      <td>0.83</td>\n",
       "      <td>0.71</td>\n",
       "      <td>0.82</td>\n",
       "      <td>0.94</td>\n",
       "      <td>0.82</td>\n",
       "      <td>1</td>\n",
       "    </tr>\n",
       "    <tr>\n",
       "      <th>2022-10-05</th>\n",
       "      <td>NaN</td>\n",
       "      <td>0.22</td>\n",
       "      <td>0.25</td>\n",
       "      <td>0.21</td>\n",
       "      <td>0.17</td>\n",
       "      <td>0.63</td>\n",
       "      <td>0.29</td>\n",
       "      <td>0</td>\n",
       "    </tr>\n",
       "    <tr>\n",
       "      <th>2022-10-06</th>\n",
       "      <td>NaN</td>\n",
       "      <td>0.24</td>\n",
       "      <td>0.32</td>\n",
       "      <td>0.22</td>\n",
       "      <td>0.29</td>\n",
       "      <td>0.71</td>\n",
       "      <td>0.36</td>\n",
       "      <td>0</td>\n",
       "    </tr>\n",
       "    <tr>\n",
       "      <th>2022-10-07</th>\n",
       "      <td>NaN</td>\n",
       "      <td>0.39</td>\n",
       "      <td>0.39</td>\n",
       "      <td>0.29</td>\n",
       "      <td>0.46</td>\n",
       "      <td>0.79</td>\n",
       "      <td>0.47</td>\n",
       "      <td>0</td>\n",
       "    </tr>\n",
       "  </tbody>\n",
       "</table>\n",
       "</div>"
      ],
      "text/plain": [
       "            target  pred0  pred1  pred2  pred3  pred4  pred_mean  \\\n",
       "x_date                                                             \n",
       "2022-09-26    1.00   0.91   0.96   0.93   0.97   0.97       0.95   \n",
       "2022-09-27    1.00   0.92   0.95   0.88   0.97   0.96       0.93   \n",
       "2022-09-28    1.00   0.89   0.92   0.90   0.94   0.97       0.92   \n",
       "2022-09-29    0.00   0.88   0.94   0.89   0.96   0.97       0.93   \n",
       "2022-09-30    0.00   0.87   0.93   0.91   0.98   0.97       0.93   \n",
       "2022-10-03    0.00   0.93   0.95   0.91   0.96   0.98       0.95   \n",
       "2022-10-04    0.00   0.79   0.83   0.71   0.82   0.94       0.82   \n",
       "2022-10-05     NaN   0.22   0.25   0.21   0.17   0.63       0.29   \n",
       "2022-10-06     NaN   0.24   0.32   0.22   0.29   0.71       0.36   \n",
       "2022-10-07     NaN   0.39   0.39   0.29   0.46   0.79       0.47   \n",
       "\n",
       "            pred_mean_label  \n",
       "x_date                       \n",
       "2022-09-26                1  \n",
       "2022-09-27                1  \n",
       "2022-09-28                1  \n",
       "2022-09-29                1  \n",
       "2022-09-30                1  \n",
       "2022-10-03                1  \n",
       "2022-10-04                1  \n",
       "2022-10-05                0  \n",
       "2022-10-06                0  \n",
       "2022-10-07                0  "
      ]
     },
     "execution_count": 60,
     "metadata": {},
     "output_type": "execute_result"
    }
   ],
   "source": [
    "df_pred.tail(10)"
   ]
  }
 ],
 "metadata": {
  "kernelspec": {
   "display_name": "Python 3",
   "language": "python",
   "name": "python3"
  },
  "language_info": {
   "codemirror_mode": {
    "name": "ipython",
    "version": 3
   },
   "file_extension": ".py",
   "mimetype": "text/x-python",
   "name": "python",
   "nbconvert_exporter": "python",
   "pygments_lexer": "ipython3",
   "version": "3.7.12"
  },
  "papermill": {
   "default_parameters": {},
   "duration": 457.924174,
   "end_time": "2022-10-09T23:47:02.533192",
   "environment_variables": {},
   "exception": null,
   "input_path": "__notebook__.ipynb",
   "output_path": "__notebook__.ipynb",
   "parameters": {},
   "start_time": "2022-10-09T23:39:24.609018",
   "version": "2.3.4"
  }
 },
 "nbformat": 4,
 "nbformat_minor": 5
}
