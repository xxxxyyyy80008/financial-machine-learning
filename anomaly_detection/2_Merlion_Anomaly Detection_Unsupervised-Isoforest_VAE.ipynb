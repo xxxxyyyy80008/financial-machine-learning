{
 "cells": [
  {
   "cell_type": "markdown",
   "id": "75d3ec56",
   "metadata": {},
   "source": [
    "### Use Merlion for Anomaly Detection\n",
    "\n",
    "#### Reference:\n",
    "- github: https://github.com/salesforce/Merlion\n",
    "\n",
    "\n",
    "   \n",
    "#### Steps\n",
    "- reference: [example](https://github.com/salesforce/Merlion/blob/main/examples/anomaly/1_AnomalyFeatures.ipynb)\n",
    "- Isolation Forest: [sklearn](https://scikit-learn.org/stable/modules/generated/sklearn.ensemble.IsolationForest.html)\n",
    "- VAE: https://github.com/salesforce/Merlion/blob/main/merlion/models/anomaly/vae.py\n",
    "\n",
    "1. download market data using yfinance: download S&P 500 ('^GSPC')\n",
    "1. calculate return 20 day max return (i.e. target in supervised learning problem):\n",
    "   - for each date (T):\n",
    "      - calculate the max price change in next 20 trading dates: price_change = (max{close price in T+1 to T+20} - {close price on T})/({close price on T})\n",
    "1. use Merlion to do unsupervised anomaly detection\n",
    "    1. Initializing an anomaly detection model: isolation forest, vae, ensemble\n",
    "    1. Training the model\n",
    "    1. Producing a series of anomaly scores with the models\n",
    "    1. Visualizing the anomaly scores\n",
    "1. takeaways\n",
    "    - the correlation table: correlation score between the target and the anomaly score from different learning algorithms (isolation forest, vae, and ensemble of isolation forest/vae):\n",
    "         - VAE shows higher correlation score compared to isolation forest and ensemble in training data while much lower correlation in testing data. \n",
    "         - This could be an indicator that VAE is overfitting the training data and shows weaker generalization capacity in testing data (unseem data in training phase).\n",
    "    - Visually inspecting the target versus the anomaly scores in training and testing data\n",
    "         - Visually, VAE seems to be doing better than isolation forest in training data but worse in testing data."
   ]
  },
  {
   "cell_type": "code",
   "execution_count": 1,
   "id": "432c9181",
   "metadata": {},
   "outputs": [],
   "source": [
    "import numpy as np\n",
    "import pandas as pd\n",
    "import statsmodels.api as sm\n",
    "\n",
    "from datetime import datetime, timedelta\n",
    "import yfinance as yf #to download stock price data"
   ]
  },
  {
   "cell_type": "code",
   "execution_count": 2,
   "id": "6c8d7369",
   "metadata": {},
   "outputs": [],
   "source": [
    "import matplotlib.pyplot as plt\n",
    "\n",
    "from merlion.plot import plot_anoms\n",
    "from merlion.utils import TimeSeries"
   ]
  },
  {
   "cell_type": "code",
   "execution_count": 3,
   "id": "01dc4ec4",
   "metadata": {},
   "outputs": [],
   "source": [
    "np.random.seed(5678)"
   ]
  },
  {
   "cell_type": "markdown",
   "id": "f0844e9f",
   "metadata": {},
   "source": [
    "#### download S&P 500 price data"
   ]
  },
  {
   "cell_type": "code",
   "execution_count": 4,
   "id": "a8da867d",
   "metadata": {},
   "outputs": [
    {
     "name": "stdout",
     "output_type": "stream",
     "text": [
      "^GSPC (19720, 7) 1927-12-30 00:00:00\n"
     ]
    }
   ],
   "source": [
    "ticker = '^GSPC'\n",
    "cur_data = yf.Ticker(ticker)\n",
    "hist = cur_data.history(period=\"max\")\n",
    "print(ticker, hist.shape, hist.index.min())"
   ]
  },
  {
   "cell_type": "code",
   "execution_count": 5,
   "id": "2947f9ab",
   "metadata": {},
   "outputs": [
    {
     "data": {
      "text/html": [
       "<div>\n",
       "<style scoped>\n",
       "    .dataframe tbody tr th:only-of-type {\n",
       "        vertical-align: middle;\n",
       "    }\n",
       "\n",
       "    .dataframe tbody tr th {\n",
       "        vertical-align: top;\n",
       "    }\n",
       "\n",
       "    .dataframe thead th {\n",
       "        text-align: right;\n",
       "    }\n",
       "</style>\n",
       "<table border=\"1\" class=\"dataframe\">\n",
       "  <thead>\n",
       "    <tr style=\"text-align: right;\">\n",
       "      <th></th>\n",
       "      <th>Open</th>\n",
       "      <th>High</th>\n",
       "      <th>Low</th>\n",
       "      <th>Close</th>\n",
       "      <th>Volume</th>\n",
       "      <th>Dividends</th>\n",
       "      <th>Stock Splits</th>\n",
       "    </tr>\n",
       "    <tr>\n",
       "      <th>Date</th>\n",
       "      <th></th>\n",
       "      <th></th>\n",
       "      <th></th>\n",
       "      <th></th>\n",
       "      <th></th>\n",
       "      <th></th>\n",
       "      <th></th>\n",
       "    </tr>\n",
       "  </thead>\n",
       "  <tbody>\n",
       "    <tr>\n",
       "      <th>2000-01-03</th>\n",
       "      <td>1469.250000</td>\n",
       "      <td>1478.000000</td>\n",
       "      <td>1438.359985</td>\n",
       "      <td>1455.219971</td>\n",
       "      <td>931800000</td>\n",
       "      <td>0</td>\n",
       "      <td>0</td>\n",
       "    </tr>\n",
       "    <tr>\n",
       "      <th>2000-01-04</th>\n",
       "      <td>1455.219971</td>\n",
       "      <td>1455.219971</td>\n",
       "      <td>1397.430054</td>\n",
       "      <td>1399.420044</td>\n",
       "      <td>1009000000</td>\n",
       "      <td>0</td>\n",
       "      <td>0</td>\n",
       "    </tr>\n",
       "    <tr>\n",
       "      <th>2000-01-05</th>\n",
       "      <td>1399.420044</td>\n",
       "      <td>1413.270020</td>\n",
       "      <td>1377.680054</td>\n",
       "      <td>1402.109985</td>\n",
       "      <td>1085500000</td>\n",
       "      <td>0</td>\n",
       "      <td>0</td>\n",
       "    </tr>\n",
       "    <tr>\n",
       "      <th>2000-01-06</th>\n",
       "      <td>1402.109985</td>\n",
       "      <td>1411.900024</td>\n",
       "      <td>1392.099976</td>\n",
       "      <td>1403.449951</td>\n",
       "      <td>1092300000</td>\n",
       "      <td>0</td>\n",
       "      <td>0</td>\n",
       "    </tr>\n",
       "    <tr>\n",
       "      <th>2000-01-07</th>\n",
       "      <td>1403.449951</td>\n",
       "      <td>1441.469971</td>\n",
       "      <td>1400.729980</td>\n",
       "      <td>1441.469971</td>\n",
       "      <td>1225200000</td>\n",
       "      <td>0</td>\n",
       "      <td>0</td>\n",
       "    </tr>\n",
       "  </tbody>\n",
       "</table>\n",
       "</div>"
      ],
      "text/plain": [
       "                   Open         High          Low        Close      Volume  \\\n",
       "Date                                                                         \n",
       "2000-01-03  1469.250000  1478.000000  1438.359985  1455.219971   931800000   \n",
       "2000-01-04  1455.219971  1455.219971  1397.430054  1399.420044  1009000000   \n",
       "2000-01-05  1399.420044  1413.270020  1377.680054  1402.109985  1085500000   \n",
       "2000-01-06  1402.109985  1411.900024  1392.099976  1403.449951  1092300000   \n",
       "2000-01-07  1403.449951  1441.469971  1400.729980  1441.469971  1225200000   \n",
       "\n",
       "            Dividends  Stock Splits  \n",
       "Date                                 \n",
       "2000-01-03          0             0  \n",
       "2000-01-04          0             0  \n",
       "2000-01-05          0             0  \n",
       "2000-01-06          0             0  \n",
       "2000-01-07          0             0  "
      ]
     },
     "execution_count": 5,
     "metadata": {},
     "output_type": "execute_result"
    }
   ],
   "source": [
    "df=hist[hist.index>='2000-01-01'].copy(deep=True)\n",
    "df.head()"
   ]
  },
  {
   "cell_type": "markdown",
   "id": "b1051d1b",
   "metadata": {},
   "source": [
    "#### calcualte max return in next 20 trading days"
   ]
  },
  {
   "cell_type": "code",
   "execution_count": 6,
   "id": "5575eb67",
   "metadata": {},
   "outputs": [
    {
     "data": {
      "text/html": [
       "<div>\n",
       "<style scoped>\n",
       "    .dataframe tbody tr th:only-of-type {\n",
       "        vertical-align: middle;\n",
       "    }\n",
       "\n",
       "    .dataframe tbody tr th {\n",
       "        vertical-align: top;\n",
       "    }\n",
       "\n",
       "    .dataframe thead th {\n",
       "        text-align: right;\n",
       "    }\n",
       "</style>\n",
       "<table border=\"1\" class=\"dataframe\">\n",
       "  <thead>\n",
       "    <tr style=\"text-align: right;\">\n",
       "      <th></th>\n",
       "      <th>Open</th>\n",
       "      <th>High</th>\n",
       "      <th>Low</th>\n",
       "      <th>Close</th>\n",
       "      <th>Volume</th>\n",
       "      <th>Dividends</th>\n",
       "      <th>Stock Splits</th>\n",
       "    </tr>\n",
       "    <tr>\n",
       "      <th>Date</th>\n",
       "      <th></th>\n",
       "      <th></th>\n",
       "      <th></th>\n",
       "      <th></th>\n",
       "      <th></th>\n",
       "      <th></th>\n",
       "      <th></th>\n",
       "    </tr>\n",
       "  </thead>\n",
       "  <tbody>\n",
       "    <tr>\n",
       "      <th>2000-01-03</th>\n",
       "      <td>1469.250000</td>\n",
       "      <td>1478.000000</td>\n",
       "      <td>1438.359985</td>\n",
       "      <td>1455.219971</td>\n",
       "      <td>931800000</td>\n",
       "      <td>0</td>\n",
       "      <td>0</td>\n",
       "    </tr>\n",
       "    <tr>\n",
       "      <th>2000-01-04</th>\n",
       "      <td>1455.219971</td>\n",
       "      <td>1455.219971</td>\n",
       "      <td>1397.430054</td>\n",
       "      <td>1399.420044</td>\n",
       "      <td>1009000000</td>\n",
       "      <td>0</td>\n",
       "      <td>0</td>\n",
       "    </tr>\n",
       "    <tr>\n",
       "      <th>2000-01-05</th>\n",
       "      <td>1399.420044</td>\n",
       "      <td>1413.270020</td>\n",
       "      <td>1377.680054</td>\n",
       "      <td>1402.109985</td>\n",
       "      <td>1085500000</td>\n",
       "      <td>0</td>\n",
       "      <td>0</td>\n",
       "    </tr>\n",
       "  </tbody>\n",
       "</table>\n",
       "</div>"
      ],
      "text/plain": [
       "                   Open         High          Low        Close      Volume  \\\n",
       "Date                                                                         \n",
       "2000-01-03  1469.250000  1478.000000  1438.359985  1455.219971   931800000   \n",
       "2000-01-04  1455.219971  1455.219971  1397.430054  1399.420044  1009000000   \n",
       "2000-01-05  1399.420044  1413.270020  1377.680054  1402.109985  1085500000   \n",
       "\n",
       "            Dividends  Stock Splits  \n",
       "Date                                 \n",
       "2000-01-03          0             0  \n",
       "2000-01-04          0             0  \n",
       "2000-01-05          0             0  "
      ]
     },
     "execution_count": 6,
     "metadata": {},
     "output_type": "execute_result"
    }
   ],
   "source": [
    "#for each stock_id, get the max close in next 20 trading days\n",
    "price_col = 'Close'\n",
    "roll_len=20\n",
    "new_col = 'next_20day_max'\n",
    "target_list = []\n",
    "\n",
    "df.sort_index(ascending=True, inplace=True)\n",
    "df.head(3)"
   ]
  },
  {
   "cell_type": "code",
   "execution_count": 7,
   "id": "6413d6f6",
   "metadata": {},
   "outputs": [],
   "source": [
    "df_next20dmax=df[[price_col]].shift(1).rolling(roll_len).max()\n",
    "df_next20dmax.columns=[new_col]\n",
    "df = df.merge(df_next20dmax, right_index=True, left_index=True, how='inner')\n",
    "\n",
    "df.dropna(how='any', inplace=True)\n",
    "df['target']= 100*(df[new_col]-df[price_col])/df[price_col]  "
   ]
  },
  {
   "cell_type": "code",
   "execution_count": 8,
   "id": "ad85bc10",
   "metadata": {},
   "outputs": [
    {
     "data": {
      "text/html": [
       "<div>\n",
       "<style scoped>\n",
       "    .dataframe tbody tr th:only-of-type {\n",
       "        vertical-align: middle;\n",
       "    }\n",
       "\n",
       "    .dataframe tbody tr th {\n",
       "        vertical-align: top;\n",
       "    }\n",
       "\n",
       "    .dataframe thead th {\n",
       "        text-align: right;\n",
       "    }\n",
       "</style>\n",
       "<table border=\"1\" class=\"dataframe\">\n",
       "  <thead>\n",
       "    <tr style=\"text-align: right;\">\n",
       "      <th></th>\n",
       "      <th>Open</th>\n",
       "      <th>High</th>\n",
       "      <th>Low</th>\n",
       "      <th>Close</th>\n",
       "      <th>Volume</th>\n",
       "      <th>Dividends</th>\n",
       "      <th>Stock Splits</th>\n",
       "      <th>next_20day_max</th>\n",
       "      <th>target</th>\n",
       "    </tr>\n",
       "    <tr>\n",
       "      <th>Date</th>\n",
       "      <th></th>\n",
       "      <th></th>\n",
       "      <th></th>\n",
       "      <th></th>\n",
       "      <th></th>\n",
       "      <th></th>\n",
       "      <th></th>\n",
       "      <th></th>\n",
       "      <th></th>\n",
       "    </tr>\n",
       "  </thead>\n",
       "  <tbody>\n",
       "    <tr>\n",
       "      <th>2000-02-01</th>\n",
       "      <td>1394.459961</td>\n",
       "      <td>1412.489990</td>\n",
       "      <td>1384.790039</td>\n",
       "      <td>1409.280029</td>\n",
       "      <td>981000000</td>\n",
       "      <td>0</td>\n",
       "      <td>0</td>\n",
       "      <td>1465.150024</td>\n",
       "      <td>3.964435</td>\n",
       "    </tr>\n",
       "    <tr>\n",
       "      <th>2000-02-02</th>\n",
       "      <td>1409.280029</td>\n",
       "      <td>1420.609985</td>\n",
       "      <td>1403.489990</td>\n",
       "      <td>1409.119995</td>\n",
       "      <td>1038600000</td>\n",
       "      <td>0</td>\n",
       "      <td>0</td>\n",
       "      <td>1465.150024</td>\n",
       "      <td>3.976243</td>\n",
       "    </tr>\n",
       "    <tr>\n",
       "      <th>2000-02-03</th>\n",
       "      <td>1409.119995</td>\n",
       "      <td>1425.780029</td>\n",
       "      <td>1398.520020</td>\n",
       "      <td>1424.969971</td>\n",
       "      <td>1146500000</td>\n",
       "      <td>0</td>\n",
       "      <td>0</td>\n",
       "      <td>1465.150024</td>\n",
       "      <td>2.819712</td>\n",
       "    </tr>\n",
       "  </tbody>\n",
       "</table>\n",
       "</div>"
      ],
      "text/plain": [
       "                   Open         High          Low        Close      Volume  \\\n",
       "Date                                                                         \n",
       "2000-02-01  1394.459961  1412.489990  1384.790039  1409.280029   981000000   \n",
       "2000-02-02  1409.280029  1420.609985  1403.489990  1409.119995  1038600000   \n",
       "2000-02-03  1409.119995  1425.780029  1398.520020  1424.969971  1146500000   \n",
       "\n",
       "            Dividends  Stock Splits  next_20day_max    target  \n",
       "Date                                                           \n",
       "2000-02-01          0             0     1465.150024  3.964435  \n",
       "2000-02-02          0             0     1465.150024  3.976243  \n",
       "2000-02-03          0             0     1465.150024  2.819712  "
      ]
     },
     "execution_count": 8,
     "metadata": {},
     "output_type": "execute_result"
    }
   ],
   "source": [
    "df.head(3)"
   ]
  },
  {
   "cell_type": "markdown",
   "id": "d322e059",
   "metadata": {},
   "source": [
    "#### Merlion: Anomaly detection - unsupervised with Isolation Forest,  VAE, and ensemble with default config"
   ]
  },
  {
   "cell_type": "code",
   "execution_count": 9,
   "id": "73f7e0c0",
   "metadata": {},
   "outputs": [
    {
     "data": {
      "text/plain": [
       "(5478, 9)"
      ]
     },
     "execution_count": 9,
     "metadata": {},
     "output_type": "execute_result"
    }
   ],
   "source": [
    "df.shape"
   ]
  },
  {
   "cell_type": "code",
   "execution_count": 10,
   "id": "0cf988b5",
   "metadata": {
    "scrolled": true
   },
   "outputs": [],
   "source": [
    "train_ = df[['target']].iloc[:-400].copy(deep=True)\n",
    "test_ = df[['target']].iloc[-400:].copy(deep=True)\n",
    "\n",
    "train_data = TimeSeries.from_pd(train_)\n",
    "test_data = TimeSeries.from_pd(test_)"
   ]
  },
  {
   "cell_type": "code",
   "execution_count": 11,
   "id": "f17bce25",
   "metadata": {},
   "outputs": [],
   "source": [
    "# Import models & configs\n",
    "from merlion.models.anomaly.isolation_forest import IsolationForest, IsolationForestConfig\n",
    "from merlion.models.anomaly.vae import VAE, VAEConfig\n",
    "from merlion.models.ensemble.anomaly import DetectorEnsemble, DetectorEnsembleConfig\n",
    "from merlion.post_process.threshold import AggregateAlarms\n",
    "\n",
    "# isolation forest\n",
    "iso_forest_config = IsolationForestConfig()\n",
    "iso_forest_model  = IsolationForest(iso_forest_config)\n",
    "\n",
    "# VAE\n",
    "vae_config = VAEConfig()\n",
    "vae_model  = VAE(vae_config)\n",
    "\n",
    "#ensemble\n",
    "en_config = DetectorEnsembleConfig(threshold=AggregateAlarms(alm_threshold=4))\n",
    "en_model = DetectorEnsemble(config=en_config, models=[iso_forest_model, vae_model])"
   ]
  },
  {
   "cell_type": "code",
   "execution_count": 12,
   "id": "6ea5774f",
   "metadata": {},
   "outputs": [
    {
     "name": "stdout",
     "output_type": "stream",
     "text": [
      " |████████████████████████████████████████| 100.0% Complete, Loss 1.0673\n",
      " |████████████████████████████████████████| 100.0% Complete, Loss 1.1290\n"
     ]
    }
   ],
   "source": [
    "iso_forest_train_score = iso_forest_model.train(train_data=train_data, anomaly_labels=None)\n",
    "vae_train_score = vae_model.train(train_data=train_data, anomaly_labels=None)\n",
    "en_train_score = en_model.train(train_data=train_data, anomaly_labels=None)"
   ]
  },
  {
   "cell_type": "markdown",
   "id": "236639e4",
   "metadata": {},
   "source": [
    "- Model Inference\n",
    "   - model.get_anomaly_score() returns the model's raw anomaly scores,  \n",
    "   - model.get_anomaly_label() returns the model's post-processed anomaly scores. The post-processing calibrates the anomaly scores to be interpretable as z-scores, and it also sparsifies them such that any nonzero values should be treated as an alert that a particular timestamp is anomalous."
   ]
  },
  {
   "cell_type": "code",
   "execution_count": 13,
   "id": "dd413ef3",
   "metadata": {},
   "outputs": [
    {
     "name": "stdout",
     "output_type": "stream",
     "text": [
      "(5077, 4) (5078, 1)\n"
     ]
    },
    {
     "data": {
      "text/html": [
       "<div>\n",
       "<style scoped>\n",
       "    .dataframe tbody tr th:only-of-type {\n",
       "        vertical-align: middle;\n",
       "    }\n",
       "\n",
       "    .dataframe tbody tr th {\n",
       "        vertical-align: top;\n",
       "    }\n",
       "\n",
       "    .dataframe thead th {\n",
       "        text-align: right;\n",
       "    }\n",
       "</style>\n",
       "<table border=\"1\" class=\"dataframe\">\n",
       "  <thead>\n",
       "    <tr style=\"text-align: right;\">\n",
       "      <th></th>\n",
       "      <th>target</th>\n",
       "      <th>anom_score_x</th>\n",
       "      <th>anom_score_y</th>\n",
       "      <th>anom_score</th>\n",
       "    </tr>\n",
       "  </thead>\n",
       "  <tbody>\n",
       "    <tr>\n",
       "      <th>2000-02-02</th>\n",
       "      <td>3.976243</td>\n",
       "      <td>0.333851</td>\n",
       "      <td>0.348187</td>\n",
       "      <td>0.220717</td>\n",
       "    </tr>\n",
       "    <tr>\n",
       "      <th>2000-02-03</th>\n",
       "      <td>2.819712</td>\n",
       "      <td>0.356733</td>\n",
       "      <td>0.063608</td>\n",
       "      <td>0.366427</td>\n",
       "    </tr>\n",
       "  </tbody>\n",
       "</table>\n",
       "</div>"
      ],
      "text/plain": [
       "              target  anom_score_x  anom_score_y  anom_score\n",
       "2000-02-02  3.976243      0.333851      0.348187    0.220717\n",
       "2000-02-03  2.819712      0.356733      0.063608    0.366427"
      ]
     },
     "execution_count": 13,
     "metadata": {},
     "output_type": "execute_result"
    }
   ],
   "source": [
    "df_train_scores = train_.merge(iso_forest_train_score.to_pd(), left_index=True, right_index=True, how='inner')\n",
    "df_train_scores = df_train_scores.merge(vae_train_score.to_pd(), left_index=True, right_index=True, how='inner')\n",
    "df_train_scores = df_train_scores.merge(en_train_score.to_pd(), left_index=True, right_index=True, how='inner')\n",
    "print(df_train_scores.shape, train_.shape)\n",
    "df_train_scores.head(2)"
   ]
  },
  {
   "cell_type": "code",
   "execution_count": 14,
   "id": "92e10d1a",
   "metadata": {},
   "outputs": [],
   "source": [
    "if_test_scores = iso_forest_model.get_anomaly_score(test_data)\n",
    "if_test_scores_df = if_test_scores.to_pd()\n",
    "\n",
    "if_test_labels = iso_forest_model.get_anomaly_label(test_data)\n",
    "if_test_labels_df = if_test_labels.to_pd()\n",
    "\n",
    "vae_test_scores = vae_model.get_anomaly_score(test_data)\n",
    "vae_test_scores_df = vae_test_scores.to_pd()\n",
    "\n",
    "vae_test_labels = vae_model.get_anomaly_label(test_data)\n",
    "vae_test_labels_df = vae_test_labels.to_pd()\n",
    "\n",
    "en_test_scores = en_model.get_anomaly_score(test_data)\n",
    "en_test_scores_df = en_test_scores.to_pd()\n",
    "\n",
    "en_test_labels = en_model.get_anomaly_label(test_data)\n",
    "en_test_labels_df = en_test_labels.to_pd()"
   ]
  },
  {
   "cell_type": "code",
   "execution_count": 15,
   "id": "9a359edc",
   "metadata": {},
   "outputs": [
    {
     "name": "stdout",
     "output_type": "stream",
     "text": [
      "(400, 1) (399, 7)\n"
     ]
    }
   ],
   "source": [
    "df_test_scores = test_.merge(if_test_scores_df, left_index=True, right_index=True, how='inner')\n",
    "df_test_scores = df_test_scores.merge(vae_test_scores_df, left_index=True, right_index=True, how='inner')\n",
    "df_test_scores = df_test_scores.merge(en_test_scores_df, left_index=True, right_index=True, how='inner')\n",
    "\n",
    "df_test_scores = df_test_scores.merge(if_test_labels_df, left_index=True, right_index=True, how='inner')\n",
    "df_test_scores = df_test_scores.merge(vae_test_labels_df, left_index=True, right_index=True, how='inner')\n",
    "df_test_scores = df_test_scores.merge(en_test_labels_df, left_index=True, right_index=True, how='inner')\n",
    "print(test_.shape, df_test_scores.shape)"
   ]
  },
  {
   "cell_type": "code",
   "execution_count": 16,
   "id": "ef4f1059",
   "metadata": {},
   "outputs": [],
   "source": [
    "df_train_scores.columns=['target', 'iso_forest_score', 'vae_score', 'ensemble_score']\n",
    "df_test_scores.columns=['target', 'iso_forest_score', 'vae_score', 'ensemble_score', 'iso_forest_label', 'vae_label', 'ensemble_label']"
   ]
  },
  {
   "cell_type": "code",
   "execution_count": 17,
   "id": "8d52744c",
   "metadata": {},
   "outputs": [
    {
     "data": {
      "text/html": [
       "<div>\n",
       "<style scoped>\n",
       "    .dataframe tbody tr th:only-of-type {\n",
       "        vertical-align: middle;\n",
       "    }\n",
       "\n",
       "    .dataframe tbody tr th {\n",
       "        vertical-align: top;\n",
       "    }\n",
       "\n",
       "    .dataframe thead th {\n",
       "        text-align: right;\n",
       "    }\n",
       "</style>\n",
       "<table border=\"1\" class=\"dataframe\">\n",
       "  <thead>\n",
       "    <tr style=\"text-align: right;\">\n",
       "      <th></th>\n",
       "      <th>target</th>\n",
       "      <th>iso_forest_score</th>\n",
       "      <th>vae_score</th>\n",
       "      <th>ensemble_score</th>\n",
       "      <th>iso_forest_label</th>\n",
       "      <th>vae_label</th>\n",
       "      <th>ensemble_label</th>\n",
       "    </tr>\n",
       "  </thead>\n",
       "  <tbody>\n",
       "    <tr>\n",
       "      <th>2020-04-09</th>\n",
       "      <td>-1.428052</td>\n",
       "      <td>0.387641</td>\n",
       "      <td>0.942809</td>\n",
       "      <td>1.400845</td>\n",
       "      <td>0.0</td>\n",
       "      <td>0.0</td>\n",
       "      <td>0.0</td>\n",
       "    </tr>\n",
       "    <tr>\n",
       "      <th>2020-04-13</th>\n",
       "      <td>1.020781</td>\n",
       "      <td>0.430124</td>\n",
       "      <td>0.355629</td>\n",
       "      <td>1.021738</td>\n",
       "      <td>0.0</td>\n",
       "      <td>0.0</td>\n",
       "      <td>0.0</td>\n",
       "    </tr>\n",
       "    <tr>\n",
       "      <th>2020-04-14</th>\n",
       "      <td>-1.976065</td>\n",
       "      <td>0.480604</td>\n",
       "      <td>1.075184</td>\n",
       "      <td>1.832749</td>\n",
       "      <td>0.0</td>\n",
       "      <td>0.0</td>\n",
       "      <td>0.0</td>\n",
       "    </tr>\n",
       "  </tbody>\n",
       "</table>\n",
       "</div>"
      ],
      "text/plain": [
       "              target  iso_forest_score  vae_score  ensemble_score  \\\n",
       "2020-04-09 -1.428052          0.387641   0.942809        1.400845   \n",
       "2020-04-13  1.020781          0.430124   0.355629        1.021738   \n",
       "2020-04-14 -1.976065          0.480604   1.075184        1.832749   \n",
       "\n",
       "            iso_forest_label  vae_label  ensemble_label  \n",
       "2020-04-09               0.0        0.0             0.0  \n",
       "2020-04-13               0.0        0.0             0.0  \n",
       "2020-04-14               0.0        0.0             0.0  "
      ]
     },
     "execution_count": 17,
     "metadata": {},
     "output_type": "execute_result"
    }
   ],
   "source": [
    "df_test_scores.head(3)"
   ]
  },
  {
   "cell_type": "code",
   "execution_count": 18,
   "id": "aea5e1b9",
   "metadata": {},
   "outputs": [
    {
     "data": {
      "text/html": [
       "<div>\n",
       "<style scoped>\n",
       "    .dataframe tbody tr th:only-of-type {\n",
       "        vertical-align: middle;\n",
       "    }\n",
       "\n",
       "    .dataframe tbody tr th {\n",
       "        vertical-align: top;\n",
       "    }\n",
       "\n",
       "    .dataframe thead th {\n",
       "        text-align: right;\n",
       "    }\n",
       "</style>\n",
       "<table border=\"1\" class=\"dataframe\">\n",
       "  <thead>\n",
       "    <tr style=\"text-align: right;\">\n",
       "      <th></th>\n",
       "      <th>target</th>\n",
       "      <th>iso_forest_score</th>\n",
       "      <th>vae_score</th>\n",
       "      <th>ensemble_score</th>\n",
       "    </tr>\n",
       "  </thead>\n",
       "  <tbody>\n",
       "    <tr>\n",
       "      <th>target</th>\n",
       "      <td>1.000000</td>\n",
       "      <td>0.661876</td>\n",
       "      <td>0.828453</td>\n",
       "      <td>0.710455</td>\n",
       "    </tr>\n",
       "    <tr>\n",
       "      <th>iso_forest_score</th>\n",
       "      <td>0.661876</td>\n",
       "      <td>1.000000</td>\n",
       "      <td>0.606901</td>\n",
       "      <td>0.835899</td>\n",
       "    </tr>\n",
       "    <tr>\n",
       "      <th>vae_score</th>\n",
       "      <td>0.828453</td>\n",
       "      <td>0.606901</td>\n",
       "      <td>1.000000</td>\n",
       "      <td>0.801360</td>\n",
       "    </tr>\n",
       "    <tr>\n",
       "      <th>ensemble_score</th>\n",
       "      <td>0.710455</td>\n",
       "      <td>0.835899</td>\n",
       "      <td>0.801360</td>\n",
       "      <td>1.000000</td>\n",
       "    </tr>\n",
       "  </tbody>\n",
       "</table>\n",
       "</div>"
      ],
      "text/plain": [
       "                    target  iso_forest_score  vae_score  ensemble_score\n",
       "target            1.000000          0.661876   0.828453        0.710455\n",
       "iso_forest_score  0.661876          1.000000   0.606901        0.835899\n",
       "vae_score         0.828453          0.606901   1.000000        0.801360\n",
       "ensemble_score    0.710455          0.835899   0.801360        1.000000"
      ]
     },
     "execution_count": 18,
     "metadata": {},
     "output_type": "execute_result"
    }
   ],
   "source": [
    "df_train_scores.corr()"
   ]
  },
  {
   "cell_type": "code",
   "execution_count": 19,
   "id": "7b382ac2",
   "metadata": {},
   "outputs": [
    {
     "data": {
      "text/html": [
       "<div>\n",
       "<style scoped>\n",
       "    .dataframe tbody tr th:only-of-type {\n",
       "        vertical-align: middle;\n",
       "    }\n",
       "\n",
       "    .dataframe tbody tr th {\n",
       "        vertical-align: top;\n",
       "    }\n",
       "\n",
       "    .dataframe thead th {\n",
       "        text-align: right;\n",
       "    }\n",
       "</style>\n",
       "<table border=\"1\" class=\"dataframe\">\n",
       "  <thead>\n",
       "    <tr style=\"text-align: right;\">\n",
       "      <th></th>\n",
       "      <th>target</th>\n",
       "      <th>iso_forest_score</th>\n",
       "      <th>vae_score</th>\n",
       "      <th>ensemble_score</th>\n",
       "      <th>iso_forest_label</th>\n",
       "      <th>vae_label</th>\n",
       "      <th>ensemble_label</th>\n",
       "    </tr>\n",
       "  </thead>\n",
       "  <tbody>\n",
       "    <tr>\n",
       "      <th>target</th>\n",
       "      <td>1.000000</td>\n",
       "      <td>0.433776</td>\n",
       "      <td>0.083479</td>\n",
       "      <td>0.294011</td>\n",
       "      <td>NaN</td>\n",
       "      <td>NaN</td>\n",
       "      <td>NaN</td>\n",
       "    </tr>\n",
       "    <tr>\n",
       "      <th>iso_forest_score</th>\n",
       "      <td>0.433776</td>\n",
       "      <td>1.000000</td>\n",
       "      <td>0.027284</td>\n",
       "      <td>0.688255</td>\n",
       "      <td>NaN</td>\n",
       "      <td>NaN</td>\n",
       "      <td>NaN</td>\n",
       "    </tr>\n",
       "    <tr>\n",
       "      <th>vae_score</th>\n",
       "      <td>0.083479</td>\n",
       "      <td>0.027284</td>\n",
       "      <td>1.000000</td>\n",
       "      <td>0.686652</td>\n",
       "      <td>NaN</td>\n",
       "      <td>NaN</td>\n",
       "      <td>NaN</td>\n",
       "    </tr>\n",
       "    <tr>\n",
       "      <th>ensemble_score</th>\n",
       "      <td>0.294011</td>\n",
       "      <td>0.688255</td>\n",
       "      <td>0.686652</td>\n",
       "      <td>1.000000</td>\n",
       "      <td>NaN</td>\n",
       "      <td>NaN</td>\n",
       "      <td>NaN</td>\n",
       "    </tr>\n",
       "    <tr>\n",
       "      <th>iso_forest_label</th>\n",
       "      <td>NaN</td>\n",
       "      <td>NaN</td>\n",
       "      <td>NaN</td>\n",
       "      <td>NaN</td>\n",
       "      <td>NaN</td>\n",
       "      <td>NaN</td>\n",
       "      <td>NaN</td>\n",
       "    </tr>\n",
       "    <tr>\n",
       "      <th>vae_label</th>\n",
       "      <td>NaN</td>\n",
       "      <td>NaN</td>\n",
       "      <td>NaN</td>\n",
       "      <td>NaN</td>\n",
       "      <td>NaN</td>\n",
       "      <td>NaN</td>\n",
       "      <td>NaN</td>\n",
       "    </tr>\n",
       "    <tr>\n",
       "      <th>ensemble_label</th>\n",
       "      <td>NaN</td>\n",
       "      <td>NaN</td>\n",
       "      <td>NaN</td>\n",
       "      <td>NaN</td>\n",
       "      <td>NaN</td>\n",
       "      <td>NaN</td>\n",
       "      <td>NaN</td>\n",
       "    </tr>\n",
       "  </tbody>\n",
       "</table>\n",
       "</div>"
      ],
      "text/plain": [
       "                    target  iso_forest_score  vae_score  ensemble_score  \\\n",
       "target            1.000000          0.433776   0.083479        0.294011   \n",
       "iso_forest_score  0.433776          1.000000   0.027284        0.688255   \n",
       "vae_score         0.083479          0.027284   1.000000        0.686652   \n",
       "ensemble_score    0.294011          0.688255   0.686652        1.000000   \n",
       "iso_forest_label       NaN               NaN        NaN             NaN   \n",
       "vae_label              NaN               NaN        NaN             NaN   \n",
       "ensemble_label         NaN               NaN        NaN             NaN   \n",
       "\n",
       "                  iso_forest_label  vae_label  ensemble_label  \n",
       "target                         NaN        NaN             NaN  \n",
       "iso_forest_score               NaN        NaN             NaN  \n",
       "vae_score                      NaN        NaN             NaN  \n",
       "ensemble_score                 NaN        NaN             NaN  \n",
       "iso_forest_label               NaN        NaN             NaN  \n",
       "vae_label                      NaN        NaN             NaN  \n",
       "ensemble_label                 NaN        NaN             NaN  "
      ]
     },
     "execution_count": 19,
     "metadata": {},
     "output_type": "execute_result"
    }
   ],
   "source": [
    "df_test_scores.corr()"
   ]
  },
  {
   "cell_type": "code",
   "execution_count": 20,
   "id": "24f7b079",
   "metadata": {},
   "outputs": [
    {
     "data": {
      "text/plain": [
       "0.0    399\n",
       "Name: iso_forest_label, dtype: int64"
      ]
     },
     "execution_count": 20,
     "metadata": {},
     "output_type": "execute_result"
    }
   ],
   "source": [
    "df_test_scores['iso_forest_label'].value_counts()"
   ]
  },
  {
   "cell_type": "code",
   "execution_count": 21,
   "id": "fcf897f8",
   "metadata": {},
   "outputs": [
    {
     "data": {
      "text/plain": [
       "0.0    399\n",
       "Name: vae_label, dtype: int64"
      ]
     },
     "execution_count": 21,
     "metadata": {},
     "output_type": "execute_result"
    }
   ],
   "source": [
    "df_test_scores['vae_label'].value_counts()"
   ]
  },
  {
   "cell_type": "markdown",
   "id": "c896eed5",
   "metadata": {},
   "source": [
    "####  Visualizing the results\n",
    "\n",
    "- generate graphs using plotly, display graphs inline and export graphs to a HTML file."
   ]
  },
  {
   "cell_type": "code",
   "execution_count": 22,
   "id": "ceef580f",
   "metadata": {},
   "outputs": [],
   "source": [
    "import plotly.express as px\n",
    "import plotly.graph_objects as go\n",
    "from plotly.subplots import make_subplots"
   ]
  },
  {
   "cell_type": "code",
   "execution_count": 23,
   "id": "c3662417",
   "metadata": {},
   "outputs": [],
   "source": [
    "fig_list =[]"
   ]
  },
  {
   "cell_type": "code",
   "execution_count": 28,
   "id": "8ef44122",
   "metadata": {},
   "outputs": [],
   "source": [
    "# Create figure with secondary y-axis\n",
    "fig = make_subplots(specs=[[{\"secondary_y\": True}]])\n",
    "           \n",
    "\n",
    "\n",
    "fig.add_trace(go.Scatter(\n",
    "                        name=\"target\",\n",
    "                        mode=\"lines\", x=df_train_scores.index,y=df_train_scores['target']),\n",
    "              secondary_y=False\n",
    "             )\n",
    "\n",
    "fig.add_trace(go.Scatter(\n",
    "                        name=\"iso_forest_score\",\n",
    "                        mode=\"lines\", x=df_train_scores.index,y=df_train_scores['iso_forest_score']),\n",
    "              secondary_y=True\n",
    "             )\n",
    "\n",
    "fig.add_trace(go.Scatter(\n",
    "                        name=\"vae_score\",\n",
    "                        mode=\"lines\", x=df_train_scores.index,y=df_train_scores['vae_score']),\n",
    "              secondary_y=True\n",
    "             )\n",
    "\n",
    "\n",
    "fig.update_layout(hovermode=\"x unified\", \n",
    "                  title_text=\"Merlion Anomaly Detection with Isolation Forest and VAE - training data\"\n",
    "                 )\n",
    "\n",
    "\n",
    "\n",
    "# Set y-axes titles\n",
    "fig.update_yaxes(title_text=\"<b>target</b>\", secondary_y=False)\n",
    "fig.update_yaxes(title_text=\"<b>anomaly score: </b> isolation forest and vae\", secondary_y=True)\n",
    "\n",
    "\n",
    "\n",
    "fig.update_xaxes(\n",
    "    title_text=\"date\", \n",
    "    rangeslider_visible=True,\n",
    "    rangeselector=dict(\n",
    "        buttons=list([\n",
    "            dict(count=1, label=\"1m\", step=\"month\", stepmode=\"backward\"),\n",
    "            dict(count=6, label=\"6m\", step=\"month\", stepmode=\"backward\"),\n",
    "            dict(count=1, label=\"YTD\", step=\"year\", stepmode=\"todate\"),\n",
    "            dict(count=1, label=\"1y\", step=\"year\", stepmode=\"backward\"),\n",
    "            dict(step=\"all\")\n",
    "        ])\n",
    "    )\n",
    ")\n",
    "fig.show()\n",
    "\n",
    "fig_list.append(fig)"
   ]
  },
  {
   "cell_type": "code",
   "execution_count": 27,
   "id": "9e8ea756",
   "metadata": {},
   "outputs": [],
   "source": [
    "# Create figure with secondary y-axis\n",
    "fig = make_subplots(specs=[[{\"secondary_y\": True}]])\n",
    "\n",
    "\n",
    "\n",
    "fig.add_trace(go.Scatter(\n",
    "                        name=\"target\",\n",
    "                        mode=\"lines\", x=df_test_scores.index,y=df_test_scores['target']),\n",
    "              secondary_y=False\n",
    "             )\n",
    "\n",
    "fig.add_trace(go.Scatter(\n",
    "                        name=\"iso_forest_score\",\n",
    "                        mode=\"lines\", x=df_test_scores.index,y=df_test_scores['iso_forest_score']),\n",
    "              secondary_y=True\n",
    "             )\n",
    "\n",
    "fig.add_trace(go.Scatter(\n",
    "                        name=\"vae_score\",\n",
    "                        mode=\"lines\", x=df_test_scores.index,y=df_test_scores['vae_score']),\n",
    "              secondary_y=True\n",
    "             )\n",
    "\n",
    "\n",
    "fig.update_layout(hovermode=\"x unified\", \n",
    "                  title_text=\"Merlion Anomaly Detection with Isolation Forest and VAE - testing data\"\n",
    "                 )\n",
    "\n",
    "\n",
    "\n",
    "# Set y-axes titles\n",
    "fig.update_yaxes(title_text=\"<b>target</b>\", secondary_y=False)\n",
    "fig.update_yaxes(title_text=\"<b>anomaly score: </b> isolation forest and vae\", secondary_y=True)\n",
    "\n",
    "\n",
    "\n",
    "fig.update_xaxes(\n",
    "    title_text=\"date\", \n",
    "    rangeslider_visible=True,\n",
    "    rangeselector=dict(\n",
    "        buttons=list([\n",
    "            dict(count=1, label=\"1m\", step=\"month\", stepmode=\"backward\"),\n",
    "            dict(count=6, label=\"6m\", step=\"month\", stepmode=\"backward\"),\n",
    "            dict(count=1, label=\"YTD\", step=\"year\", stepmode=\"todate\"),\n",
    "            dict(count=1, label=\"1y\", step=\"year\", stepmode=\"backward\"),\n",
    "            dict(step=\"all\")\n",
    "        ])\n",
    "    )\n",
    ")\n",
    "fig.show()\n",
    "\n",
    "fig_list.append(fig)"
   ]
  },
  {
   "cell_type": "code",
   "execution_count": 29,
   "id": "f7db794e",
   "metadata": {},
   "outputs": [],
   "source": [
    "fig_path = r'html/2_Merlion_Isoforest_VAE.html'\n",
    "fig_list[0].write_html(fig_path)\n",
    "\n",
    "\n",
    "with open(fig_path, 'a') as f:\n",
    "    for fig_i in fig_list[1:]:\n",
    "        f.write(fig_i.to_html(full_html=False, include_plotlyjs='cdn'))"
   ]
  }
 ],
 "metadata": {
  "kernelspec": {
   "display_name": "Python 3",
   "language": "python",
   "name": "python3"
  },
  "language_info": {
   "codemirror_mode": {
    "name": "ipython",
    "version": 3
   },
   "file_extension": ".py",
   "mimetype": "text/x-python",
   "name": "python",
   "nbconvert_exporter": "python",
   "pygments_lexer": "ipython3",
   "version": "3.6.8"
  }
 },
 "nbformat": 4,
 "nbformat_minor": 5
}
