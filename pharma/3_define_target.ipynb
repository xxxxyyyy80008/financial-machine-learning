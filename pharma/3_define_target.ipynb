{
 "cells": [
  {
   "cell_type": "markdown",
   "id": "bad4a049",
   "metadata": {},
   "source": [
    "## Target\n",
    "\n",
    "- for each stock:\n",
    "   - for each date (T):\n",
    "    - calculate the max price change in next 20 trading dates: price_change = (max{close price in T+1 to T+20} - {close price on T})/({close price on T})\n"
   ]
  },
  {
   "cell_type": "code",
   "execution_count": 1,
   "id": "f3700f85",
   "metadata": {},
   "outputs": [],
   "source": [
    "import pandas as pd\n",
    "import numpy as np\n",
    "import os\n",
    "from pathlib import Path"
   ]
  },
  {
   "cell_type": "code",
   "execution_count": 2,
   "id": "6cc7f8bd",
   "metadata": {},
   "outputs": [],
   "source": [
    "src_file = 'data/min_date_20120301_163stocks.csv'"
   ]
  },
  {
   "cell_type": "code",
   "execution_count": 3,
   "id": "c5c18535",
   "metadata": {},
   "outputs": [],
   "source": [
    "df = pd.read_csv(src_file, sep='|', compression='bz2')"
   ]
  },
  {
   "cell_type": "code",
   "execution_count": 4,
   "id": "edb2203f",
   "metadata": {},
   "outputs": [
    {
     "data": {
      "text/html": [
       "<div>\n",
       "<style scoped>\n",
       "    .dataframe tbody tr th:only-of-type {\n",
       "        vertical-align: middle;\n",
       "    }\n",
       "\n",
       "    .dataframe tbody tr th {\n",
       "        vertical-align: top;\n",
       "    }\n",
       "\n",
       "    .dataframe thead th {\n",
       "        text-align: right;\n",
       "    }\n",
       "</style>\n",
       "<table border=\"1\" class=\"dataframe\">\n",
       "  <thead>\n",
       "    <tr style=\"text-align: right;\">\n",
       "      <th></th>\n",
       "      <th>Date</th>\n",
       "      <th>Open</th>\n",
       "      <th>High</th>\n",
       "      <th>Low</th>\n",
       "      <th>Close</th>\n",
       "      <th>Volume</th>\n",
       "      <th>Dividends</th>\n",
       "      <th>Stock Splits</th>\n",
       "      <th>ticker</th>\n",
       "      <th>stock_id</th>\n",
       "    </tr>\n",
       "  </thead>\n",
       "  <tbody>\n",
       "    <tr>\n",
       "      <th>0</th>\n",
       "      <td>2012-03-01</td>\n",
       "      <td>28.594284</td>\n",
       "      <td>28.947300</td>\n",
       "      <td>28.437387</td>\n",
       "      <td>28.868851</td>\n",
       "      <td>3324863</td>\n",
       "      <td>0.0</td>\n",
       "      <td>0.0</td>\n",
       "      <td>A</td>\n",
       "      <td>101</td>\n",
       "    </tr>\n",
       "    <tr>\n",
       "      <th>1</th>\n",
       "      <td>2012-03-02</td>\n",
       "      <td>28.875392</td>\n",
       "      <td>29.025751</td>\n",
       "      <td>28.398167</td>\n",
       "      <td>28.581211</td>\n",
       "      <td>2975783</td>\n",
       "      <td>0.0</td>\n",
       "      <td>0.0</td>\n",
       "      <td>A</td>\n",
       "      <td>101</td>\n",
       "    </tr>\n",
       "    <tr>\n",
       "      <th>2</th>\n",
       "      <td>2012-03-05</td>\n",
       "      <td>28.502762</td>\n",
       "      <td>28.574673</td>\n",
       "      <td>27.816343</td>\n",
       "      <td>27.966702</td>\n",
       "      <td>4990860</td>\n",
       "      <td>0.0</td>\n",
       "      <td>0.0</td>\n",
       "      <td>A</td>\n",
       "      <td>101</td>\n",
       "    </tr>\n",
       "    <tr>\n",
       "      <th>3</th>\n",
       "      <td>2012-03-06</td>\n",
       "      <td>27.646374</td>\n",
       "      <td>27.803269</td>\n",
       "      <td>27.384880</td>\n",
       "      <td>27.639835</td>\n",
       "      <td>5251587</td>\n",
       "      <td>0.0</td>\n",
       "      <td>0.0</td>\n",
       "      <td>A</td>\n",
       "      <td>101</td>\n",
       "    </tr>\n",
       "    <tr>\n",
       "      <th>4</th>\n",
       "      <td>2012-03-07</td>\n",
       "      <td>27.764049</td>\n",
       "      <td>28.548530</td>\n",
       "      <td>27.672528</td>\n",
       "      <td>28.411247</td>\n",
       "      <td>4884612</td>\n",
       "      <td>0.0</td>\n",
       "      <td>0.0</td>\n",
       "      <td>A</td>\n",
       "      <td>101</td>\n",
       "    </tr>\n",
       "  </tbody>\n",
       "</table>\n",
       "</div>"
      ],
      "text/plain": [
       "         Date       Open       High        Low      Close   Volume  Dividends  \\\n",
       "0  2012-03-01  28.594284  28.947300  28.437387  28.868851  3324863        0.0   \n",
       "1  2012-03-02  28.875392  29.025751  28.398167  28.581211  2975783        0.0   \n",
       "2  2012-03-05  28.502762  28.574673  27.816343  27.966702  4990860        0.0   \n",
       "3  2012-03-06  27.646374  27.803269  27.384880  27.639835  5251587        0.0   \n",
       "4  2012-03-07  27.764049  28.548530  27.672528  28.411247  4884612        0.0   \n",
       "\n",
       "   Stock Splits ticker  stock_id  \n",
       "0           0.0      A       101  \n",
       "1           0.0      A       101  \n",
       "2           0.0      A       101  \n",
       "3           0.0      A       101  \n",
       "4           0.0      A       101  "
      ]
     },
     "execution_count": 4,
     "metadata": {},
     "output_type": "execute_result"
    }
   ],
   "source": [
    "df.head()"
   ]
  },
  {
   "cell_type": "code",
   "execution_count": 5,
   "id": "f5380221",
   "metadata": {},
   "outputs": [],
   "source": [
    "#for each stock_id, get the max close in next 20 trading days\n",
    "price_col = 'Close'\n",
    "roll_len=20\n",
    "new_col = 'next_20day_max'\n",
    "target_list = []\n",
    "\n",
    "for stock_id in df['stock_id'].unique():\n",
    "    df_ = df.loc[df['stock_id']==stock_id, ['stock_id', 'Date', price_col]].copy(deep=True)\n",
    "    df_.sort_values(by=['Date'], ascending=False, inplace=True)\n",
    "\n",
    "    df_next20dmax=df_[[price_col]].shift(1).rolling(roll_len).max()\n",
    "    df_next20dmax.columns=[new_col]\n",
    "    df_ = df_.merge(df_next20dmax, right_index=True, left_index=True, how='inner')\n",
    "\n",
    "    df_.dropna(how='any', inplace=True)\n",
    "    df_['target']= 100*(df_[new_col]-df_[price_col])/df_[price_col]  \n",
    "    \n",
    "    target_list.append(df_[['stock_id', 'Date', 'target']])"
   ]
  },
  {
   "cell_type": "code",
   "execution_count": 6,
   "id": "e09d998c",
   "metadata": {},
   "outputs": [
    {
     "data": {
      "text/plain": [
       "170"
      ]
     },
     "execution_count": 6,
     "metadata": {},
     "output_type": "execute_result"
    }
   ],
   "source": [
    "len(target_list)"
   ]
  },
  {
   "cell_type": "code",
   "execution_count": 7,
   "id": "9c208d21",
   "metadata": {},
   "outputs": [
    {
     "data": {
      "text/plain": [
       "(364988, 3)"
      ]
     },
     "execution_count": 7,
     "metadata": {},
     "output_type": "execute_result"
    }
   ],
   "source": [
    "df_target = pd.concat(target_list)\n",
    "df_target.shape"
   ]
  },
  {
   "cell_type": "code",
   "execution_count": 8,
   "id": "e49721ef",
   "metadata": {},
   "outputs": [
    {
     "data": {
      "text/html": [
       "<div>\n",
       "<style scoped>\n",
       "    .dataframe tbody tr th:only-of-type {\n",
       "        vertical-align: middle;\n",
       "    }\n",
       "\n",
       "    .dataframe tbody tr th {\n",
       "        vertical-align: top;\n",
       "    }\n",
       "\n",
       "    .dataframe thead th {\n",
       "        text-align: right;\n",
       "    }\n",
       "</style>\n",
       "<table border=\"1\" class=\"dataframe\">\n",
       "  <thead>\n",
       "    <tr style=\"text-align: right;\">\n",
       "      <th></th>\n",
       "      <th>stock_id</th>\n",
       "      <th>Date</th>\n",
       "      <th>target</th>\n",
       "    </tr>\n",
       "  </thead>\n",
       "  <tbody>\n",
       "    <tr>\n",
       "      <th>365989</th>\n",
       "      <td>7</td>\n",
       "      <td>2012-03-07</td>\n",
       "      <td>20.638942</td>\n",
       "    </tr>\n",
       "    <tr>\n",
       "      <th>365988</th>\n",
       "      <td>7</td>\n",
       "      <td>2012-03-06</td>\n",
       "      <td>22.376540</td>\n",
       "    </tr>\n",
       "    <tr>\n",
       "      <th>365987</th>\n",
       "      <td>7</td>\n",
       "      <td>2012-03-05</td>\n",
       "      <td>18.653357</td>\n",
       "    </tr>\n",
       "    <tr>\n",
       "      <th>365986</th>\n",
       "      <td>7</td>\n",
       "      <td>2012-03-02</td>\n",
       "      <td>19.788521</td>\n",
       "    </tr>\n",
       "    <tr>\n",
       "      <th>365985</th>\n",
       "      <td>7</td>\n",
       "      <td>2012-03-01</td>\n",
       "      <td>16.789397</td>\n",
       "    </tr>\n",
       "  </tbody>\n",
       "</table>\n",
       "</div>"
      ],
      "text/plain": [
       "        stock_id        Date     target\n",
       "365989         7  2012-03-07  20.638942\n",
       "365988         7  2012-03-06  22.376540\n",
       "365987         7  2012-03-05  18.653357\n",
       "365986         7  2012-03-02  19.788521\n",
       "365985         7  2012-03-01  16.789397"
      ]
     },
     "execution_count": 8,
     "metadata": {},
     "output_type": "execute_result"
    }
   ],
   "source": [
    "df_target.tail(5)"
   ]
  },
  {
   "cell_type": "code",
   "execution_count": 9,
   "id": "582f2ab9",
   "metadata": {},
   "outputs": [
    {
     "data": {
      "text/html": [
       "<div>\n",
       "<style scoped>\n",
       "    .dataframe tbody tr th:only-of-type {\n",
       "        vertical-align: middle;\n",
       "    }\n",
       "\n",
       "    .dataframe tbody tr th {\n",
       "        vertical-align: top;\n",
       "    }\n",
       "\n",
       "    .dataframe thead th {\n",
       "        text-align: right;\n",
       "    }\n",
       "</style>\n",
       "<table border=\"1\" class=\"dataframe\">\n",
       "  <thead>\n",
       "    <tr style=\"text-align: right;\">\n",
       "      <th></th>\n",
       "      <th>Date</th>\n",
       "      <th>Open</th>\n",
       "      <th>High</th>\n",
       "      <th>Low</th>\n",
       "      <th>Close</th>\n",
       "      <th>Volume</th>\n",
       "      <th>Dividends</th>\n",
       "      <th>Stock Splits</th>\n",
       "      <th>ticker</th>\n",
       "      <th>stock_id</th>\n",
       "    </tr>\n",
       "  </thead>\n",
       "  <tbody>\n",
       "    <tr>\n",
       "      <th>0</th>\n",
       "      <td>2012-03-01</td>\n",
       "      <td>28.594284</td>\n",
       "      <td>28.947300</td>\n",
       "      <td>28.437387</td>\n",
       "      <td>28.868851</td>\n",
       "      <td>3324863</td>\n",
       "      <td>0.0</td>\n",
       "      <td>0.0</td>\n",
       "      <td>A</td>\n",
       "      <td>101</td>\n",
       "    </tr>\n",
       "    <tr>\n",
       "      <th>1</th>\n",
       "      <td>2012-03-02</td>\n",
       "      <td>28.875392</td>\n",
       "      <td>29.025751</td>\n",
       "      <td>28.398167</td>\n",
       "      <td>28.581211</td>\n",
       "      <td>2975783</td>\n",
       "      <td>0.0</td>\n",
       "      <td>0.0</td>\n",
       "      <td>A</td>\n",
       "      <td>101</td>\n",
       "    </tr>\n",
       "    <tr>\n",
       "      <th>2</th>\n",
       "      <td>2012-03-05</td>\n",
       "      <td>28.502762</td>\n",
       "      <td>28.574673</td>\n",
       "      <td>27.816343</td>\n",
       "      <td>27.966702</td>\n",
       "      <td>4990860</td>\n",
       "      <td>0.0</td>\n",
       "      <td>0.0</td>\n",
       "      <td>A</td>\n",
       "      <td>101</td>\n",
       "    </tr>\n",
       "    <tr>\n",
       "      <th>3</th>\n",
       "      <td>2012-03-06</td>\n",
       "      <td>27.646374</td>\n",
       "      <td>27.803269</td>\n",
       "      <td>27.384880</td>\n",
       "      <td>27.639835</td>\n",
       "      <td>5251587</td>\n",
       "      <td>0.0</td>\n",
       "      <td>0.0</td>\n",
       "      <td>A</td>\n",
       "      <td>101</td>\n",
       "    </tr>\n",
       "    <tr>\n",
       "      <th>4</th>\n",
       "      <td>2012-03-07</td>\n",
       "      <td>27.764049</td>\n",
       "      <td>28.548530</td>\n",
       "      <td>27.672528</td>\n",
       "      <td>28.411247</td>\n",
       "      <td>4884612</td>\n",
       "      <td>0.0</td>\n",
       "      <td>0.0</td>\n",
       "      <td>A</td>\n",
       "      <td>101</td>\n",
       "    </tr>\n",
       "  </tbody>\n",
       "</table>\n",
       "</div>"
      ],
      "text/plain": [
       "         Date       Open       High        Low      Close   Volume  Dividends  \\\n",
       "0  2012-03-01  28.594284  28.947300  28.437387  28.868851  3324863        0.0   \n",
       "1  2012-03-02  28.875392  29.025751  28.398167  28.581211  2975783        0.0   \n",
       "2  2012-03-05  28.502762  28.574673  27.816343  27.966702  4990860        0.0   \n",
       "3  2012-03-06  27.646374  27.803269  27.384880  27.639835  5251587        0.0   \n",
       "4  2012-03-07  27.764049  28.548530  27.672528  28.411247  4884612        0.0   \n",
       "\n",
       "   Stock Splits ticker  stock_id  \n",
       "0           0.0      A       101  \n",
       "1           0.0      A       101  \n",
       "2           0.0      A       101  \n",
       "3           0.0      A       101  \n",
       "4           0.0      A       101  "
      ]
     },
     "execution_count": 9,
     "metadata": {},
     "output_type": "execute_result"
    }
   ],
   "source": [
    "df.head(5)"
   ]
  },
  {
   "cell_type": "code",
   "execution_count": 10,
   "id": "4fb4b069",
   "metadata": {},
   "outputs": [
    {
     "data": {
      "text/plain": [
       "(368388, 10)"
      ]
     },
     "execution_count": 10,
     "metadata": {},
     "output_type": "execute_result"
    }
   ],
   "source": [
    "df.shape"
   ]
  },
  {
   "cell_type": "code",
   "execution_count": 11,
   "id": "b0af05ba",
   "metadata": {},
   "outputs": [
    {
     "data": {
      "text/plain": [
       "(364988, 11)"
      ]
     },
     "execution_count": 11,
     "metadata": {},
     "output_type": "execute_result"
    }
   ],
   "source": [
    "df = df.merge(df_target, on=['stock_id', 'Date'], how='inner')\n",
    "df.shape"
   ]
  },
  {
   "cell_type": "code",
   "execution_count": 12,
   "id": "c47e270b",
   "metadata": {},
   "outputs": [
    {
     "data": {
      "text/html": [
       "<div>\n",
       "<style scoped>\n",
       "    .dataframe tbody tr th:only-of-type {\n",
       "        vertical-align: middle;\n",
       "    }\n",
       "\n",
       "    .dataframe tbody tr th {\n",
       "        vertical-align: top;\n",
       "    }\n",
       "\n",
       "    .dataframe thead th {\n",
       "        text-align: right;\n",
       "    }\n",
       "</style>\n",
       "<table border=\"1\" class=\"dataframe\">\n",
       "  <thead>\n",
       "    <tr style=\"text-align: right;\">\n",
       "      <th></th>\n",
       "      <th>Date</th>\n",
       "      <th>Open</th>\n",
       "      <th>High</th>\n",
       "      <th>Low</th>\n",
       "      <th>Close</th>\n",
       "      <th>Volume</th>\n",
       "      <th>Dividends</th>\n",
       "      <th>Stock Splits</th>\n",
       "      <th>ticker</th>\n",
       "      <th>stock_id</th>\n",
       "      <th>target</th>\n",
       "    </tr>\n",
       "  </thead>\n",
       "  <tbody>\n",
       "    <tr>\n",
       "      <th>0</th>\n",
       "      <td>2012-03-01</td>\n",
       "      <td>28.594284</td>\n",
       "      <td>28.947300</td>\n",
       "      <td>28.437387</td>\n",
       "      <td>28.868851</td>\n",
       "      <td>3324863</td>\n",
       "      <td>0.0</td>\n",
       "      <td>0.0</td>\n",
       "      <td>A</td>\n",
       "      <td>101</td>\n",
       "      <td>3.849668</td>\n",
       "    </tr>\n",
       "    <tr>\n",
       "      <th>1</th>\n",
       "      <td>2012-03-02</td>\n",
       "      <td>28.875392</td>\n",
       "      <td>29.025751</td>\n",
       "      <td>28.398167</td>\n",
       "      <td>28.581211</td>\n",
       "      <td>2975783</td>\n",
       "      <td>0.0</td>\n",
       "      <td>0.0</td>\n",
       "      <td>A</td>\n",
       "      <td>101</td>\n",
       "      <td>4.894805</td>\n",
       "    </tr>\n",
       "    <tr>\n",
       "      <th>2</th>\n",
       "      <td>2012-03-05</td>\n",
       "      <td>28.502762</td>\n",
       "      <td>28.574673</td>\n",
       "      <td>27.816343</td>\n",
       "      <td>27.966702</td>\n",
       "      <td>4990860</td>\n",
       "      <td>0.0</td>\n",
       "      <td>0.0</td>\n",
       "      <td>A</td>\n",
       "      <td>101</td>\n",
       "      <td>7.199648</td>\n",
       "    </tr>\n",
       "    <tr>\n",
       "      <th>3</th>\n",
       "      <td>2012-03-06</td>\n",
       "      <td>27.646374</td>\n",
       "      <td>27.803269</td>\n",
       "      <td>27.384880</td>\n",
       "      <td>27.639835</td>\n",
       "      <td>5251587</td>\n",
       "      <td>0.0</td>\n",
       "      <td>0.0</td>\n",
       "      <td>A</td>\n",
       "      <td>101</td>\n",
       "      <td>8.467381</td>\n",
       "    </tr>\n",
       "    <tr>\n",
       "      <th>4</th>\n",
       "      <td>2012-03-07</td>\n",
       "      <td>27.764049</td>\n",
       "      <td>28.548530</td>\n",
       "      <td>27.672528</td>\n",
       "      <td>28.411247</td>\n",
       "      <td>4884612</td>\n",
       "      <td>0.0</td>\n",
       "      <td>0.0</td>\n",
       "      <td>A</td>\n",
       "      <td>101</td>\n",
       "      <td>5.522314</td>\n",
       "    </tr>\n",
       "  </tbody>\n",
       "</table>\n",
       "</div>"
      ],
      "text/plain": [
       "         Date       Open       High        Low      Close   Volume  Dividends  \\\n",
       "0  2012-03-01  28.594284  28.947300  28.437387  28.868851  3324863        0.0   \n",
       "1  2012-03-02  28.875392  29.025751  28.398167  28.581211  2975783        0.0   \n",
       "2  2012-03-05  28.502762  28.574673  27.816343  27.966702  4990860        0.0   \n",
       "3  2012-03-06  27.646374  27.803269  27.384880  27.639835  5251587        0.0   \n",
       "4  2012-03-07  27.764049  28.548530  27.672528  28.411247  4884612        0.0   \n",
       "\n",
       "   Stock Splits ticker  stock_id    target  \n",
       "0           0.0      A       101  3.849668  \n",
       "1           0.0      A       101  4.894805  \n",
       "2           0.0      A       101  7.199648  \n",
       "3           0.0      A       101  8.467381  \n",
       "4           0.0      A       101  5.522314  "
      ]
     },
     "execution_count": 12,
     "metadata": {},
     "output_type": "execute_result"
    }
   ],
   "source": [
    "df.head()"
   ]
  },
  {
   "cell_type": "code",
   "execution_count": 13,
   "id": "ade862f8",
   "metadata": {},
   "outputs": [
    {
     "data": {
      "text/plain": [
       "Date            0\n",
       "Open            0\n",
       "High            0\n",
       "Low             0\n",
       "Close           0\n",
       "Volume          0\n",
       "Dividends       0\n",
       "Stock Splits    0\n",
       "ticker          0\n",
       "stock_id        0\n",
       "target          0\n",
       "dtype: int64"
      ]
     },
     "execution_count": 13,
     "metadata": {},
     "output_type": "execute_result"
    }
   ],
   "source": [
    "df.isna().sum()"
   ]
  },
  {
   "cell_type": "code",
   "execution_count": 14,
   "id": "90757f72",
   "metadata": {},
   "outputs": [
    {
     "data": {
      "text/plain": [
       "'data/min_date_20120301_163stocks.csv'"
      ]
     },
     "execution_count": 14,
     "metadata": {},
     "output_type": "execute_result"
    }
   ],
   "source": [
    "src_file"
   ]
  },
  {
   "cell_type": "code",
   "execution_count": 15,
   "id": "eeed71b9",
   "metadata": {},
   "outputs": [
    {
     "data": {
      "text/plain": [
       "'data/min_date_20120301_163stocks_w_target.csv'"
      ]
     },
     "execution_count": 15,
     "metadata": {},
     "output_type": "execute_result"
    }
   ],
   "source": [
    "dest_file = src_file.replace('.csv', '_w_target.csv')\n",
    "dest_file"
   ]
  },
  {
   "cell_type": "code",
   "execution_count": 16,
   "id": "b1e4615b",
   "metadata": {},
   "outputs": [],
   "source": [
    "df.to_csv(dest_file, sep='|', compression='bz2', index=False)"
   ]
  },
  {
   "cell_type": "code",
   "execution_count": null,
   "id": "cd75f996",
   "metadata": {},
   "outputs": [],
   "source": []
  }
 ],
 "metadata": {
  "kernelspec": {
   "display_name": "Python 3",
   "language": "python",
   "name": "python3"
  },
  "language_info": {
   "codemirror_mode": {
    "name": "ipython",
    "version": 3
   },
   "file_extension": ".py",
   "mimetype": "text/x-python",
   "name": "python",
   "nbconvert_exporter": "python",
   "pygments_lexer": "ipython3",
   "version": "3.6.8"
  }
 },
 "nbformat": 4,
 "nbformat_minor": 5
}
